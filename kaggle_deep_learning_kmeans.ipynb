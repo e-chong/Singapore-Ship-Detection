{
  "nbformat": 4,
  "nbformat_minor": 0,
  "metadata": {
    "colab": {
      "name": "kaggle deep learning_kmeans.ipynb",
      "provenance": [],
      "collapsed_sections": [
        "L2qU55-0YlbD",
        "ldPx9Fub0Iwo"
      ],
      "authorship_tag": "ABX9TyOcEKWJ3n0rvS99fxS5Y9nK",
      "include_colab_link": true
    },
    "kernelspec": {
      "name": "python3",
      "display_name": "Python 3"
    },
    "accelerator": "GPU"
  },
  "cells": [
    {
      "cell_type": "markdown",
      "metadata": {
        "id": "view-in-github",
        "colab_type": "text"
      },
      "source": [
        "<a href=\"https://colab.research.google.com/github/e-chong/Singapore-Ship-Detection/blob/master/kaggle_deep_learning_kmeans.ipynb\" target=\"_parent\"><img src=\"https://colab.research.google.com/assets/colab-badge.svg\" alt=\"Open In Colab\"/></a>"
      ]
    },
    {
      "cell_type": "code",
      "metadata": {
        "id": "JHtn7Hc-PC72",
        "colab_type": "code",
        "colab": {}
      },
      "source": [
        "# install libraries\n",
        "\n",
        "# suppress output\n",
        "%%capture \n",
        "\n",
        "!pip install rasterio\n",
        "!pip install geopandas\n",
        "!pip install sentinelsat\n",
        "!pip install satpy\n",
        "!pip install glymur\n",
        "!pip install python-geotiepoints\n",
        "!pip install pyspectral\n",
        "!pip install progressbar2\n",
        "!pip install kaggle\n",
        "!pip install tifffile"
      ],
      "execution_count": 0,
      "outputs": []
    },
    {
      "cell_type": "code",
      "metadata": {
        "id": "6gasTM7Mu7lk",
        "colab_type": "code",
        "outputId": "0c564c52-b9e3-4fcb-ad3c-04bea6f2a12e",
        "colab": {
          "base_uri": "https://localhost:8080/",
          "height": 35
        }
      },
      "source": [
        "%tensorflow_version 1.x\n",
        "%matplotlib inline"
      ],
      "execution_count": 2,
      "outputs": [
        {
          "output_type": "stream",
          "text": [
            "TensorFlow 1.x selected.\n"
          ],
          "name": "stdout"
        }
      ]
    },
    {
      "cell_type": "code",
      "metadata": {
        "id": "6pLKc0YIqwnb",
        "colab_type": "code",
        "colab": {}
      },
      "source": [
        "# Base dependencies\n",
        "import numpy as np\n",
        "import pandas as pd\n",
        "import geopandas as gpd # vector spatial operations\n",
        "import rasterio as rio # raster spatial operations\n",
        "import json\n",
        "\n",
        "# Plotting\n",
        "from rasterio.plot import show #convenience wrapper for pyplot.imshow for RGB and 1 band images\n",
        "import matplotlib.pyplot as plt\n",
        "\n",
        "#Sentinel-2 I/O\n",
        "from sentinelsat import SentinelAPI\n",
        "from satpy.scene import Scene\n",
        "from satpy import find_files_and_readers\n",
        "import requests, zipfile, io, os, shutil # downloading and extracting zipfolders\n",
        "\n",
        "# Sentinel-2 create patches\n",
        "from shapely.geometry import Point # vector geometries\n",
        "import time\n",
        "import progressbar\n",
        "\n",
        "# Resize Kaggle patches\n",
        "from skimage.transform import resize\n",
        "import tifffile as tiff\n",
        "import scipy.ndimage\n"
      ],
      "execution_count": 0,
      "outputs": []
    },
    {
      "cell_type": "code",
      "metadata": {
        "id": "xisFiHvHPOze",
        "colab_type": "code",
        "outputId": "ed2bc7aa-a986-43e9-d514-743b916dec68",
        "colab": {
          "base_uri": "https://localhost:8080/",
          "height": 124
        }
      },
      "source": [
        "from google.colab import drive\n",
        "drive.mount('/content/drive')"
      ],
      "execution_count": 4,
      "outputs": [
        {
          "output_type": "stream",
          "text": [
            "Go to this URL in a browser: https://accounts.google.com/o/oauth2/auth?client_id=947318989803-6bn6qk8qdgf4n4g3pfee6491hc0brc4i.apps.googleusercontent.com&redirect_uri=urn%3aietf%3awg%3aoauth%3a2.0%3aoob&response_type=code&scope=email%20https%3a%2f%2fwww.googleapis.com%2fauth%2fdocs.test%20https%3a%2f%2fwww.googleapis.com%2fauth%2fdrive%20https%3a%2f%2fwww.googleapis.com%2fauth%2fdrive.photos.readonly%20https%3a%2f%2fwww.googleapis.com%2fauth%2fpeopleapi.readonly\n",
            "\n",
            "Enter your authorization code:\n",
            "··········\n",
            "Mounted at /content/drive\n"
          ],
          "name": "stdout"
        }
      ]
    },
    {
      "cell_type": "markdown",
      "metadata": {
        "id": "L2qU55-0YlbD",
        "colab_type": "text"
      },
      "source": [
        "#Functions\n",
        "credit to # https://gis.stackexchange.com/questions/299787/finding-pixel-location-in-raster-using-coordinates"
      ]
    },
    {
      "cell_type": "code",
      "metadata": {
        "id": "iwJqDvFHJjo7",
        "colab_type": "code",
        "colab": {}
      },
      "source": [
        "# Extracts RGB 3-channel image from SAFE directory and saves it in the working directory \n",
        "# and returns the path to the new file\n",
        "def extract_rgb_jp2(safePath, sceneTitle):\n",
        "  for subdirs, dirs, files in os.walk(safePath):\n",
        "    for file in files:\n",
        "      if file.endswith('_TCI.jp2'):\n",
        "        rgbPath = os.path.join(subdirs, file)\n",
        "        destPath = sceneTitle+'.jp2'\n",
        "        print(f'Copying {file} to {destPath}')\n",
        "        shutil.copy2(rgbPath, destPath)\n",
        "        return destPath"
      ],
      "execution_count": 0,
      "outputs": []
    },
    {
      "cell_type": "code",
      "metadata": {
        "colab_type": "code",
        "id": "IKR7lD-DM_Bn",
        "colab": {}
      },
      "source": [
        "# returns matrix of [n ships, patch_size, patch_size]\n",
        "def create_ship_patches(ships, img, patch_size=50):\n",
        "  coordinates = list(zip(ships.geometry.x, ships.geometry.y))\n",
        "  with progressbar.ProgressBar(max_value=len(ships.index)) as bar: # creates progress bar\n",
        "    patch_list = np.zeros([len(ships.index), patch_size, patch_size, len(img.indexes)])\n",
        "    for i, (lon, lat) in enumerate(coordinates): # Loop through your list of coords\n",
        "      py, px = img.index(lon, lat) # Get pixel coordinates from map coordinates\n",
        "      window = rio.windows.Window(px - patch_size//2, py - patch_size//2, patch_size, patch_size) # Build an NxN window\n",
        "      patch = img.read(window=window) # clip is a nbands * patch_size * patch_size numpy array\n",
        "      patch_list[i] = np.transpose(patch, (1,2,0)) # transpose to [patch_size, patch_size, n bands]\n",
        "      bar.update(i)\n",
        "  return patch_list.astype(int)"
      ],
      "execution_count": 0,
      "outputs": []
    },
    {
      "cell_type": "code",
      "metadata": {
        "colab_type": "code",
        "id": "EGtUnj7dM_Bw",
        "colab": {}
      },
      "source": [
        "# creates patches for use in classifying ship or no ship\n",
        "def create_patches(img, patch_size=50, step_size=30):\n",
        "  n_patches = len(range(0,img.height, step_size)) * len(range(0,img.width, step_size))\n",
        "  patch_list = []\n",
        "  index = 0\n",
        "  with progressbar.ProgressBar(max_value=n_patches) as bar: # creates progress bar\n",
        "    for y in range(0,img.height, step_size): # iterate across image column-wise\n",
        "      for x in range(0,img.width, step_size): # iterate across image row-wise\n",
        "        window = rio.windows.Window(x,y, patch_size, patch_size)\n",
        "        if window.col_off+window.width > img.width or window.row_off+window.height > img.height:\n",
        "          pass\n",
        "        else:\n",
        "          # Read the data in the window\n",
        "          patch = img.read(window=window) # patch is a nbands * patch_size * patch_size numpy array \n",
        "          patch_list.append(np.transpose(patch, (1,2,0))) # transpose to [patch_size, patch_size, n bands]\n",
        "          index += 1\n",
        "          bar.update(index)\n",
        "  patch_array = np.stack(patch_list, axis=0)\n",
        "  return patch_array.astype(int)"
      ],
      "execution_count": 0,
      "outputs": []
    },
    {
      "cell_type": "code",
      "metadata": {
        "colab_type": "code",
        "id": "UDdxNbczM_B1",
        "colab": {}
      },
      "source": [
        "# returns boolean list of whether patches intersect with any ships\n",
        "def patch_intersects_ship_buffers(ships, img, patch_size=50, step_size=30):\n",
        "  n_patches = (len(range(0,img.height, step_size)) * len(range(0,img.width, step_size)))\n",
        "  isShip_list = [] #list to hold all the patch locations\n",
        "  buffer_list = []\n",
        "  x_list = []\n",
        "  y_list = []\n",
        "  index = 0\n",
        "\n",
        "  with progressbar.ProgressBar(max_value=n_patches) as bar: # creates progress bar\n",
        "    for y in range(0,img.height, step_size): # iterate across image column-wise\n",
        "      for x in range(0,img.width, step_size): # iterate across image row-wise\n",
        "        window = rio.windows.Window(x,y, patch_size, patch_size) #get patch window\n",
        "        if window.col_off+window.width > img.width or window.row_off+window.height > img.height:\n",
        "          pass #skip patches that extend off the edge so they have the wrong shape\n",
        "        else:\n",
        "          #create centroid point\n",
        "          centroid = Point(img.transform *(window.col_off+patch_size/2, window.row_off+patch_size/2))\n",
        "          buffer = centroid.buffer(img.transform[0]*step_size/1.5)\n",
        "          buffer_list.append(buffer)\n",
        "          isShip = np.any(ships.intersects(buffer)) #intersect ships with polygon and check if any are positive\n",
        "          isShip_list.append(isShip) #append result to list\n",
        "          x_list.append(x),\n",
        "          y_list.append(y)\n",
        "          index += 1\n",
        "          bar.update(index)\n",
        "  results = pd.DataFrame({'isShip':isShip_list, 'x':x_list, 'y':y_list, 'patch_size':patch_size})\n",
        "  return results"
      ],
      "execution_count": 0,
      "outputs": []
    },
    {
      "cell_type": "code",
      "metadata": {
        "colab_type": "code",
        "id": "fbCXu7HBM_B5",
        "colab": {}
      },
      "source": [
        "# plots a patch\n",
        "def plot_patch(img, x, y, patch_size=50, step_size=30):\n",
        "  window = rio.windows.Window(x,y, patch_size, patch_size)\n",
        "  patch = img.read(window=window)\n",
        "  show(patch, title=f'x: {x}, y: {y}')"
      ],
      "execution_count": 0,
      "outputs": []
    },
    {
      "cell_type": "markdown",
      "metadata": {
        "colab_type": "text",
        "id": "OdmKEJ6CM_B-"
      },
      "source": [
        "# Define Parameters"
      ]
    },
    {
      "cell_type": "code",
      "metadata": {
        "colab_type": "code",
        "id": "_jnTCnhAM_B_",
        "colab": {}
      },
      "source": [
        "DRIVE_PATH = '/content/drive/My Drive/MUSA-650-Final-Project/'"
      ],
      "execution_count": 0,
      "outputs": []
    },
    {
      "cell_type": "code",
      "metadata": {
        "colab_type": "code",
        "id": "IxjgSEcwM_CE",
        "colab": {}
      },
      "source": [
        "#Load param file\n",
        "with open(DRIVE_PATH+'params.json', 'r') as file:\n",
        "    params = json.load(file)\n",
        "    \n",
        "    SENTINEL_USER = params['SENTINEL_USER']\n",
        "    SENTINEL_PWD = params['SENTINEL_PWD']\n",
        "    KAGGLE_USER = params['KAGGLE_USER']\n",
        "    KAGGLE_KEY = params['KAGGLE_KEY']"
      ],
      "execution_count": 0,
      "outputs": []
    },
    {
      "cell_type": "code",
      "metadata": {
        "colab_type": "code",
        "id": "W0qmWSw_M_CH",
        "colab": {}
      },
      "source": [
        "# unique Sentinel-2 tile id for images covering Singapore\n",
        "TILE_ID = \"48NUG\" "
      ],
      "execution_count": 0,
      "outputs": []
    },
    {
      "cell_type": "code",
      "metadata": {
        "colab_type": "code",
        "id": "8fayZXDjM_CJ",
        "colab": {}
      },
      "source": [
        "# Patch parameters\n",
        "PATCH_SIZE = 24\n",
        "STEP_SIZE = 12\n",
        "SCALE_FACTOR = 3/10 #PlanetScope GSD / Sentinel-2 GSD"
      ],
      "execution_count": 0,
      "outputs": []
    },
    {
      "cell_type": "markdown",
      "metadata": {
        "colab_type": "text",
        "id": "S_b23r9jM_CN"
      },
      "source": [
        "# Download Data"
      ]
    },
    {
      "cell_type": "markdown",
      "metadata": {
        "id": "zHSIDCo1lKcz",
        "colab_type": "text"
      },
      "source": [
        "## Kaggle PlanetScope"
      ]
    },
    {
      "cell_type": "code",
      "metadata": {
        "id": "egGcraQyl4lI",
        "colab_type": "code",
        "outputId": "f6711f55-97ef-4b40-8ece-a38eda6e8a54",
        "colab": {
          "base_uri": "https://localhost:8080/",
          "height": 35
        }
      },
      "source": [
        "os.mkdir('.kaggle')\n",
        "os.listdir()"
      ],
      "execution_count": 9,
      "outputs": [
        {
          "output_type": "execute_result",
          "data": {
            "text/plain": [
              "['.config', 'drive', '.kaggle', 'sample_data']"
            ]
          },
          "metadata": {
            "tags": []
          },
          "execution_count": 9
        }
      ]
    },
    {
      "cell_type": "code",
      "metadata": {
        "id": "AgFfwDJdmFkp",
        "colab_type": "code",
        "colab": {}
      },
      "source": [
        "token = {\"username\":KAGGLE_USER,\"key\":KAGGLE_KEY}\n",
        "\n",
        "with open('/content/.kaggle/kaggle.json', 'w') as file:\n",
        "    json.dump(token, file)"
      ],
      "execution_count": 0,
      "outputs": []
    },
    {
      "cell_type": "code",
      "metadata": {
        "id": "NzwM9qVbmQ9r",
        "colab_type": "code",
        "outputId": "594d4199-7435-48df-ed18-07e201b1da4d",
        "colab": {
          "base_uri": "https://localhost:8080/",
          "height": 208
        }
      },
      "source": [
        "!cp /content/.kaggle/kaggle.json ~/.kaggle/kaggle.json\n",
        "!kaggle config set -n path -v{/content}\n",
        "!cp /content/.kaggle/kaggle.json ~/.kaggle/kaggle.json\n",
        "!kaggle config set -n path -v{/content}"
      ],
      "execution_count": 11,
      "outputs": [
        {
          "output_type": "stream",
          "text": [
            "cp: cannot create regular file '/root/.kaggle/kaggle.json': No such file or directory\n",
            "Traceback (most recent call last):\n",
            "  File \"/usr/local/bin/kaggle\", line 5, in <module>\n",
            "    from kaggle.cli import main\n",
            "  File \"/usr/local/lib/python2.7/dist-packages/kaggle/__init__.py\", line 23, in <module>\n",
            "    api.authenticate()\n",
            "  File \"/usr/local/lib/python2.7/dist-packages/kaggle/api/kaggle_api_extended.py\", line 146, in authenticate\n",
            "    self.config_file, self.config_dir))\n",
            "IOError: Could not find kaggle.json. Make sure it's located in /root/.kaggle. Or use the environment method.\n",
            "Warning: Your Kaggle API key is readable by other users on this system! To fix this, you can run 'chmod 600 /root/.kaggle/kaggle.json'\n",
            "- path is now set to: {/content}\n"
          ],
          "name": "stdout"
        }
      ]
    },
    {
      "cell_type": "code",
      "metadata": {
        "id": "-Efe-XPkmTsD",
        "colab_type": "code",
        "outputId": "6dea94aa-45e7-418e-bbdd-8ae9f10cf797",
        "colab": {
          "base_uri": "https://localhost:8080/",
          "height": 87
        }
      },
      "source": [
        "!kaggle datasets download -d rhammell/ships-in-satellite-imagery -p /content"
      ],
      "execution_count": 12,
      "outputs": [
        {
          "output_type": "stream",
          "text": [
            "Warning: Your Kaggle API key is readable by other users on this system! To fix this, you can run 'chmod 600 /root/.kaggle/kaggle.json'\n",
            "Downloading ships-in-satellite-imagery.zip to /content\n",
            " 95% 177M/185M [00:02<00:00, 74.8MB/s]\n",
            "100% 185M/185M [00:02<00:00, 87.5MB/s]\n"
          ],
          "name": "stdout"
        }
      ]
    },
    {
      "cell_type": "code",
      "metadata": {
        "id": "44VXdPcNmWcU",
        "colab_type": "code",
        "outputId": "5913e647-db54-45dd-bf17-b4a911962bbf",
        "colab": {
          "base_uri": "https://localhost:8080/",
          "height": 104
        }
      },
      "source": [
        "os.listdir()"
      ],
      "execution_count": 13,
      "outputs": [
        {
          "output_type": "execute_result",
          "data": {
            "text/plain": [
              "['.config',\n",
              " 'drive',\n",
              " '.kaggle',\n",
              " 'ships-in-satellite-imagery.zip',\n",
              " 'sample_data']"
            ]
          },
          "metadata": {
            "tags": []
          },
          "execution_count": 13
        }
      ]
    },
    {
      "cell_type": "code",
      "metadata": {
        "id": "2TPWaAGTmYz3",
        "colab_type": "code",
        "colab": {}
      },
      "source": [
        "with zipfile.ZipFile('ships-in-satellite-imagery.zip', 'r') as kaggleZip:\n",
        "      kaggleZip.extractall(os.getcwd())"
      ],
      "execution_count": 0,
      "outputs": []
    },
    {
      "cell_type": "code",
      "metadata": {
        "id": "ao_jtOXjngpI",
        "colab_type": "code",
        "outputId": "14c107f1-4766-4220-db52-e83e6912b37e",
        "colab": {
          "base_uri": "https://localhost:8080/",
          "height": 219
        }
      },
      "source": [
        "with open('shipsnet.json') as data_file:\n",
        "    kg_ships_df = pd.DataFrame(json.load(data_file))\n",
        "print(kg_ships_df.shape)\n",
        "kg_ships_df.head()"
      ],
      "execution_count": 15,
      "outputs": [
        {
          "output_type": "stream",
          "text": [
            "(4000, 4)\n"
          ],
          "name": "stdout"
        },
        {
          "output_type": "execute_result",
          "data": {
            "text/html": [
              "<div>\n",
              "<style scoped>\n",
              "    .dataframe tbody tr th:only-of-type {\n",
              "        vertical-align: middle;\n",
              "    }\n",
              "\n",
              "    .dataframe tbody tr th {\n",
              "        vertical-align: top;\n",
              "    }\n",
              "\n",
              "    .dataframe thead th {\n",
              "        text-align: right;\n",
              "    }\n",
              "</style>\n",
              "<table border=\"1\" class=\"dataframe\">\n",
              "  <thead>\n",
              "    <tr style=\"text-align: right;\">\n",
              "      <th></th>\n",
              "      <th>data</th>\n",
              "      <th>labels</th>\n",
              "      <th>locations</th>\n",
              "      <th>scene_ids</th>\n",
              "    </tr>\n",
              "  </thead>\n",
              "  <tbody>\n",
              "    <tr>\n",
              "      <th>0</th>\n",
              "      <td>[82, 89, 91, 87, 89, 87, 86, 86, 86, 86, 84, 8...</td>\n",
              "      <td>1</td>\n",
              "      <td>[-118.2254694333423, 33.73803725920789]</td>\n",
              "      <td>20180708_180909_0f47</td>\n",
              "    </tr>\n",
              "    <tr>\n",
              "      <th>1</th>\n",
              "      <td>[76, 75, 67, 62, 68, 72, 73, 73, 68, 69, 69, 6...</td>\n",
              "      <td>1</td>\n",
              "      <td>[-122.33222866289329, 37.7491755586813]</td>\n",
              "      <td>20170705_180816_103e</td>\n",
              "    </tr>\n",
              "    <tr>\n",
              "      <th>2</th>\n",
              "      <td>[125, 127, 129, 130, 126, 125, 129, 133, 132, ...</td>\n",
              "      <td>1</td>\n",
              "      <td>[-118.14283073363218, 33.736016066914175]</td>\n",
              "      <td>20180712_211331_0f06</td>\n",
              "    </tr>\n",
              "    <tr>\n",
              "      <th>3</th>\n",
              "      <td>[102, 99, 113, 106, 96, 102, 105, 105, 103, 10...</td>\n",
              "      <td>1</td>\n",
              "      <td>[-122.34784341495181, 37.76648707436548]</td>\n",
              "      <td>20170609_180756_103a</td>\n",
              "    </tr>\n",
              "    <tr>\n",
              "      <th>4</th>\n",
              "      <td>[78, 76, 74, 78, 79, 79, 79, 82, 86, 85, 83, 8...</td>\n",
              "      <td>1</td>\n",
              "      <td>[-122.34852408322172, 37.75878462398653]</td>\n",
              "      <td>20170515_180653_1007</td>\n",
              "    </tr>\n",
              "  </tbody>\n",
              "</table>\n",
              "</div>"
            ],
            "text/plain": [
              "                                                data  ...             scene_ids\n",
              "0  [82, 89, 91, 87, 89, 87, 86, 86, 86, 86, 84, 8...  ...  20180708_180909_0f47\n",
              "1  [76, 75, 67, 62, 68, 72, 73, 73, 68, 69, 69, 6...  ...  20170705_180816_103e\n",
              "2  [125, 127, 129, 130, 126, 125, 129, 133, 132, ...  ...  20180712_211331_0f06\n",
              "3  [102, 99, 113, 106, 96, 102, 105, 105, 103, 10...  ...  20170609_180756_103a\n",
              "4  [78, 76, 74, 78, 79, 79, 79, 82, 86, 85, 83, 8...  ...  20170515_180653_1007\n",
              "\n",
              "[5 rows x 4 columns]"
            ]
          },
          "metadata": {
            "tags": []
          },
          "execution_count": 15
        }
      ]
    },
    {
      "cell_type": "code",
      "metadata": {
        "id": "LyXqr0wRn8G3",
        "colab_type": "code",
        "outputId": "0f25cdf9-a6fd-4fb9-8e74-874ded9b482b",
        "colab": {
          "base_uri": "https://localhost:8080/",
          "height": 202
        }
      },
      "source": [
        "with open('shipsnet.json') as data_file:\n",
        "    kg_ships_dict = json.load(data_file)\n",
        "\n",
        "kg_ships_df = pd.DataFrame(kg_ships_dict)\n",
        "kg_ships_df.head()"
      ],
      "execution_count": 16,
      "outputs": [
        {
          "output_type": "execute_result",
          "data": {
            "text/html": [
              "<div>\n",
              "<style scoped>\n",
              "    .dataframe tbody tr th:only-of-type {\n",
              "        vertical-align: middle;\n",
              "    }\n",
              "\n",
              "    .dataframe tbody tr th {\n",
              "        vertical-align: top;\n",
              "    }\n",
              "\n",
              "    .dataframe thead th {\n",
              "        text-align: right;\n",
              "    }\n",
              "</style>\n",
              "<table border=\"1\" class=\"dataframe\">\n",
              "  <thead>\n",
              "    <tr style=\"text-align: right;\">\n",
              "      <th></th>\n",
              "      <th>data</th>\n",
              "      <th>labels</th>\n",
              "      <th>locations</th>\n",
              "      <th>scene_ids</th>\n",
              "    </tr>\n",
              "  </thead>\n",
              "  <tbody>\n",
              "    <tr>\n",
              "      <th>0</th>\n",
              "      <td>[82, 89, 91, 87, 89, 87, 86, 86, 86, 86, 84, 8...</td>\n",
              "      <td>1</td>\n",
              "      <td>[-118.2254694333423, 33.73803725920789]</td>\n",
              "      <td>20180708_180909_0f47</td>\n",
              "    </tr>\n",
              "    <tr>\n",
              "      <th>1</th>\n",
              "      <td>[76, 75, 67, 62, 68, 72, 73, 73, 68, 69, 69, 6...</td>\n",
              "      <td>1</td>\n",
              "      <td>[-122.33222866289329, 37.7491755586813]</td>\n",
              "      <td>20170705_180816_103e</td>\n",
              "    </tr>\n",
              "    <tr>\n",
              "      <th>2</th>\n",
              "      <td>[125, 127, 129, 130, 126, 125, 129, 133, 132, ...</td>\n",
              "      <td>1</td>\n",
              "      <td>[-118.14283073363218, 33.736016066914175]</td>\n",
              "      <td>20180712_211331_0f06</td>\n",
              "    </tr>\n",
              "    <tr>\n",
              "      <th>3</th>\n",
              "      <td>[102, 99, 113, 106, 96, 102, 105, 105, 103, 10...</td>\n",
              "      <td>1</td>\n",
              "      <td>[-122.34784341495181, 37.76648707436548]</td>\n",
              "      <td>20170609_180756_103a</td>\n",
              "    </tr>\n",
              "    <tr>\n",
              "      <th>4</th>\n",
              "      <td>[78, 76, 74, 78, 79, 79, 79, 82, 86, 85, 83, 8...</td>\n",
              "      <td>1</td>\n",
              "      <td>[-122.34852408322172, 37.75878462398653]</td>\n",
              "      <td>20170515_180653_1007</td>\n",
              "    </tr>\n",
              "  </tbody>\n",
              "</table>\n",
              "</div>"
            ],
            "text/plain": [
              "                                                data  ...             scene_ids\n",
              "0  [82, 89, 91, 87, 89, 87, 86, 86, 86, 86, 84, 8...  ...  20180708_180909_0f47\n",
              "1  [76, 75, 67, 62, 68, 72, 73, 73, 68, 69, 69, 6...  ...  20170705_180816_103e\n",
              "2  [125, 127, 129, 130, 126, 125, 129, 133, 132, ...  ...  20180712_211331_0f06\n",
              "3  [102, 99, 113, 106, 96, 102, 105, 105, 103, 10...  ...  20170609_180756_103a\n",
              "4  [78, 76, 74, 78, 79, 79, 79, 82, 86, 85, 83, 8...  ...  20170515_180653_1007\n",
              "\n",
              "[5 rows x 4 columns]"
            ]
          },
          "metadata": {
            "tags": []
          },
          "execution_count": 16
        }
      ]
    },
    {
      "cell_type": "code",
      "metadata": {
        "id": "uT5kX-hWn_F-",
        "colab_type": "code",
        "outputId": "93169102-400f-4539-bf6c-18bff7d5c839",
        "colab": {
          "base_uri": "https://localhost:8080/",
          "height": 35
        }
      },
      "source": [
        "n_spectrum = 3 # color channel (RGB)\n",
        "kg_patch_size = 80\n",
        "kg_ships_patches = np.array(kg_ships_dict['data']\n",
        "             ).astype('uint8'\n",
        "             ).reshape([-1, n_spectrum, kg_patch_size, kg_patch_size])\n",
        "kg_ships_patches = np.moveaxis(kg_ships_patches, 1, 3)\n",
        "kg_ships_patches.shape"
      ],
      "execution_count": 18,
      "outputs": [
        {
          "output_type": "execute_result",
          "data": {
            "text/plain": [
              "(4000, 80, 80, 3)"
            ]
          },
          "metadata": {
            "tags": []
          },
          "execution_count": 18
        }
      ]
    },
    {
      "cell_type": "code",
      "metadata": {
        "id": "pTe-cEyJooMJ",
        "colab_type": "code",
        "outputId": "cbc3ff20-2be0-45cb-e008-c3c68cb51864",
        "colab": {
          "base_uri": "https://localhost:8080/",
          "height": 35
        }
      },
      "source": [
        "kg_ships_patches.min(), kg_ships_patches.max()"
      ],
      "execution_count": 19,
      "outputs": [
        {
          "output_type": "execute_result",
          "data": {
            "text/plain": [
              "(1, 255)"
            ]
          },
          "metadata": {
            "tags": []
          },
          "execution_count": 19
        }
      ]
    },
    {
      "cell_type": "code",
      "metadata": {
        "id": "wj0goacTpfzg",
        "colab_type": "code",
        "outputId": "abecdad2-b38f-41c0-f86a-af6a4a36584f",
        "colab": {
          "base_uri": "https://localhost:8080/",
          "height": 285
        }
      },
      "source": [
        "plt.imshow(kg_ships_patches[100])"
      ],
      "execution_count": 20,
      "outputs": [
        {
          "output_type": "execute_result",
          "data": {
            "text/plain": [
              "<matplotlib.image.AxesImage at 0x7f6af0bd8c18>"
            ]
          },
          "metadata": {
            "tags": []
          },
          "execution_count": 20
        },
        {
          "output_type": "display_data",
          "data": {
            "image/png": "[encoded data removed]",
            "text/plain": [
              "<Figure size 432x288 with 1 Axes>"
            ]
          },
          "metadata": {
            "tags": [],
            "needs_background": "light"
          }
        }
      ]
    },
    {
      "cell_type": "code",
      "metadata": {
        "id": "pxGG14jypmpJ",
        "colab_type": "code",
        "colab": {}
      },
      "source": [
        "kg_patch_new_size = round(kg_patch_size*SCALE_FACTOR)\n",
        "\n",
        "kg_patches_resize = np.zeros([kg_ships_patches.shape[0],\n",
        "                            kg_patch_new_size,\n",
        "                            kg_patch_new_size,\n",
        "                            kg_ships_patches.shape[3]])"
      ],
      "execution_count": 0,
      "outputs": []
    },
    {
      "cell_type": "code",
      "metadata": {
        "id": "UWQs6KIzsTAd",
        "colab_type": "code",
        "colab": {}
      },
      "source": [
        "for img in range(kg_ships_patches.shape[0]):\n",
        "  kg_patches_resize[img] = resize(kg_ships_patches[img], [kg_patch_new_size, kg_patch_new_size])"
      ],
      "execution_count": 0,
      "outputs": []
    },
    {
      "cell_type": "code",
      "metadata": {
        "id": "qsqpvmafrNsl",
        "colab_type": "code",
        "outputId": "0bed7bd1-8c4e-463d-f8b0-00247c61e1b5",
        "colab": {
          "base_uri": "https://localhost:8080/",
          "height": 283
        }
      },
      "source": [
        "kg_patches_resize.shape, plt.imshow(kg_patches_resize[100])"
      ],
      "execution_count": 23,
      "outputs": [
        {
          "output_type": "execute_result",
          "data": {
            "text/plain": [
              "((4000, 24, 24, 3), <matplotlib.image.AxesImage at 0x7f6aeeeacb00>)"
            ]
          },
          "metadata": {
            "tags": []
          },
          "execution_count": 23
        },
        {
          "output_type": "display_data",
          "data": {
            "image/png": "[encoded data removed]",
            "text/plain": [
              "<Figure size 432x288 with 1 Axes>"
            ]
          },
          "metadata": {
            "tags": [],
            "needs_background": "light"
          }
        }
      ]
    },
    {
      "cell_type": "markdown",
      "metadata": {
        "id": "ldPx9Fub0Iwo",
        "colab_type": "text"
      },
      "source": [
        "# Deep Learning\n"
      ]
    },
    {
      "cell_type": "code",
      "metadata": {
        "id": "J_fvma77h3UU",
        "colab_type": "code",
        "outputId": "88beb236-2dfa-437b-88dc-dead7e7624f7",
        "colab": {
          "base_uri": "https://localhost:8080/",
          "height": 35
        }
      },
      "source": [
        "#Prepare Data\n",
        "from __future__ import print_function\n",
        "import keras\n",
        "from keras.datasets import mnist\n",
        "from keras.models import Sequential\n",
        "from keras.layers import Dense, Dropout\n",
        "from keras.optimizers import RMSprop\n",
        "from sklearn.model_selection import train_test_split\n",
        "\n",
        "x_train, x_test, y_train, y_test = train_test_split(kg_patches_resize, \n",
        "                                                    kg_ships_df.labels, \n",
        "                                                    stratify=kg_ships_df.labels, \n",
        "                                                    test_size=0.4, \n",
        "                                                    random_state=42)\n",
        "np.unique(y_train, return_counts=True), np.unique(y_test, return_counts=True)"
      ],
      "execution_count": 69,
      "outputs": [
        {
          "output_type": "execute_result",
          "data": {
            "text/plain": [
              "((array([0, 1]), array([1800,  600])), (array([0, 1]), array([1200,  400])))"
            ]
          },
          "metadata": {
            "tags": []
          },
          "execution_count": 69
        }
      ]
    },
    {
      "cell_type": "code",
      "metadata": {
        "id": "an_xH01h9Iw2",
        "colab_type": "code",
        "outputId": "a4e3329f-acf5-4733-c503-42cb6133fccf",
        "colab": {
          "base_uri": "https://localhost:8080/",
          "height": 52
        }
      },
      "source": [
        "x_train = x_train.astype('float32')\n",
        "x_test = x_test.astype('float32')\n",
        "x_train /= 255\n",
        "x_test /= 255\n",
        "print(x_train.shape[0], 'train samples')\n",
        "print(x_test.shape[0], 'test samples')\n",
        "\n",
        "y_train = y_train.astype('int')\n",
        "y_test = y_test.astype('int')\n",
        "num_classes = 2\n",
        "y_train = keras.utils.to_categorical(y_train, num_classes, dtype='int')\n",
        "y_test = keras.utils.to_categorical(y_test, num_classes, dtype='int')"
      ],
      "execution_count": 70,
      "outputs": [
        {
          "output_type": "stream",
          "text": [
            "2400 train samples\n",
            "1600 test samples\n"
          ],
          "name": "stdout"
        }
      ]
    },
    {
      "cell_type": "code",
      "metadata": {
        "id": "HHIBSjMd7li2",
        "colab_type": "code",
        "outputId": "b868b184-43e8-4d5e-c471-31b17023b70f",
        "colab": {
          "base_uri": "https://localhost:8080/",
          "height": 35
        }
      },
      "source": [
        "x_train.shape"
      ],
      "execution_count": 28,
      "outputs": [
        {
          "output_type": "execute_result",
          "data": {
            "text/plain": [
              "(2400, 24, 24, 3)"
            ]
          },
          "metadata": {
            "tags": []
          },
          "execution_count": 28
        }
      ]
    },
    {
      "cell_type": "code",
      "metadata": {
        "id": "GEWETENJ9Q5o",
        "colab_type": "code",
        "outputId": "6bd831ea-bd6d-42df-9a5e-564a2fce7181",
        "colab": {
          "base_uri": "https://localhost:8080/",
          "height": 139
        }
      },
      "source": [
        "y_train"
      ],
      "execution_count": 29,
      "outputs": [
        {
          "output_type": "execute_result",
          "data": {
            "text/plain": [
              "array([[1, 0],\n",
              "       [0, 1],\n",
              "       [1, 0],\n",
              "       ...,\n",
              "       [1, 0],\n",
              "       [0, 1],\n",
              "       [1, 0]])"
            ]
          },
          "metadata": {
            "tags": []
          },
          "execution_count": 29
        }
      ]
    },
    {
      "cell_type": "code",
      "metadata": {
        "colab_type": "code",
        "id": "QxV78TVFZSjt",
        "colab": {}
      },
      "source": [
        "from keras.layers.convolutional import Conv2D, MaxPooling2D\n",
        "from keras.layers import Dense, Flatten, Activation\n",
        "\n",
        "M = Sequential()\n",
        "M.add(Conv2D(32, (3, 3), padding='same', activation='relu', input_shape=(24, 24, 3)))\n",
        "M.add(Dropout(0.20))\n",
        "\n",
        "M.add(Conv2D(64, (3, 3), padding='same', activation='relu'))\n",
        "M.add(MaxPooling2D(pool_size=(2, 2))) #12x12\n",
        "M.add(Dropout(0.20))\n",
        "\n",
        "M.add(Conv2D(128, (3, 3), padding='same', activation='relu'))\n",
        "M.add(MaxPooling2D(pool_size=(2, 2))) #6x6\n",
        "\n",
        "#M.add(Conv2D(512, (3, 3), padding='same', activation='softmax'))\n",
        "#M.add(MaxPooling2D(pool_size=(2, 2))) #3x3\n",
        "\n",
        "M.add(Dropout(0.20))\n",
        "M.add(Flatten())\n",
        "\n",
        "M.add(Dense(512, activation='relu'))\n",
        "M.add(Dropout(0.20))\n",
        "#M.add(Dense(512, activation='softmax'))\n",
        "M.add(Dense(2, activation='softmax'))"
      ],
      "execution_count": 0,
      "outputs": []
    },
    {
      "cell_type": "code",
      "metadata": {
        "colab_type": "code",
        "outputId": "34fe2a55-1358-4ef2-daf1-6d92183f0a51",
        "id": "LSR3xaYSZSkB",
        "colab": {
          "base_uri": "https://localhost:8080/",
          "height": 572
        }
      },
      "source": [
        "M.summary()"
      ],
      "execution_count": 72,
      "outputs": [
        {
          "output_type": "stream",
          "text": [
            "Model: \"sequential_7\"\n",
            "_________________________________________________________________\n",
            "Layer (type)                 Output Shape              Param #   \n",
            "=================================================================\n",
            "conv2d_16 (Conv2D)           (None, 24, 24, 32)        896       \n",
            "_________________________________________________________________\n",
            "dropout_25 (Dropout)         (None, 24, 24, 32)        0         \n",
            "_________________________________________________________________\n",
            "conv2d_17 (Conv2D)           (None, 24, 24, 64)        18496     \n",
            "_________________________________________________________________\n",
            "max_pooling2d_10 (MaxPooling (None, 12, 12, 64)        0         \n",
            "_________________________________________________________________\n",
            "dropout_26 (Dropout)         (None, 12, 12, 64)        0         \n",
            "_________________________________________________________________\n",
            "conv2d_18 (Conv2D)           (None, 12, 12, 128)       73856     \n",
            "_________________________________________________________________\n",
            "max_pooling2d_11 (MaxPooling (None, 6, 6, 128)         0         \n",
            "_________________________________________________________________\n",
            "dropout_27 (Dropout)         (None, 6, 6, 128)         0         \n",
            "_________________________________________________________________\n",
            "flatten_7 (Flatten)          (None, 4608)              0         \n",
            "_________________________________________________________________\n",
            "dense_13 (Dense)             (None, 512)               2359808   \n",
            "_________________________________________________________________\n",
            "dropout_28 (Dropout)         (None, 512)               0         \n",
            "_________________________________________________________________\n",
            "dense_14 (Dense)             (None, 2)                 1026      \n",
            "=================================================================\n",
            "Total params: 2,454,082\n",
            "Trainable params: 2,454,082\n",
            "Non-trainable params: 0\n",
            "_________________________________________________________________\n"
          ],
          "name": "stdout"
        }
      ]
    },
    {
      "cell_type": "code",
      "metadata": {
        "colab_type": "code",
        "outputId": "35672318-5482-4bdc-8c94-1d415455c620",
        "id": "kkayNMjDZSkO",
        "colab": {
          "base_uri": "https://localhost:8080/",
          "height": 1000
        }
      },
      "source": [
        "from keras.utils import plot_model\n",
        "\n",
        "plot_model(M, show_shapes=True, show_layer_names=True)"
      ],
      "execution_count": 73,
      "outputs": [
        {
          "output_type": "execute_result",
          "data": {
            "image/png": "[encoded data removed]",
            "text/plain": [
              "<IPython.core.display.Image object>"
            ]
          },
          "metadata": {
            "tags": []
          },
          "execution_count": 73
        }
      ]
    },
    {
      "cell_type": "code",
      "metadata": {
        "colab_type": "code",
        "id": "GfVxZaGrZSkb",
        "colab": {}
      },
      "source": [
        "M.compile(loss='categorical_crossentropy',\n",
        "              optimizer='adam',\n",
        "              metrics=['accuracy'])"
      ],
      "execution_count": 0,
      "outputs": []
    },
    {
      "cell_type": "code",
      "metadata": {
        "colab_type": "code",
        "outputId": "894a2e8e-ad75-4dce-9aee-c95fb0b31098",
        "id": "_OLO_vwoZSkr",
        "colab": {
          "base_uri": "https://localhost:8080/",
          "height": 1000
        }
      },
      "source": [
        "from tensorflow.keras.preprocessing.image import ImageDataGenerator\n",
        "# data augmentation configuration for training data\n",
        "train_datagen = ImageDataGenerator(\n",
        "    shear_range=0.2,\n",
        "    zoom_range=0.2,\n",
        "    horizontal_flip=True,\n",
        "    vertical_flip=True,\n",
        "    rotation_range=360)\n",
        "\n",
        "# data augmentation configuration for test data:\n",
        "test_datagen = ImageDataGenerator()\n",
        "\n",
        "train_generator = train_datagen.flow(\n",
        "    x_train,\n",
        "    y_train,\n",
        "    batch_size=128,\n",
        "    )\n",
        "\n",
        "validation_generator = test_datagen.flow(\n",
        "    x_test,\n",
        "    y_test,\n",
        "    batch_size=128,\n",
        "    )\n",
        "\n",
        "M.fit_generator(\n",
        "    train_generator,\n",
        "    steps_per_epoch=len(x_train) // 128,\n",
        "    epochs=50,\n",
        "    validation_data=validation_generator,\n",
        "    validation_steps=len(x_test) // 128)"
      ],
      "execution_count": 75,
      "outputs": [
        {
          "output_type": "stream",
          "text": [
            "Epoch 1/50\n",
            "18/18 [==============================] - 1s 58ms/step - loss: 0.6120 - accuracy: 0.7113 - val_loss: 0.5565 - val_accuracy: 0.7520\n",
            "Epoch 2/50\n",
            "18/18 [==============================] - 1s 51ms/step - loss: 0.5687 - accuracy: 0.7504 - val_loss: 0.5628 - val_accuracy: 0.7520\n",
            "Epoch 3/50\n",
            "18/18 [==============================] - 1s 46ms/step - loss: 0.5632 - accuracy: 0.7522 - val_loss: 0.6298 - val_accuracy: 0.7452\n",
            "Epoch 4/50\n",
            "18/18 [==============================] - 1s 51ms/step - loss: 0.5605 - accuracy: 0.7526 - val_loss: 0.5379 - val_accuracy: 0.7514\n",
            "Epoch 5/50\n",
            "18/18 [==============================] - 1s 51ms/step - loss: 0.5645 - accuracy: 0.7478 - val_loss: 0.5348 - val_accuracy: 0.7541\n",
            "Epoch 6/50\n",
            "18/18 [==============================] - 1s 51ms/step - loss: 0.5701 - accuracy: 0.7474 - val_loss: 0.5543 - val_accuracy: 0.7452\n",
            "Epoch 7/50\n",
            "18/18 [==============================] - 1s 45ms/step - loss: 0.5594 - accuracy: 0.7544 - val_loss: 0.5427 - val_accuracy: 0.7554\n",
            "Epoch 8/50\n",
            "18/18 [==============================] - 1s 50ms/step - loss: 0.5603 - accuracy: 0.7518 - val_loss: 0.6474 - val_accuracy: 0.7351\n",
            "Epoch 9/50\n",
            "18/18 [==============================] - 1s 45ms/step - loss: 0.5663 - accuracy: 0.7491 - val_loss: 0.5782 - val_accuracy: 0.7561\n",
            "Epoch 10/50\n",
            "18/18 [==============================] - 1s 51ms/step - loss: 0.5686 - accuracy: 0.7465 - val_loss: 0.5789 - val_accuracy: 0.7466\n",
            "Epoch 11/50\n",
            "18/18 [==============================] - 1s 50ms/step - loss: 0.5661 - accuracy: 0.7496 - val_loss: 0.5968 - val_accuracy: 0.7548\n",
            "Epoch 12/50\n",
            "18/18 [==============================] - 1s 46ms/step - loss: 0.5596 - accuracy: 0.7522 - val_loss: 0.5688 - val_accuracy: 0.7514\n",
            "Epoch 13/50\n",
            "18/18 [==============================] - 1s 45ms/step - loss: 0.5703 - accuracy: 0.7420 - val_loss: 0.5559 - val_accuracy: 0.7507\n",
            "Epoch 14/50\n",
            "18/18 [==============================] - 1s 48ms/step - loss: 0.5411 - accuracy: 0.7630 - val_loss: 0.6255 - val_accuracy: 0.7526\n",
            "Epoch 15/50\n",
            "18/18 [==============================] - 1s 51ms/step - loss: 0.5274 - accuracy: 0.7403 - val_loss: 0.3763 - val_accuracy: 0.7432\n",
            "Epoch 16/50\n",
            "18/18 [==============================] - 1s 45ms/step - loss: 0.4292 - accuracy: 0.7606 - val_loss: 0.3714 - val_accuracy: 0.7799\n",
            "Epoch 17/50\n",
            "18/18 [==============================] - 1s 51ms/step - loss: 0.4142 - accuracy: 0.7777 - val_loss: 0.3416 - val_accuracy: 0.8179\n",
            "Epoch 18/50\n",
            "18/18 [==============================] - 1s 45ms/step - loss: 0.3877 - accuracy: 0.8041 - val_loss: 0.4238 - val_accuracy: 0.7969\n",
            "Epoch 19/50\n",
            "18/18 [==============================] - 1s 45ms/step - loss: 0.3893 - accuracy: 0.7949 - val_loss: 0.3064 - val_accuracy: 0.8077\n",
            "Epoch 20/50\n",
            "18/18 [==============================] - 1s 50ms/step - loss: 0.3698 - accuracy: 0.8169 - val_loss: 0.3724 - val_accuracy: 0.8118\n",
            "Epoch 21/50\n",
            "18/18 [==============================] - 1s 50ms/step - loss: 0.3660 - accuracy: 0.8165 - val_loss: 0.3843 - val_accuracy: 0.8098\n",
            "Epoch 22/50\n",
            "18/18 [==============================] - 1s 45ms/step - loss: 0.3530 - accuracy: 0.8178 - val_loss: 0.3679 - val_accuracy: 0.8342\n",
            "Epoch 23/50\n",
            "18/18 [==============================] - 1s 51ms/step - loss: 0.3656 - accuracy: 0.8204 - val_loss: 0.3212 - val_accuracy: 0.8512\n",
            "Epoch 24/50\n",
            "18/18 [==============================] - 1s 51ms/step - loss: 0.3388 - accuracy: 0.8351 - val_loss: 0.3005 - val_accuracy: 0.8594\n",
            "Epoch 25/50\n",
            "18/18 [==============================] - 1s 50ms/step - loss: 0.3106 - accuracy: 0.8455 - val_loss: 0.2587 - val_accuracy: 0.8784\n",
            "Epoch 26/50\n",
            "18/18 [==============================] - 1s 48ms/step - loss: 0.3057 - accuracy: 0.8594 - val_loss: 0.2781 - val_accuracy: 0.8750\n",
            "Epoch 27/50\n",
            "18/18 [==============================] - 1s 49ms/step - loss: 0.3036 - accuracy: 0.8504 - val_loss: 0.2652 - val_accuracy: 0.8841\n",
            "Epoch 28/50\n",
            "18/18 [==============================] - 1s 51ms/step - loss: 0.2907 - accuracy: 0.8653 - val_loss: 0.2832 - val_accuracy: 0.8811\n",
            "Epoch 29/50\n",
            "18/18 [==============================] - 1s 51ms/step - loss: 0.2732 - accuracy: 0.8615 - val_loss: 0.2568 - val_accuracy: 0.8927\n",
            "Epoch 30/50\n",
            "18/18 [==============================] - 1s 51ms/step - loss: 0.2766 - accuracy: 0.8687 - val_loss: 0.1861 - val_accuracy: 0.8607\n",
            "Epoch 31/50\n",
            "18/18 [==============================] - 1s 45ms/step - loss: 0.2682 - accuracy: 0.8832 - val_loss: 0.2514 - val_accuracy: 0.8872\n",
            "Epoch 32/50\n",
            "18/18 [==============================] - 1s 51ms/step - loss: 0.2820 - accuracy: 0.8693 - val_loss: 0.2486 - val_accuracy: 0.8879\n",
            "Epoch 33/50\n",
            "18/18 [==============================] - 1s 50ms/step - loss: 0.2553 - accuracy: 0.8829 - val_loss: 0.2834 - val_accuracy: 0.8811\n",
            "Epoch 34/50\n",
            "18/18 [==============================] - 1s 45ms/step - loss: 0.2716 - accuracy: 0.8693 - val_loss: 0.1508 - val_accuracy: 0.9137\n",
            "Epoch 35/50\n",
            "18/18 [==============================] - 1s 51ms/step - loss: 0.2338 - accuracy: 0.9010 - val_loss: 0.2363 - val_accuracy: 0.8988\n",
            "Epoch 36/50\n",
            "18/18 [==============================] - 1s 45ms/step - loss: 0.2425 - accuracy: 0.8952 - val_loss: 0.2638 - val_accuracy: 0.8974\n",
            "Epoch 37/50\n",
            "18/18 [==============================] - 1s 51ms/step - loss: 0.2388 - accuracy: 0.8992 - val_loss: 0.1649 - val_accuracy: 0.9056\n",
            "Epoch 38/50\n",
            "18/18 [==============================] - 1s 43ms/step - loss: 0.2334 - accuracy: 0.8974 - val_loss: 0.1739 - val_accuracy: 0.9090\n",
            "Epoch 39/50\n",
            "18/18 [==============================] - 1s 43ms/step - loss: 0.2263 - accuracy: 0.8970 - val_loss: 0.1947 - val_accuracy: 0.9368\n",
            "Epoch 40/50\n",
            "18/18 [==============================] - 1s 48ms/step - loss: 0.2201 - accuracy: 0.9036 - val_loss: 0.1959 - val_accuracy: 0.9310\n",
            "Epoch 41/50\n",
            "18/18 [==============================] - 1s 46ms/step - loss: 0.2203 - accuracy: 0.9089 - val_loss: 0.1969 - val_accuracy: 0.9273\n",
            "Epoch 42/50\n",
            "18/18 [==============================] - 1s 51ms/step - loss: 0.1989 - accuracy: 0.9170 - val_loss: 0.2042 - val_accuracy: 0.9348\n",
            "Epoch 43/50\n",
            "18/18 [==============================] - 1s 50ms/step - loss: 0.2150 - accuracy: 0.9120 - val_loss: 0.1323 - val_accuracy: 0.9389\n",
            "Epoch 44/50\n",
            "18/18 [==============================] - 1s 51ms/step - loss: 0.1995 - accuracy: 0.9177 - val_loss: 0.2124 - val_accuracy: 0.9117\n",
            "Epoch 45/50\n",
            "18/18 [==============================] - 1s 45ms/step - loss: 0.1915 - accuracy: 0.9253 - val_loss: 0.2033 - val_accuracy: 0.9198\n",
            "Epoch 46/50\n",
            "18/18 [==============================] - 1s 50ms/step - loss: 0.1760 - accuracy: 0.9268 - val_loss: 0.1159 - val_accuracy: 0.9355\n",
            "Epoch 47/50\n",
            "18/18 [==============================] - 1s 50ms/step - loss: 0.1919 - accuracy: 0.9243 - val_loss: 0.2233 - val_accuracy: 0.9192\n",
            "Epoch 48/50\n",
            "18/18 [==============================] - 1s 50ms/step - loss: 0.1747 - accuracy: 0.9353 - val_loss: 0.0882 - val_accuracy: 0.9538\n",
            "Epoch 49/50\n",
            "18/18 [==============================] - 1s 51ms/step - loss: 0.1702 - accuracy: 0.9384 - val_loss: 0.0962 - val_accuracy: 0.9504\n",
            "Epoch 50/50\n",
            "18/18 [==============================] - 1s 45ms/step - loss: 0.1671 - accuracy: 0.9371 - val_loss: 0.2405 - val_accuracy: 0.9273\n"
          ],
          "name": "stdout"
        },
        {
          "output_type": "execute_result",
          "data": {
            "text/plain": [
              "<keras.callbacks.callbacks.History at 0x7f0e84fc8978>"
            ]
          },
          "metadata": {
            "tags": []
          },
          "execution_count": 75
        }
      ]
    },
    {
      "cell_type": "code",
      "metadata": {
        "colab_type": "code",
        "outputId": "5500ea2d-a54c-48c7-e882-81df46f3b2e5",
        "id": "CLZAmPMxZSk1",
        "colab": {
          "base_uri": "https://localhost:8080/",
          "height": 52
        }
      },
      "source": [
        "#Evaluating test loss and test accuracy\n",
        "score = M.evaluate(x_test, y_test, verbose=0)\n",
        "print('Test loss:', score[0])\n",
        "print('Test accuracy:', score[1])"
      ],
      "execution_count": 76,
      "outputs": [
        {
          "output_type": "stream",
          "text": [
            "Test loss: 0.1658121718466282\n",
            "Test accuracy: 0.9275000095367432\n"
          ],
          "name": "stdout"
        }
      ]
    },
    {
      "cell_type": "markdown",
      "metadata": {
        "id": "yPIksTVr0Qav",
        "colab_type": "text"
      },
      "source": [
        "# K means clustering"
      ]
    },
    {
      "cell_type": "code",
      "metadata": {
        "id": "3GSsCawr5mjn",
        "colab_type": "code",
        "colab": {
          "base_uri": "https://localhost:8080/",
          "height": 35
        },
        "outputId": "da8b1fea-df3e-46c8-e406-022ee0f3c811"
      },
      "source": [
        "kg_patches_resize.shape"
      ],
      "execution_count": 31,
      "outputs": [
        {
          "output_type": "execute_result",
          "data": {
            "text/plain": [
              "(4000, 24, 24, 3)"
            ]
          },
          "metadata": {
            "tags": []
          },
          "execution_count": 31
        }
      ]
    },
    {
      "cell_type": "code",
      "metadata": {
        "id": "y_AixaJM5qRX",
        "colab_type": "code",
        "colab": {
          "base_uri": "https://localhost:8080/",
          "height": 35
        },
        "outputId": "fdc2e2e1-1133-4508-e154-712e596d5c44"
      },
      "source": [
        "#Convert to a 2D matrix. \n",
        "Ships_x = kg_patches_resize.reshape(len(kg_ships_df.labels), -1)\n",
        "print(Ships_x.shape)"
      ],
      "execution_count": 32,
      "outputs": [
        {
          "output_type": "stream",
          "text": [
            "(4000, 1728)\n"
          ],
          "name": "stdout"
        }
      ]
    },
    {
      "cell_type": "code",
      "metadata": {
        "id": "13JPzGRxp0-2",
        "colab_type": "code",
        "colab": {}
      },
      "source": [
        "from sklearn.preprocessing import StandardScaler\n",
        "\n",
        "scaler = StandardScaler()\n",
        "\n",
        "Ships_x_scaled = scaler.fit_transform(Ships_x)"
      ],
      "execution_count": 0,
      "outputs": []
    },
    {
      "cell_type": "code",
      "metadata": {
        "id": "pChBrd3q6WZA",
        "colab_type": "code",
        "colab": {}
      },
      "source": [
        "y =kg_ships_df.labels"
      ],
      "execution_count": 0,
      "outputs": []
    },
    {
      "cell_type": "code",
      "metadata": {
        "id": "meSM_8Ti0ZPr",
        "colab_type": "code",
        "colab": {
          "base_uri": "https://localhost:8080/",
          "height": 35
        },
        "outputId": "62255d30-4896-4d0e-ee2d-6911890db0a0"
      },
      "source": [
        "from sklearn.model_selection import train_test_split\n",
        "from sklearn.cluster import KMeans\n",
        "from sklearn.metrics import accuracy_score\n",
        "\n",
        "x_train, x_test, y_train, y_test = train_test_split(Ships_x_scaled, \n",
        "                                                    y, \n",
        "                                                    stratify=y, \n",
        "                                                    test_size=0.4, \n",
        "                                                    random_state=42)\n",
        "np.unique(y_train, return_counts=True), np.unique(y_test, return_counts=True)"
      ],
      "execution_count": 46,
      "outputs": [
        {
          "output_type": "execute_result",
          "data": {
            "text/plain": [
              "((array([0, 1]), array([1800,  600])), (array([0, 1]), array([1200,  400])))"
            ]
          },
          "metadata": {
            "tags": []
          },
          "execution_count": 46
        }
      ]
    },
    {
      "cell_type": "code",
      "metadata": {
        "id": "u-dMVwxI2vFY",
        "colab_type": "code",
        "colab": {
          "base_uri": "https://localhost:8080/",
          "height": 69
        },
        "outputId": "4d2eed20-6ee5-477b-f3de-d326c9d5d235"
      },
      "source": [
        "n_clusters = len(np.unique(y_train))\n",
        "kmeans = KMeans(n_clusters = n_clusters, random_state=42)\n",
        "kmeans.fit(x_train)"
      ],
      "execution_count": 55,
      "outputs": [
        {
          "output_type": "execute_result",
          "data": {
            "text/plain": [
              "KMeans(algorithm='auto', copy_x=True, init='k-means++', max_iter=300,\n",
              "       n_clusters=2, n_init=10, n_jobs=None, precompute_distances='auto',\n",
              "       random_state=42, tol=0.0001, verbose=0)"
            ]
          },
          "metadata": {
            "tags": []
          },
          "execution_count": 55
        }
      ]
    },
    {
      "cell_type": "code",
      "metadata": {
        "id": "DmH10haEkqYF",
        "colab_type": "code",
        "colab": {}
      },
      "source": [
        "y_labels_train = kmeans.labels_"
      ],
      "execution_count": 0,
      "outputs": []
    },
    {
      "cell_type": "code",
      "metadata": {
        "id": "kdaLD0-o94Lp",
        "colab_type": "code",
        "colab": {}
      },
      "source": [
        "y_labels_test = kmeans.predict(x_test)"
      ],
      "execution_count": 0,
      "outputs": []
    },
    {
      "cell_type": "code",
      "metadata": {
        "id": "itIqiLtWfwW9",
        "colab_type": "code",
        "outputId": "a72e7d6a-f753-40c7-edb4-19db10d3edaa",
        "colab": {
          "base_uri": "https://localhost:8080/",
          "height": 35
        }
      },
      "source": [
        "#Accuracy score of kmeans clustering to discriminate ships from non-ship images on the test set\n",
        "accuracy_score(y_test, y_labels_test)"
      ],
      "execution_count": 59,
      "outputs": [
        {
          "output_type": "execute_result",
          "data": {
            "text/plain": [
              "0.474375"
            ]
          },
          "metadata": {
            "tags": []
          },
          "execution_count": 59
        }
      ]
    },
    {
      "cell_type": "code",
      "metadata": {
        "colab_type": "code",
        "outputId": "abbc1325-c6b5-4155-cd4c-7460805e8018",
        "id": "OdMrLMya-a-n",
        "colab": {
          "base_uri": "https://localhost:8080/",
          "height": 35
        }
      },
      "source": [
        "#Accuracy score of kmeans clustering to discriminate ships from non-ship images on the train set\n",
        "accuracy_score(y_train, y_labels_train)"
      ],
      "execution_count": 63,
      "outputs": [
        {
          "output_type": "execute_result",
          "data": {
            "text/plain": [
              "0.45125"
            ]
          },
          "metadata": {
            "tags": []
          },
          "execution_count": 63
        }
      ]
    },
    {
      "cell_type": "code",
      "metadata": {
        "id": "yplSX30vf4vM",
        "colab_type": "code",
        "outputId": "b5a26bad-694e-4e66-ad46-f702aa155182",
        "colab": {
          "base_uri": "https://localhost:8080/",
          "height": 279
        }
      },
      "source": [
        "#Plotting the confusion matrix\n",
        "from sklearn.metrics import confusion_matrix\n",
        "import seaborn as sns\n",
        "mat = confusion_matrix(y_test, y_labels_test)\n",
        "sns.heatmap(mat.T, square=True, annot=True, fmt='d', cbar=False\n",
        "            )\n",
        "plt.xlabel('true label')\n",
        "plt.ylabel('predicted label');"
      ],
      "execution_count": 64,
      "outputs": [
        {
          "output_type": "display_data",
          "data": {
            "image/png": "[encoded data removed]",
            "text/plain": [
              "<Figure size 432x288 with 1 Axes>"
            ]
          },
          "metadata": {
            "tags": [],
            "needs_background": "light"
          }
        }
      ]
    }
  ]
}