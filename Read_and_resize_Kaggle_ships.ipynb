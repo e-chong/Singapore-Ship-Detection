{
  "nbformat": 4,
  "nbformat_minor": 0,
  "metadata": {
    "colab": {
      "name": "Read and resize Kaggle ships.ipynb",
      "provenance": [],
      "collapsed_sections": [],
      "authorship_tag": "ABX9TyPcaXqblYMW0pv/QJtqdwPO",
      "include_colab_link": true
    },
    "kernelspec": {
      "name": "python3",
      "display_name": "Python 3"
    }
  },
  "cells": [
    {
      "cell_type": "markdown",
      "metadata": {
        "id": "view-in-github",
        "colab_type": "text"
      },
      "source": [
        "<a href=\"https://colab.research.google.com/github/e-chong/Singapore-Ship-Detection/blob/master/Read_and_resize_Kaggle_ships.ipynb\" target=\"_parent\"><img src=\"https://colab.research.google.com/assets/colab-badge.svg\" alt=\"Open In Colab\"/></a>"
      ]
    },
    {
      "cell_type": "markdown",
      "metadata": {
        "id": "mHQln5NJ3KED",
        "colab_type": "text"
      },
      "source": [
        "Download data from the Kaggle competition \"Ships in Satellite Imagery\".\n",
        "\n",
        "https://www.kaggle.com/rhammell/ships-in-satellite-imagery\n",
        "\n",
        "https://towardsdatascience.com/setting-up-kaggle-in-google-colab-ebb281b61463"
      ]
    },
    {
      "cell_type": "markdown",
      "metadata": {
        "id": "qfVL6VSXC_AW",
        "colab_type": "text"
      },
      "source": [
        "Install and load packages"
      ]
    },
    {
      "cell_type": "code",
      "metadata": {
        "id": "hL8Yeimc38pl",
        "colab_type": "code",
        "colab": {}
      },
      "source": [
        "%%capture\n",
        "!pip install kaggle\n",
        "!pip install tifffile"
      ],
      "execution_count": 0,
      "outputs": []
    },
    {
      "cell_type": "code",
      "metadata": {
        "id": "P6MaDX5iEGB9",
        "colab_type": "code",
        "colab": {}
      },
      "source": [
        "import json\n",
        "import numpy as np\n",
        "import pandas as pd\n",
        "import matplotlib.pyplot as plt\n",
        "from skimage.transform import resize\n",
        "import tifffile as tiff"
      ],
      "execution_count": 0,
      "outputs": []
    },
    {
      "cell_type": "markdown",
      "metadata": {
        "id": "17B6UrHBDBSr",
        "colab_type": "text"
      },
      "source": [
        "Make a directory called `.kaggle` that will store the Kaggle API Key"
      ]
    },
    {
      "cell_type": "code",
      "metadata": {
        "id": "jNJ-ewTYBlYO",
        "colab_type": "code",
        "colab": {}
      },
      "source": [
        "!mkdir .kaggle"
      ],
      "execution_count": 0,
      "outputs": []
    },
    {
      "cell_type": "markdown",
      "metadata": {
        "id": "CIlOSpAwDIPs",
        "colab_type": "text"
      },
      "source": [
        "Create a json with the API key"
      ]
    },
    {
      "cell_type": "code",
      "metadata": {
        "id": "g4jlG9IR94xm",
        "colab_type": "code",
        "colab": {}
      },
      "source": [
        "token = {\"username\":\"echong91\",\"key\":\"635179943a477c0e17ef3b3961910251\"}\n",
        "\n",
        "with open('/content/.kaggle/kaggle.json', 'w') as file:\n",
        "    json.dump(token, file)"
      ],
      "execution_count": 0,
      "outputs": []
    },
    {
      "cell_type": "markdown",
      "metadata": {
        "id": "mMgWF4uZDNO0",
        "colab_type": "text"
      },
      "source": [
        "Copy the API key to the a folder in the root directory called `.kaggle`.\n",
        "\n",
        "For some reason, this needs to be run twice to work properly."
      ]
    },
    {
      "cell_type": "code",
      "metadata": {
        "id": "TMbA-4I-SCIv",
        "colab_type": "code",
        "colab": {
          "base_uri": "https://localhost:8080/",
          "height": 214
        },
        "outputId": "e0644c05-b6fa-47ce-807b-c3f9293394f5"
      },
      "source": [
        "!cp /content/.kaggle/kaggle.json ~/.kaggle/kaggle.json\n",
        "!kaggle config set -n path -v{/content}\n",
        "!cp /content/.kaggle/kaggle.json ~/.kaggle/kaggle.json\n",
        "!kaggle config set -n path -v{/content}\n"
      ],
      "execution_count": 5,
      "outputs": [
        {
          "output_type": "stream",
          "text": [
            "cp: cannot create regular file '/root/.kaggle/kaggle.json': No such file or directory\n",
            "Traceback (most recent call last):\n",
            "  File \"/usr/local/bin/kaggle\", line 5, in <module>\n",
            "    from kaggle.cli import main\n",
            "  File \"/usr/local/lib/python2.7/dist-packages/kaggle/__init__.py\", line 23, in <module>\n",
            "    api.authenticate()\n",
            "  File \"/usr/local/lib/python2.7/dist-packages/kaggle/api/kaggle_api_extended.py\", line 146, in authenticate\n",
            "    self.config_file, self.config_dir))\n",
            "IOError: Could not find kaggle.json. Make sure it's located in /root/.kaggle. Or use the environment method.\n",
            "Warning: Your Kaggle API key is readable by other users on this system! To fix this, you can run 'chmod 600 /root/.kaggle/kaggle.json'\n",
            "- path is now set to: {/content}\n"
          ],
          "name": "stdout"
        }
      ]
    },
    {
      "cell_type": "code",
      "metadata": {
        "id": "lRDspZj--UJE",
        "colab_type": "code",
        "colab": {}
      },
      "source": [
        "# !chmod 600 /root/.kaggle/kaggle.json"
      ],
      "execution_count": 0,
      "outputs": []
    },
    {
      "cell_type": "markdown",
      "metadata": {
        "id": "JNbBRTbbDuGS",
        "colab_type": "text"
      },
      "source": [
        "Download the dataset. It is now in the working directory."
      ]
    },
    {
      "cell_type": "code",
      "metadata": {
        "id": "UFn6n6Za7JCh",
        "colab_type": "code",
        "colab": {
          "base_uri": "https://localhost:8080/",
          "height": 88
        },
        "outputId": "c6dfc13d-6bf5-42a0-f9a0-f388d3865738"
      },
      "source": [
        "!kaggle datasets download -d rhammell/ships-in-satellite-imagery -p /content"
      ],
      "execution_count": 7,
      "outputs": [
        {
          "output_type": "stream",
          "text": [
            "Warning: Your Kaggle API key is readable by other users on this system! To fix this, you can run 'chmod 600 /root/.kaggle/kaggle.json'\n",
            "Downloading ships-in-satellite-imagery.zip to /content\n",
            "\r  0% 0.00/185M [00:00<?, ?B/s]\r  3% 5.00M/185M [00:00<00:08, 22.1MB/s]\r  5% 9.00M/185M [00:01<00:18, 9.87MB/s]\r 18% 33.0M/185M [00:01<00:11, 13.9MB/s]\r 23% 43.0M/185M [00:01<00:07, 18.7MB/s]\r 28% 52.0M/185M [00:01<00:05, 24.6MB/s]\r 37% 69.0M/185M [00:01<00:03, 33.2MB/s]\r 43% 80.0M/185M [00:01<00:02, 39.0MB/s]\r 49% 91.0M/185M [00:01<00:02, 48.7MB/s]\r 60% 111M/185M [00:01<00:01, 63.2MB/s] \r 67% 124M/185M [00:02<00:01, 62.7MB/s]\r 78% 145M/185M [00:02<00:00, 74.9MB/s]\r 87% 161M/185M [00:02<00:00, 68.6MB/s]\n",
            "\r100% 185M/185M [00:02<00:00, 70.1MB/s]\n"
          ],
          "name": "stdout"
        }
      ]
    },
    {
      "cell_type": "code",
      "metadata": {
        "id": "F1wdR-p4DxqV",
        "colab_type": "code",
        "colab": {
          "base_uri": "https://localhost:8080/",
          "height": 35
        },
        "outputId": "036a3604-a21b-444b-abe6-2be8f2c853f5"
      },
      "source": [
        "!ls"
      ],
      "execution_count": 8,
      "outputs": [
        {
          "output_type": "stream",
          "text": [
            "sample_data  ships-in-satellite-imagery.zip\n"
          ],
          "name": "stdout"
        }
      ]
    },
    {
      "cell_type": "markdown",
      "metadata": {
        "id": "stRG05xF-1Tc",
        "colab_type": "text"
      },
      "source": [
        "Unzip data"
      ]
    },
    {
      "cell_type": "code",
      "metadata": {
        "id": "arapEtAY-nQx",
        "colab_type": "code",
        "colab": {}
      },
      "source": [
        "%%capture\n",
        "!unzip \\*.zip"
      ],
      "execution_count": 0,
      "outputs": []
    },
    {
      "cell_type": "code",
      "metadata": {
        "id": "TprgLf5gD9D0",
        "colab_type": "code",
        "colab": {
          "base_uri": "https://localhost:8080/",
          "height": 35
        },
        "outputId": "49061d33-f50d-4193-f4a6-02a782fa4dfc"
      },
      "source": [
        "!ls"
      ],
      "execution_count": 10,
      "outputs": [
        {
          "output_type": "stream",
          "text": [
            "sample_data  scenes  ships-in-satellite-imagery.zip  shipsnet  shipsnet.json\n"
          ],
          "name": "stdout"
        }
      ]
    },
    {
      "cell_type": "markdown",
      "metadata": {
        "id": "RN_vOXC1D-xu",
        "colab_type": "text"
      },
      "source": [
        "Read the json file as a pandas dataframe and inspect.\n",
        "\n",
        "**Do we actually need the dataframe?**"
      ]
    },
    {
      "cell_type": "code",
      "metadata": {
        "id": "hvkVDNLe8VjJ",
        "colab_type": "code",
        "colab": {}
      },
      "source": [
        "with open('shipsnet.json') as data_file:\n",
        "    kg_ships_dict = json.load(data_file)"
      ],
      "execution_count": 0,
      "outputs": []
    },
    {
      "cell_type": "code",
      "metadata": {
        "id": "0b71KS3VEQB6",
        "colab_type": "code",
        "colab": {
          "base_uri": "https://localhost:8080/",
          "height": 206
        },
        "outputId": "14738707-f061-4b2d-c6a5-8a6a2d58d520"
      },
      "source": [
        "kg_ships_df = pd.DataFrame(kg_ships_dict)\n",
        "kg_ships_df.head()"
      ],
      "execution_count": 12,
      "outputs": [
        {
          "output_type": "execute_result",
          "data": {
            "text/html": [
              "<div>\n",
              "<style scoped>\n",
              "    .dataframe tbody tr th:only-of-type {\n",
              "        vertical-align: middle;\n",
              "    }\n",
              "\n",
              "    .dataframe tbody tr th {\n",
              "        vertical-align: top;\n",
              "    }\n",
              "\n",
              "    .dataframe thead th {\n",
              "        text-align: right;\n",
              "    }\n",
              "</style>\n",
              "<table border=\"1\" class=\"dataframe\">\n",
              "  <thead>\n",
              "    <tr style=\"text-align: right;\">\n",
              "      <th></th>\n",
              "      <th>data</th>\n",
              "      <th>labels</th>\n",
              "      <th>locations</th>\n",
              "      <th>scene_ids</th>\n",
              "    </tr>\n",
              "  </thead>\n",
              "  <tbody>\n",
              "    <tr>\n",
              "      <th>0</th>\n",
              "      <td>[82, 89, 91, 87, 89, 87, 86, 86, 86, 86, 84, 8...</td>\n",
              "      <td>1</td>\n",
              "      <td>[-118.2254694333423, 33.73803725920789]</td>\n",
              "      <td>20180708_180909_0f47</td>\n",
              "    </tr>\n",
              "    <tr>\n",
              "      <th>1</th>\n",
              "      <td>[76, 75, 67, 62, 68, 72, 73, 73, 68, 69, 69, 6...</td>\n",
              "      <td>1</td>\n",
              "      <td>[-122.33222866289329, 37.7491755586813]</td>\n",
              "      <td>20170705_180816_103e</td>\n",
              "    </tr>\n",
              "    <tr>\n",
              "      <th>2</th>\n",
              "      <td>[125, 127, 129, 130, 126, 125, 129, 133, 132, ...</td>\n",
              "      <td>1</td>\n",
              "      <td>[-118.14283073363218, 33.736016066914175]</td>\n",
              "      <td>20180712_211331_0f06</td>\n",
              "    </tr>\n",
              "    <tr>\n",
              "      <th>3</th>\n",
              "      <td>[102, 99, 113, 106, 96, 102, 105, 105, 103, 10...</td>\n",
              "      <td>1</td>\n",
              "      <td>[-122.34784341495181, 37.76648707436548]</td>\n",
              "      <td>20170609_180756_103a</td>\n",
              "    </tr>\n",
              "    <tr>\n",
              "      <th>4</th>\n",
              "      <td>[78, 76, 74, 78, 79, 79, 79, 82, 86, 85, 83, 8...</td>\n",
              "      <td>1</td>\n",
              "      <td>[-122.34852408322172, 37.75878462398653]</td>\n",
              "      <td>20170515_180653_1007</td>\n",
              "    </tr>\n",
              "  </tbody>\n",
              "</table>\n",
              "</div>"
            ],
            "text/plain": [
              "                                                data  ...             scene_ids\n",
              "0  [82, 89, 91, 87, 89, 87, 86, 86, 86, 86, 84, 8...  ...  20180708_180909_0f47\n",
              "1  [76, 75, 67, 62, 68, 72, 73, 73, 68, 69, 69, 6...  ...  20170705_180816_103e\n",
              "2  [125, 127, 129, 130, 126, 125, 129, 133, 132, ...  ...  20180712_211331_0f06\n",
              "3  [102, 99, 113, 106, 96, 102, 105, 105, 103, 10...  ...  20170609_180756_103a\n",
              "4  [78, 76, 74, 78, 79, 79, 79, 82, 86, 85, 83, 8...  ...  20170515_180653_1007\n",
              "\n",
              "[5 rows x 4 columns]"
            ]
          },
          "metadata": {
            "tags": []
          },
          "execution_count": 12
        }
      ]
    },
    {
      "cell_type": "markdown",
      "metadata": {
        "id": "VeoeAHI6F1e4",
        "colab_type": "text"
      },
      "source": [
        "Read image data as numpy array and reshape as 80x80x3"
      ]
    },
    {
      "cell_type": "code",
      "metadata": {
        "id": "ffCLG3d0FMvJ",
        "colab_type": "code",
        "colab": {}
      },
      "source": [
        "kg_ships_data = np.array(kg_ships_dict['data']).astype('uint8')"
      ],
      "execution_count": 0,
      "outputs": []
    },
    {
      "cell_type": "code",
      "metadata": {
        "id": "DWGAsK78MeQk",
        "colab_type": "code",
        "colab": {
          "base_uri": "https://localhost:8080/",
          "height": 35
        },
        "outputId": "7d519599-e79b-4c5e-ab20-585dd4d3080e"
      },
      "source": [
        "kg_ships_data[0]"
      ],
      "execution_count": 14,
      "outputs": [
        {
          "output_type": "execute_result",
          "data": {
            "text/plain": [
              "array([82, 89, 91, ..., 86, 88, 89], dtype=uint8)"
            ]
          },
          "metadata": {
            "tags": []
          },
          "execution_count": 14
        }
      ]
    },
    {
      "cell_type": "code",
      "metadata": {
        "id": "8Cgm-uORF8uv",
        "colab_type": "code",
        "colab": {
          "base_uri": "https://localhost:8080/",
          "height": 35
        },
        "outputId": "7f0d8313-0feb-44d2-ce3f-c1c48ae525d4"
      },
      "source": [
        "n_spectrum = 3 # color channel (RGB)\n",
        "weight = 80\n",
        "height = 80\n",
        "X = kg_ships_data.reshape([-1, n_spectrum, weight, height])\n",
        "X = np.moveaxis(X, 1, 3)\n",
        "X[0].shape"
      ],
      "execution_count": 15,
      "outputs": [
        {
          "output_type": "execute_result",
          "data": {
            "text/plain": [
              "(80, 80, 3)"
            ]
          },
          "metadata": {
            "tags": []
          },
          "execution_count": 15
        }
      ]
    },
    {
      "cell_type": "code",
      "metadata": {
        "id": "TqRlgpOiLMVW",
        "colab_type": "code",
        "colab": {
          "base_uri": "https://localhost:8080/",
          "height": 268
        },
        "outputId": "c89313b9-5156-4f78-84ac-ead259b97229"
      },
      "source": [
        "plt.imshow(X[0]);"
      ],
      "execution_count": 16,
      "outputs": [
        {
          "output_type": "display_data",
          "data": {
            "image/png": "[encoded data removed]",
            "text/plain": [
              "<Figure size 432x288 with 1 Axes>"
            ]
          },
          "metadata": {
            "tags": [],
            "needs_background": "light"
          }
        }
      ]
    },
    {
      "cell_type": "markdown",
      "metadata": {
        "id": "-ocuFUCjJG6s",
        "colab_type": "text"
      },
      "source": [
        "Resize images to match Sentinel-2 patches\n",
        "\n",
        "Note that there are several interpolation methods we should experiment with: \n",
        "- Discussion: https://stackoverflow.com/questions/48121916/numpy-resize-rescale-image\n",
        "- \"Order\" parameter for interpolation: https://scikit-image.org/docs/dev/api/skimage.transform.html#skimage.transform.resize\n",
        "- Definitions for \"Order\" parameter: https://scikit-image.org/docs/dev/api/skimage.transform.html#skimage.transform.warp"
      ]
    },
    {
      "cell_type": "code",
      "metadata": {
        "id": "4pIEyjIIKt7M",
        "colab_type": "code",
        "colab": {}
      },
      "source": [
        "patch_size = [50, 50]"
      ],
      "execution_count": 0,
      "outputs": []
    },
    {
      "cell_type": "code",
      "metadata": {
        "id": "sd6y3X3mPhJf",
        "colab_type": "code",
        "colab": {}
      },
      "source": [
        "kg_ships_resize = np.zeros([X.shape[0],\n",
        "                            patch_size[0],\n",
        "                            patch_size[1],\n",
        "                            X.shape[3]])\n",
        "\n",
        "for img in range(X.shape[0]):\n",
        "  kg_ships_resize[img] = resize(X[img], patch_size)"
      ],
      "execution_count": 0,
      "outputs": []
    },
    {
      "cell_type": "code",
      "metadata": {
        "id": "g4l5WXvAROsN",
        "colab_type": "code",
        "colab": {
          "base_uri": "https://localhost:8080/",
          "height": 35
        },
        "outputId": "1f13a925-1bf8-4f7f-80ec-1e6149d99724"
      },
      "source": [
        "kg_ships_resize.shape"
      ],
      "execution_count": 19,
      "outputs": [
        {
          "output_type": "execute_result",
          "data": {
            "text/plain": [
              "(4000, 50, 50, 3)"
            ]
          },
          "metadata": {
            "tags": []
          },
          "execution_count": 19
        }
      ]
    },
    {
      "cell_type": "markdown",
      "metadata": {
        "id": "Bh1jVINoRro0",
        "colab_type": "text"
      },
      "source": [
        "Resized images have been rescaled 0 to 1"
      ]
    },
    {
      "cell_type": "code",
      "metadata": {
        "id": "49EFXzf8Jj7u",
        "colab_type": "code",
        "colab": {
          "base_uri": "https://localhost:8080/",
          "height": 892
        },
        "outputId": "458ba23c-367d-41ce-82b9-624eca14c670"
      },
      "source": [
        "kg_ships_resize[0]"
      ],
      "execution_count": 20,
      "outputs": [
        {
          "output_type": "execute_result",
          "data": {
            "text/plain": [
              "array([[[0.33427451, 0.37815686, 0.32443137],\n",
              "        [0.34780392, 0.38807843, 0.34309804],\n",
              "        [0.34058824, 0.38235294, 0.33137255],\n",
              "        ...,\n",
              "        [0.35176471, 0.39745098, 0.33980392],\n",
              "        [0.35541176, 0.40717647, 0.34270588],\n",
              "        [0.32984314, 0.3772549 , 0.32584314]],\n",
              "\n",
              "       [[0.35345098, 0.394     , 0.34380392],\n",
              "        [0.33670588, 0.38298039, 0.33270588],\n",
              "        [0.33568627, 0.37882353, 0.32784314],\n",
              "        ...,\n",
              "        [0.32431373, 0.36607843, 0.31470588],\n",
              "        [0.33301961, 0.38082353, 0.32447059],\n",
              "        [0.3492549 , 0.3914902 , 0.33921569]],\n",
              "\n",
              "       [[0.32666667, 0.37372549, 0.32411765],\n",
              "        [0.34137255, 0.38666667, 0.33745098],\n",
              "        [0.33823529, 0.37941176, 0.33235294],\n",
              "        ...,\n",
              "        [0.33823529, 0.3745098 , 0.32745098],\n",
              "        [0.33196078, 0.36764706, 0.31509804],\n",
              "        [0.34      , 0.38333333, 0.33294118]],\n",
              "\n",
              "       ...,\n",
              "\n",
              "       [[0.35098039, 0.38235294, 0.33921569],\n",
              "        [0.3545098 , 0.38764706, 0.3427451 ],\n",
              "        [0.34803922, 0.38823529, 0.34313725],\n",
              "        ...,\n",
              "        [0.34901961, 0.39117647, 0.3372549 ],\n",
              "        [0.3427451 , 0.38392157, 0.33117647],\n",
              "        [0.34745098, 0.39      , 0.33901961]],\n",
              "\n",
              "       [[0.34482353, 0.38196078, 0.33698039],\n",
              "        [0.35215686, 0.39141176, 0.34396078],\n",
              "        [0.34862745, 0.38960784, 0.3445098 ],\n",
              "        ...,\n",
              "        [0.34509804, 0.38823529, 0.33333333],\n",
              "        [0.3412549 , 0.38439216, 0.33341176],\n",
              "        [0.34231373, 0.3865098 , 0.33552941]],\n",
              "\n",
              "       [[0.34317647, 0.3854902 , 0.33368627],\n",
              "        [0.34996078, 0.38929412, 0.33803922],\n",
              "        [0.34509804, 0.38431373, 0.33784314],\n",
              "        ...,\n",
              "        [0.34509804, 0.38823529, 0.33196078],\n",
              "        [0.34654902, 0.39109804, 0.33764706],\n",
              "        [0.34901961, 0.39215686, 0.34309804]]])"
            ]
          },
          "metadata": {
            "tags": []
          },
          "execution_count": 20
        }
      ]
    },
    {
      "cell_type": "code",
      "metadata": {
        "id": "G8-wLNuqKzZJ",
        "colab_type": "code",
        "colab": {
          "base_uri": "https://localhost:8080/",
          "height": 267
        },
        "outputId": "cc86effd-4abb-4897-b8c2-02e4bd755a0f"
      },
      "source": [
        "plt.imshow(kg_ships_resize[0]);"
      ],
      "execution_count": 21,
      "outputs": [
        {
          "output_type": "display_data",
          "data": {
            "image/png": "[encoded data removed]",
            "text/plain": [
              "<Figure size 432x288 with 1 Axes>"
            ]
          },
          "metadata": {
            "tags": [],
            "needs_background": "light"
          }
        }
      ]
    }
  ]
}