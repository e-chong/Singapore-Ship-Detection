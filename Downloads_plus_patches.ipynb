{
  "nbformat": 4,
  "nbformat_minor": 0,
  "metadata": {
    "colab": {
      "name": "Downloads-plus-patches.ipynb",
      "provenance": [],
      "collapsed_sections": [],
      "toc_visible": true,
      "machine_shape": "hm",
      "authorship_tag": "ABX9TyOzWsFcj8AaQA9iRMpy7SDA",
      "include_colab_link": true
    },
    "kernelspec": {
      "name": "python3",
      "display_name": "Python 3"
    }
  },
  "cells": [
    {
      "cell_type": "markdown",
      "metadata": {
        "id": "view-in-github",
        "colab_type": "text"
      },
      "source": [
        "<a href=\"https://colab.research.google.com/github/e-chong/Singapore-Ship-Detection/blob/master/Downloads_plus_patches.ipynb\" target=\"_parent\"><img src=\"https://colab.research.google.com/assets/colab-badge.svg\" alt=\"Open In Colab\"/></a>"
      ]
    },
    {
      "cell_type": "markdown",
      "metadata": {
        "id": "Vge05pS9qtoz",
        "colab_type": "text"
      },
      "source": [
        "# Setup Environment"
      ]
    },
    {
      "cell_type": "code",
      "metadata": {
        "id": "nLt3Oaheqspr",
        "colab_type": "code",
        "colab": {}
      },
      "source": [
        "# install libraries\n",
        "\n",
        "# suppress output\n",
        "%%capture \n",
        "\n",
        "!pip install rasterio\n",
        "!pip install geopandas\n",
        "!pip install sentinelsat\n",
        "!pip install satpy\n",
        "!pip install glymur\n",
        "!pip install python-geotiepoints\n",
        "!pip install pyspectral\n",
        "!pip install progressbar2\n",
        "!pip install kaggle\n",
        "!pip install tifffile"
      ],
      "execution_count": 0,
      "outputs": []
    },
    {
      "cell_type": "code",
      "metadata": {
        "id": "6gasTM7Mu7lk",
        "colab_type": "code",
        "colab": {
          "base_uri": "https://localhost:8080/",
          "height": 35
        },
        "outputId": "bfa0d921-b997-4960-b3e6-7231ec3aa679"
      },
      "source": [
        "%tensorflow_version 1.x\n",
        "%matplotlib inline"
      ],
      "execution_count": 2,
      "outputs": [
        {
          "output_type": "stream",
          "text": [
            "TensorFlow 1.x selected.\n"
          ],
          "name": "stdout"
        }
      ]
    },
    {
      "cell_type": "code",
      "metadata": {
        "id": "6pLKc0YIqwnb",
        "colab_type": "code",
        "colab": {}
      },
      "source": [
        "# Base dependencies\n",
        "import numpy as np\n",
        "import pandas as pd\n",
        "import geopandas as gpd # vector spatial operations\n",
        "import rasterio as rio # raster spatial operations\n",
        "import json\n",
        "\n",
        "# Plotting\n",
        "from rasterio.plot import show #convenience wrapper for pyplot.imshow for RGB and 1 band images\n",
        "import matplotlib.pyplot as plt\n",
        "\n",
        "#Sentinel-2 I/O\n",
        "from sentinelsat import SentinelAPI\n",
        "from satpy.scene import Scene\n",
        "from satpy import find_files_and_readers\n",
        "import requests, zipfile, io, os, shutil # downloading and extracting zipfolders\n",
        "\n",
        "# Sentinel-2 create patches\n",
        "from shapely.geometry import Point # vector geometries\n",
        "import time\n",
        "import progressbar\n",
        "\n",
        "# Resize Kaggle patches\n",
        "from skimage.transform import resize\n",
        "import tifffile as tiff\n",
        "import scipy.ndimage\n"
      ],
      "execution_count": 0,
      "outputs": []
    },
    {
      "cell_type": "code",
      "metadata": {
        "id": "nGMQwewktfst",
        "colab_type": "code",
        "colab": {
          "base_uri": "https://localhost:8080/",
          "height": 129
        },
        "outputId": "ffaf9de9-7f2b-4d89-b9ca-ba669173a945"
      },
      "source": [
        "from google.colab import drive\n",
        "drive.mount('/content/drive/')"
      ],
      "execution_count": 4,
      "outputs": [
        {
          "output_type": "stream",
          "text": [
            "Go to this URL in a browser: https://accounts.google.com/o/oauth2/auth?client_id=947318989803-6bn6qk8qdgf4n4g3pfee6491hc0brc4i.apps.googleusercontent.com&redirect_uri=urn%3aietf%3awg%3aoauth%3a2.0%3aoob&response_type=code&scope=email%20https%3a%2f%2fwww.googleapis.com%2fauth%2fdocs.test%20https%3a%2f%2fwww.googleapis.com%2fauth%2fdrive%20https%3a%2f%2fwww.googleapis.com%2fauth%2fdrive.photos.readonly%20https%3a%2f%2fwww.googleapis.com%2fauth%2fpeopleapi.readonly\n",
            "\n",
            "Enter your authorization code:\n",
            "··········\n",
            "Mounted at /content/drive/\n"
          ],
          "name": "stdout"
        }
      ]
    },
    {
      "cell_type": "markdown",
      "metadata": {
        "id": "XmcUNMRKqxCP",
        "colab_type": "text"
      },
      "source": [
        "# Define Functions"
      ]
    },
    {
      "cell_type": "code",
      "metadata": {
        "id": "l5p2ZHlnqzO4",
        "colab_type": "code",
        "colab": {}
      },
      "source": [
        "# returns matrix of [n ships, patch_size, patch_size]\n",
        "def create_ship_patches(ships, img, patch_size=50):\n",
        "  coordinates = list(zip(ships.geometry.x, ships.geometry.y))\n",
        "  with progressbar.ProgressBar(max_value=len(ships.index)) as bar: # creates progress bar\n",
        "    patch_list = np.zeros([len(ships.index), patch_size, patch_size, len(img.indexes)])\n",
        "    for i, (lon, lat) in enumerate(coordinates): # Loop through your list of coords\n",
        "      py, px = img.index(lon, lat) # Get pixel coordinates from map coordinates\n",
        "      window = rio.windows.Window(px - patch_size//2, py - patch_size//2, patch_size, patch_size) # Build an NxN window\n",
        "      patch = img.read(window=window) # clip is a nbands * patch_size * patch_size numpy array\n",
        "      patch_list[i] = np.transpose(patch, (1,2,0)) # transpose to [patch_size, patch_size, n bands]\n",
        "      bar.update(i)\n",
        "  return patch_list.astype(int)"
      ],
      "execution_count": 0,
      "outputs": []
    },
    {
      "cell_type": "code",
      "metadata": {
        "id": "aN4-ti1Hvasr",
        "colab_type": "code",
        "colab": {}
      },
      "source": [
        "# creates patches for use in classifying ship or no ship\n",
        "def create_patches(img, patch_size=50, step_size=30):\n",
        "  n_patches = len(range(0,img.height, step_size)) * len(range(0,img.width, step_size))\n",
        "  patch_list = []\n",
        "  index = 0\n",
        "  with progressbar.ProgressBar(max_value=n_patches) as bar: # creates progress bar\n",
        "    for y in range(0,img.height, step_size): # iterate across image column-wise\n",
        "      for x in range(0,img.width, step_size): # iterate across imgage row-wise\n",
        "        window = rio.windows.Window(x,y, patch_size, patch_size)\n",
        "        if window.col_off+window.width > img.width or window.row_off+window.height > img.height:\n",
        "          pass\n",
        "        else:\n",
        "          # Read the data in the window\n",
        "          patch = img.read(window=window) # patch is a nbands * patch_size * patch_size numpy array \n",
        "          patch_list.append(np.transpose(patch, (1,2,0))) # transpose to [patch_size, patch_size, n bands]\n",
        "          index += 1\n",
        "          bar.update(index)\n",
        "  patch_array = np.concatenate(patch_list, axis=0)\n",
        "  return patch_array.astype(int)"
      ],
      "execution_count": 0,
      "outputs": []
    },
    {
      "cell_type": "code",
      "metadata": {
        "id": "Op83RdI0va1S",
        "colab_type": "code",
        "colab": {}
      },
      "source": [
        "# returns boolean list of whether patches intersect with any ships\n",
        "def patch_intersects_ship_buffers(ships, img, patch_size=50, step_size=30):\n",
        "  n_patches = (len(range(0,img.height, step_size)) * len(range(0,img.width, step_size)))\n",
        "  isShip_list = [] #list to hold all the patch locations\n",
        "  buffer_list = []\n",
        "  x_list = []\n",
        "  y_list = []\n",
        "  index = 0\n",
        "\n",
        "  with progressbar.ProgressBar(max_value=n_patches) as bar: # creates progress bar\n",
        "    for y in range(0,img.height, step_size): # iterate across image column-wise\n",
        "      for x in range(0,img.width, step_size): # iterate across imgage row-wise\n",
        "        window = rio.windows.Window(x,y, patch_size, patch_size) #get patch window\n",
        "        if window.col_off+window.width > img.width or window.row_off+window.height > img.height:\n",
        "          pass #skip patches that extend off the edge so they have the wrong shape\n",
        "        else:\n",
        "          #create centroid point\n",
        "          centroid = Point(img.transform *(window.col_off+patch_size/2, window.row_off+patch_size/2))\n",
        "          buffer = centroid.buffer(img.transform[0]*step_size/1.5)\n",
        "          buffer_list.append(buffer)\n",
        "          isShip = np.any(ships.intersects(buffer)) #intersect ships with polygon and check if any are positive\n",
        "          isShip_list.append(isShip) #append result to list\n",
        "          x_list.append(x),\n",
        "          y_list.append(y)\n",
        "          index += 1\n",
        "          bar.update(index)\n",
        "  results = pd.DataFrame({'isShip':isShip_list, 'x':x_list, 'y':y_list, 'patch_size':patch_size})\n",
        "  return results"
      ],
      "execution_count": 0,
      "outputs": []
    },
    {
      "cell_type": "code",
      "metadata": {
        "id": "B4Qeset-S01e",
        "colab_type": "code",
        "colab": {}
      },
      "source": [
        "# plots a patch\n",
        "def plot_patch(img, x, y, patch_size=50, step_size=30):\n",
        "  window = rio.windows.Window(x,y, patch_size, patch_size)\n",
        "  patch = img.read(window=window)\n",
        "  show(patch, title=f'x: {x}, y: {y}')"
      ],
      "execution_count": 0,
      "outputs": []
    },
    {
      "cell_type": "markdown",
      "metadata": {
        "id": "jHugdnAiqzvF",
        "colab_type": "text"
      },
      "source": [
        "# Define Parameters"
      ]
    },
    {
      "cell_type": "code",
      "metadata": {
        "id": "xi3m9osct2hP",
        "colab_type": "code",
        "colab": {}
      },
      "source": [
        "DRIVE_PATH = '/content/drive/My Drive/MUSA-650-Final-Project/'"
      ],
      "execution_count": 0,
      "outputs": []
    },
    {
      "cell_type": "code",
      "metadata": {
        "id": "s0LwDd5ZsuEo",
        "colab_type": "code",
        "colab": {}
      },
      "source": [
        "#Load param file\n",
        "with open(DRIVE_PATH+'params.json', 'r') as file:\n",
        "    params = json.load(file)\n",
        "    \n",
        "    SENTINEL_USER = params['SENTINEL_USER']\n",
        "    SENTINEL_PWD = params['SENTINEL_PWD']\n",
        "    KAGGLE_USER = params['KAGGLE_USER']\n",
        "    KAGGLE_KEY = params['KAGGLE_KEY']"
      ],
      "execution_count": 0,
      "outputs": []
    },
    {
      "cell_type": "code",
      "metadata": {
        "id": "emn3G2QEq2aM",
        "colab_type": "code",
        "colab": {}
      },
      "source": [
        "# unique Sentinel-2 tile id for images covering Singapore\n",
        "TILE_ID = \"48NUG\" "
      ],
      "execution_count": 0,
      "outputs": []
    },
    {
      "cell_type": "code",
      "metadata": {
        "id": "1kLoJJ3irUx9",
        "colab_type": "code",
        "colab": {}
      },
      "source": [
        "# Patch parameters\n",
        "PATCH_SIZE = 40\n",
        "STEP_SIZE = 20"
      ],
      "execution_count": 0,
      "outputs": []
    },
    {
      "cell_type": "markdown",
      "metadata": {
        "id": "3ci93r1nq3Vw",
        "colab_type": "text"
      },
      "source": [
        "# Download Data"
      ]
    },
    {
      "cell_type": "markdown",
      "metadata": {
        "id": "JSC1hKJgzhXr",
        "colab_type": "text"
      },
      "source": [
        "## Sentinel-2"
      ]
    },
    {
      "cell_type": "code",
      "metadata": {
        "id": "p_dPKtgaq687",
        "colab_type": "code",
        "colab": {
          "base_uri": "https://localhost:8080/",
          "height": 423
        },
        "outputId": "1f7be0f4-e0c3-43d1-9120-ae7a02eac6d6"
      },
      "source": [
        "# Sentinel API Query\n",
        "api = SentinelAPI(SENTINEL_USER, SENTINEL_PWD, 'https://scihub.copernicus.eu/dhus')\n",
        "\n",
        "scenes = api.to_geodataframe(api.query(tileid=TILE_ID,\n",
        "                                             date=('20100101','NOW'),\n",
        "                                             platformname='Sentinel-2',\n",
        "                                             cloudcoverpercentage=(0, 6)))\n",
        "#get full scene metadata\n",
        "tempList = list()\n",
        "for uuid in scenes.uuid:\n",
        "  tempList.append(api.get_product_odata(uuid, full=True))\n",
        "\n",
        "sceneMeta = pd.DataFrame(tempList)\n",
        "sceneMeta = sceneMeta.loc[sceneMeta['Online'] == True] # filter out images that are in Long Term Archive and have a 30 minute throttle to download\n",
        "\n",
        "sceneMeta"
      ],
      "execution_count": 12,
      "outputs": [
        {
          "output_type": "stream",
          "text": [
            "/usr/local/lib/python3.6/dist-packages/pyproj/crs/crs.py:53: FutureWarning: '+init=<authority>:<code>' syntax is deprecated. '<authority>:<code>' is the preferred initialization method. When making the change, be mindful of axis order changes: https://pyproj4.github.io/pyproj/stable/gotchas.html#axis-order-changes-in-proj-6\n",
            "  return _prepare_from_string(\" \".join(pjargs))\n"
          ],
          "name": "stderr"
        },
        {
          "output_type": "execute_result",
          "data": {
            "text/html": [
              "<div>\n",
              "<style scoped>\n",
              "    .dataframe tbody tr th:only-of-type {\n",
              "        vertical-align: middle;\n",
              "    }\n",
              "\n",
              "    .dataframe tbody tr th {\n",
              "        vertical-align: top;\n",
              "    }\n",
              "\n",
              "    .dataframe thead th {\n",
              "        text-align: right;\n",
              "    }\n",
              "</style>\n",
              "<table border=\"1\" class=\"dataframe\">\n",
              "  <thead>\n",
              "    <tr style=\"text-align: right;\">\n",
              "      <th></th>\n",
              "      <th>id</th>\n",
              "      <th>title</th>\n",
              "      <th>size</th>\n",
              "      <th>md5</th>\n",
              "      <th>date</th>\n",
              "      <th>footprint</th>\n",
              "      <th>url</th>\n",
              "      <th>Online</th>\n",
              "      <th>Creation Date</th>\n",
              "      <th>Ingestion Date</th>\n",
              "      <th>Cloud cover percentage</th>\n",
              "      <th>Datatake sensing start</th>\n",
              "      <th>Date</th>\n",
              "      <th>Degraded ancillary data percentage</th>\n",
              "      <th>Degraded MSI data percentage</th>\n",
              "      <th>Filename</th>\n",
              "      <th>Footprint</th>\n",
              "      <th>Format</th>\n",
              "      <th>Format correctness</th>\n",
              "      <th>General quality</th>\n",
              "      <th>Generation time</th>\n",
              "      <th>Geometric quality</th>\n",
              "      <th>Identifier</th>\n",
              "      <th>Instrument</th>\n",
              "      <th>Instrument abbreviation</th>\n",
              "      <th>Instrument mode</th>\n",
              "      <th>Instrument name</th>\n",
              "      <th>JTS footprint</th>\n",
              "      <th>Mission datatake id</th>\n",
              "      <th>NSSDC identifier</th>\n",
              "      <th>Orbit number (start)</th>\n",
              "      <th>Pass direction</th>\n",
              "      <th>Platform serial identifier</th>\n",
              "      <th>Processing baseline</th>\n",
              "      <th>Processing level</th>\n",
              "      <th>Product type</th>\n",
              "      <th>Radiometric quality</th>\n",
              "      <th>Relative orbit (start)</th>\n",
              "      <th>Satellite</th>\n",
              "      <th>Satellite name</th>\n",
              "      <th>Satellite number</th>\n",
              "      <th>Sensing start</th>\n",
              "      <th>Sensing stop</th>\n",
              "      <th>Sensor quality</th>\n",
              "      <th>Size</th>\n",
              "      <th>Tile Identifier</th>\n",
              "      <th>Tile Identifier horizontal order</th>\n",
              "      <th>Level-1C PDI Identifier</th>\n",
              "      <th>Datastrip identifier</th>\n",
              "      <th>Granule identifier</th>\n",
              "    </tr>\n",
              "  </thead>\n",
              "  <tbody>\n",
              "    <tr>\n",
              "      <th>0</th>\n",
              "      <td>8345c17f-dd76-4398-b4bf-2eb708631b07</td>\n",
              "      <td>S2A_MSIL1C_20191227T032131_N0208_R118_T48NUG_2...</td>\n",
              "      <td>784125118</td>\n",
              "      <td>FCD2A37B4A069C5342299AD2AEE90B41</td>\n",
              "      <td>2019-12-27 03:21:31.024</td>\n",
              "      <td>POLYGON((103.20205689083804 1.808922187860351,...</td>\n",
              "      <td>https://scihub.copernicus.eu/dhus/odata/v1/Pro...</td>\n",
              "      <td>True</td>\n",
              "      <td>2019-12-27 08:04:08.105</td>\n",
              "      <td>2019-12-27 08:03:15.620</td>\n",
              "      <td>3.6098</td>\n",
              "      <td>2019-12-27 03:21:31.024</td>\n",
              "      <td>2019-12-27 03:21:31.024</td>\n",
              "      <td>0.0</td>\n",
              "      <td>0</td>\n",
              "      <td>S2A_MSIL1C_20191227T032131_N0208_R118_T48NUG_2...</td>\n",
              "      <td>&lt;gml:Polygon srsName=\"http://www.opengis.net/g...</td>\n",
              "      <td>SAFE</td>\n",
              "      <td>PASSED</td>\n",
              "      <td>PASSED</td>\n",
              "      <td>2019-12-27 06:07:36</td>\n",
              "      <td>PASSED</td>\n",
              "      <td>S2A_MSIL1C_20191227T032131_N0208_R118_T48NUG_2...</td>\n",
              "      <td>MSI</td>\n",
              "      <td>MSI</td>\n",
              "      <td>INS-NOBS</td>\n",
              "      <td>Multi-Spectral Instrument</td>\n",
              "      <td>MULTIPOLYGON (((103.2027660714231 0.8160247595...</td>\n",
              "      <td>GS2A_20191227T032131_023567_N02.08</td>\n",
              "      <td>2015-028A</td>\n",
              "      <td>23567</td>\n",
              "      <td>DESCENDING</td>\n",
              "      <td>Sentinel-2A</td>\n",
              "      <td>2.08</td>\n",
              "      <td>Level-1C</td>\n",
              "      <td>S2MSI1C</td>\n",
              "      <td>PASSED</td>\n",
              "      <td>118</td>\n",
              "      <td>Sentinel-2</td>\n",
              "      <td>Sentinel-2</td>\n",
              "      <td>A</td>\n",
              "      <td>2019-12-27 03:21:31.024</td>\n",
              "      <td>2019-12-27 03:21:31.024</td>\n",
              "      <td>PASSED</td>\n",
              "      <td>747.76 MB</td>\n",
              "      <td>48NUG</td>\n",
              "      <td>NG48U</td>\n",
              "      <td>S2A_OPER_MSI_L1C_TL_EPAE_20191227T060736_A0235...</td>\n",
              "      <td>NaN</td>\n",
              "      <td>NaN</td>\n",
              "    </tr>\n",
              "    <tr>\n",
              "      <th>1</th>\n",
              "      <td>5d57f964-03cb-4001-a2f2-33f9eba9605e</td>\n",
              "      <td>S2B_MSIL1C_20190705T031549_N0207_R118_T48NUG_2...</td>\n",
              "      <td>779449455</td>\n",
              "      <td>5E51BCC8A45CF3ADD026433463D37D58</td>\n",
              "      <td>2019-07-05 03:15:49.024</td>\n",
              "      <td>POLYGON((103.20205689083804 1.808922187860351,...</td>\n",
              "      <td>https://scihub.copernicus.eu/dhus/odata/v1/Pro...</td>\n",
              "      <td>True</td>\n",
              "      <td>2019-07-05 10:32:33.443</td>\n",
              "      <td>2019-07-05 09:41:20.667</td>\n",
              "      <td>5.5518</td>\n",
              "      <td>2019-07-05 03:15:49.024</td>\n",
              "      <td>2019-07-05 03:15:49.024</td>\n",
              "      <td>0.0</td>\n",
              "      <td>0</td>\n",
              "      <td>S2B_MSIL1C_20190705T031549_N0207_R118_T48NUG_2...</td>\n",
              "      <td>&lt;gml:Polygon srsName=\"http://www.opengis.net/g...</td>\n",
              "      <td>SAFE</td>\n",
              "      <td>PASSED</td>\n",
              "      <td>PASSED</td>\n",
              "      <td>2019-07-05 06:53:23</td>\n",
              "      <td>PASSED</td>\n",
              "      <td>S2B_MSIL1C_20190705T031549_N0207_R118_T48NUG_2...</td>\n",
              "      <td>MSI</td>\n",
              "      <td>MSI</td>\n",
              "      <td>INS-NOBS</td>\n",
              "      <td>Multi-Spectral Instrument</td>\n",
              "      <td>MULTIPOLYGON (((103.2027660714231 0.8160247595...</td>\n",
              "      <td>GS2B_20190705T031549_012156_N02.07</td>\n",
              "      <td>2017-013A</td>\n",
              "      <td>12156</td>\n",
              "      <td>DESCENDING</td>\n",
              "      <td>Sentinel-2B</td>\n",
              "      <td>2.07</td>\n",
              "      <td>Level-1C</td>\n",
              "      <td>S2MSI1C</td>\n",
              "      <td>PASSED</td>\n",
              "      <td>118</td>\n",
              "      <td>Sentinel-2</td>\n",
              "      <td>Sentinel-2</td>\n",
              "      <td>B</td>\n",
              "      <td>2019-07-05 03:15:49.024</td>\n",
              "      <td>2019-07-05 03:15:49.024</td>\n",
              "      <td>PASSED</td>\n",
              "      <td>743.30 MB</td>\n",
              "      <td>48NUG</td>\n",
              "      <td>NG48U</td>\n",
              "      <td>S2B_OPER_MSI_L1C_TL_SGS__20190705T065323_A0121...</td>\n",
              "      <td>NaN</td>\n",
              "      <td>NaN</td>\n",
              "    </tr>\n",
              "    <tr>\n",
              "      <th>2</th>\n",
              "      <td>06a584ce-37d8-4b9c-a35c-9ce4924d81c2</td>\n",
              "      <td>S2B_MSIL1C_20190406T031549_N0207_R118_T48NUG_2...</td>\n",
              "      <td>804777353</td>\n",
              "      <td>98F454F41D8C8248E26F5DAC2A6C7526</td>\n",
              "      <td>2019-04-06 03:15:49.024</td>\n",
              "      <td>POLYGON((103.20205689083804 1.808922187860351,...</td>\n",
              "      <td>https://scihub.copernicus.eu/dhus/odata/v1/Pro...</td>\n",
              "      <td>True</td>\n",
              "      <td>2019-04-06 09:29:13.485</td>\n",
              "      <td>2019-04-06 09:28:17.321</td>\n",
              "      <td>5.8114</td>\n",
              "      <td>2019-04-06 03:15:49.024</td>\n",
              "      <td>2019-04-06 03:15:49.024</td>\n",
              "      <td>0.0</td>\n",
              "      <td>0</td>\n",
              "      <td>S2B_MSIL1C_20190406T031549_N0207_R118_T48NUG_2...</td>\n",
              "      <td>&lt;gml:Polygon srsName=\"http://www.opengis.net/g...</td>\n",
              "      <td>SAFE</td>\n",
              "      <td>PASSED</td>\n",
              "      <td>PASSED</td>\n",
              "      <td>2019-04-06 07:30:31</td>\n",
              "      <td>PASSED</td>\n",
              "      <td>S2B_MSIL1C_20190406T031549_N0207_R118_T48NUG_2...</td>\n",
              "      <td>MSI</td>\n",
              "      <td>MSI</td>\n",
              "      <td>INS-NOBS</td>\n",
              "      <td>Multi-Spectral Instrument</td>\n",
              "      <td>MULTIPOLYGON (((103.2027660714231 0.8160247595...</td>\n",
              "      <td>GS2B_20190406T031549_010869_N02.07</td>\n",
              "      <td>2017-013A</td>\n",
              "      <td>10869</td>\n",
              "      <td>DESCENDING</td>\n",
              "      <td>Sentinel-2B</td>\n",
              "      <td>2.07</td>\n",
              "      <td>Level-1C</td>\n",
              "      <td>S2MSI1C</td>\n",
              "      <td>PASSED</td>\n",
              "      <td>118</td>\n",
              "      <td>Sentinel-2</td>\n",
              "      <td>Sentinel-2</td>\n",
              "      <td>B</td>\n",
              "      <td>2019-04-06 03:15:49.024</td>\n",
              "      <td>2019-04-06 03:15:49.024</td>\n",
              "      <td>PASSED</td>\n",
              "      <td>767.45 MB</td>\n",
              "      <td>48NUG</td>\n",
              "      <td>NG48U</td>\n",
              "      <td>S2B_OPER_MSI_L1C_TL_EPAE_20190406T073031_A0108...</td>\n",
              "      <td>S2B_OPER_MSI_L1C_DS_EPAE_20190406T073031_S2019...</td>\n",
              "      <td>S2B_OPER_MSI_L1C_TL_EPAE_20190406T073031_A0108...</td>\n",
              "    </tr>\n",
              "    <tr>\n",
              "      <th>10</th>\n",
              "      <td>82d4edad-fe56-44f3-9e85-46449cb8d3c0</td>\n",
              "      <td>S2B_MSIL1C_20171122T032029_N0206_R118_T48NUG_2...</td>\n",
              "      <td>764374083</td>\n",
              "      <td>ff28b79dd0a50802664f65c48100e50a</td>\n",
              "      <td>2017-11-22 03:20:29.027</td>\n",
              "      <td>POLYGON((103.20205689083804 1.808922187860351,...</td>\n",
              "      <td>https://scihub.copernicus.eu/dhus/odata/v1/Pro...</td>\n",
              "      <td>True</td>\n",
              "      <td>2017-11-22 20:41:54.999</td>\n",
              "      <td>2017-11-22 20:38:59.643</td>\n",
              "      <td>4.7439</td>\n",
              "      <td>2017-11-22 03:20:29.027</td>\n",
              "      <td>2017-11-22 03:20:29.027</td>\n",
              "      <td>0.0</td>\n",
              "      <td>0</td>\n",
              "      <td>S2B_MSIL1C_20171122T032029_N0206_R118_T48NUG_2...</td>\n",
              "      <td>&lt;gml:Polygon srsName=\"http://www.opengis.net/g...</td>\n",
              "      <td>SAFE</td>\n",
              "      <td>NaN</td>\n",
              "      <td>NaN</td>\n",
              "      <td>2017-11-22 08:35:26</td>\n",
              "      <td>NaN</td>\n",
              "      <td>S2B_MSIL1C_20171122T032029_N0206_R118_T48NUG_2...</td>\n",
              "      <td>MSI</td>\n",
              "      <td>MSI</td>\n",
              "      <td>INS-NOBS</td>\n",
              "      <td>Multi-Spectral Instrument</td>\n",
              "      <td>POLYGON ((103.20205689083804 1.808922187860351...</td>\n",
              "      <td>GS2B_20171122T032029_003719_N02.06</td>\n",
              "      <td>2015-000A</td>\n",
              "      <td>3719</td>\n",
              "      <td>DESCENDING</td>\n",
              "      <td>Sentinel-2B</td>\n",
              "      <td>2.06</td>\n",
              "      <td>Level-1C</td>\n",
              "      <td>S2MSI1C</td>\n",
              "      <td>NaN</td>\n",
              "      <td>118</td>\n",
              "      <td>Sentinel-2</td>\n",
              "      <td>Sentinel-2</td>\n",
              "      <td>B</td>\n",
              "      <td>2017-11-22 03:20:29.027</td>\n",
              "      <td>2017-11-22 03:20:29.027</td>\n",
              "      <td>NaN</td>\n",
              "      <td>728.80 MB</td>\n",
              "      <td>48NUG</td>\n",
              "      <td>NG48U</td>\n",
              "      <td>S2B_OPER_MSI_L1C_TL_SGS__20171122T083526_A0037...</td>\n",
              "      <td>S2B_OPER_MSI_L1C_DS_SGS__20171122T083526_S2017...</td>\n",
              "      <td>S2B_OPER_MSI_L1C_TL_SGS__20171122T083526_A0037...</td>\n",
              "    </tr>\n",
              "  </tbody>\n",
              "</table>\n",
              "</div>"
            ],
            "text/plain": [
              "                                      id  ...                                 Granule identifier\n",
              "0   8345c17f-dd76-4398-b4bf-2eb708631b07  ...                                                NaN\n",
              "1   5d57f964-03cb-4001-a2f2-33f9eba9605e  ...                                                NaN\n",
              "2   06a584ce-37d8-4b9c-a35c-9ce4924d81c2  ...  S2B_OPER_MSI_L1C_TL_EPAE_20190406T073031_A0108...\n",
              "10  82d4edad-fe56-44f3-9e85-46449cb8d3c0  ...  S2B_OPER_MSI_L1C_TL_SGS__20171122T083526_A0037...\n",
              "\n",
              "[4 rows x 50 columns]"
            ]
          },
          "metadata": {
            "tags": []
          },
          "execution_count": 12
        }
      ]
    },
    {
      "cell_type": "code",
      "metadata": {
        "id": "BH-gvcYLvsrw",
        "colab_type": "code",
        "colab": {
          "base_uri": "https://localhost:8080/",
          "height": 237
        },
        "outputId": "055e8eb8-b36e-49ef-a5a6-a3e2e2dbff0b"
      },
      "source": [
        "# download sentinel images available online\n",
        "for index, row in sceneMeta.iterrows():\n",
        "  uuid = row['id']\n",
        "  title = row['title']\n",
        "  filename = row['Filename']\n",
        "  print(f'Downloading {title}')\n",
        "  api.download(uuid)"
      ],
      "execution_count": 13,
      "outputs": [
        {
          "output_type": "stream",
          "text": [
            "Downloading S2A_MSIL1C_20191227T032131_N0208_R118_T48NUG_20191227T060736\n"
          ],
          "name": "stdout"
        },
        {
          "output_type": "stream",
          "text": [
            "Downloading: 100%|██████████| 784M/784M [00:25<00:00, 30.2MB/s]\n",
            "MD5 checksumming: 100%|██████████| 784M/784M [00:01<00:00, 432MB/s]\n"
          ],
          "name": "stderr"
        },
        {
          "output_type": "stream",
          "text": [
            "Downloading S2B_MSIL1C_20190705T031549_N0207_R118_T48NUG_20190705T065323\n"
          ],
          "name": "stdout"
        },
        {
          "output_type": "stream",
          "text": [
            "Downloading: 100%|██████████| 779M/779M [00:25<00:00, 30.4MB/s]\n",
            "MD5 checksumming: 100%|██████████| 779M/779M [00:01<00:00, 438MB/s]\n"
          ],
          "name": "stderr"
        },
        {
          "output_type": "stream",
          "text": [
            "Downloading S2B_MSIL1C_20190406T031549_N0207_R118_T48NUG_20190406T073031\n"
          ],
          "name": "stdout"
        },
        {
          "output_type": "stream",
          "text": [
            "Downloading: 100%|██████████| 805M/805M [00:33<00:00, 23.7MB/s]\n",
            "MD5 checksumming: 100%|██████████| 805M/805M [00:01<00:00, 432MB/s]\n"
          ],
          "name": "stderr"
        },
        {
          "output_type": "stream",
          "text": [
            "Downloading S2B_MSIL1C_20171122T032029_N0206_R118_T48NUG_20171122T083526\n"
          ],
          "name": "stdout"
        },
        {
          "output_type": "stream",
          "text": [
            "Downloading: 100%|██████████| 764M/764M [00:25<00:00, 29.9MB/s]\n",
            "MD5 checksumming: 100%|██████████| 764M/764M [00:01<00:00, 429MB/s]\n"
          ],
          "name": "stderr"
        }
      ]
    },
    {
      "cell_type": "code",
      "metadata": {
        "id": "1y4QRir2wI8S",
        "colab_type": "code",
        "colab": {
          "base_uri": "https://localhost:8080/",
          "height": 90
        },
        "outputId": "276109d9-0a30-4d04-b3d1-b2c44ccc6f7f"
      },
      "source": [
        "# Unzip folders\n",
        "# this creates SAFE files/directories which are explained here: https://sentinel.esa.int/web/sentinel/user-guides/sentinel-2-msi/data-formats\n",
        "for index, row in sceneMeta.iterrows(): \n",
        "    title = row['title']\n",
        "    filename = row['Filename']\n",
        "    print(f'Unzipping {title}')\n",
        "    with zipfile.ZipFile(title+'.zip', 'r') as safezip:\n",
        "      safezip.extractall(filename)"
      ],
      "execution_count": 14,
      "outputs": [
        {
          "output_type": "stream",
          "text": [
            "Unzipping S2A_MSIL1C_20191227T032131_N0208_R118_T48NUG_20191227T060736\n",
            "Unzipping S2B_MSIL1C_20190705T031549_N0207_R118_T48NUG_20190705T065323\n",
            "Unzipping S2B_MSIL1C_20190406T031549_N0207_R118_T48NUG_20190406T073031\n",
            "Unzipping S2B_MSIL1C_20171122T032029_N0206_R118_T48NUG_20171122T083526\n"
          ],
          "name": "stdout"
        }
      ]
    },
    {
      "cell_type": "code",
      "metadata": {
        "id": "ikYL7TXEwKjq",
        "colab_type": "code",
        "colab": {
          "base_uri": "https://localhost:8080/",
          "height": 1000
        },
        "outputId": "7b74a498-a974-4d89-ace4-20889eba3058"
      },
      "source": [
        "# NOTE: You can load all channels at once with:\n",
        "# scn.load(scn.available_dataset_names()) # load all channels\n",
        "\n",
        "# save RGB channels as a geotiff\n",
        "for index, row in sceneMeta.iterrows():\n",
        "  title = row['title']\n",
        "  filename = row['Filename']\n",
        "  print(f'Reading {title}')\n",
        "  files = find_files_and_readers(base_dir=filename, reader=\"msi_safe\")\n",
        "  scn = Scene(filenames=files)\n",
        "  scn.load(['true_color'])\n",
        "  print(f'Saving {title} TIFF')\n",
        "  scn.save_dataset('true_color', filename=title+'.tif')"
      ],
      "execution_count": 15,
      "outputs": [
        {
          "output_type": "stream",
          "text": [
            "Reading S2A_MSIL1C_20191227T032131_N0208_R118_T48NUG_20191227T060736\n"
          ],
          "name": "stdout"
        },
        {
          "output_type": "stream",
          "text": [
            "/usr/local/lib/python3.6/dist-packages/pyproj/crs/crs.py:53: FutureWarning: '+init=<authority>:<code>' syntax is deprecated. '<authority>:<code>' is the preferred initialization method. When making the change, be mindful of axis order changes: https://pyproj4.github.io/pyproj/stable/gotchas.html#axis-order-changes-in-proj-6\n",
            "  return _prepare_from_string(\" \".join(pjargs))\n",
            "/usr/local/lib/python3.6/dist-packages/pyproj/crs/crs.py:543: UserWarning: You will likely lose important projection information when converting to a PROJ string from another format. See: https://proj.org/faq.html#what-is-the-best-format-for-describing-coordinate-reference-systems\n",
            "  proj_string = self.to_proj4()\n",
            "/usr/local/lib/python3.6/dist-packages/pyproj/crs/crs.py:53: FutureWarning: '+init=<authority>:<code>' syntax is deprecated. '<authority>:<code>' is the preferred initialization method. When making the change, be mindful of axis order changes: https://pyproj4.github.io/pyproj/stable/gotchas.html#axis-order-changes-in-proj-6\n",
            "  return _prepare_from_string(\" \".join(pjargs))\n",
            "/usr/local/lib/python3.6/dist-packages/pyproj/crs/crs.py:543: UserWarning: You will likely lose important projection information when converting to a PROJ string from another format. See: https://proj.org/faq.html#what-is-the-best-format-for-describing-coordinate-reference-systems\n",
            "  proj_string = self.to_proj4()\n",
            "/usr/local/lib/python3.6/dist-packages/pyproj/crs/crs.py:53: FutureWarning: '+init=<authority>:<code>' syntax is deprecated. '<authority>:<code>' is the preferred initialization method. When making the change, be mindful of axis order changes: https://pyproj4.github.io/pyproj/stable/gotchas.html#axis-order-changes-in-proj-6\n",
            "  return _prepare_from_string(\" \".join(pjargs))\n",
            "/usr/local/lib/python3.6/dist-packages/pyproj/crs/crs.py:543: UserWarning: You will likely lose important projection information when converting to a PROJ string from another format. See: https://proj.org/faq.html#what-is-the-best-format-for-describing-coordinate-reference-systems\n",
            "  proj_string = self.to_proj4()\n",
            "/usr/local/lib/python3.6/dist-packages/pyproj/crs/crs.py:53: FutureWarning: '+init=<authority>:<code>' syntax is deprecated. '<authority>:<code>' is the preferred initialization method. When making the change, be mindful of axis order changes: https://pyproj4.github.io/pyproj/stable/gotchas.html#axis-order-changes-in-proj-6\n",
            "  return _prepare_from_string(\" \".join(pjargs))\n",
            "/usr/local/lib/python3.6/dist-packages/pyproj/crs/crs.py:543: UserWarning: You will likely lose important projection information when converting to a PROJ string from another format. See: https://proj.org/faq.html#what-is-the-best-format-for-describing-coordinate-reference-systems\n",
            "  proj_string = self.to_proj4()\n",
            "/usr/local/lib/python3.6/dist-packages/pyproj/crs/crs.py:53: FutureWarning: '+init=<authority>:<code>' syntax is deprecated. '<authority>:<code>' is the preferred initialization method. When making the change, be mindful of axis order changes: https://pyproj4.github.io/pyproj/stable/gotchas.html#axis-order-changes-in-proj-6\n",
            "  return _prepare_from_string(\" \".join(pjargs))\n",
            "/usr/local/lib/python3.6/dist-packages/pyproj/crs/crs.py:543: UserWarning: You will likely lose important projection information when converting to a PROJ string from another format. See: https://proj.org/faq.html#what-is-the-best-format-for-describing-coordinate-reference-systems\n",
            "  proj_string = self.to_proj4()\n",
            "/usr/local/lib/python3.6/dist-packages/pyproj/crs/crs.py:53: FutureWarning: '+init=<authority>:<code>' syntax is deprecated. '<authority>:<code>' is the preferred initialization method. When making the change, be mindful of axis order changes: https://pyproj4.github.io/pyproj/stable/gotchas.html#axis-order-changes-in-proj-6\n",
            "  return _prepare_from_string(\" \".join(pjargs))\n",
            "/usr/local/lib/python3.6/dist-packages/pyproj/crs/crs.py:543: UserWarning: You will likely lose important projection information when converting to a PROJ string from another format. See: https://proj.org/faq.html#what-is-the-best-format-for-describing-coordinate-reference-systems\n",
            "  proj_string = self.to_proj4()\n",
            "/usr/local/lib/python3.6/dist-packages/pyproj/crs/crs.py:53: FutureWarning: '+init=<authority>:<code>' syntax is deprecated. '<authority>:<code>' is the preferred initialization method. When making the change, be mindful of axis order changes: https://pyproj4.github.io/pyproj/stable/gotchas.html#axis-order-changes-in-proj-6\n",
            "  return _prepare_from_string(\" \".join(pjargs))\n",
            "/usr/local/lib/python3.6/dist-packages/pyproj/crs/crs.py:543: UserWarning: You will likely lose important projection information when converting to a PROJ string from another format. See: https://proj.org/faq.html#what-is-the-best-format-for-describing-coordinate-reference-systems\n",
            "  proj_string = self.to_proj4()\n",
            "100%|██████████| 52/52 [00:00<00:00, 986.86kB/s]\n",
            "No rsr file /root/.local/share/pyspectral/rsr_msi_Sentinel-2A.h5 on disk\n",
            "3364248it [00:01, 1835817.25it/s]\n"
          ],
          "name": "stderr"
        },
        {
          "output_type": "stream",
          "text": [
            "Saving S2A_MSIL1C_20191227T032131_N0208_R118_T48NUG_20191227T060736 TIFF\n"
          ],
          "name": "stdout"
        },
        {
          "output_type": "stream",
          "text": [
            "/usr/local/lib/python3.6/dist-packages/dask/core.py:121: RuntimeWarning: invalid value encountered in log\n",
            "  return func(*(_execute_task(a, cache) for a in args))\n"
          ],
          "name": "stderr"
        },
        {
          "output_type": "stream",
          "text": [
            "Reading S2B_MSIL1C_20190705T031549_N0207_R118_T48NUG_20190705T065323\n"
          ],
          "name": "stdout"
        },
        {
          "output_type": "stream",
          "text": [
            "/usr/local/lib/python3.6/dist-packages/pyproj/crs/crs.py:53: FutureWarning: '+init=<authority>:<code>' syntax is deprecated. '<authority>:<code>' is the preferred initialization method. When making the change, be mindful of axis order changes: https://pyproj4.github.io/pyproj/stable/gotchas.html#axis-order-changes-in-proj-6\n",
            "  return _prepare_from_string(\" \".join(pjargs))\n",
            "/usr/local/lib/python3.6/dist-packages/pyproj/crs/crs.py:543: UserWarning: You will likely lose important projection information when converting to a PROJ string from another format. See: https://proj.org/faq.html#what-is-the-best-format-for-describing-coordinate-reference-systems\n",
            "  proj_string = self.to_proj4()\n",
            "/usr/local/lib/python3.6/dist-packages/pyproj/crs/crs.py:53: FutureWarning: '+init=<authority>:<code>' syntax is deprecated. '<authority>:<code>' is the preferred initialization method. When making the change, be mindful of axis order changes: https://pyproj4.github.io/pyproj/stable/gotchas.html#axis-order-changes-in-proj-6\n",
            "  return _prepare_from_string(\" \".join(pjargs))\n",
            "/usr/local/lib/python3.6/dist-packages/pyproj/crs/crs.py:543: UserWarning: You will likely lose important projection information when converting to a PROJ string from another format. See: https://proj.org/faq.html#what-is-the-best-format-for-describing-coordinate-reference-systems\n",
            "  proj_string = self.to_proj4()\n",
            "/usr/local/lib/python3.6/dist-packages/pyproj/crs/crs.py:53: FutureWarning: '+init=<authority>:<code>' syntax is deprecated. '<authority>:<code>' is the preferred initialization method. When making the change, be mindful of axis order changes: https://pyproj4.github.io/pyproj/stable/gotchas.html#axis-order-changes-in-proj-6\n",
            "  return _prepare_from_string(\" \".join(pjargs))\n",
            "/usr/local/lib/python3.6/dist-packages/pyproj/crs/crs.py:543: UserWarning: You will likely lose important projection information when converting to a PROJ string from another format. See: https://proj.org/faq.html#what-is-the-best-format-for-describing-coordinate-reference-systems\n",
            "  proj_string = self.to_proj4()\n",
            "/usr/local/lib/python3.6/dist-packages/pyproj/crs/crs.py:53: FutureWarning: '+init=<authority>:<code>' syntax is deprecated. '<authority>:<code>' is the preferred initialization method. When making the change, be mindful of axis order changes: https://pyproj4.github.io/pyproj/stable/gotchas.html#axis-order-changes-in-proj-6\n",
            "  return _prepare_from_string(\" \".join(pjargs))\n",
            "/usr/local/lib/python3.6/dist-packages/pyproj/crs/crs.py:543: UserWarning: You will likely lose important projection information when converting to a PROJ string from another format. See: https://proj.org/faq.html#what-is-the-best-format-for-describing-coordinate-reference-systems\n",
            "  proj_string = self.to_proj4()\n",
            "/usr/local/lib/python3.6/dist-packages/pyproj/crs/crs.py:53: FutureWarning: '+init=<authority>:<code>' syntax is deprecated. '<authority>:<code>' is the preferred initialization method. When making the change, be mindful of axis order changes: https://pyproj4.github.io/pyproj/stable/gotchas.html#axis-order-changes-in-proj-6\n",
            "  return _prepare_from_string(\" \".join(pjargs))\n",
            "/usr/local/lib/python3.6/dist-packages/pyproj/crs/crs.py:543: UserWarning: You will likely lose important projection information when converting to a PROJ string from another format. See: https://proj.org/faq.html#what-is-the-best-format-for-describing-coordinate-reference-systems\n",
            "  proj_string = self.to_proj4()\n",
            "/usr/local/lib/python3.6/dist-packages/pyproj/crs/crs.py:53: FutureWarning: '+init=<authority>:<code>' syntax is deprecated. '<authority>:<code>' is the preferred initialization method. When making the change, be mindful of axis order changes: https://pyproj4.github.io/pyproj/stable/gotchas.html#axis-order-changes-in-proj-6\n",
            "  return _prepare_from_string(\" \".join(pjargs))\n",
            "/usr/local/lib/python3.6/dist-packages/pyproj/crs/crs.py:543: UserWarning: You will likely lose important projection information when converting to a PROJ string from another format. See: https://proj.org/faq.html#what-is-the-best-format-for-describing-coordinate-reference-systems\n",
            "  proj_string = self.to_proj4()\n",
            "/usr/local/lib/python3.6/dist-packages/pyproj/crs/crs.py:53: FutureWarning: '+init=<authority>:<code>' syntax is deprecated. '<authority>:<code>' is the preferred initialization method. When making the change, be mindful of axis order changes: https://pyproj4.github.io/pyproj/stable/gotchas.html#axis-order-changes-in-proj-6\n",
            "  return _prepare_from_string(\" \".join(pjargs))\n",
            "/usr/local/lib/python3.6/dist-packages/pyproj/crs/crs.py:543: UserWarning: You will likely lose important projection information when converting to a PROJ string from another format. See: https://proj.org/faq.html#what-is-the-best-format-for-describing-coordinate-reference-systems\n",
            "  proj_string = self.to_proj4()\n"
          ],
          "name": "stderr"
        },
        {
          "output_type": "stream",
          "text": [
            "Saving S2B_MSIL1C_20190705T031549_N0207_R118_T48NUG_20190705T065323 TIFF\n"
          ],
          "name": "stdout"
        },
        {
          "output_type": "stream",
          "text": [
            "/usr/local/lib/python3.6/dist-packages/dask/core.py:121: RuntimeWarning: invalid value encountered in log\n",
            "  return func(*(_execute_task(a, cache) for a in args))\n"
          ],
          "name": "stderr"
        },
        {
          "output_type": "stream",
          "text": [
            "Reading S2B_MSIL1C_20190406T031549_N0207_R118_T48NUG_20190406T073031\n"
          ],
          "name": "stdout"
        },
        {
          "output_type": "stream",
          "text": [
            "/usr/local/lib/python3.6/dist-packages/pyproj/crs/crs.py:53: FutureWarning: '+init=<authority>:<code>' syntax is deprecated. '<authority>:<code>' is the preferred initialization method. When making the change, be mindful of axis order changes: https://pyproj4.github.io/pyproj/stable/gotchas.html#axis-order-changes-in-proj-6\n",
            "  return _prepare_from_string(\" \".join(pjargs))\n",
            "/usr/local/lib/python3.6/dist-packages/pyproj/crs/crs.py:543: UserWarning: You will likely lose important projection information when converting to a PROJ string from another format. See: https://proj.org/faq.html#what-is-the-best-format-for-describing-coordinate-reference-systems\n",
            "  proj_string = self.to_proj4()\n",
            "/usr/local/lib/python3.6/dist-packages/pyproj/crs/crs.py:53: FutureWarning: '+init=<authority>:<code>' syntax is deprecated. '<authority>:<code>' is the preferred initialization method. When making the change, be mindful of axis order changes: https://pyproj4.github.io/pyproj/stable/gotchas.html#axis-order-changes-in-proj-6\n",
            "  return _prepare_from_string(\" \".join(pjargs))\n",
            "/usr/local/lib/python3.6/dist-packages/pyproj/crs/crs.py:543: UserWarning: You will likely lose important projection information when converting to a PROJ string from another format. See: https://proj.org/faq.html#what-is-the-best-format-for-describing-coordinate-reference-systems\n",
            "  proj_string = self.to_proj4()\n",
            "/usr/local/lib/python3.6/dist-packages/pyproj/crs/crs.py:53: FutureWarning: '+init=<authority>:<code>' syntax is deprecated. '<authority>:<code>' is the preferred initialization method. When making the change, be mindful of axis order changes: https://pyproj4.github.io/pyproj/stable/gotchas.html#axis-order-changes-in-proj-6\n",
            "  return _prepare_from_string(\" \".join(pjargs))\n",
            "/usr/local/lib/python3.6/dist-packages/pyproj/crs/crs.py:543: UserWarning: You will likely lose important projection information when converting to a PROJ string from another format. See: https://proj.org/faq.html#what-is-the-best-format-for-describing-coordinate-reference-systems\n",
            "  proj_string = self.to_proj4()\n",
            "/usr/local/lib/python3.6/dist-packages/pyproj/crs/crs.py:53: FutureWarning: '+init=<authority>:<code>' syntax is deprecated. '<authority>:<code>' is the preferred initialization method. When making the change, be mindful of axis order changes: https://pyproj4.github.io/pyproj/stable/gotchas.html#axis-order-changes-in-proj-6\n",
            "  return _prepare_from_string(\" \".join(pjargs))\n",
            "/usr/local/lib/python3.6/dist-packages/pyproj/crs/crs.py:543: UserWarning: You will likely lose important projection information when converting to a PROJ string from another format. See: https://proj.org/faq.html#what-is-the-best-format-for-describing-coordinate-reference-systems\n",
            "  proj_string = self.to_proj4()\n",
            "/usr/local/lib/python3.6/dist-packages/pyproj/crs/crs.py:53: FutureWarning: '+init=<authority>:<code>' syntax is deprecated. '<authority>:<code>' is the preferred initialization method. When making the change, be mindful of axis order changes: https://pyproj4.github.io/pyproj/stable/gotchas.html#axis-order-changes-in-proj-6\n",
            "  return _prepare_from_string(\" \".join(pjargs))\n",
            "/usr/local/lib/python3.6/dist-packages/pyproj/crs/crs.py:543: UserWarning: You will likely lose important projection information when converting to a PROJ string from another format. See: https://proj.org/faq.html#what-is-the-best-format-for-describing-coordinate-reference-systems\n",
            "  proj_string = self.to_proj4()\n",
            "/usr/local/lib/python3.6/dist-packages/pyproj/crs/crs.py:53: FutureWarning: '+init=<authority>:<code>' syntax is deprecated. '<authority>:<code>' is the preferred initialization method. When making the change, be mindful of axis order changes: https://pyproj4.github.io/pyproj/stable/gotchas.html#axis-order-changes-in-proj-6\n",
            "  return _prepare_from_string(\" \".join(pjargs))\n",
            "/usr/local/lib/python3.6/dist-packages/pyproj/crs/crs.py:543: UserWarning: You will likely lose important projection information when converting to a PROJ string from another format. See: https://proj.org/faq.html#what-is-the-best-format-for-describing-coordinate-reference-systems\n",
            "  proj_string = self.to_proj4()\n",
            "/usr/local/lib/python3.6/dist-packages/pyproj/crs/crs.py:53: FutureWarning: '+init=<authority>:<code>' syntax is deprecated. '<authority>:<code>' is the preferred initialization method. When making the change, be mindful of axis order changes: https://pyproj4.github.io/pyproj/stable/gotchas.html#axis-order-changes-in-proj-6\n",
            "  return _prepare_from_string(\" \".join(pjargs))\n",
            "/usr/local/lib/python3.6/dist-packages/pyproj/crs/crs.py:543: UserWarning: You will likely lose important projection information when converting to a PROJ string from another format. See: https://proj.org/faq.html#what-is-the-best-format-for-describing-coordinate-reference-systems\n",
            "  proj_string = self.to_proj4()\n"
          ],
          "name": "stderr"
        },
        {
          "output_type": "stream",
          "text": [
            "Saving S2B_MSIL1C_20190406T031549_N0207_R118_T48NUG_20190406T073031 TIFF\n"
          ],
          "name": "stdout"
        },
        {
          "output_type": "stream",
          "text": [
            "/usr/local/lib/python3.6/dist-packages/dask/core.py:121: RuntimeWarning: invalid value encountered in log\n",
            "  return func(*(_execute_task(a, cache) for a in args))\n"
          ],
          "name": "stderr"
        },
        {
          "output_type": "stream",
          "text": [
            "Reading S2B_MSIL1C_20171122T032029_N0206_R118_T48NUG_20171122T083526\n"
          ],
          "name": "stdout"
        },
        {
          "output_type": "stream",
          "text": [
            "/usr/local/lib/python3.6/dist-packages/pyproj/crs/crs.py:53: FutureWarning: '+init=<authority>:<code>' syntax is deprecated. '<authority>:<code>' is the preferred initialization method. When making the change, be mindful of axis order changes: https://pyproj4.github.io/pyproj/stable/gotchas.html#axis-order-changes-in-proj-6\n",
            "  return _prepare_from_string(\" \".join(pjargs))\n",
            "/usr/local/lib/python3.6/dist-packages/pyproj/crs/crs.py:543: UserWarning: You will likely lose important projection information when converting to a PROJ string from another format. See: https://proj.org/faq.html#what-is-the-best-format-for-describing-coordinate-reference-systems\n",
            "  proj_string = self.to_proj4()\n",
            "/usr/local/lib/python3.6/dist-packages/pyproj/crs/crs.py:53: FutureWarning: '+init=<authority>:<code>' syntax is deprecated. '<authority>:<code>' is the preferred initialization method. When making the change, be mindful of axis order changes: https://pyproj4.github.io/pyproj/stable/gotchas.html#axis-order-changes-in-proj-6\n",
            "  return _prepare_from_string(\" \".join(pjargs))\n",
            "/usr/local/lib/python3.6/dist-packages/pyproj/crs/crs.py:543: UserWarning: You will likely lose important projection information when converting to a PROJ string from another format. See: https://proj.org/faq.html#what-is-the-best-format-for-describing-coordinate-reference-systems\n",
            "  proj_string = self.to_proj4()\n",
            "/usr/local/lib/python3.6/dist-packages/pyproj/crs/crs.py:53: FutureWarning: '+init=<authority>:<code>' syntax is deprecated. '<authority>:<code>' is the preferred initialization method. When making the change, be mindful of axis order changes: https://pyproj4.github.io/pyproj/stable/gotchas.html#axis-order-changes-in-proj-6\n",
            "  return _prepare_from_string(\" \".join(pjargs))\n",
            "/usr/local/lib/python3.6/dist-packages/pyproj/crs/crs.py:543: UserWarning: You will likely lose important projection information when converting to a PROJ string from another format. See: https://proj.org/faq.html#what-is-the-best-format-for-describing-coordinate-reference-systems\n",
            "  proj_string = self.to_proj4()\n",
            "/usr/local/lib/python3.6/dist-packages/pyproj/crs/crs.py:53: FutureWarning: '+init=<authority>:<code>' syntax is deprecated. '<authority>:<code>' is the preferred initialization method. When making the change, be mindful of axis order changes: https://pyproj4.github.io/pyproj/stable/gotchas.html#axis-order-changes-in-proj-6\n",
            "  return _prepare_from_string(\" \".join(pjargs))\n",
            "/usr/local/lib/python3.6/dist-packages/pyproj/crs/crs.py:543: UserWarning: You will likely lose important projection information when converting to a PROJ string from another format. See: https://proj.org/faq.html#what-is-the-best-format-for-describing-coordinate-reference-systems\n",
            "  proj_string = self.to_proj4()\n",
            "/usr/local/lib/python3.6/dist-packages/pyproj/crs/crs.py:53: FutureWarning: '+init=<authority>:<code>' syntax is deprecated. '<authority>:<code>' is the preferred initialization method. When making the change, be mindful of axis order changes: https://pyproj4.github.io/pyproj/stable/gotchas.html#axis-order-changes-in-proj-6\n",
            "  return _prepare_from_string(\" \".join(pjargs))\n",
            "/usr/local/lib/python3.6/dist-packages/pyproj/crs/crs.py:543: UserWarning: You will likely lose important projection information when converting to a PROJ string from another format. See: https://proj.org/faq.html#what-is-the-best-format-for-describing-coordinate-reference-systems\n",
            "  proj_string = self.to_proj4()\n",
            "/usr/local/lib/python3.6/dist-packages/pyproj/crs/crs.py:53: FutureWarning: '+init=<authority>:<code>' syntax is deprecated. '<authority>:<code>' is the preferred initialization method. When making the change, be mindful of axis order changes: https://pyproj4.github.io/pyproj/stable/gotchas.html#axis-order-changes-in-proj-6\n",
            "  return _prepare_from_string(\" \".join(pjargs))\n",
            "/usr/local/lib/python3.6/dist-packages/pyproj/crs/crs.py:543: UserWarning: You will likely lose important projection information when converting to a PROJ string from another format. See: https://proj.org/faq.html#what-is-the-best-format-for-describing-coordinate-reference-systems\n",
            "  proj_string = self.to_proj4()\n",
            "/usr/local/lib/python3.6/dist-packages/pyproj/crs/crs.py:53: FutureWarning: '+init=<authority>:<code>' syntax is deprecated. '<authority>:<code>' is the preferred initialization method. When making the change, be mindful of axis order changes: https://pyproj4.github.io/pyproj/stable/gotchas.html#axis-order-changes-in-proj-6\n",
            "  return _prepare_from_string(\" \".join(pjargs))\n",
            "/usr/local/lib/python3.6/dist-packages/pyproj/crs/crs.py:543: UserWarning: You will likely lose important projection information when converting to a PROJ string from another format. See: https://proj.org/faq.html#what-is-the-best-format-for-describing-coordinate-reference-systems\n",
            "  proj_string = self.to_proj4()\n"
          ],
          "name": "stderr"
        },
        {
          "output_type": "stream",
          "text": [
            "Saving S2B_MSIL1C_20171122T032029_N0206_R118_T48NUG_20171122T083526 TIFF\n"
          ],
          "name": "stdout"
        },
        {
          "output_type": "stream",
          "text": [
            "/usr/local/lib/python3.6/dist-packages/dask/core.py:121: RuntimeWarning: invalid value encountered in log\n",
            "  return func(*(_execute_task(a, cache) for a in args))\n"
          ],
          "name": "stderr"
        }
      ]
    },
    {
      "cell_type": "code",
      "metadata": {
        "id": "VlJV1ccFwNZD",
        "colab_type": "code",
        "colab": {
          "base_uri": "https://localhost:8080/",
          "height": 164
        },
        "outputId": "dabad640-4e0c-4be4-d2de-ce76d5131cc0"
      },
      "source": [
        "# delete uneeded files to free up space\n",
        "# eventually maybe move into extraction for-loops\n",
        "for name in sceneMeta.title:\n",
        "  if os.path.exists(name+'.zip'):\n",
        "    print(f'Deleting {name}.zip')\n",
        "    os.remove(name+'.zip')\n",
        "  if os.path.exists(name+'.SAFE'):\n",
        "    print(f'Deleting {name}.SAFE')\n",
        "    shutil.rmtree(name+'.SAFE')"
      ],
      "execution_count": 16,
      "outputs": [
        {
          "output_type": "stream",
          "text": [
            "Deleting S2A_MSIL1C_20191227T032131_N0208_R118_T48NUG_20191227T060736.zip\n",
            "Deleting S2A_MSIL1C_20191227T032131_N0208_R118_T48NUG_20191227T060736.SAFE\n",
            "Deleting S2B_MSIL1C_20190705T031549_N0207_R118_T48NUG_20190705T065323.zip\n",
            "Deleting S2B_MSIL1C_20190705T031549_N0207_R118_T48NUG_20190705T065323.SAFE\n",
            "Deleting S2B_MSIL1C_20190406T031549_N0207_R118_T48NUG_20190406T073031.zip\n",
            "Deleting S2B_MSIL1C_20190406T031549_N0207_R118_T48NUG_20190406T073031.SAFE\n",
            "Deleting S2B_MSIL1C_20171122T032029_N0206_R118_T48NUG_20171122T083526.zip\n",
            "Deleting S2B_MSIL1C_20171122T032029_N0206_R118_T48NUG_20171122T083526.SAFE\n"
          ],
          "name": "stdout"
        }
      ]
    },
    {
      "cell_type": "code",
      "metadata": {
        "id": "p-dkQsluwSfo",
        "colab_type": "code",
        "colab": {
          "base_uri": "https://localhost:8080/",
          "height": 146
        },
        "outputId": "c79b869b-42d7-4263-9bbb-50403510ca13"
      },
      "source": [
        "os.listdir()"
      ],
      "execution_count": 17,
      "outputs": [
        {
          "output_type": "execute_result",
          "data": {
            "text/plain": [
              "['.config',\n",
              " 'S2B_MSIL1C_20190406T031549_N0207_R118_T48NUG_20190406T073031.tif',\n",
              " 'drive',\n",
              " 'S2A_MSIL1C_20191227T032131_N0208_R118_T48NUG_20191227T060736.tif',\n",
              " 'S2B_MSIL1C_20171122T032029_N0206_R118_T48NUG_20171122T083526.tif',\n",
              " 'S2B_MSIL1C_20190705T031549_N0207_R118_T48NUG_20190705T065323.tif',\n",
              " 'sample_data']"
            ]
          },
          "metadata": {
            "tags": []
          },
          "execution_count": 17
        }
      ]
    },
    {
      "cell_type": "markdown",
      "metadata": {
        "id": "hf2XOgCEq7nn",
        "colab_type": "text"
      },
      "source": [
        "# Create Sentinel-2 Patches"
      ]
    },
    {
      "cell_type": "code",
      "metadata": {
        "id": "PdzlzTvhq9ea",
        "colab_type": "code",
        "colab": {}
      },
      "source": [
        "# load ship points and scene\n",
        "scene_name = sceneMeta.title[0] # \n",
        "ship_points = gpd.read_file(DRIVE_PATH+scene_name+'_SHIPS.geojson')\n",
        "sat_img = rio.open(scene_name+'.tif')"
      ],
      "execution_count": 0,
      "outputs": []
    },
    {
      "cell_type": "code",
      "metadata": {
        "id": "9G7Sm8VVyvOr",
        "colab_type": "code",
        "colab": {
          "base_uri": "https://localhost:8080/",
          "height": 35
        },
        "outputId": "45c7219f-b9f0-4f8b-fab8-bd7723407947"
      },
      "source": [
        "sentinel_patch_classes = patch_intersects_ship_buffers(ships = ship_points, \n",
        "                                                       img=sat_img, \n",
        "                                                       patch_size=PATCH_SIZE, \n",
        "                                                       step_size=STEP_SIZE)"
      ],
      "execution_count": 24,
      "outputs": [
        {
          "output_type": "stream",
          "text": [
            "100% (301401 of 301401) |################| Elapsed Time: 0:10:49 Time:  0:10:49\n"
          ],
          "name": "stderr"
        }
      ]
    },
    {
      "cell_type": "code",
      "metadata": {
        "id": "m-Aa_T-Qyvut",
        "colab_type": "code",
        "colab": {
          "base_uri": "https://localhost:8080/",
          "height": 35
        },
        "outputId": "0a369daf-112b-4f35-a0d7-63e5d973cebe"
      },
      "source": [
        "sentinel_patches = create_patches(img=sat_img, \n",
        "                                  patch_size=PATCH_SIZE, \n",
        "                                  step_size=STEP_SIZE)"
      ],
      "execution_count": 0,
      "outputs": [
        {
          "output_type": "stream",
          "text": [
            "100% (301401 of 301401) |################| Elapsed Time: 0:00:33 Time:  0:00:33\n"
          ],
          "name": "stderr"
        }
      ]
    },
    {
      "cell_type": "code",
      "metadata": {
        "id": "RL9QB02Uk-a6",
        "colab_type": "code",
        "colab": {}
      },
      "source": [
        "plot_patch(img=sat_img, \n",
        "           patch_size=PATCH_SIZE, \n",
        "           step_size=STEP_SIZE)"
      ],
      "execution_count": 0,
      "outputs": []
    },
    {
      "cell_type": "code",
      "metadata": {
        "id": "Wb7wQq2or4nK",
        "colab_type": "code",
        "colab": {}
      },
      "source": [
        ""
      ],
      "execution_count": 0,
      "outputs": []
    }
  ]
}