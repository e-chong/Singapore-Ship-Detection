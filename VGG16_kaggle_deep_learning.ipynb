{
  "nbformat": 4,
  "nbformat_minor": 0,
  "metadata": {
    "colab": {
      "name": "VGG16 - kaggle deep learning.ipynb",
      "provenance": [],
      "collapsed_sections": [],
      "toc_visible": true,
      "machine_shape": "hm",
      "include_colab_link": true
    },
    "kernelspec": {
      "name": "python3",
      "display_name": "Python 3"
    },
    "accelerator": "GPU"
  },
  "cells": [
    {
      "cell_type": "markdown",
      "metadata": {
        "id": "view-in-github",
        "colab_type": "text"
      },
      "source": [
        "<a href=\"https://colab.research.google.com/github/e-chong/Singapore-Ship-Detection/blob/master/VGG16_kaggle_deep_learning.ipynb\" target=\"_parent\"><img src=\"https://colab.research.google.com/assets/colab-badge.svg\" alt=\"Open In Colab\"/></a>"
      ]
    },
    {
      "cell_type": "code",
      "metadata": {
        "id": "JHtn7Hc-PC72",
        "colab_type": "code",
        "colab": {}
      },
      "source": [
        "# install libraries\n",
        "\n",
        "# suppress output\n",
        "%%capture \n",
        "\n",
        "!pip install rasterio\n",
        "!pip install geopandas\n",
        "!pip install sentinelsat\n",
        "!pip install satpy\n",
        "!pip install glymur\n",
        "!pip install python-geotiepoints\n",
        "!pip install pyspectral\n",
        "!pip install progressbar2\n",
        "!pip install kaggle\n",
        "!pip install tifffile"
      ],
      "execution_count": 0,
      "outputs": []
    },
    {
      "cell_type": "code",
      "metadata": {
        "id": "6gasTM7Mu7lk",
        "colab_type": "code",
        "outputId": "0d183c1b-068a-4217-d962-28311e49812e",
        "colab": {
          "base_uri": "https://localhost:8080/",
          "height": 35
        }
      },
      "source": [
        "%tensorflow_version 1.x\n",
        "%matplotlib inline"
      ],
      "execution_count": 2,
      "outputs": [
        {
          "output_type": "stream",
          "text": [
            "TensorFlow 1.x selected.\n"
          ],
          "name": "stdout"
        }
      ]
    },
    {
      "cell_type": "code",
      "metadata": {
        "id": "6pLKc0YIqwnb",
        "colab_type": "code",
        "colab": {}
      },
      "source": [
        "# Base dependencies\n",
        "import numpy as np\n",
        "import pandas as pd\n",
        "import geopandas as gpd # vector spatial operations\n",
        "import rasterio as rio # raster spatial operations\n",
        "import json\n",
        "\n",
        "# Plotting\n",
        "from rasterio.plot import show #convenience wrapper for pyplot.imshow for RGB and 1 band images\n",
        "import matplotlib.pyplot as plt\n",
        "\n",
        "#Sentinel-2 I/O\n",
        "from sentinelsat import SentinelAPI\n",
        "from satpy.scene import Scene\n",
        "from satpy import find_files_and_readers\n",
        "import requests, zipfile, io, os, shutil # downloading and extracting zipfolders\n",
        "\n",
        "# Sentinel-2 create patches\n",
        "from shapely.geometry import Point # vector geometries\n",
        "import time\n",
        "import progressbar\n",
        "\n",
        "# Resize Kaggle patches\n",
        "from skimage.transform import resize\n",
        "import tifffile as tiff\n",
        "import scipy.ndimage\n"
      ],
      "execution_count": 0,
      "outputs": []
    },
    {
      "cell_type": "code",
      "metadata": {
        "id": "xisFiHvHPOze",
        "colab_type": "code",
        "outputId": "2c52c7dc-f7e7-4513-976a-8295aaa12c28",
        "colab": {
          "base_uri": "https://localhost:8080/",
          "height": 126
        }
      },
      "source": [
        "from google.colab import drive\n",
        "drive.mount('/content/drive')"
      ],
      "execution_count": 4,
      "outputs": [
        {
          "output_type": "stream",
          "text": [
            "Go to this URL in a browser: https://accounts.google.com/o/oauth2/auth?client_id=947318989803-6bn6qk8qdgf4n4g3pfee6491hc0brc4i.apps.googleusercontent.com&redirect_uri=urn%3aietf%3awg%3aoauth%3a2.0%3aoob&response_type=code&scope=email%20https%3a%2f%2fwww.googleapis.com%2fauth%2fdocs.test%20https%3a%2f%2fwww.googleapis.com%2fauth%2fdrive%20https%3a%2f%2fwww.googleapis.com%2fauth%2fdrive.photos.readonly%20https%3a%2f%2fwww.googleapis.com%2fauth%2fpeopleapi.readonly\n",
            "\n",
            "Enter your authorization code:\n",
            "··········\n",
            "Mounted at /content/drive\n"
          ],
          "name": "stdout"
        }
      ]
    },
    {
      "cell_type": "markdown",
      "metadata": {
        "id": "L2qU55-0YlbD",
        "colab_type": "text"
      },
      "source": [
        "#Functions\n",
        "credit to # https://gis.stackexchange.com/questions/299787/finding-pixel-location-in-raster-using-coordinates"
      ]
    },
    {
      "cell_type": "code",
      "metadata": {
        "id": "iwJqDvFHJjo7",
        "colab_type": "code",
        "colab": {}
      },
      "source": [
        "# Extracts RGB 3-channel image from SAFE directory and saves it in the working directory \n",
        "# and returns the path to the new file\n",
        "def extract_rgb_jp2(safePath, sceneTitle):\n",
        "  for subdirs, dirs, files in os.walk(safePath):\n",
        "    for file in files:\n",
        "      if file.endswith('_TCI.jp2'):\n",
        "        rgbPath = os.path.join(subdirs, file)\n",
        "        destPath = sceneTitle+'.jp2'\n",
        "        print(f'Copying {file} to {destPath}')\n",
        "        shutil.copy2(rgbPath, destPath)\n",
        "        return destPath"
      ],
      "execution_count": 0,
      "outputs": []
    },
    {
      "cell_type": "code",
      "metadata": {
        "colab_type": "code",
        "id": "IKR7lD-DM_Bn",
        "colab": {}
      },
      "source": [
        "# returns matrix of [n ships, patch_size, patch_size]\n",
        "def create_ship_patches(ships, img, patch_size=50):\n",
        "  coordinates = list(zip(ships.geometry.x, ships.geometry.y))\n",
        "  with progressbar.ProgressBar(max_value=len(ships.index)) as bar: # creates progress bar\n",
        "    patch_list = np.zeros([len(ships.index), patch_size, patch_size, len(img.indexes)])\n",
        "    for i, (lon, lat) in enumerate(coordinates): # Loop through your list of coords\n",
        "      py, px = img.index(lon, lat) # Get pixel coordinates from map coordinates\n",
        "      window = rio.windows.Window(px - patch_size//2, py - patch_size//2, patch_size, patch_size) # Build an NxN window\n",
        "      patch = img.read(window=window) # clip is a nbands * patch_size * patch_size numpy array\n",
        "      patch_list[i] = np.transpose(patch, (1,2,0)) # transpose to [patch_size, patch_size, n bands]\n",
        "      bar.update(i)\n",
        "  return patch_list.astype(int)"
      ],
      "execution_count": 0,
      "outputs": []
    },
    {
      "cell_type": "code",
      "metadata": {
        "colab_type": "code",
        "id": "EGtUnj7dM_Bw",
        "colab": {}
      },
      "source": [
        "# creates patches for use in classifying ship or no ship\n",
        "def create_patches(img, patch_size=50, step_size=30):\n",
        "  n_patches = len(range(0,img.height, step_size)) * len(range(0,img.width, step_size))\n",
        "  patch_list = []\n",
        "  index = 0\n",
        "  with progressbar.ProgressBar(max_value=n_patches) as bar: # creates progress bar\n",
        "    for y in range(0,img.height, step_size): # iterate across image column-wise\n",
        "      for x in range(0,img.width, step_size): # iterate across image row-wise\n",
        "        window = rio.windows.Window(x,y, patch_size, patch_size)\n",
        "        if window.col_off+window.width > img.width or window.row_off+window.height > img.height:\n",
        "          pass\n",
        "        else:\n",
        "          # Read the data in the window\n",
        "          patch = img.read(window=window) # patch is a nbands * patch_size * patch_size numpy array \n",
        "          patch_list.append(np.transpose(patch, (1,2,0))) # transpose to [patch_size, patch_size, n bands]\n",
        "          index += 1\n",
        "          bar.update(index)\n",
        "  patch_array = np.stack(patch_list, axis=0)\n",
        "  return patch_array.astype(int)"
      ],
      "execution_count": 0,
      "outputs": []
    },
    {
      "cell_type": "code",
      "metadata": {
        "colab_type": "code",
        "id": "UDdxNbczM_B1",
        "colab": {}
      },
      "source": [
        "# returns boolean list of whether patches intersect with any ships\n",
        "def patch_intersects_ship_buffers(ships, img, patch_size=50, step_size=30):\n",
        "  n_patches = (len(range(0,img.height, step_size)) * len(range(0,img.width, step_size)))\n",
        "  isShip_list = [] #list to hold all the patch locations\n",
        "  buffer_list = []\n",
        "  x_list = []\n",
        "  y_list = []\n",
        "  index = 0\n",
        "\n",
        "  with progressbar.ProgressBar(max_value=n_patches) as bar: # creates progress bar\n",
        "    for y in range(0,img.height, step_size): # iterate across image column-wise\n",
        "      for x in range(0,img.width, step_size): # iterate across image row-wise\n",
        "        window = rio.windows.Window(x,y, patch_size, patch_size) #get patch window\n",
        "        if window.col_off+window.width > img.width or window.row_off+window.height > img.height:\n",
        "          pass #skip patches that extend off the edge so they have the wrong shape\n",
        "        else:\n",
        "          #create centroid point\n",
        "          centroid = Point(img.transform *(window.col_off+patch_size/2, window.row_off+patch_size/2))\n",
        "          buffer = centroid.buffer(img.transform[0]*step_size/1.5)\n",
        "          buffer_list.append(buffer)\n",
        "          isShip = np.any(ships.intersects(buffer)) #intersect ships with polygon and check if any are positive\n",
        "          isShip_list.append(isShip) #append result to list\n",
        "          x_list.append(x),\n",
        "          y_list.append(y)\n",
        "          index += 1\n",
        "          bar.update(index)\n",
        "  results = pd.DataFrame({'isShip':isShip_list, 'x':x_list, 'y':y_list, 'patch_size':patch_size})\n",
        "  return results"
      ],
      "execution_count": 0,
      "outputs": []
    },
    {
      "cell_type": "code",
      "metadata": {
        "colab_type": "code",
        "id": "fbCXu7HBM_B5",
        "colab": {}
      },
      "source": [
        "# plots a patch\n",
        "def plot_patch(img, x, y, patch_size=50, step_size=30):\n",
        "  window = rio.windows.Window(x,y, patch_size, patch_size)\n",
        "  patch = img.read(window=window)\n",
        "  show(patch, title=f'x: {x}, y: {y}')"
      ],
      "execution_count": 0,
      "outputs": []
    },
    {
      "cell_type": "markdown",
      "metadata": {
        "colab_type": "text",
        "id": "OdmKEJ6CM_B-"
      },
      "source": [
        "# Define Parameters"
      ]
    },
    {
      "cell_type": "code",
      "metadata": {
        "colab_type": "code",
        "id": "_jnTCnhAM_B_",
        "colab": {}
      },
      "source": [
        "DRIVE_PATH = '/content/drive/My Drive/MUSA-650-Final-Project/'"
      ],
      "execution_count": 0,
      "outputs": []
    },
    {
      "cell_type": "code",
      "metadata": {
        "colab_type": "code",
        "id": "IxjgSEcwM_CE",
        "colab": {}
      },
      "source": [
        "#Load param file\n",
        "with open(DRIVE_PATH+'params.json', 'r') as file:\n",
        "    params = json.load(file)\n",
        "    \n",
        "    SENTINEL_USER = params['SENTINEL_USER']\n",
        "    SENTINEL_PWD = params['SENTINEL_PWD']\n",
        "    KAGGLE_USER = params['KAGGLE_USER']\n",
        "    KAGGLE_KEY = params['KAGGLE_KEY']"
      ],
      "execution_count": 0,
      "outputs": []
    },
    {
      "cell_type": "code",
      "metadata": {
        "colab_type": "code",
        "id": "W0qmWSw_M_CH",
        "colab": {}
      },
      "source": [
        "# unique Sentinel-2 tile id for images covering Singapore\n",
        "TILE_ID = \"48NUG\" "
      ],
      "execution_count": 0,
      "outputs": []
    },
    {
      "cell_type": "code",
      "metadata": {
        "colab_type": "code",
        "id": "8fayZXDjM_CJ",
        "colab": {}
      },
      "source": [
        "# Patch parameters\n",
        "PATCH_SIZE = 24\n",
        "STEP_SIZE = 12\n",
        "SCALE_FACTOR = 4/10 #PlanetScope GSD / Sentinel-2 GSD"
      ],
      "execution_count": 0,
      "outputs": []
    },
    {
      "cell_type": "markdown",
      "metadata": {
        "colab_type": "text",
        "id": "S_b23r9jM_CN"
      },
      "source": [
        "# Download Data"
      ]
    },
    {
      "cell_type": "markdown",
      "metadata": {
        "id": "zHSIDCo1lKcz",
        "colab_type": "text"
      },
      "source": [
        "## Kaggle PlanetScope"
      ]
    },
    {
      "cell_type": "code",
      "metadata": {
        "id": "egGcraQyl4lI",
        "colab_type": "code",
        "outputId": "4dd8def8-b771-4312-f7a4-0c184f85a7d9",
        "colab": {
          "base_uri": "https://localhost:8080/",
          "height": 35
        }
      },
      "source": [
        "os.mkdir('.kaggle')\n",
        "os.listdir()"
      ],
      "execution_count": 14,
      "outputs": [
        {
          "output_type": "execute_result",
          "data": {
            "text/plain": [
              "['.config', 'drive', '.kaggle', 'sample_data']"
            ]
          },
          "metadata": {
            "tags": []
          },
          "execution_count": 14
        }
      ]
    },
    {
      "cell_type": "code",
      "metadata": {
        "id": "AgFfwDJdmFkp",
        "colab_type": "code",
        "colab": {}
      },
      "source": [
        "token = {\"username\":KAGGLE_USER,\"key\":KAGGLE_KEY}\n",
        "\n",
        "with open('/content/.kaggle/kaggle.json', 'w') as file:\n",
        "    json.dump(token, file)"
      ],
      "execution_count": 0,
      "outputs": []
    },
    {
      "cell_type": "code",
      "metadata": {
        "id": "NzwM9qVbmQ9r",
        "colab_type": "code",
        "outputId": "3c2e76a4-0c6d-49be-cf25-64abc895d20e",
        "colab": {
          "base_uri": "https://localhost:8080/",
          "height": 214
        }
      },
      "source": [
        "!cp /content/.kaggle/kaggle.json ~/.kaggle/kaggle.json\n",
        "!kaggle config set -n path -v{/content}\n",
        "!cp /content/.kaggle/kaggle.json ~/.kaggle/kaggle.json\n",
        "!kaggle config set -n path -v{/content}"
      ],
      "execution_count": 16,
      "outputs": [
        {
          "output_type": "stream",
          "text": [
            "cp: cannot create regular file '/root/.kaggle/kaggle.json': No such file or directory\n",
            "Traceback (most recent call last):\n",
            "  File \"/usr/local/bin/kaggle\", line 5, in <module>\n",
            "    from kaggle.cli import main\n",
            "  File \"/usr/local/lib/python2.7/dist-packages/kaggle/__init__.py\", line 23, in <module>\n",
            "    api.authenticate()\n",
            "  File \"/usr/local/lib/python2.7/dist-packages/kaggle/api/kaggle_api_extended.py\", line 146, in authenticate\n",
            "    self.config_file, self.config_dir))\n",
            "IOError: Could not find kaggle.json. Make sure it's located in /root/.kaggle. Or use the environment method.\n",
            "Warning: Your Kaggle API key is readable by other users on this system! To fix this, you can run 'chmod 600 /root/.kaggle/kaggle.json'\n",
            "- path is now set to: {/content}\n"
          ],
          "name": "stdout"
        }
      ]
    },
    {
      "cell_type": "code",
      "metadata": {
        "id": "-Efe-XPkmTsD",
        "colab_type": "code",
        "outputId": "6d358973-b3a9-4c4e-97e3-8d1b975c769c",
        "colab": {
          "base_uri": "https://localhost:8080/",
          "height": 88
        }
      },
      "source": [
        "!kaggle datasets download -d rhammell/ships-in-satellite-imagery -p /content"
      ],
      "execution_count": 17,
      "outputs": [
        {
          "output_type": "stream",
          "text": [
            "Warning: Your Kaggle API key is readable by other users on this system! To fix this, you can run 'chmod 600 /root/.kaggle/kaggle.json'\n",
            "Downloading ships-in-satellite-imagery.zip to /content\n",
            " 98% 181M/185M [00:05<00:00, 52.7MB/s]\n",
            "100% 185M/185M [00:05<00:00, 37.9MB/s]\n"
          ],
          "name": "stdout"
        }
      ]
    },
    {
      "cell_type": "code",
      "metadata": {
        "id": "44VXdPcNmWcU",
        "colab_type": "code",
        "outputId": "6554c68b-5fe6-4267-9859-064c7600eee0",
        "colab": {
          "base_uri": "https://localhost:8080/",
          "height": 106
        }
      },
      "source": [
        "os.listdir()"
      ],
      "execution_count": 18,
      "outputs": [
        {
          "output_type": "execute_result",
          "data": {
            "text/plain": [
              "['.config',\n",
              " 'drive',\n",
              " '.kaggle',\n",
              " 'ships-in-satellite-imagery.zip',\n",
              " 'sample_data']"
            ]
          },
          "metadata": {
            "tags": []
          },
          "execution_count": 18
        }
      ]
    },
    {
      "cell_type": "code",
      "metadata": {
        "id": "2TPWaAGTmYz3",
        "colab_type": "code",
        "colab": {}
      },
      "source": [
        "with zipfile.ZipFile('ships-in-satellite-imagery.zip', 'r') as kaggleZip:\n",
        "      kaggleZip.extractall(os.getcwd())"
      ],
      "execution_count": 0,
      "outputs": []
    },
    {
      "cell_type": "code",
      "metadata": {
        "id": "ao_jtOXjngpI",
        "colab_type": "code",
        "colab": {}
      },
      "source": [
        "# with open('shipsnet.json') as data_file:\n",
        "#     kg_ships_df = pd.DataFrame(json.load(data_file))\n",
        "# print(kg_ships_df.shape)\n",
        "# kg_ships_df.head()"
      ],
      "execution_count": 0,
      "outputs": []
    },
    {
      "cell_type": "code",
      "metadata": {
        "id": "LyXqr0wRn8G3",
        "colab_type": "code",
        "outputId": "3c39f0a3-4573-448a-9830-53a4b97ada36",
        "colab": {
          "base_uri": "https://localhost:8080/",
          "height": 206
        }
      },
      "source": [
        "with open('shipsnet.json') as data_file:\n",
        "    kg_ships_dict = json.load(data_file)\n",
        "\n",
        "kg_ships_df = pd.DataFrame(kg_ships_dict)\n",
        "kg_ships_df.head()"
      ],
      "execution_count": 21,
      "outputs": [
        {
          "output_type": "execute_result",
          "data": {
            "text/html": [
              "<div>\n",
              "<style scoped>\n",
              "    .dataframe tbody tr th:only-of-type {\n",
              "        vertical-align: middle;\n",
              "    }\n",
              "\n",
              "    .dataframe tbody tr th {\n",
              "        vertical-align: top;\n",
              "    }\n",
              "\n",
              "    .dataframe thead th {\n",
              "        text-align: right;\n",
              "    }\n",
              "</style>\n",
              "<table border=\"1\" class=\"dataframe\">\n",
              "  <thead>\n",
              "    <tr style=\"text-align: right;\">\n",
              "      <th></th>\n",
              "      <th>data</th>\n",
              "      <th>labels</th>\n",
              "      <th>locations</th>\n",
              "      <th>scene_ids</th>\n",
              "    </tr>\n",
              "  </thead>\n",
              "  <tbody>\n",
              "    <tr>\n",
              "      <th>0</th>\n",
              "      <td>[82, 89, 91, 87, 89, 87, 86, 86, 86, 86, 84, 8...</td>\n",
              "      <td>1</td>\n",
              "      <td>[-118.2254694333423, 33.73803725920789]</td>\n",
              "      <td>20180708_180909_0f47</td>\n",
              "    </tr>\n",
              "    <tr>\n",
              "      <th>1</th>\n",
              "      <td>[76, 75, 67, 62, 68, 72, 73, 73, 68, 69, 69, 6...</td>\n",
              "      <td>1</td>\n",
              "      <td>[-122.33222866289329, 37.7491755586813]</td>\n",
              "      <td>20170705_180816_103e</td>\n",
              "    </tr>\n",
              "    <tr>\n",
              "      <th>2</th>\n",
              "      <td>[125, 127, 129, 130, 126, 125, 129, 133, 132, ...</td>\n",
              "      <td>1</td>\n",
              "      <td>[-118.14283073363218, 33.736016066914175]</td>\n",
              "      <td>20180712_211331_0f06</td>\n",
              "    </tr>\n",
              "    <tr>\n",
              "      <th>3</th>\n",
              "      <td>[102, 99, 113, 106, 96, 102, 105, 105, 103, 10...</td>\n",
              "      <td>1</td>\n",
              "      <td>[-122.34784341495181, 37.76648707436548]</td>\n",
              "      <td>20170609_180756_103a</td>\n",
              "    </tr>\n",
              "    <tr>\n",
              "      <th>4</th>\n",
              "      <td>[78, 76, 74, 78, 79, 79, 79, 82, 86, 85, 83, 8...</td>\n",
              "      <td>1</td>\n",
              "      <td>[-122.34852408322172, 37.75878462398653]</td>\n",
              "      <td>20170515_180653_1007</td>\n",
              "    </tr>\n",
              "  </tbody>\n",
              "</table>\n",
              "</div>"
            ],
            "text/plain": [
              "                                                data  ...             scene_ids\n",
              "0  [82, 89, 91, 87, 89, 87, 86, 86, 86, 86, 84, 8...  ...  20180708_180909_0f47\n",
              "1  [76, 75, 67, 62, 68, 72, 73, 73, 68, 69, 69, 6...  ...  20170705_180816_103e\n",
              "2  [125, 127, 129, 130, 126, 125, 129, 133, 132, ...  ...  20180712_211331_0f06\n",
              "3  [102, 99, 113, 106, 96, 102, 105, 105, 103, 10...  ...  20170609_180756_103a\n",
              "4  [78, 76, 74, 78, 79, 79, 79, 82, 86, 85, 83, 8...  ...  20170515_180653_1007\n",
              "\n",
              "[5 rows x 4 columns]"
            ]
          },
          "metadata": {
            "tags": []
          },
          "execution_count": 21
        }
      ]
    },
    {
      "cell_type": "code",
      "metadata": {
        "id": "uT5kX-hWn_F-",
        "colab_type": "code",
        "outputId": "480eeed3-fd9b-4ed2-aae4-24c9f8a5614a",
        "colab": {
          "base_uri": "https://localhost:8080/",
          "height": 35
        }
      },
      "source": [
        "n_spectrum = 3 # color channel (RGB)\n",
        "kg_patch_size = 80\n",
        "kg_ships_patches = np.array(kg_ships_dict['data']\n",
        "             ).astype('uint8'\n",
        "             ).reshape([-1, n_spectrum, kg_patch_size, kg_patch_size])\n",
        "kg_ships_patches = np.moveaxis(kg_ships_patches, 1, 3)\n",
        "kg_ships_patches.shape"
      ],
      "execution_count": 22,
      "outputs": [
        {
          "output_type": "execute_result",
          "data": {
            "text/plain": [
              "(4000, 80, 80, 3)"
            ]
          },
          "metadata": {
            "tags": []
          },
          "execution_count": 22
        }
      ]
    },
    {
      "cell_type": "code",
      "metadata": {
        "id": "pTe-cEyJooMJ",
        "colab_type": "code",
        "outputId": "c8328c89-fb24-49f1-c254-8c8e9a5809ce",
        "colab": {
          "base_uri": "https://localhost:8080/",
          "height": 35
        }
      },
      "source": [
        "kg_ships_patches.min(), kg_ships_patches.max()"
      ],
      "execution_count": 23,
      "outputs": [
        {
          "output_type": "execute_result",
          "data": {
            "text/plain": [
              "(1, 255)"
            ]
          },
          "metadata": {
            "tags": []
          },
          "execution_count": 23
        }
      ]
    },
    {
      "cell_type": "code",
      "metadata": {
        "id": "wj0goacTpfzg",
        "colab_type": "code",
        "outputId": "09a004c1-b688-4079-c1ae-3073c4bd5071",
        "colab": {
          "base_uri": "https://localhost:8080/",
          "height": 286
        }
      },
      "source": [
        "plt.imshow(kg_ships_patches[100])"
      ],
      "execution_count": 24,
      "outputs": [
        {
          "output_type": "execute_result",
          "data": {
            "text/plain": [
              "<matplotlib.image.AxesImage at 0x7f6d0a0914a8>"
            ]
          },
          "metadata": {
            "tags": []
          },
          "execution_count": 24
        },
        {
          "output_type": "display_data",
          "data": {
            "image/png": "[encoded data removed]",
            "text/plain": [
              "<Figure size 432x288 with 1 Axes>"
            ]
          },
          "metadata": {
            "tags": [],
            "needs_background": "light"
          }
        }
      ]
    },
    {
      "cell_type": "code",
      "metadata": {
        "id": "pxGG14jypmpJ",
        "colab_type": "code",
        "colab": {}
      },
      "source": [
        "kg_patch_new_size = round(kg_patch_size*SCALE_FACTOR)\n",
        "\n",
        "kg_patches_resize = np.zeros([kg_ships_patches.shape[0],\n",
        "                            kg_patch_new_size,\n",
        "                            kg_patch_new_size,\n",
        "                            kg_ships_patches.shape[3]])"
      ],
      "execution_count": 0,
      "outputs": []
    },
    {
      "cell_type": "code",
      "metadata": {
        "id": "UWQs6KIzsTAd",
        "colab_type": "code",
        "colab": {}
      },
      "source": [
        "for img in range(kg_ships_patches.shape[0]):\n",
        "  kg_patches_resize[img] = resize(kg_ships_patches[img], [kg_patch_new_size, kg_patch_new_size])"
      ],
      "execution_count": 0,
      "outputs": []
    },
    {
      "cell_type": "code",
      "metadata": {
        "id": "qsqpvmafrNsl",
        "colab_type": "code",
        "outputId": "b35094bb-afeb-411b-9cf1-4c4cfc055ca4",
        "colab": {
          "base_uri": "https://localhost:8080/",
          "height": 284
        }
      },
      "source": [
        "kg_patches_resize.shape, plt.imshow(kg_patches_resize[100])"
      ],
      "execution_count": 27,
      "outputs": [
        {
          "output_type": "execute_result",
          "data": {
            "text/plain": [
              "((4000, 32, 32, 3), <matplotlib.image.AxesImage at 0x7f6d04b64208>)"
            ]
          },
          "metadata": {
            "tags": []
          },
          "execution_count": 27
        },
        {
          "output_type": "display_data",
          "data": {
            "image/png": "[encoded data removed]",
            "text/plain": [
              "<Figure size 432x288 with 1 Axes>"
            ]
          },
          "metadata": {
            "tags": [],
            "needs_background": "light"
          }
        }
      ]
    },
    {
      "cell_type": "code",
      "metadata": {
        "id": "CrESdzf32hKD",
        "colab_type": "code",
        "colab": {
          "base_uri": "https://localhost:8080/",
          "height": 35
        },
        "outputId": "26890d4c-516e-4e32-d6f1-4f8fa441e63f"
      },
      "source": [
        "kg_ships_df.labels[100]"
      ],
      "execution_count": 29,
      "outputs": [
        {
          "output_type": "execute_result",
          "data": {
            "text/plain": [
              "1"
            ]
          },
          "metadata": {
            "tags": []
          },
          "execution_count": 29
        }
      ]
    },
    {
      "cell_type": "code",
      "metadata": {
        "id": "zxoDTqnQiAje",
        "colab_type": "code",
        "colab": {}
      },
      "source": [
        "# Sample data\n",
        "from sklearn.model_selection import train_test_split\n",
        "X_data, X_sample, y_data, y_sample = train_test_split(kg_patches_resize, \n",
        "                                                    kg_ships_df.labels, \n",
        "                                                    stratify=kg_ships_df.labels, \n",
        "                                                    test_size=0.5, \n",
        "                                                    random_state=42)"
      ],
      "execution_count": 0,
      "outputs": []
    },
    {
      "cell_type": "code",
      "metadata": {
        "id": "_Li2SbGLigpL",
        "colab_type": "code",
        "outputId": "8ec19d2c-fd39-4cd1-c536-4e9e04352603",
        "colab": {
          "base_uri": "https://localhost:8080/",
          "height": 35
        }
      },
      "source": [
        "X_sample.shape"
      ],
      "execution_count": 32,
      "outputs": [
        {
          "output_type": "execute_result",
          "data": {
            "text/plain": [
              "(2000, 32, 32, 3)"
            ]
          },
          "metadata": {
            "tags": []
          },
          "execution_count": 32
        }
      ]
    },
    {
      "cell_type": "code",
      "metadata": {
        "id": "siDaXa2V2oSv",
        "colab_type": "code",
        "colab": {
          "base_uri": "https://localhost:8080/",
          "height": 284
        },
        "outputId": "7b2fcc25-7e8a-465e-d4f0-de342b911b2f"
      },
      "source": [
        "print(y_data[9])\n",
        "plt.imshow(X_data[9]);"
      ],
      "execution_count": 47,
      "outputs": [
        {
          "output_type": "stream",
          "text": [
            "1\n"
          ],
          "name": "stdout"
        },
        {
          "output_type": "display_data",
          "data": {
            "image/png": "[encoded data removed]",
            "text/plain": [
              "<Figure size 432x288 with 1 Axes>"
            ]
          },
          "metadata": {
            "tags": [],
            "needs_background": "light"
          }
        }
      ]
    },
    {
      "cell_type": "code",
      "metadata": {
        "id": "J_fvma77h3UU",
        "colab_type": "code",
        "outputId": "fe2434ae-cbf2-4427-9b86-711f554ab5b8",
        "colab": {
          "base_uri": "https://localhost:8080/",
          "height": 35
        }
      },
      "source": [
        "### IS THERE A REASON WE NEED TO LIMIT THE KAGGLE DATA?\n",
        "\n",
        "\n",
        "#Prepare Data\n",
        "from __future__ import print_function\n",
        "import keras\n",
        "from keras.datasets import mnist\n",
        "from keras.models import Sequential\n",
        "from keras.layers import Dense, Dropout\n",
        "from keras.optimizers import RMSprop\n",
        "\n",
        "x_train, x_test, y_train, y_test = train_test_split(X_sample, \n",
        "                                                    y_sample, \n",
        "                                                    stratify=y_sample, \n",
        "                                                    test_size=0.5, \n",
        "                                                    random_state=42)\n",
        "np.unique(y_train, return_counts=True), np.unique(y_test, return_counts=True)"
      ],
      "execution_count": 0,
      "outputs": [
        {
          "output_type": "execute_result",
          "data": {
            "text/plain": [
              "((array([0, 1]), array([750, 250])), (array([0, 1]), array([750, 250])))"
            ]
          },
          "metadata": {
            "tags": []
          },
          "execution_count": 58
        }
      ]
    },
    {
      "cell_type": "code",
      "metadata": {
        "id": "9gH0gdpJJAx9",
        "colab_type": "code",
        "outputId": "629f9063-d74b-4d28-9c12-ea46a3a5d031",
        "colab": {
          "base_uri": "https://localhost:8080/",
          "height": 53
        }
      },
      "source": [
        "#Prepare Data\n",
        "from __future__ import print_function\n",
        "import keras\n",
        "from keras.datasets import mnist\n",
        "from keras.models import Sequential\n",
        "from keras.layers import Dense, Dropout\n",
        "from keras.optimizers import RMSprop\n",
        "\n",
        "x_train, x_test, y_train, y_test = train_test_split(kg_patches_resize, \n",
        "                                                    kg_ships_df.labels, \n",
        "                                                    stratify=kg_ships_df.labels, \n",
        "                                                    test_size=0.5, \n",
        "                                                    random_state=42)\n",
        "np.unique(y_train, return_counts=True), np.unique(y_test, return_counts=True)"
      ],
      "execution_count": 48,
      "outputs": [
        {
          "output_type": "stream",
          "text": [
            "Using TensorFlow backend.\n"
          ],
          "name": "stderr"
        },
        {
          "output_type": "execute_result",
          "data": {
            "text/plain": [
              "((array([0, 1]), array([1500,  500])), (array([0, 1]), array([1500,  500])))"
            ]
          },
          "metadata": {
            "tags": []
          },
          "execution_count": 48
        }
      ]
    },
    {
      "cell_type": "code",
      "metadata": {
        "id": "L60dQ7b93DaB",
        "colab_type": "code",
        "colab": {
          "base_uri": "https://localhost:8080/",
          "height": 284
        },
        "outputId": "33c6e616-4dee-4642-c203-98cd60a637e9"
      },
      "source": [
        "print(y_train[9])\n",
        "plt.imshow(x_train[9]);"
      ],
      "execution_count": 49,
      "outputs": [
        {
          "output_type": "stream",
          "text": [
            "1\n"
          ],
          "name": "stdout"
        },
        {
          "output_type": "display_data",
          "data": {
            "image/png": "[encoded data removed]",
            "text/plain": [
              "<Figure size 432x288 with 1 Axes>"
            ]
          },
          "metadata": {
            "tags": [],
            "needs_background": "light"
          }
        }
      ]
    },
    {
      "cell_type": "code",
      "metadata": {
        "id": "an_xH01h9Iw2",
        "colab_type": "code",
        "outputId": "771dba0a-e2ac-4817-bd3a-db19ca2b1f38",
        "colab": {
          "base_uri": "https://localhost:8080/",
          "height": 53
        }
      },
      "source": [
        "x_train = x_train.astype('float32')\n",
        "x_test = x_test.astype('float32')\n",
        "x_train /= 255\n",
        "x_test /= 255\n",
        "print(x_train.shape[0], 'train samples')\n",
        "print(x_test.shape[0], 'test samples')\n",
        "\n",
        "y_train = y_train.astype('int')\n",
        "y_test = y_test.astype('int')\n",
        "num_classes = 2\n",
        "y_train = keras.utils.to_categorical(y_train, num_classes, dtype='int')\n",
        "y_test = keras.utils.to_categorical(y_test, num_classes, dtype='int')"
      ],
      "execution_count": 59,
      "outputs": [
        {
          "output_type": "stream",
          "text": [
            "2000 train samples\n",
            "2000 test samples\n"
          ],
          "name": "stdout"
        }
      ]
    },
    {
      "cell_type": "code",
      "metadata": {
        "id": "HHIBSjMd7li2",
        "colab_type": "code",
        "outputId": "e3eb6efa-598d-4f01-cf7e-66a9c4225847",
        "colab": {
          "base_uri": "https://localhost:8080/",
          "height": 35
        }
      },
      "source": [
        "x_train.shape"
      ],
      "execution_count": 0,
      "outputs": [
        {
          "output_type": "execute_result",
          "data": {
            "text/plain": [
              "(2000, 32, 32, 3)"
            ]
          },
          "metadata": {
            "tags": []
          },
          "execution_count": 62
        }
      ]
    },
    {
      "cell_type": "code",
      "metadata": {
        "id": "GEWETENJ9Q5o",
        "colab_type": "code",
        "outputId": "91956e1a-d2df-43f5-caaa-c9a5d33ed2f2",
        "colab": {
          "base_uri": "https://localhost:8080/",
          "height": 142
        }
      },
      "source": [
        "y_train"
      ],
      "execution_count": 0,
      "outputs": [
        {
          "output_type": "execute_result",
          "data": {
            "text/plain": [
              "array([[1, 0],\n",
              "       [1, 0],\n",
              "       [1, 0],\n",
              "       ...,\n",
              "       [0, 1],\n",
              "       [1, 0],\n",
              "       [1, 0]])"
            ]
          },
          "metadata": {
            "tags": []
          },
          "execution_count": 63
        }
      ]
    },
    {
      "cell_type": "code",
      "metadata": {
        "colab_type": "code",
        "id": "QxV78TVFZSjt",
        "colab": {}
      },
      "source": [
        "from keras.layers.convolutional import Conv2D, MaxPooling2D\n",
        "from keras.layers import Dense, Flatten, Activation\n",
        "\n",
        "input_shape=x_train.shape[1:]\n",
        "\n",
        "M = Sequential()\n",
        "M.add(Conv2D(64, (3, 3), padding='same', activation='relu', input_shape=input_shape))\n",
        "M.add(MaxPooling2D(pool_size=(2, 2))) #12x12\n",
        "M.add(Conv2D(128, (3, 3), padding='same', activation='relu'))\n",
        "M.add(MaxPooling2D(pool_size=(2, 2))) #12x12\n",
        "M.add(Dropout(0.20))\n",
        "\n",
        "M.add(Conv2D(256, (3, 3), padding='same', activation='relu'))\n",
        "M.add(MaxPooling2D(pool_size=(2, 2))) #6x6\n",
        "\n",
        "#M.add(Conv2D(512, (3, 3), padding='same', activation='softmax'))\n",
        "#M.add(MaxPooling2D(pool_size=(2, 2))) #3x3\n",
        "\n",
        "# M.add(Dropout(0.20))\n",
        "M.add(Flatten())\n",
        "\n",
        "M.add(Dense(512, activation='relu'))\n",
        "# M.add(Dropout(0.40))\n",
        "#M.add(Dense(512, activation='softmax'))\n",
        "M.add(Dense(2, activation='sigmoid'))"
      ],
      "execution_count": 0,
      "outputs": []
    },
    {
      "cell_type": "code",
      "metadata": {
        "colab_type": "code",
        "outputId": "f837100a-edcd-4382-c64b-812d47c2b803",
        "id": "LSR3xaYSZSkB",
        "colab": {
          "base_uri": "https://localhost:8080/",
          "height": 517
        }
      },
      "source": [
        "M.summary()"
      ],
      "execution_count": 52,
      "outputs": [
        {
          "output_type": "stream",
          "text": [
            "Model: \"sequential_2\"\n",
            "_________________________________________________________________\n",
            "Layer (type)                 Output Shape              Param #   \n",
            "=================================================================\n",
            "conv2d_4 (Conv2D)            (None, 32, 32, 64)        1792      \n",
            "_________________________________________________________________\n",
            "max_pooling2d_4 (MaxPooling2 (None, 16, 16, 64)        0         \n",
            "_________________________________________________________________\n",
            "conv2d_5 (Conv2D)            (None, 16, 16, 128)       73856     \n",
            "_________________________________________________________________\n",
            "max_pooling2d_5 (MaxPooling2 (None, 8, 8, 128)         0         \n",
            "_________________________________________________________________\n",
            "conv2d_6 (Conv2D)            (None, 8, 8, 256)         295168    \n",
            "_________________________________________________________________\n",
            "max_pooling2d_6 (MaxPooling2 (None, 4, 4, 256)         0         \n",
            "_________________________________________________________________\n",
            "flatten_2 (Flatten)          (None, 4096)              0         \n",
            "_________________________________________________________________\n",
            "dense_3 (Dense)              (None, 512)               2097664   \n",
            "_________________________________________________________________\n",
            "dropout_2 (Dropout)          (None, 512)               0         \n",
            "_________________________________________________________________\n",
            "dense_4 (Dense)              (None, 2)                 1026      \n",
            "=================================================================\n",
            "Total params: 2,469,506\n",
            "Trainable params: 2,469,506\n",
            "Non-trainable params: 0\n",
            "_________________________________________________________________\n"
          ],
          "name": "stdout"
        }
      ]
    },
    {
      "cell_type": "code",
      "metadata": {
        "colab_type": "code",
        "outputId": "50dd33af-88ce-4114-f534-6ead193e30aa",
        "id": "kkayNMjDZSkO",
        "colab": {
          "base_uri": "https://localhost:8080/",
          "height": 1000
        }
      },
      "source": [
        "from keras.utils import plot_model\n",
        "\n",
        "plot_model(M, show_shapes=True, show_layer_names=True)"
      ],
      "execution_count": 53,
      "outputs": [
        {
          "output_type": "execute_result",
          "data": {
            "image/png": "[encoded data removed]",
            "text/plain": [
              "<IPython.core.display.Image object>"
            ]
          },
          "metadata": {
            "tags": []
          },
          "execution_count": 53
        }
      ]
    },
    {
      "cell_type": "code",
      "metadata": {
        "colab_type": "code",
        "id": "GfVxZaGrZSkb",
        "colab": {}
      },
      "source": [
        "from keras.optimizers import SGD\n",
        "opt = SGD(lr=0.01)\n",
        "\n",
        "M.compile(loss='binary_crossentropy',\n",
        "              optimizer='adam',\n",
        "              metrics=['accuracy'])"
      ],
      "execution_count": 0,
      "outputs": []
    },
    {
      "cell_type": "code",
      "metadata": {
        "colab_type": "code",
        "outputId": "de5e1880-b863-441c-d5a1-b4e56cd5623f",
        "id": "_OLO_vwoZSkr",
        "colab": {
          "base_uri": "https://localhost:8080/",
          "height": 1000
        }
      },
      "source": [
        "from tensorflow.keras.preprocessing.image import ImageDataGenerator\n",
        "# data augmentation configuration for training data\n",
        "train_datagen = ImageDataGenerator(\n",
        "    shear_range=0.2,\n",
        "    zoom_range=0.2,\n",
        "    horizontal_flip=True)\n",
        "\n",
        "# data augmentation configuration for test data:\n",
        "test_datagen = ImageDataGenerator()\n",
        "\n",
        "train_generator = train_datagen.flow(\n",
        "    x_train,\n",
        "    y_train,\n",
        "    batch_size=128,\n",
        "    )\n",
        "\n",
        "validation_generator = test_datagen.flow(\n",
        "    x_test,\n",
        "    y_test,\n",
        "    batch_size=128,\n",
        "    )\n",
        "\n",
        "history = M.fit_generator(\n",
        "    train_generator,\n",
        "    steps_per_epoch=len(x_train) // 128,\n",
        "    epochs=100,\n",
        "    validation_data=validation_generator,\n",
        "    validation_steps=len(x_test) // 128)"
      ],
      "execution_count": 64,
      "outputs": [
        {
          "output_type": "stream",
          "text": [
            "Epoch 1/100\n",
            "15/15 [==============================] - 1s 51ms/step - loss: 0.3624 - accuracy: 0.8210 - val_loss: 0.3956 - val_accuracy: 0.8260\n",
            "Epoch 2/100\n",
            "15/15 [==============================] - 1s 56ms/step - loss: 0.3516 - accuracy: 0.8273 - val_loss: 0.3417 - val_accuracy: 0.8173\n",
            "Epoch 3/100\n",
            "15/15 [==============================] - 1s 54ms/step - loss: 0.3414 - accuracy: 0.8306 - val_loss: 0.3237 - val_accuracy: 0.8411\n",
            "Epoch 4/100\n",
            "15/15 [==============================] - 1s 55ms/step - loss: 0.3248 - accuracy: 0.8422 - val_loss: 0.3679 - val_accuracy: 0.8176\n",
            "Epoch 5/100\n",
            "15/15 [==============================] - 1s 48ms/step - loss: 0.3284 - accuracy: 0.8494 - val_loss: 0.2602 - val_accuracy: 0.8595\n",
            "Epoch 6/100\n",
            "15/15 [==============================] - 1s 55ms/step - loss: 0.3309 - accuracy: 0.8488 - val_loss: 0.2601 - val_accuracy: 0.8544\n",
            "Epoch 7/100\n",
            "15/15 [==============================] - 1s 48ms/step - loss: 0.3033 - accuracy: 0.8539 - val_loss: 0.3183 - val_accuracy: 0.8673\n",
            "Epoch 8/100\n",
            "15/15 [==============================] - 1s 55ms/step - loss: 0.2650 - accuracy: 0.8763 - val_loss: 0.3321 - val_accuracy: 0.8878\n",
            "Epoch 9/100\n",
            "15/15 [==============================] - 1s 55ms/step - loss: 0.2504 - accuracy: 0.8893 - val_loss: 0.1598 - val_accuracy: 0.8793\n",
            "Epoch 10/100\n",
            "15/15 [==============================] - 1s 48ms/step - loss: 0.2255 - accuracy: 0.9010 - val_loss: 0.2190 - val_accuracy: 0.9030\n",
            "Epoch 11/100\n",
            "15/15 [==============================] - 1s 55ms/step - loss: 0.2166 - accuracy: 0.9120 - val_loss: 0.2257 - val_accuracy: 0.9217\n",
            "Epoch 12/100\n",
            "15/15 [==============================] - 1s 48ms/step - loss: 0.1754 - accuracy: 0.9322 - val_loss: 0.1646 - val_accuracy: 0.9244\n",
            "Epoch 13/100\n",
            "15/15 [==============================] - 1s 53ms/step - loss: 0.1623 - accuracy: 0.9399 - val_loss: 0.1669 - val_accuracy: 0.9295\n",
            "Epoch 14/100\n",
            "15/15 [==============================] - 1s 50ms/step - loss: 0.1494 - accuracy: 0.9418 - val_loss: 0.1470 - val_accuracy: 0.9509\n",
            "Epoch 15/100\n",
            "15/15 [==============================] - 1s 50ms/step - loss: 0.1378 - accuracy: 0.9468 - val_loss: 0.0942 - val_accuracy: 0.9458\n",
            "Epoch 16/100\n",
            "15/15 [==============================] - 1s 43ms/step - loss: 0.1266 - accuracy: 0.9527 - val_loss: 0.0935 - val_accuracy: 0.9501\n",
            "Epoch 17/100\n",
            "15/15 [==============================] - 1s 49ms/step - loss: 0.1286 - accuracy: 0.9514 - val_loss: 0.0960 - val_accuracy: 0.9518\n",
            "Epoch 18/100\n",
            "15/15 [==============================] - 1s 56ms/step - loss: 0.1217 - accuracy: 0.9509 - val_loss: 0.0897 - val_accuracy: 0.9570\n",
            "Epoch 19/100\n",
            "15/15 [==============================] - 1s 55ms/step - loss: 0.1179 - accuracy: 0.9573 - val_loss: 0.1675 - val_accuracy: 0.9559\n",
            "Epoch 20/100\n",
            "15/15 [==============================] - 1s 48ms/step - loss: 0.1011 - accuracy: 0.9629 - val_loss: 0.1687 - val_accuracy: 0.9468\n",
            "Epoch 21/100\n",
            "15/15 [==============================] - 1s 54ms/step - loss: 0.1066 - accuracy: 0.9592 - val_loss: 0.1179 - val_accuracy: 0.9575\n",
            "Epoch 22/100\n",
            "15/15 [==============================] - 1s 55ms/step - loss: 0.0991 - accuracy: 0.9607 - val_loss: 0.1363 - val_accuracy: 0.9682\n",
            "Epoch 23/100\n",
            "15/15 [==============================] - 1s 49ms/step - loss: 0.0886 - accuracy: 0.9657 - val_loss: 0.1435 - val_accuracy: 0.9535\n",
            "Epoch 24/100\n",
            "15/15 [==============================] - 1s 54ms/step - loss: 0.0932 - accuracy: 0.9646 - val_loss: 0.0794 - val_accuracy: 0.9615\n",
            "Epoch 25/100\n",
            "15/15 [==============================] - 1s 48ms/step - loss: 0.0790 - accuracy: 0.9729 - val_loss: 0.0607 - val_accuracy: 0.9554\n",
            "Epoch 26/100\n",
            "15/15 [==============================] - 1s 55ms/step - loss: 0.0932 - accuracy: 0.9607 - val_loss: 0.0447 - val_accuracy: 0.9586\n",
            "Epoch 27/100\n",
            "15/15 [==============================] - 1s 48ms/step - loss: 0.0925 - accuracy: 0.9622 - val_loss: 0.1663 - val_accuracy: 0.9594\n",
            "Epoch 28/100\n",
            "15/15 [==============================] - 1s 54ms/step - loss: 0.0843 - accuracy: 0.9693 - val_loss: 0.0889 - val_accuracy: 0.9602\n",
            "Epoch 29/100\n",
            "15/15 [==============================] - 1s 53ms/step - loss: 0.0814 - accuracy: 0.9714 - val_loss: 0.0388 - val_accuracy: 0.9674\n",
            "Epoch 30/100\n",
            "15/15 [==============================] - 1s 50ms/step - loss: 0.0795 - accuracy: 0.9671 - val_loss: 0.1015 - val_accuracy: 0.9645\n",
            "Epoch 31/100\n",
            "15/15 [==============================] - 1s 50ms/step - loss: 0.0649 - accuracy: 0.9797 - val_loss: 0.1251 - val_accuracy: 0.9615\n",
            "Epoch 32/100\n",
            "15/15 [==============================] - 1s 43ms/step - loss: 0.0670 - accuracy: 0.9765 - val_loss: 0.0620 - val_accuracy: 0.9669\n",
            "Epoch 33/100\n",
            "15/15 [==============================] - 1s 49ms/step - loss: 0.0690 - accuracy: 0.9752 - val_loss: 0.0336 - val_accuracy: 0.9628\n",
            "Epoch 34/100\n",
            "15/15 [==============================] - 1s 49ms/step - loss: 0.0852 - accuracy: 0.9685 - val_loss: 0.1056 - val_accuracy: 0.9704\n",
            "Epoch 35/100\n",
            "15/15 [==============================] - 1s 55ms/step - loss: 0.0711 - accuracy: 0.9746 - val_loss: 0.0301 - val_accuracy: 0.9615\n",
            "Epoch 36/100\n",
            "15/15 [==============================] - 1s 49ms/step - loss: 0.0833 - accuracy: 0.9704 - val_loss: 0.0588 - val_accuracy: 0.9696\n",
            "Epoch 37/100\n",
            "15/15 [==============================] - 1s 54ms/step - loss: 0.0607 - accuracy: 0.9815 - val_loss: 0.0774 - val_accuracy: 0.9570\n",
            "Epoch 38/100\n",
            "15/15 [==============================] - 1s 55ms/step - loss: 0.0797 - accuracy: 0.9717 - val_loss: 0.1331 - val_accuracy: 0.9709\n",
            "Epoch 39/100\n",
            "15/15 [==============================] - 1s 48ms/step - loss: 0.0620 - accuracy: 0.9764 - val_loss: 0.0658 - val_accuracy: 0.9629\n",
            "Epoch 40/100\n",
            "15/15 [==============================] - 1s 56ms/step - loss: 0.0540 - accuracy: 0.9773 - val_loss: 0.1082 - val_accuracy: 0.9717\n",
            "Epoch 41/100\n",
            "15/15 [==============================] - 1s 55ms/step - loss: 0.0560 - accuracy: 0.9768 - val_loss: 0.0511 - val_accuracy: 0.9704\n",
            "Epoch 42/100\n",
            "15/15 [==============================] - 1s 49ms/step - loss: 0.0696 - accuracy: 0.9744 - val_loss: 0.2071 - val_accuracy: 0.9575\n",
            "Epoch 43/100\n",
            "15/15 [==============================] - 1s 55ms/step - loss: 0.0629 - accuracy: 0.9742 - val_loss: 0.0902 - val_accuracy: 0.9685\n",
            "Epoch 44/100\n",
            "15/15 [==============================] - 1s 48ms/step - loss: 0.0575 - accuracy: 0.9784 - val_loss: 0.0698 - val_accuracy: 0.9741\n",
            "Epoch 45/100\n",
            "15/15 [==============================] - 1s 53ms/step - loss: 0.0621 - accuracy: 0.9778 - val_loss: 0.0120 - val_accuracy: 0.9762\n",
            "Epoch 46/100\n",
            "15/15 [==============================] - 1s 50ms/step - loss: 0.0691 - accuracy: 0.9749 - val_loss: 0.1334 - val_accuracy: 0.9631\n",
            "Epoch 47/100\n",
            "15/15 [==============================] - 1s 50ms/step - loss: 0.0554 - accuracy: 0.9808 - val_loss: 0.0727 - val_accuracy: 0.9717\n",
            "Epoch 48/100\n",
            "15/15 [==============================] - 1s 44ms/step - loss: 0.0633 - accuracy: 0.9768 - val_loss: 0.0651 - val_accuracy: 0.9693\n",
            "Epoch 49/100\n",
            "15/15 [==============================] - 1s 52ms/step - loss: 0.0657 - accuracy: 0.9752 - val_loss: 0.0525 - val_accuracy: 0.9711\n",
            "Epoch 50/100\n",
            "15/15 [==============================] - 1s 56ms/step - loss: 0.0541 - accuracy: 0.9800 - val_loss: 0.0375 - val_accuracy: 0.9674\n",
            "Epoch 51/100\n",
            "15/15 [==============================] - 1s 49ms/step - loss: 0.0473 - accuracy: 0.9813 - val_loss: 0.0500 - val_accuracy: 0.9776\n",
            "Epoch 52/100\n",
            "15/15 [==============================] - 1s 55ms/step - loss: 0.0570 - accuracy: 0.9789 - val_loss: 0.0113 - val_accuracy: 0.9741\n",
            "Epoch 53/100\n",
            "15/15 [==============================] - 1s 55ms/step - loss: 0.0684 - accuracy: 0.9762 - val_loss: 0.0698 - val_accuracy: 0.9661\n",
            "Epoch 54/100\n",
            "15/15 [==============================] - 1s 48ms/step - loss: 0.0437 - accuracy: 0.9834 - val_loss: 0.1189 - val_accuracy: 0.9749\n",
            "Epoch 55/100\n",
            "15/15 [==============================] - 1s 55ms/step - loss: 0.0506 - accuracy: 0.9802 - val_loss: 0.1478 - val_accuracy: 0.9730\n",
            "Epoch 56/100\n",
            "15/15 [==============================] - 1s 48ms/step - loss: 0.0419 - accuracy: 0.9833 - val_loss: 0.0847 - val_accuracy: 0.9754\n",
            "Epoch 57/100\n",
            "15/15 [==============================] - 1s 55ms/step - loss: 0.0489 - accuracy: 0.9813 - val_loss: 0.1166 - val_accuracy: 0.9583\n",
            "Epoch 58/100\n",
            "15/15 [==============================] - 1s 48ms/step - loss: 0.0526 - accuracy: 0.9786 - val_loss: 0.1017 - val_accuracy: 0.9714\n",
            "Epoch 59/100\n",
            "15/15 [==============================] - 1s 54ms/step - loss: 0.0646 - accuracy: 0.9768 - val_loss: 0.1357 - val_accuracy: 0.9746\n",
            "Epoch 60/100\n",
            "15/15 [==============================] - 1s 54ms/step - loss: 0.0534 - accuracy: 0.9821 - val_loss: 0.1242 - val_accuracy: 0.9634\n",
            "Epoch 61/100\n",
            "15/15 [==============================] - 1s 52ms/step - loss: 0.0573 - accuracy: 0.9786 - val_loss: 0.1167 - val_accuracy: 0.9661\n",
            "Epoch 62/100\n",
            "15/15 [==============================] - 1s 50ms/step - loss: 0.0495 - accuracy: 0.9824 - val_loss: 0.0263 - val_accuracy: 0.9752\n",
            "Epoch 63/100\n",
            "15/15 [==============================] - 1s 49ms/step - loss: 0.0480 - accuracy: 0.9810 - val_loss: 0.0428 - val_accuracy: 0.9674\n",
            "Epoch 64/100\n",
            "15/15 [==============================] - 1s 43ms/step - loss: 0.0505 - accuracy: 0.9818 - val_loss: 0.0807 - val_accuracy: 0.9741\n",
            "Epoch 65/100\n",
            "15/15 [==============================] - 1s 49ms/step - loss: 0.0407 - accuracy: 0.9861 - val_loss: 0.1131 - val_accuracy: 0.9729\n",
            "Epoch 66/100\n",
            "15/15 [==============================] - 1s 56ms/step - loss: 0.0369 - accuracy: 0.9880 - val_loss: 0.0305 - val_accuracy: 0.9781\n",
            "Epoch 67/100\n",
            "15/15 [==============================] - 1s 55ms/step - loss: 0.0387 - accuracy: 0.9888 - val_loss: 0.0271 - val_accuracy: 0.9722\n",
            "Epoch 68/100\n",
            "15/15 [==============================] - 1s 48ms/step - loss: 0.0383 - accuracy: 0.9839 - val_loss: 0.1097 - val_accuracy: 0.9752\n",
            "Epoch 69/100\n",
            "15/15 [==============================] - 1s 55ms/step - loss: 0.0435 - accuracy: 0.9844 - val_loss: 0.0477 - val_accuracy: 0.9794\n",
            "Epoch 70/100\n",
            "15/15 [==============================] - 1s 48ms/step - loss: 0.0523 - accuracy: 0.9773 - val_loss: 0.0641 - val_accuracy: 0.9757\n",
            "Epoch 71/100\n",
            "15/15 [==============================] - 1s 55ms/step - loss: 0.0413 - accuracy: 0.9854 - val_loss: 0.0407 - val_accuracy: 0.9696\n",
            "Epoch 72/100\n",
            "15/15 [==============================] - 1s 49ms/step - loss: 0.0455 - accuracy: 0.9846 - val_loss: 0.0639 - val_accuracy: 0.9789\n",
            "Epoch 73/100\n",
            "15/15 [==============================] - 1s 55ms/step - loss: 0.0492 - accuracy: 0.9823 - val_loss: 0.0906 - val_accuracy: 0.9725\n",
            "Epoch 74/100\n",
            "15/15 [==============================] - 1s 48ms/step - loss: 0.0341 - accuracy: 0.9888 - val_loss: 0.0175 - val_accuracy: 0.9773\n",
            "Epoch 75/100\n",
            "15/15 [==============================] - 1s 55ms/step - loss: 0.0408 - accuracy: 0.9857 - val_loss: 0.0574 - val_accuracy: 0.9760\n",
            "Epoch 76/100\n",
            "15/15 [==============================] - 1s 55ms/step - loss: 0.0332 - accuracy: 0.9880 - val_loss: 0.0455 - val_accuracy: 0.9784\n",
            "Epoch 77/100\n",
            "15/15 [==============================] - 1s 52ms/step - loss: 0.0310 - accuracy: 0.9872 - val_loss: 0.1516 - val_accuracy: 0.9728\n",
            "Epoch 78/100\n",
            "15/15 [==============================] - 1s 50ms/step - loss: 0.0365 - accuracy: 0.9885 - val_loss: 0.0626 - val_accuracy: 0.9789\n",
            "Epoch 79/100\n",
            "15/15 [==============================] - 1s 49ms/step - loss: 0.0304 - accuracy: 0.9912 - val_loss: 0.0751 - val_accuracy: 0.9781\n",
            "Epoch 80/100\n",
            "15/15 [==============================] - 1s 44ms/step - loss: 0.0248 - accuracy: 0.9901 - val_loss: 0.0372 - val_accuracy: 0.9781\n",
            "Epoch 81/100\n",
            "15/15 [==============================] - 1s 51ms/step - loss: 0.0372 - accuracy: 0.9875 - val_loss: 0.0316 - val_accuracy: 0.9742\n",
            "Epoch 82/100\n",
            "15/15 [==============================] - 1s 56ms/step - loss: 0.0391 - accuracy: 0.9877 - val_loss: 0.0513 - val_accuracy: 0.9792\n",
            "Epoch 83/100\n",
            "15/15 [==============================] - 1s 48ms/step - loss: 0.0365 - accuracy: 0.9882 - val_loss: 0.1054 - val_accuracy: 0.9706\n",
            "Epoch 84/100\n",
            "15/15 [==============================] - 1s 55ms/step - loss: 0.0455 - accuracy: 0.9805 - val_loss: 0.0445 - val_accuracy: 0.9832\n",
            "Epoch 85/100\n",
            "15/15 [==============================] - 1s 48ms/step - loss: 0.0276 - accuracy: 0.9924 - val_loss: 0.0283 - val_accuracy: 0.9733\n",
            "Epoch 86/100\n",
            "15/15 [==============================] - 1s 55ms/step - loss: 0.0319 - accuracy: 0.9888 - val_loss: 0.0547 - val_accuracy: 0.9746\n",
            "Epoch 87/100\n",
            "15/15 [==============================] - 1s 55ms/step - loss: 0.0386 - accuracy: 0.9864 - val_loss: 0.0374 - val_accuracy: 0.9776\n",
            "Epoch 88/100\n",
            "15/15 [==============================] - 1s 48ms/step - loss: 0.0330 - accuracy: 0.9866 - val_loss: 0.0266 - val_accuracy: 0.9786\n",
            "Epoch 89/100\n",
            "15/15 [==============================] - 1s 55ms/step - loss: 0.0317 - accuracy: 0.9891 - val_loss: 0.0209 - val_accuracy: 0.9805\n",
            "Epoch 90/100\n",
            "15/15 [==============================] - 1s 48ms/step - loss: 0.0229 - accuracy: 0.9885 - val_loss: 0.0475 - val_accuracy: 0.9744\n",
            "Epoch 91/100\n",
            "15/15 [==============================] - 1s 55ms/step - loss: 0.0250 - accuracy: 0.9924 - val_loss: 0.1144 - val_accuracy: 0.9730\n",
            "Epoch 92/100\n",
            "15/15 [==============================] - 1s 48ms/step - loss: 0.0251 - accuracy: 0.9909 - val_loss: 0.0369 - val_accuracy: 0.9714\n",
            "Epoch 93/100\n",
            "15/15 [==============================] - 1s 51ms/step - loss: 0.0484 - accuracy: 0.9814 - val_loss: 0.1479 - val_accuracy: 0.9682\n",
            "Epoch 94/100\n",
            "15/15 [==============================] - 1s 50ms/step - loss: 0.0354 - accuracy: 0.9880 - val_loss: 0.0429 - val_accuracy: 0.9792\n",
            "Epoch 95/100\n",
            "15/15 [==============================] - 1s 50ms/step - loss: 0.0390 - accuracy: 0.9890 - val_loss: 0.0066 - val_accuracy: 0.9810\n",
            "Epoch 96/100\n",
            "15/15 [==============================] - 1s 43ms/step - loss: 0.0237 - accuracy: 0.9925 - val_loss: 0.1535 - val_accuracy: 0.9786\n",
            "Epoch 97/100\n",
            "15/15 [==============================] - 1s 49ms/step - loss: 0.0208 - accuracy: 0.9933 - val_loss: 0.0655 - val_accuracy: 0.9812\n",
            "Epoch 98/100\n",
            "15/15 [==============================] - 1s 56ms/step - loss: 0.0289 - accuracy: 0.9914 - val_loss: 0.0474 - val_accuracy: 0.9813\n",
            "Epoch 99/100\n",
            "15/15 [==============================] - 1s 55ms/step - loss: 0.0184 - accuracy: 0.9940 - val_loss: 0.0630 - val_accuracy: 0.9797\n",
            "Epoch 100/100\n",
            "15/15 [==============================] - 1s 49ms/step - loss: 0.0283 - accuracy: 0.9901 - val_loss: 0.1280 - val_accuracy: 0.9818\n"
          ],
          "name": "stdout"
        }
      ]
    },
    {
      "cell_type": "code",
      "metadata": {
        "colab_type": "code",
        "outputId": "91205406-e569-4d93-e84c-911ffb8ee118",
        "id": "CLZAmPMxZSk1",
        "colab": {
          "base_uri": "https://localhost:8080/",
          "height": 53
        }
      },
      "source": [
        "#Evaluating test loss and test accuracy\n",
        "score = M.evaluate(x_test, y_test, verbose=0)\n",
        "print('Test loss:', score[0])\n",
        "print('Test accuracy:', score[1])"
      ],
      "execution_count": 65,
      "outputs": [
        {
          "output_type": "stream",
          "text": [
            "Test loss: 0.07054419852700085\n",
            "Test accuracy: 0.9792500138282776\n"
          ],
          "name": "stdout"
        }
      ]
    },
    {
      "cell_type": "code",
      "metadata": {
        "id": "XkTECh1IJkua",
        "colab_type": "code",
        "outputId": "4a2fb590-7cc6-4581-88f0-9020873a1d2c",
        "colab": {
          "base_uri": "https://localhost:8080/",
          "height": 573
        }
      },
      "source": [
        "plt.plot(history.history['accuracy'])\n",
        "plt.plot(history.history['val_accuracy'])\n",
        "plt.title('model accuracy')\n",
        "plt.ylabel('accuracy')\n",
        "plt.xlabel('epoch')\n",
        "plt.legend(['train', 'test'], loc='upper left')\n",
        "plt.show()\n",
        "\n",
        "plt.plot(history.history['loss'])\n",
        "plt.plot(history.history['val_loss'])\n",
        "plt.title('model loss')\n",
        "plt.ylabel('loss')\n",
        "plt.xlabel('epoch')\n",
        "plt.legend(['train', 'test'], loc='upper left')\n",
        "plt.show()"
      ],
      "execution_count": 0,
      "outputs": [
        {
          "output_type": "display_data",
          "data": {
            "image/png": "[encoded data removed]",
            "text/plain": [
              "<Figure size 432x288 with 1 Axes>"
            ]
          },
          "metadata": {
            "tags": [],
            "needs_background": "light"
          }
        },
        {
          "output_type": "display_data",
          "data": {
            "image/png": "[encoded data removed]",
            "text/plain": [
              "<Figure size 432x288 with 1 Axes>"
            ]
          },
          "metadata": {
            "tags": [],
            "needs_background": "light"
          }
        }
      ]
    },
    {
      "cell_type": "code",
      "metadata": {
        "id": "dQ9EQCnJisOQ",
        "colab_type": "code",
        "colab": {}
      },
      "source": [
        "\n",
        "datagen = ImageDataGenerator(\n",
        "    rotation_range=180,\n",
        "    horizontal_flip=True,\n",
        "    vertical_flip=True)\n",
        "\n",
        "datagen.fit(x_train)\n",
        "\n",
        "model.fit_generator(datagen.flow(x_train, y_train, batch_size=32),\n",
        "                    steps_per_epoch=len(x_train) / 32, epochs=epochs)"
      ],
      "execution_count": 0,
      "outputs": []
    },
    {
      "cell_type": "markdown",
      "metadata": {
        "id": "ZjYMgWYUFz11",
        "colab_type": "text"
      },
      "source": [
        "# VGG16"
      ]
    },
    {
      "cell_type": "code",
      "metadata": {
        "id": "wgH2jE5EGU7O",
        "colab_type": "code",
        "colab": {}
      },
      "source": [
        "from keras.applications import vgg16"
      ],
      "execution_count": 0,
      "outputs": []
    },
    {
      "cell_type": "code",
      "metadata": {
        "id": "f1DX7nYoF1P-",
        "colab_type": "code",
        "outputId": "f6aced5a-0ab5-4058-8e28-eb409c59567e",
        "colab": {
          "base_uri": "https://localhost:8080/",
          "height": 875
        }
      },
      "source": [
        "conv_base = vgg16.VGG16(include_top=False,\n",
        "            input_shape = input_shape)\n",
        "\n",
        "conv_base.summary()"
      ],
      "execution_count": 67,
      "outputs": [
        {
          "output_type": "stream",
          "text": [
            "Downloading data from https://github.com/fchollet/deep-learning-models/releases/download/v0.1/vgg16_weights_tf_dim_ordering_tf_kernels_notop.h5\n",
            "58892288/58889256 [==============================] - 5s 0us/step\n",
            "Model: \"vgg16\"\n",
            "_________________________________________________________________\n",
            "Layer (type)                 Output Shape              Param #   \n",
            "=================================================================\n",
            "input_1 (InputLayer)         (None, 32, 32, 3)         0         \n",
            "_________________________________________________________________\n",
            "block1_conv1 (Conv2D)        (None, 32, 32, 64)        1792      \n",
            "_________________________________________________________________\n",
            "block1_conv2 (Conv2D)        (None, 32, 32, 64)        36928     \n",
            "_________________________________________________________________\n",
            "block1_pool (MaxPooling2D)   (None, 16, 16, 64)        0         \n",
            "_________________________________________________________________\n",
            "block2_conv1 (Conv2D)        (None, 16, 16, 128)       73856     \n",
            "_________________________________________________________________\n",
            "block2_conv2 (Conv2D)        (None, 16, 16, 128)       147584    \n",
            "_________________________________________________________________\n",
            "block2_pool (MaxPooling2D)   (None, 8, 8, 128)         0         \n",
            "_________________________________________________________________\n",
            "block3_conv1 (Conv2D)        (None, 8, 8, 256)         295168    \n",
            "_________________________________________________________________\n",
            "block3_conv2 (Conv2D)        (None, 8, 8, 256)         590080    \n",
            "_________________________________________________________________\n",
            "block3_conv3 (Conv2D)        (None, 8, 8, 256)         590080    \n",
            "_________________________________________________________________\n",
            "block3_pool (MaxPooling2D)   (None, 4, 4, 256)         0         \n",
            "_________________________________________________________________\n",
            "block4_conv1 (Conv2D)        (None, 4, 4, 512)         1180160   \n",
            "_________________________________________________________________\n",
            "block4_conv2 (Conv2D)        (None, 4, 4, 512)         2359808   \n",
            "_________________________________________________________________\n",
            "block4_conv3 (Conv2D)        (None, 4, 4, 512)         2359808   \n",
            "_________________________________________________________________\n",
            "block4_pool (MaxPooling2D)   (None, 2, 2, 512)         0         \n",
            "_________________________________________________________________\n",
            "block5_conv1 (Conv2D)        (None, 2, 2, 512)         2359808   \n",
            "_________________________________________________________________\n",
            "block5_conv2 (Conv2D)        (None, 2, 2, 512)         2359808   \n",
            "_________________________________________________________________\n",
            "block5_conv3 (Conv2D)        (None, 2, 2, 512)         2359808   \n",
            "_________________________________________________________________\n",
            "block5_pool (MaxPooling2D)   (None, 1, 1, 512)         0         \n",
            "=================================================================\n",
            "Total params: 14,714,688\n",
            "Trainable params: 14,714,688\n",
            "Non-trainable params: 0\n",
            "_________________________________________________________________\n"
          ],
          "name": "stdout"
        }
      ]
    },
    {
      "cell_type": "code",
      "metadata": {
        "id": "GeEgiwkUGe7Y",
        "colab_type": "code",
        "outputId": "8589bae4-330e-4644-ce41-8559026b4662",
        "colab": {
          "base_uri": "https://localhost:8080/",
          "height": 35
        }
      },
      "source": [
        "# how many weights are trainable in the VGG16 model?\n",
        "len(conv_base.trainable_weights)"
      ],
      "execution_count": 68,
      "outputs": [
        {
          "output_type": "execute_result",
          "data": {
            "text/plain": [
              "26"
            ]
          },
          "metadata": {
            "tags": []
          },
          "execution_count": 68
        }
      ]
    },
    {
      "cell_type": "code",
      "metadata": {
        "id": "MVnUaVx_GgG4",
        "colab_type": "code",
        "colab": {}
      },
      "source": [
        "# freeze the weights\n",
        "for layer in conv_base.layers:\n",
        "  layer.trainable = False"
      ],
      "execution_count": 0,
      "outputs": []
    },
    {
      "cell_type": "code",
      "metadata": {
        "id": "F33DzsZHGhbn",
        "colab_type": "code",
        "outputId": "1e82f9c3-c4e8-4ef9-e669-5b244fa5c457",
        "colab": {
          "base_uri": "https://localhost:8080/",
          "height": 35
        }
      },
      "source": [
        "# now there are 0\n",
        "len(conv_base.trainable_weights)"
      ],
      "execution_count": 70,
      "outputs": [
        {
          "output_type": "execute_result",
          "data": {
            "text/plain": [
              "0"
            ]
          },
          "metadata": {
            "tags": []
          },
          "execution_count": 70
        }
      ]
    },
    {
      "cell_type": "code",
      "metadata": {
        "id": "V0DxDB5qGilw",
        "colab_type": "code",
        "colab": {}
      },
      "source": [
        "model_file = DRIVE_PATH + 'models/M2.h5'\n",
        "\n",
        "checkpoint = keras.callbacks.ModelCheckpoint(filepath = model_file,\n",
        "                                             monitor = 'val_loss',\n",
        "                                             save_best_only = True)\n",
        "\n",
        "callback_list = [checkpoint]"
      ],
      "execution_count": 0,
      "outputs": []
    },
    {
      "cell_type": "code",
      "metadata": {
        "id": "MCsibeCnGy0q",
        "colab_type": "code",
        "outputId": "e42e8a70-5685-47ca-fa76-f6d52a34e6d4",
        "colab": {
          "base_uri": "https://localhost:8080/",
          "height": 339
        }
      },
      "source": [
        "M2 = Sequential()\n",
        "\n",
        "M2.add(conv_base)\n",
        "\n",
        "M2.add(Flatten())\n",
        "M2.add(Dense(512, activation='relu'))\n",
        "M2.add(Dropout(0.2))\n",
        "M2.add(Dense(2, activation='sigmoid'))\n",
        "\n",
        "M2.summary()"
      ],
      "execution_count": 80,
      "outputs": [
        {
          "output_type": "stream",
          "text": [
            "Model: \"sequential_7\"\n",
            "_________________________________________________________________\n",
            "Layer (type)                 Output Shape              Param #   \n",
            "=================================================================\n",
            "vgg16 (Model)                (None, 1, 1, 512)         14714688  \n",
            "_________________________________________________________________\n",
            "flatten_7 (Flatten)          (None, 512)               0         \n",
            "_________________________________________________________________\n",
            "dense_13 (Dense)             (None, 512)               262656    \n",
            "_________________________________________________________________\n",
            "dropout_8 (Dropout)          (None, 512)               0         \n",
            "_________________________________________________________________\n",
            "dense_14 (Dense)             (None, 2)                 1026      \n",
            "=================================================================\n",
            "Total params: 14,978,370\n",
            "Trainable params: 263,682\n",
            "Non-trainable params: 14,714,688\n",
            "_________________________________________________________________\n"
          ],
          "name": "stdout"
        }
      ]
    },
    {
      "cell_type": "code",
      "metadata": {
        "id": "cDD7qAmiHGHS",
        "colab_type": "code",
        "outputId": "d356f641-6c2e-433b-ea39-0b782e4ccba4",
        "colab": {
          "base_uri": "https://localhost:8080/",
          "height": 644
        }
      },
      "source": [
        "plot_model(M2, show_shapes=True, show_layer_names=True)"
      ],
      "execution_count": 77,
      "outputs": [
        {
          "output_type": "execute_result",
          "data": {
            "image/png": "[encoded data removed]",
            "text/plain": [
              "<IPython.core.display.Image object>"
            ]
          },
          "metadata": {
            "tags": []
          },
          "execution_count": 77
        }
      ]
    },
    {
      "cell_type": "code",
      "metadata": {
        "id": "oM0yG2xlHH5U",
        "colab_type": "code",
        "colab": {}
      },
      "source": [
        "M2.compile(loss='binary_crossentropy',\n",
        "              optimizer='adam',\n",
        "              metrics=['accuracy'])"
      ],
      "execution_count": 0,
      "outputs": []
    },
    {
      "cell_type": "code",
      "metadata": {
        "id": "7Z8SjBBQMFNr",
        "colab_type": "code",
        "outputId": "60c378fd-32aa-46dc-9ebd-f06b021e47d4",
        "colab": {
          "base_uri": "https://localhost:8080/",
          "height": 1000
        }
      },
      "source": [
        "history = M2.fit_generator(\n",
        "    train_generator,\n",
        "    steps_per_epoch=len(x_train) // 128,\n",
        "    epochs=100,\n",
        "    validation_data=validation_generator,\n",
        "    validation_steps=len(x_test) // 128)"
      ],
      "execution_count": 82,
      "outputs": [
        {
          "output_type": "stream",
          "text": [
            "Epoch 1/100\n",
            "15/15 [==============================] - 1s 55ms/step - loss: 0.6116 - accuracy: 0.7193 - val_loss: 0.5445 - val_accuracy: 0.7500\n",
            "Epoch 2/100\n",
            "15/15 [==============================] - 1s 57ms/step - loss: 0.5681 - accuracy: 0.7553 - val_loss: 0.5711 - val_accuracy: 0.7468\n",
            "Epoch 3/100\n",
            "15/15 [==============================] - 1s 57ms/step - loss: 0.5709 - accuracy: 0.7495 - val_loss: 0.5360 - val_accuracy: 0.7500\n",
            "Epoch 4/100\n",
            "15/15 [==============================] - 1s 57ms/step - loss: 0.5690 - accuracy: 0.7479 - val_loss: 0.5673 - val_accuracy: 0.7495\n",
            "Epoch 5/100\n",
            "15/15 [==============================] - 1s 50ms/step - loss: 0.5724 - accuracy: 0.7489 - val_loss: 0.5869 - val_accuracy: 0.7473\n",
            "Epoch 6/100\n",
            "15/15 [==============================] - 1s 50ms/step - loss: 0.5678 - accuracy: 0.7490 - val_loss: 0.5573 - val_accuracy: 0.7575\n",
            "Epoch 7/100\n",
            "15/15 [==============================] - 1s 57ms/step - loss: 0.5616 - accuracy: 0.7596 - val_loss: 0.5269 - val_accuracy: 0.7511\n",
            "Epoch 8/100\n",
            "15/15 [==============================] - 1s 50ms/step - loss: 0.5784 - accuracy: 0.7420 - val_loss: 0.6165 - val_accuracy: 0.7436\n",
            "Epoch 9/100\n",
            "15/15 [==============================] - 1s 50ms/step - loss: 0.5665 - accuracy: 0.7505 - val_loss: 0.4962 - val_accuracy: 0.7575\n",
            "Epoch 10/100\n",
            "15/15 [==============================] - 1s 57ms/step - loss: 0.5690 - accuracy: 0.7458 - val_loss: 0.5536 - val_accuracy: 0.7372\n",
            "Epoch 11/100\n",
            "15/15 [==============================] - 1s 50ms/step - loss: 0.5576 - accuracy: 0.7596 - val_loss: 0.5463 - val_accuracy: 0.7612\n",
            "Epoch 12/100\n",
            "15/15 [==============================] - 1s 56ms/step - loss: 0.5633 - accuracy: 0.7489 - val_loss: 0.5270 - val_accuracy: 0.7495\n",
            "Epoch 13/100\n",
            "15/15 [==============================] - 1s 54ms/step - loss: 0.5640 - accuracy: 0.7505 - val_loss: 0.6006 - val_accuracy: 0.7441\n",
            "Epoch 14/100\n",
            "15/15 [==============================] - 1s 52ms/step - loss: 0.5660 - accuracy: 0.7500 - val_loss: 0.5534 - val_accuracy: 0.7543\n",
            "Epoch 15/100\n",
            "15/15 [==============================] - 1s 50ms/step - loss: 0.5672 - accuracy: 0.7463 - val_loss: 0.5418 - val_accuracy: 0.7521\n",
            "Epoch 16/100\n",
            "15/15 [==============================] - 1s 42ms/step - loss: 0.5653 - accuracy: 0.7511 - val_loss: 0.5922 - val_accuracy: 0.7484\n",
            "Epoch 17/100\n",
            "15/15 [==============================] - 1s 48ms/step - loss: 0.5716 - accuracy: 0.7500 - val_loss: 0.5537 - val_accuracy: 0.7505\n",
            "Epoch 18/100\n",
            "15/15 [==============================] - 1s 57ms/step - loss: 0.5654 - accuracy: 0.7468 - val_loss: 0.6112 - val_accuracy: 0.7436\n",
            "Epoch 19/100\n",
            "15/15 [==============================] - 1s 57ms/step - loss: 0.5662 - accuracy: 0.7505 - val_loss: 0.5252 - val_accuracy: 0.7553\n",
            "Epoch 20/100\n",
            "15/15 [==============================] - 1s 57ms/step - loss: 0.5608 - accuracy: 0.7505 - val_loss: 0.5543 - val_accuracy: 0.7521\n",
            "Epoch 21/100\n",
            "15/15 [==============================] - 1s 50ms/step - loss: 0.5583 - accuracy: 0.7547 - val_loss: 0.5918 - val_accuracy: 0.7495\n",
            "Epoch 22/100\n",
            "15/15 [==============================] - 1s 50ms/step - loss: 0.5769 - accuracy: 0.7412 - val_loss: 0.5340 - val_accuracy: 0.7463\n",
            "Epoch 23/100\n",
            "15/15 [==============================] - 1s 57ms/step - loss: 0.5569 - accuracy: 0.7580 - val_loss: 0.5533 - val_accuracy: 0.7489\n",
            "Epoch 24/100\n",
            "15/15 [==============================] - 1s 50ms/step - loss: 0.5610 - accuracy: 0.7542 - val_loss: 0.5535 - val_accuracy: 0.7650\n",
            "Epoch 25/100\n",
            "15/15 [==============================] - 1s 50ms/step - loss: 0.5752 - accuracy: 0.7423 - val_loss: 0.5642 - val_accuracy: 0.7324\n",
            "Epoch 26/100\n",
            "15/15 [==============================] - 1s 57ms/step - loss: 0.5658 - accuracy: 0.7495 - val_loss: 0.6033 - val_accuracy: 0.7479\n",
            "Epoch 27/100\n",
            "15/15 [==============================] - 1s 50ms/step - loss: 0.5585 - accuracy: 0.7548 - val_loss: 0.5711 - val_accuracy: 0.7553\n",
            "Epoch 28/100\n",
            "15/15 [==============================] - 1s 57ms/step - loss: 0.5629 - accuracy: 0.7505 - val_loss: 0.5784 - val_accuracy: 0.7516\n",
            "Epoch 29/100\n",
            "15/15 [==============================] - 1s 55ms/step - loss: 0.5697 - accuracy: 0.7420 - val_loss: 0.5961 - val_accuracy: 0.7559\n",
            "Epoch 30/100\n",
            "15/15 [==============================] - 1s 52ms/step - loss: 0.5545 - accuracy: 0.7585 - val_loss: 0.5621 - val_accuracy: 0.7500\n",
            "Epoch 31/100\n",
            "15/15 [==============================] - 1s 50ms/step - loss: 0.5770 - accuracy: 0.7366 - val_loss: 0.6087 - val_accuracy: 0.7425\n",
            "Epoch 32/100\n",
            "15/15 [==============================] - 1s 43ms/step - loss: 0.5532 - accuracy: 0.7591 - val_loss: 0.5328 - val_accuracy: 0.7532\n",
            "Epoch 33/100\n",
            "15/15 [==============================] - 1s 53ms/step - loss: 0.5604 - accuracy: 0.7505 - val_loss: 0.5543 - val_accuracy: 0.7469\n",
            "Epoch 34/100\n",
            "15/15 [==============================] - 1s 57ms/step - loss: 0.5659 - accuracy: 0.7468 - val_loss: 0.5260 - val_accuracy: 0.7569\n",
            "Epoch 35/100\n",
            "15/15 [==============================] - 1s 57ms/step - loss: 0.5699 - accuracy: 0.7473 - val_loss: 0.5587 - val_accuracy: 0.7420\n",
            "Epoch 36/100\n",
            "15/15 [==============================] - 1s 57ms/step - loss: 0.5643 - accuracy: 0.7516 - val_loss: 0.6400 - val_accuracy: 0.7521\n",
            "Epoch 37/100\n",
            "15/15 [==============================] - 1s 50ms/step - loss: 0.5548 - accuracy: 0.7582 - val_loss: 0.5441 - val_accuracy: 0.7468\n",
            "Epoch 38/100\n",
            "15/15 [==============================] - 1s 50ms/step - loss: 0.5693 - accuracy: 0.7457 - val_loss: 0.5784 - val_accuracy: 0.7521\n",
            "Epoch 39/100\n",
            "15/15 [==============================] - 1s 50ms/step - loss: 0.5648 - accuracy: 0.7479 - val_loss: 0.5784 - val_accuracy: 0.7521\n",
            "Epoch 40/100\n",
            "15/15 [==============================] - 1s 57ms/step - loss: 0.5648 - accuracy: 0.7489 - val_loss: 0.5786 - val_accuracy: 0.7500\n",
            "Epoch 41/100\n",
            "15/15 [==============================] - 1s 50ms/step - loss: 0.5591 - accuracy: 0.7531 - val_loss: 0.5352 - val_accuracy: 0.7495\n",
            "Epoch 42/100\n",
            "15/15 [==============================] - 1s 57ms/step - loss: 0.5604 - accuracy: 0.7532 - val_loss: 0.6067 - val_accuracy: 0.7591\n",
            "Epoch 43/100\n",
            "15/15 [==============================] - 1s 51ms/step - loss: 0.5660 - accuracy: 0.7473 - val_loss: 0.6181 - val_accuracy: 0.7399\n",
            "Epoch 44/100\n",
            "15/15 [==============================] - 1s 57ms/step - loss: 0.5660 - accuracy: 0.7469 - val_loss: 0.5270 - val_accuracy: 0.7559\n",
            "Epoch 45/100\n",
            "15/15 [==============================] - 1s 54ms/step - loss: 0.5590 - accuracy: 0.7564 - val_loss: 0.5000 - val_accuracy: 0.7559\n",
            "Epoch 46/100\n",
            "15/15 [==============================] - 1s 52ms/step - loss: 0.5670 - accuracy: 0.7479 - val_loss: 0.5702 - val_accuracy: 0.7356\n",
            "Epoch 47/100\n",
            "15/15 [==============================] - 1s 50ms/step - loss: 0.5597 - accuracy: 0.7516 - val_loss: 0.5618 - val_accuracy: 0.7553\n",
            "Epoch 48/100\n",
            "15/15 [==============================] - 1s 42ms/step - loss: 0.5666 - accuracy: 0.7468 - val_loss: 0.5352 - val_accuracy: 0.7500\n",
            "Epoch 49/100\n",
            "15/15 [==============================] - 1s 52ms/step - loss: 0.5663 - accuracy: 0.7473 - val_loss: 0.5620 - val_accuracy: 0.7521\n",
            "Epoch 50/100\n",
            "15/15 [==============================] - 1s 64ms/step - loss: 0.5625 - accuracy: 0.7516 - val_loss: 0.6016 - val_accuracy: 0.7436\n",
            "Epoch 51/100\n",
            "15/15 [==============================] - 1s 57ms/step - loss: 0.5573 - accuracy: 0.7532 - val_loss: 0.5532 - val_accuracy: 0.7575\n",
            "Epoch 52/100\n",
            "15/15 [==============================] - 1s 50ms/step - loss: 0.5606 - accuracy: 0.7526 - val_loss: 0.5620 - val_accuracy: 0.7511\n",
            "Epoch 53/100\n",
            "15/15 [==============================] - 1s 57ms/step - loss: 0.5732 - accuracy: 0.7441 - val_loss: 0.5084 - val_accuracy: 0.7468\n",
            "Epoch 54/100\n",
            "15/15 [==============================] - 1s 50ms/step - loss: 0.5415 - accuracy: 0.7681 - val_loss: 0.6322 - val_accuracy: 0.7479\n",
            "Epoch 55/100\n",
            "15/15 [==============================] - 1s 50ms/step - loss: 0.5717 - accuracy: 0.7437 - val_loss: 0.5366 - val_accuracy: 0.7527\n",
            "Epoch 56/100\n",
            "15/15 [==============================] - 1s 50ms/step - loss: 0.5706 - accuracy: 0.7423 - val_loss: 0.6062 - val_accuracy: 0.7441\n",
            "Epoch 57/100\n",
            "15/15 [==============================] - 1s 57ms/step - loss: 0.5684 - accuracy: 0.7452 - val_loss: 0.5617 - val_accuracy: 0.7553\n",
            "Epoch 58/100\n",
            "15/15 [==============================] - 1s 50ms/step - loss: 0.5564 - accuracy: 0.7578 - val_loss: 0.5248 - val_accuracy: 0.7457\n",
            "Epoch 59/100\n",
            "15/15 [==============================] - 1s 50ms/step - loss: 0.5695 - accuracy: 0.7462 - val_loss: 0.5791 - val_accuracy: 0.7548\n",
            "Epoch 60/100\n",
            "15/15 [==============================] - 1s 58ms/step - loss: 0.5659 - accuracy: 0.7474 - val_loss: 0.5384 - val_accuracy: 0.7484\n",
            "Epoch 61/100\n",
            "15/15 [==============================] - 1s 55ms/step - loss: 0.5556 - accuracy: 0.7543 - val_loss: 0.5264 - val_accuracy: 0.7537\n",
            "Epoch 62/100\n",
            "15/15 [==============================] - 1s 52ms/step - loss: 0.5683 - accuracy: 0.7457 - val_loss: 0.5448 - val_accuracy: 0.7447\n",
            "Epoch 63/100\n",
            "15/15 [==============================] - 1s 50ms/step - loss: 0.5642 - accuracy: 0.7505 - val_loss: 0.7171 - val_accuracy: 0.7425\n",
            "Epoch 64/100\n",
            "15/15 [==============================] - 1s 45ms/step - loss: 0.5645 - accuracy: 0.7500 - val_loss: 0.5337 - val_accuracy: 0.7591\n",
            "Epoch 65/100\n",
            "15/15 [==============================] - 1s 53ms/step - loss: 0.5682 - accuracy: 0.7484 - val_loss: 0.5531 - val_accuracy: 0.7479\n",
            "Epoch 66/100\n",
            "15/15 [==============================] - 1s 64ms/step - loss: 0.5548 - accuracy: 0.7591 - val_loss: 0.5795 - val_accuracy: 0.7521\n",
            "Epoch 67/100\n",
            "15/15 [==============================] - 1s 57ms/step - loss: 0.5696 - accuracy: 0.7436 - val_loss: 0.5619 - val_accuracy: 0.7532\n",
            "Epoch 68/100\n",
            "15/15 [==============================] - 1s 57ms/step - loss: 0.5666 - accuracy: 0.7468 - val_loss: 0.5370 - val_accuracy: 0.7409\n",
            "Epoch 69/100\n",
            "15/15 [==============================] - 1s 57ms/step - loss: 0.5663 - accuracy: 0.7484 - val_loss: 0.6021 - val_accuracy: 0.7585\n",
            "Epoch 70/100\n",
            "15/15 [==============================] - 1s 50ms/step - loss: 0.5588 - accuracy: 0.7553 - val_loss: 0.5526 - val_accuracy: 0.7516\n",
            "Epoch 71/100\n",
            "15/15 [==============================] - 1s 50ms/step - loss: 0.5587 - accuracy: 0.7553 - val_loss: 0.5970 - val_accuracy: 0.7489\n",
            "Epoch 72/100\n",
            "15/15 [==============================] - 1s 57ms/step - loss: 0.5725 - accuracy: 0.7415 - val_loss: 0.5544 - val_accuracy: 0.7425\n",
            "Epoch 73/100\n",
            "15/15 [==============================] - 1s 57ms/step - loss: 0.5466 - accuracy: 0.7655 - val_loss: 0.5662 - val_accuracy: 0.7500\n",
            "Epoch 74/100\n",
            "15/15 [==============================] - 1s 50ms/step - loss: 0.5800 - accuracy: 0.7396 - val_loss: 0.5934 - val_accuracy: 0.7452\n",
            "Epoch 75/100\n",
            "15/15 [==============================] - 1s 57ms/step - loss: 0.5662 - accuracy: 0.7468 - val_loss: 0.5529 - val_accuracy: 0.7639\n",
            "Epoch 76/100\n",
            "15/15 [==============================] - 1s 58ms/step - loss: 0.5665 - accuracy: 0.7468 - val_loss: 0.6160 - val_accuracy: 0.7415\n",
            "Epoch 77/100\n",
            "15/15 [==============================] - 1s 54ms/step - loss: 0.5508 - accuracy: 0.7599 - val_loss: 0.5962 - val_accuracy: 0.7532\n",
            "Epoch 78/100\n",
            "15/15 [==============================] - 1s 53ms/step - loss: 0.5752 - accuracy: 0.7422 - val_loss: 0.5103 - val_accuracy: 0.7452\n",
            "Epoch 79/100\n",
            "15/15 [==============================] - 1s 50ms/step - loss: 0.5633 - accuracy: 0.7527 - val_loss: 0.5086 - val_accuracy: 0.7585\n",
            "Epoch 80/100\n",
            "15/15 [==============================] - 1s 44ms/step - loss: 0.5650 - accuracy: 0.7489 - val_loss: 0.6369 - val_accuracy: 0.7468\n",
            "Epoch 81/100\n",
            "15/15 [==============================] - 1s 52ms/step - loss: 0.5601 - accuracy: 0.7532 - val_loss: 0.5808 - val_accuracy: 0.7510\n",
            "Epoch 82/100\n",
            "15/15 [==============================] - 1s 64ms/step - loss: 0.5717 - accuracy: 0.7417 - val_loss: 0.5038 - val_accuracy: 0.7468\n",
            "Epoch 83/100\n",
            "15/15 [==============================] - 1s 57ms/step - loss: 0.5553 - accuracy: 0.7566 - val_loss: 0.5711 - val_accuracy: 0.7569\n",
            "Epoch 84/100\n",
            "15/15 [==============================] - 1s 57ms/step - loss: 0.5576 - accuracy: 0.7552 - val_loss: 0.5959 - val_accuracy: 0.7479\n",
            "Epoch 85/100\n",
            "15/15 [==============================] - 1s 57ms/step - loss: 0.5741 - accuracy: 0.7440 - val_loss: 0.5375 - val_accuracy: 0.7463\n",
            "Epoch 86/100\n",
            "15/15 [==============================] - 1s 50ms/step - loss: 0.5667 - accuracy: 0.7489 - val_loss: 0.5443 - val_accuracy: 0.7521\n",
            "Epoch 87/100\n",
            "15/15 [==============================] - 1s 57ms/step - loss: 0.5631 - accuracy: 0.7495 - val_loss: 0.5883 - val_accuracy: 0.7431\n",
            "Epoch 88/100\n",
            "15/15 [==============================] - 1s 50ms/step - loss: 0.5611 - accuracy: 0.7511 - val_loss: 0.5272 - val_accuracy: 0.7564\n",
            "Epoch 89/100\n",
            "15/15 [==============================] - 1s 50ms/step - loss: 0.5666 - accuracy: 0.7489 - val_loss: 0.5934 - val_accuracy: 0.7548\n",
            "Epoch 90/100\n",
            "15/15 [==============================] - 1s 50ms/step - loss: 0.5654 - accuracy: 0.7473 - val_loss: 0.5970 - val_accuracy: 0.7452\n",
            "Epoch 91/100\n",
            "15/15 [==============================] - 1s 57ms/step - loss: 0.5621 - accuracy: 0.7500 - val_loss: 0.5288 - val_accuracy: 0.7505\n",
            "Epoch 92/100\n",
            "15/15 [==============================] - 1s 55ms/step - loss: 0.5682 - accuracy: 0.7478 - val_loss: 0.6090 - val_accuracy: 0.7473\n",
            "Epoch 93/100\n",
            "15/15 [==============================] - 1s 54ms/step - loss: 0.5566 - accuracy: 0.7563 - val_loss: 0.5784 - val_accuracy: 0.7527\n",
            "Epoch 94/100\n",
            "15/15 [==============================] - 1s 52ms/step - loss: 0.5664 - accuracy: 0.7473 - val_loss: 0.4480 - val_accuracy: 0.7548\n",
            "Epoch 95/100\n",
            "15/15 [==============================] - 1s 50ms/step - loss: 0.5599 - accuracy: 0.7516 - val_loss: 0.5446 - val_accuracy: 0.7452\n",
            "Epoch 96/100\n",
            "15/15 [==============================] - 1s 43ms/step - loss: 0.5617 - accuracy: 0.7505 - val_loss: 0.5612 - val_accuracy: 0.7489\n",
            "Epoch 97/100\n",
            "15/15 [==============================] - 1s 48ms/step - loss: 0.5689 - accuracy: 0.7468 - val_loss: 0.5384 - val_accuracy: 0.7500\n",
            "Epoch 98/100\n",
            "15/15 [==============================] - 1s 63ms/step - loss: 0.5638 - accuracy: 0.7505 - val_loss: 0.5781 - val_accuracy: 0.7489\n",
            "Epoch 99/100\n",
            "15/15 [==============================] - 1s 57ms/step - loss: 0.5636 - accuracy: 0.7500 - val_loss: 0.6356 - val_accuracy: 0.7468\n",
            "Epoch 100/100\n",
            "15/15 [==============================] - 1s 50ms/step - loss: 0.5631 - accuracy: 0.7500 - val_loss: 0.4959 - val_accuracy: 0.7607\n"
          ],
          "name": "stdout"
        }
      ]
    },
    {
      "cell_type": "code",
      "metadata": {
        "id": "7cNotEjxHNE-",
        "colab_type": "code",
        "outputId": "21403784-8937-4b4e-837b-ec17d8e76edb",
        "colab": {
          "base_uri": "https://localhost:8080/",
          "height": 53
        }
      },
      "source": [
        "score = M2.evaluate(x_test, y_test, verbose=0)\n",
        "print('Test loss:', score[0])\n",
        "print('Test accuracy:', score[1])"
      ],
      "execution_count": 0,
      "outputs": [
        {
          "output_type": "stream",
          "text": [
            "Test loss: 0.566182641506195\n",
            "Test accuracy: 0.75\n"
          ],
          "name": "stdout"
        }
      ]
    },
    {
      "cell_type": "code",
      "metadata": {
        "id": "KslvMRm4HPy3",
        "colab_type": "code",
        "outputId": "88ca9576-a6e1-4edb-9601-419047578063",
        "colab": {
          "base_uri": "https://localhost:8080/",
          "height": 573
        }
      },
      "source": [
        "plt.plot(history.history['accuracy'])\n",
        "plt.plot(history.history['val_accuracy'])\n",
        "plt.title('model accuracy')\n",
        "plt.ylabel('accuracy')\n",
        "plt.xlabel('epoch')\n",
        "plt.legend(['train', 'test'], loc='upper left')\n",
        "plt.show()\n",
        "\n",
        "plt.plot(history.history['loss'])\n",
        "plt.plot(history.history['val_loss'])\n",
        "plt.title('model loss')\n",
        "plt.ylabel('loss')\n",
        "plt.xlabel('epoch')\n",
        "plt.legend(['train', 'test'], loc='upper left')\n",
        "plt.show()"
      ],
      "execution_count": 0,
      "outputs": [
        {
          "output_type": "display_data",
          "data": {
            "image/png": "[encoded data removed]",
            "text/plain": [
              "<Figure size 432x288 with 1 Axes>"
            ]
          },
          "metadata": {
            "tags": [],
            "needs_background": "light"
          }
        },
        {
          "output_type": "display_data",
          "data": {
            "image/png": "[encoded data removed]",
            "text/plain": [
              "<Figure size 432x288 with 1 Axes>"
            ]
          },
          "metadata": {
            "tags": [],
            "needs_background": "light"
          }
        }
      ]
    },
    {
      "cell_type": "code",
      "metadata": {
        "id": "cDUJiDEpMxRI",
        "colab_type": "code",
        "colab": {}
      },
      "source": [
        "# unfreeze the latter 2/3ds of the base\n",
        "for layer in conv_base.layers[7:]:\n",
        "  layer.trainable = True"
      ],
      "execution_count": 0,
      "outputs": []
    },
    {
      "cell_type": "code",
      "metadata": {
        "id": "Yl-FTlxnMx6s",
        "colab_type": "code",
        "outputId": "3e4a5db5-9fca-4670-da7c-3df4e8049c83",
        "colab": {
          "base_uri": "https://localhost:8080/",
          "height": 35
        }
      },
      "source": [
        "len(conv_base.trainable_weights)"
      ],
      "execution_count": 0,
      "outputs": [
        {
          "output_type": "execute_result",
          "data": {
            "text/plain": [
              "18"
            ]
          },
          "metadata": {
            "tags": []
          },
          "execution_count": 88
        }
      ]
    },
    {
      "cell_type": "code",
      "metadata": {
        "id": "BaMu7MgEM4wk",
        "colab_type": "code",
        "colab": {}
      },
      "source": [
        "from keras.optimizers import adam"
      ],
      "execution_count": 0,
      "outputs": []
    },
    {
      "cell_type": "code",
      "metadata": {
        "id": "z43jlUMXM0Y3",
        "colab_type": "code",
        "colab": {}
      },
      "source": [
        "# set a lower learning rate to minimize magnitude of changes to weights\n",
        "M2.compile(loss='binary_crossentropy',\n",
        "              optimizer=adam(learning_rate=1e-4),\n",
        "              metrics=['accuracy'])"
      ],
      "execution_count": 0,
      "outputs": []
    },
    {
      "cell_type": "code",
      "metadata": {
        "id": "ktgGPn3BNN6k",
        "colab_type": "code",
        "outputId": "bd55d823-2e1c-4245-a154-7a834cd38b63",
        "colab": {
          "base_uri": "https://localhost:8080/",
          "height": 732
        }
      },
      "source": [
        "history = M2.fit_generator(\n",
        "    train_generator,\n",
        "    steps_per_epoch=len(x_train) // 128,\n",
        "    epochs=20,\n",
        "    validation_data=validation_generator,\n",
        "    validation_steps=len(x_test) // 128)"
      ],
      "execution_count": 0,
      "outputs": [
        {
          "output_type": "stream",
          "text": [
            "Epoch 1/20\n",
            "15/15 [==============================] - 2s 107ms/step - loss: 0.5733 - accuracy: 0.7500 - val_loss: 0.5638 - val_accuracy: 0.7484\n",
            "Epoch 2/20\n",
            "15/15 [==============================] - 1s 84ms/step - loss: 0.5602 - accuracy: 0.7569 - val_loss: 0.5603 - val_accuracy: 0.7500\n",
            "Epoch 3/20\n",
            "15/15 [==============================] - 1s 84ms/step - loss: 0.5768 - accuracy: 0.7404 - val_loss: 0.5531 - val_accuracy: 0.7511\n",
            "Epoch 4/20\n",
            "15/15 [==============================] - 1s 78ms/step - loss: 0.5723 - accuracy: 0.7431 - val_loss: 0.5352 - val_accuracy: 0.7516\n",
            "Epoch 5/20\n",
            "15/15 [==============================] - 1s 77ms/step - loss: 0.5559 - accuracy: 0.7568 - val_loss: 0.5162 - val_accuracy: 0.7527\n",
            "Epoch 6/20\n",
            "15/15 [==============================] - 1s 78ms/step - loss: 0.5574 - accuracy: 0.7522 - val_loss: 0.5902 - val_accuracy: 0.7479\n",
            "Epoch 7/20\n",
            "15/15 [==============================] - 1s 77ms/step - loss: 0.5735 - accuracy: 0.7441 - val_loss: 0.5648 - val_accuracy: 0.7457\n",
            "Epoch 8/20\n",
            "15/15 [==============================] - 1s 83ms/step - loss: 0.5620 - accuracy: 0.7542 - val_loss: 0.6150 - val_accuracy: 0.7521\n",
            "Epoch 9/20\n",
            "15/15 [==============================] - 1s 71ms/step - loss: 0.5704 - accuracy: 0.7489 - val_loss: 0.5705 - val_accuracy: 0.7473\n",
            "Epoch 10/20\n",
            "15/15 [==============================] - 1s 84ms/step - loss: 0.5711 - accuracy: 0.7441 - val_loss: 0.5724 - val_accuracy: 0.7564\n",
            "Epoch 11/20\n",
            "15/15 [==============================] - 1s 77ms/step - loss: 0.5538 - accuracy: 0.7604 - val_loss: 0.5945 - val_accuracy: 0.7329\n",
            "Epoch 12/20\n",
            "15/15 [==============================] - 1s 78ms/step - loss: 0.5705 - accuracy: 0.7463 - val_loss: 0.5738 - val_accuracy: 0.7634\n",
            "Epoch 13/20\n",
            "15/15 [==============================] - 1s 76ms/step - loss: 0.5695 - accuracy: 0.7473 - val_loss: 0.5610 - val_accuracy: 0.7527\n",
            "Epoch 14/20\n",
            "15/15 [==============================] - 1s 73ms/step - loss: 0.5598 - accuracy: 0.7516 - val_loss: 0.6148 - val_accuracy: 0.7463\n",
            "Epoch 15/20\n",
            "15/15 [==============================] - 1s 77ms/step - loss: 0.5631 - accuracy: 0.7521 - val_loss: 0.5580 - val_accuracy: 0.7527\n",
            "Epoch 16/20\n",
            "15/15 [==============================] - 1s 68ms/step - loss: 0.5606 - accuracy: 0.7511 - val_loss: 0.5771 - val_accuracy: 0.7489\n",
            "Epoch 17/20\n",
            "15/15 [==============================] - 1s 77ms/step - loss: 0.5632 - accuracy: 0.7510 - val_loss: 0.5846 - val_accuracy: 0.7505\n",
            "Epoch 18/20\n",
            "15/15 [==============================] - 1s 84ms/step - loss: 0.5627 - accuracy: 0.7505 - val_loss: 0.5957 - val_accuracy: 0.7495\n",
            "Epoch 19/20\n",
            "15/15 [==============================] - 1s 78ms/step - loss: 0.5688 - accuracy: 0.7473 - val_loss: 0.6148 - val_accuracy: 0.7495\n",
            "Epoch 20/20\n",
            "15/15 [==============================] - 1s 84ms/step - loss: 0.5598 - accuracy: 0.7521 - val_loss: 0.6273 - val_accuracy: 0.7527\n"
          ],
          "name": "stdout"
        }
      ]
    },
    {
      "cell_type": "code",
      "metadata": {
        "id": "WzeBBBB7NRD-",
        "colab_type": "code",
        "outputId": "e6b37366-6c2e-4b8f-9d12-33aea8416d75",
        "colab": {
          "base_uri": "https://localhost:8080/",
          "height": 53
        }
      },
      "source": [
        "score = M2.evaluate(x_test, y_test, verbose=0)\n",
        "print('Test loss:', score[0])\n",
        "print('Test accuracy:', score[1])"
      ],
      "execution_count": 0,
      "outputs": [
        {
          "output_type": "stream",
          "text": [
            "Test loss: 0.5722294955253601\n",
            "Test accuracy: 0.75\n"
          ],
          "name": "stdout"
        }
      ]
    },
    {
      "cell_type": "code",
      "metadata": {
        "id": "A5K1wLgjNedV",
        "colab_type": "code",
        "colab": {}
      },
      "source": [
        "model_file = DRIVE_PATH + 'models/M3.h5'\n",
        "\n",
        "early_stop = keras.callbacks.EarlyStopping(monitor = 'val_loss', # what is the metric to measure\n",
        "                              patience = 15, # how many epochs to continue running the model after seeing an increase in val_loss\n",
        "                              restore_best_weights = True) # update the model with the best-seen weights?\n",
        "\n",
        "reduce_LR = keras.callbacks.ReduceLROnPlateau(monitor = 'val_loss',\n",
        "                                              factor = 0.1,\n",
        "                                              patience = 5) # to make sure early_stop is what stops the model\n",
        "\n",
        "checkpoint = keras.callbacks.ModelCheckpoint(filepath = model_file,\n",
        "                                             monitor = 'val_loss',\n",
        "                                             save_best_only = True)\n",
        "\n",
        "callback_list = [reduce_LR, early_stop, checkpoint]"
      ],
      "execution_count": 0,
      "outputs": []
    },
    {
      "cell_type": "code",
      "metadata": {
        "id": "1WGpNvHpNkQA",
        "colab_type": "code",
        "colab": {}
      },
      "source": [
        "# print learning rate each epoch to see if reduce_LR is working as expected\n",
        "# https://stackoverflow.com/questions/48198031/keras-add-variables-to-progress-bar/48206009#48206009\n",
        "def get_lr_metric(optimizer):\n",
        "    def lr(y_true, y_pred):\n",
        "        return optimizer.lr\n",
        "    return lr\n",
        "\n",
        "optimizer = adam(learning_rate=1e-4)\n",
        "lr_metric = get_lr_metric(optimizer)"
      ],
      "execution_count": 0,
      "outputs": []
    },
    {
      "cell_type": "code",
      "metadata": {
        "id": "Wk_rD1LgNniP",
        "colab_type": "code",
        "outputId": "b0a94d9f-f968-4c85-a43d-1979fe24d63d",
        "colab": {
          "base_uri": "https://localhost:8080/",
          "height": 339
        }
      },
      "source": [
        "M3 = Sequential()\n",
        "\n",
        "M3.add(conv_base)\n",
        "\n",
        "M3.add(Flatten())\n",
        "M3.add(Dropout(0.5))\n",
        "M3.add(Dense(512, activation='relu'))\n",
        "M3.add(Dense(2, activation='sigmoid'))\n",
        "\n",
        "M3.summary()"
      ],
      "execution_count": 0,
      "outputs": [
        {
          "output_type": "stream",
          "text": [
            "Model: \"sequential_6\"\n",
            "_________________________________________________________________\n",
            "Layer (type)                 Output Shape              Param #   \n",
            "=================================================================\n",
            "vgg16 (Model)                (None, 1, 1, 512)         14714688  \n",
            "_________________________________________________________________\n",
            "flatten_6 (Flatten)          (None, 512)               0         \n",
            "_________________________________________________________________\n",
            "dropout_14 (Dropout)         (None, 512)               0         \n",
            "_________________________________________________________________\n",
            "dense_11 (Dense)             (None, 512)               262656    \n",
            "_________________________________________________________________\n",
            "dense_12 (Dense)             (None, 2)                 1026      \n",
            "=================================================================\n",
            "Total params: 14,978,370\n",
            "Trainable params: 14,718,210\n",
            "Non-trainable params: 260,160\n",
            "_________________________________________________________________\n"
          ],
          "name": "stdout"
        }
      ]
    },
    {
      "cell_type": "code",
      "metadata": {
        "id": "qjiWyiEtNxOU",
        "colab_type": "code",
        "colab": {}
      },
      "source": [
        "M3.compile(loss='binary_crossentropy',\n",
        "              optimizer=adam(learning_rate=1e-4),\n",
        "              metrics=['accuracy', lr_metric])"
      ],
      "execution_count": 0,
      "outputs": []
    },
    {
      "cell_type": "code",
      "metadata": {
        "id": "wmdMmcbpN1FL",
        "colab_type": "code",
        "outputId": "f8be5707-3b85-4a2e-e072-4b61ae06e54f",
        "colab": {
          "base_uri": "https://localhost:8080/",
          "height": 1000
        }
      },
      "source": [
        "history = M3.fit_generator(\n",
        "    train_generator,\n",
        "    steps_per_epoch=len(x_train) // 128,\n",
        "    epochs=100,\n",
        "    validation_data=validation_generator,\n",
        "    validation_steps=len(x_test) // 128,\n",
        "                 callbacks = callback_list)"
      ],
      "execution_count": 0,
      "outputs": [
        {
          "output_type": "stream",
          "text": [
            "Epoch 1/100\n",
            "15/15 [==============================] - 1s 85ms/step - loss: 0.5648 - accuracy: 0.7505 - lr: 1.0000e-04 - val_loss: 0.5624 - val_accuracy: 0.7516 - val_lr: 1.0000e-04\n",
            "Epoch 2/100\n",
            "15/15 [==============================] - 1s 86ms/step - loss: 0.5673 - accuracy: 0.7495 - lr: 1.0000e-04 - val_loss: 0.5539 - val_accuracy: 0.7527 - val_lr: 1.0000e-04\n",
            "Epoch 3/100\n",
            "15/15 [==============================] - 1s 97ms/step - loss: 0.5584 - accuracy: 0.7543 - lr: 1.0000e-04 - val_loss: 0.6050 - val_accuracy: 0.7479 - val_lr: 1.0000e-04\n",
            "Epoch 4/100\n",
            "15/15 [==============================] - 2s 111ms/step - loss: 0.5634 - accuracy: 0.7526 - lr: 1.0000e-04 - val_loss: 0.5964 - val_accuracy: 0.7468 - val_lr: 1.0000e-04\n",
            "Epoch 5/100\n",
            "15/15 [==============================] - 1s 77ms/step - loss: 0.5822 - accuracy: 0.7379 - lr: 1.0000e-04 - val_loss: 0.5540 - val_accuracy: 0.7516 - val_lr: 1.0000e-04\n",
            "Epoch 6/100\n",
            "15/15 [==============================] - 1s 84ms/step - loss: 0.5500 - accuracy: 0.7620 - lr: 1.0000e-04 - val_loss: 0.5373 - val_accuracy: 0.7553 - val_lr: 1.0000e-04\n",
            "Epoch 7/100\n",
            "15/15 [==============================] - 1s 76ms/step - loss: 0.5700 - accuracy: 0.7445 - lr: 1.0000e-04 - val_loss: 0.5624 - val_accuracy: 0.7543 - val_lr: 1.0000e-04\n",
            "Epoch 8/100\n",
            "15/15 [==============================] - 1s 77ms/step - loss: 0.5712 - accuracy: 0.7463 - lr: 1.0000e-04 - val_loss: 0.6287 - val_accuracy: 0.7399 - val_lr: 1.0000e-04\n",
            "Epoch 9/100\n",
            "15/15 [==============================] - 1s 77ms/step - loss: 0.5753 - accuracy: 0.7452 - lr: 1.0000e-04 - val_loss: 0.5626 - val_accuracy: 0.7500 - val_lr: 1.0000e-04\n",
            "Epoch 10/100\n",
            "15/15 [==============================] - 1s 83ms/step - loss: 0.5535 - accuracy: 0.7604 - lr: 1.0000e-04 - val_loss: 0.5873 - val_accuracy: 0.7537 - val_lr: 1.0000e-04\n",
            "Epoch 11/100\n",
            "15/15 [==============================] - 1s 77ms/step - loss: 0.5686 - accuracy: 0.7484 - lr: 1.0000e-04 - val_loss: 0.6460 - val_accuracy: 0.7377 - val_lr: 1.0000e-04\n",
            "Epoch 12/100\n",
            "15/15 [==============================] - 1s 78ms/step - loss: 0.5647 - accuracy: 0.7463 - lr: 1.0000e-04 - val_loss: 0.5875 - val_accuracy: 0.7585 - val_lr: 1.0000e-04\n",
            "Epoch 13/100\n",
            "15/15 [==============================] - 1s 75ms/step - loss: 0.5664 - accuracy: 0.7473 - lr: 1.0000e-04 - val_loss: 0.5289 - val_accuracy: 0.7532 - val_lr: 1.0000e-04\n",
            "Epoch 14/100\n",
            "15/15 [==============================] - 1s 75ms/step - loss: 0.5619 - accuracy: 0.7559 - lr: 1.0000e-04 - val_loss: 0.5708 - val_accuracy: 0.7431 - val_lr: 1.0000e-04\n",
            "Epoch 15/100\n",
            "15/15 [==============================] - 1s 77ms/step - loss: 0.5631 - accuracy: 0.7489 - lr: 1.0000e-04 - val_loss: 0.5456 - val_accuracy: 0.7548 - val_lr: 1.0000e-04\n",
            "Epoch 16/100\n",
            "15/15 [==============================] - 1s 70ms/step - loss: 0.5672 - accuracy: 0.7489 - lr: 1.0000e-04 - val_loss: 0.5892 - val_accuracy: 0.7489 - val_lr: 1.0000e-04\n",
            "Epoch 17/100\n",
            "15/15 [==============================] - 1s 74ms/step - loss: 0.5662 - accuracy: 0.7489 - lr: 1.0000e-04 - val_loss: 0.6211 - val_accuracy: 0.7510 - val_lr: 1.0000e-04\n",
            "Epoch 18/100\n",
            "15/15 [==============================] - 1s 84ms/step - loss: 0.5645 - accuracy: 0.7505 - lr: 1.0000e-04 - val_loss: 0.5624 - val_accuracy: 0.7489 - val_lr: 1.0000e-04\n",
            "Epoch 19/100\n",
            "15/15 [==============================] - 1s 84ms/step - loss: 0.5642 - accuracy: 0.7505 - lr: 1.0000e-04 - val_loss: 0.5456 - val_accuracy: 0.7425 - val_lr: 1.0000e-04\n",
            "Epoch 20/100\n",
            "15/15 [==============================] - 1s 78ms/step - loss: 0.5604 - accuracy: 0.7559 - lr: 1.0000e-04 - val_loss: 0.5540 - val_accuracy: 0.7511 - val_lr: 1.0000e-04\n",
            "Epoch 21/100\n",
            "15/15 [==============================] - 1s 84ms/step - loss: 0.5790 - accuracy: 0.7404 - lr: 1.0000e-04 - val_loss: 0.6211 - val_accuracy: 0.7564 - val_lr: 1.0000e-04\n",
            "Epoch 22/100\n",
            "15/15 [==============================] - 1s 77ms/step - loss: 0.5677 - accuracy: 0.7484 - lr: 1.0000e-04 - val_loss: 0.4954 - val_accuracy: 0.7468 - val_lr: 1.0000e-04\n",
            "Epoch 23/100\n",
            "15/15 [==============================] - 1s 83ms/step - loss: 0.5472 - accuracy: 0.7687 - lr: 1.0000e-04 - val_loss: 0.5456 - val_accuracy: 0.7489 - val_lr: 1.0000e-04\n",
            "Epoch 24/100\n",
            "15/15 [==============================] - 1s 77ms/step - loss: 0.5842 - accuracy: 0.7336 - lr: 1.0000e-04 - val_loss: 0.6462 - val_accuracy: 0.7537 - val_lr: 1.0000e-04\n",
            "Epoch 25/100\n",
            "15/15 [==============================] - 1s 84ms/step - loss: 0.5636 - accuracy: 0.7536 - lr: 1.0000e-04 - val_loss: 0.6127 - val_accuracy: 0.7393 - val_lr: 1.0000e-04\n",
            "Epoch 26/100\n",
            "15/15 [==============================] - 1s 77ms/step - loss: 0.5677 - accuracy: 0.7468 - lr: 1.0000e-04 - val_loss: 0.5792 - val_accuracy: 0.7644 - val_lr: 1.0000e-04\n",
            "Epoch 27/100\n",
            "15/15 [==============================] - 1s 84ms/step - loss: 0.5670 - accuracy: 0.7516 - lr: 1.0000e-04 - val_loss: 0.5205 - val_accuracy: 0.7537 - val_lr: 1.0000e-04\n",
            "Epoch 28/100\n",
            "15/15 [==============================] - 1s 77ms/step - loss: 0.5578 - accuracy: 0.7569 - lr: 1.0000e-04 - val_loss: 0.5121 - val_accuracy: 0.7500 - val_lr: 1.0000e-04\n",
            "Epoch 29/100\n",
            "15/15 [==============================] - 1s 76ms/step - loss: 0.5689 - accuracy: 0.7473 - lr: 1.0000e-04 - val_loss: 0.5792 - val_accuracy: 0.7431 - val_lr: 1.0000e-04\n",
            "Epoch 30/100\n",
            "15/15 [==============================] - 1s 74ms/step - loss: 0.5717 - accuracy: 0.7468 - lr: 1.0000e-04 - val_loss: 0.6043 - val_accuracy: 0.7463 - val_lr: 1.0000e-04\n",
            "Epoch 31/100\n",
            "15/15 [==============================] - 1s 77ms/step - loss: 0.5666 - accuracy: 0.7500 - lr: 1.0000e-04 - val_loss: 0.4870 - val_accuracy: 0.7585 - val_lr: 1.0000e-04\n",
            "Epoch 32/100\n",
            "15/15 [==============================] - 1s 67ms/step - loss: 0.5684 - accuracy: 0.7495 - lr: 1.0000e-04 - val_loss: 0.5222 - val_accuracy: 0.7452 - val_lr: 1.0000e-04\n",
            "Epoch 33/100\n",
            "15/15 [==============================] - 1s 78ms/step - loss: 0.5650 - accuracy: 0.7516 - lr: 1.0000e-04 - val_loss: 0.5289 - val_accuracy: 0.7542 - val_lr: 1.0000e-04\n",
            "Epoch 34/100\n",
            "15/15 [==============================] - 1s 84ms/step - loss: 0.5589 - accuracy: 0.7543 - lr: 1.0000e-04 - val_loss: 0.5540 - val_accuracy: 0.7404 - val_lr: 1.0000e-04\n",
            "Epoch 35/100\n",
            "15/15 [==============================] - 1s 84ms/step - loss: 0.5803 - accuracy: 0.7382 - lr: 1.0000e-04 - val_loss: 0.5205 - val_accuracy: 0.7548 - val_lr: 1.0000e-04\n",
            "Epoch 36/100\n",
            "15/15 [==============================] - 1s 77ms/step - loss: 0.5499 - accuracy: 0.7660 - lr: 1.0000e-04 - val_loss: 0.5959 - val_accuracy: 0.7420 - val_lr: 1.0000e-04\n",
            "Epoch 37/100\n",
            "15/15 [==============================] - 1s 84ms/step - loss: 0.5823 - accuracy: 0.7350 - lr: 1.0000e-04 - val_loss: 0.5540 - val_accuracy: 0.7596 - val_lr: 1.0000e-04\n",
            "Epoch 38/100\n",
            "15/15 [==============================] - 1s 77ms/step - loss: 0.5557 - accuracy: 0.7585 - lr: 1.0000e-04 - val_loss: 0.5959 - val_accuracy: 0.7521 - val_lr: 1.0000e-04\n",
            "Epoch 39/100\n",
            "15/15 [==============================] - 1s 85ms/step - loss: 0.5682 - accuracy: 0.7490 - lr: 1.0000e-04 - val_loss: 0.5540 - val_accuracy: 0.7500 - val_lr: 1.0000e-04\n",
            "Epoch 40/100\n",
            "15/15 [==============================] - 1s 98ms/step - loss: 0.5698 - accuracy: 0.7467 - lr: 1.0000e-04 - val_loss: 0.5121 - val_accuracy: 0.7479 - val_lr: 1.0000e-04\n",
            "Epoch 41/100\n",
            "15/15 [==============================] - 2s 103ms/step - loss: 0.5667 - accuracy: 0.7474 - lr: 1.0000e-04 - val_loss: 0.5708 - val_accuracy: 0.7537 - val_lr: 1.0000e-04\n",
            "Epoch 42/100\n",
            "15/15 [==============================] - 1s 77ms/step - loss: 0.5593 - accuracy: 0.7588 - lr: 1.0000e-04 - val_loss: 0.6127 - val_accuracy: 0.7495 - val_lr: 1.0000e-04\n",
            "Epoch 43/100\n",
            "15/15 [==============================] - 1s 84ms/step - loss: 0.5796 - accuracy: 0.7406 - lr: 1.0000e-04 - val_loss: 0.5708 - val_accuracy: 0.7511 - val_lr: 1.0000e-04\n",
            "Epoch 44/100\n",
            "15/15 [==============================] - 1s 78ms/step - loss: 0.5554 - accuracy: 0.7601 - lr: 1.0000e-04 - val_loss: 0.5624 - val_accuracy: 0.7382 - val_lr: 1.0000e-04\n",
            "Epoch 45/100\n",
            "15/15 [==============================] - 1s 74ms/step - loss: 0.5753 - accuracy: 0.7429 - lr: 1.0000e-04 - val_loss: 0.5624 - val_accuracy: 0.7553 - val_lr: 1.0000e-04\n",
            "Epoch 46/100\n",
            "15/15 [==============================] - 1s 78ms/step - loss: 0.5630 - accuracy: 0.7511 - lr: 1.0000e-04 - val_loss: 0.6210 - val_accuracy: 0.7489 - val_lr: 1.0000e-04\n"
          ],
          "name": "stdout"
        }
      ]
    },
    {
      "cell_type": "code",
      "metadata": {
        "id": "YBusHiOlOZQb",
        "colab_type": "code",
        "colab": {}
      },
      "source": [
        "score = M3.evaluate(x_test, y_test, verbose=0)\n",
        "print('Test loss:', score[0])\n",
        "print('Test accuracy:', score[1])"
      ],
      "execution_count": 0,
      "outputs": []
    },
    {
      "cell_type": "code",
      "metadata": {
        "id": "USe1FYylOdUv",
        "colab_type": "code",
        "colab": {}
      },
      "source": [
        "plt.plot(history.history['accuracy'])\n",
        "plt.plot(history.history['val_accuracy'])\n",
        "plt.title('model accuracy')\n",
        "plt.ylabel('accuracy')\n",
        "plt.xlabel('epoch')\n",
        "plt.legend(['train', 'test'], loc='upper left')\n",
        "plt.show()\n",
        "\n",
        "plt.plot(history.history['loss'])\n",
        "plt.plot(history.history['val_loss'])\n",
        "plt.title('model loss')\n",
        "plt.ylabel('loss')\n",
        "plt.xlabel('epoch')\n",
        "plt.legend(['train', 'test'], loc='upper left')\n",
        "plt.show()"
      ],
      "execution_count": 0,
      "outputs": []
    }
  ]
}