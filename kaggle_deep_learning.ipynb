{
  "nbformat": 4,
  "nbformat_minor": 0,
  "metadata": {
    "colab": {
      "name": "kaggle deep learning.ipynb",
      "provenance": [],
      "collapsed_sections": [],
      "authorship_tag": "ABX9TyNis11AkGdCto73n4VidvFK",
      "include_colab_link": true
    },
    "kernelspec": {
      "name": "python3",
      "display_name": "Python 3"
    }
  },
  "cells": [
    {
      "cell_type": "markdown",
      "metadata": {
        "id": "view-in-github",
        "colab_type": "text"
      },
      "source": [
        "<a href=\"https://colab.research.google.com/github/e-chong/Singapore-Ship-Detection/blob/master/kaggle_deep_learning.ipynb\" target=\"_parent\"><img src=\"https://colab.research.google.com/assets/colab-badge.svg\" alt=\"Open In Colab\"/></a>"
      ]
    },
    {
      "cell_type": "code",
      "metadata": {
        "id": "JHtn7Hc-PC72",
        "colab_type": "code",
        "colab": {}
      },
      "source": [
        "# install libraries\n",
        "\n",
        "# suppress output\n",
        "%%capture \n",
        "\n",
        "!pip install rasterio\n",
        "!pip install geopandas\n",
        "!pip install sentinelsat\n",
        "!pip install satpy\n",
        "!pip install glymur\n",
        "!pip install python-geotiepoints\n",
        "!pip install pyspectral\n",
        "!pip install progressbar2\n",
        "!pip install kaggle\n",
        "!pip install tifffile"
      ],
      "execution_count": 0,
      "outputs": []
    },
    {
      "cell_type": "code",
      "metadata": {
        "id": "6gasTM7Mu7lk",
        "colab_type": "code",
        "outputId": "f704e925-687d-4bd2-90b5-3b2b585bffd8",
        "colab": {
          "base_uri": "https://localhost:8080/",
          "height": 35
        }
      },
      "source": [
        "%tensorflow_version 1.x\n",
        "%matplotlib inline"
      ],
      "execution_count": 2,
      "outputs": [
        {
          "output_type": "stream",
          "text": [
            "TensorFlow 1.x selected.\n"
          ],
          "name": "stdout"
        }
      ]
    },
    {
      "cell_type": "code",
      "metadata": {
        "id": "6pLKc0YIqwnb",
        "colab_type": "code",
        "colab": {}
      },
      "source": [
        "# Base dependencies\n",
        "import numpy as np\n",
        "import pandas as pd\n",
        "import geopandas as gpd # vector spatial operations\n",
        "import rasterio as rio # raster spatial operations\n",
        "import json\n",
        "\n",
        "# Plotting\n",
        "from rasterio.plot import show #convenience wrapper for pyplot.imshow for RGB and 1 band images\n",
        "import matplotlib.pyplot as plt\n",
        "\n",
        "#Sentinel-2 I/O\n",
        "from sentinelsat import SentinelAPI\n",
        "from satpy.scene import Scene\n",
        "from satpy import find_files_and_readers\n",
        "import requests, zipfile, io, os, shutil # downloading and extracting zipfolders\n",
        "\n",
        "# Sentinel-2 create patches\n",
        "from shapely.geometry import Point # vector geometries\n",
        "import time\n",
        "import progressbar\n",
        "\n",
        "# Resize Kaggle patches\n",
        "from skimage.transform import resize\n",
        "import tifffile as tiff\n",
        "import scipy.ndimage\n"
      ],
      "execution_count": 0,
      "outputs": []
    },
    {
      "cell_type": "code",
      "metadata": {
        "id": "xisFiHvHPOze",
        "colab_type": "code",
        "outputId": "043b98c5-9b7a-4017-940b-2bdd575f778c",
        "colab": {
          "base_uri": "https://localhost:8080/",
          "height": 124
        }
      },
      "source": [
        "from google.colab import drive\n",
        "drive.mount('/content/drive')"
      ],
      "execution_count": 4,
      "outputs": [
        {
          "output_type": "stream",
          "text": [
            "Go to this URL in a browser: https://accounts.google.com/o/oauth2/auth?client_id=947318989803-6bn6qk8qdgf4n4g3pfee6491hc0brc4i.apps.googleusercontent.com&redirect_uri=urn%3aietf%3awg%3aoauth%3a2.0%3aoob&response_type=code&scope=email%20https%3a%2f%2fwww.googleapis.com%2fauth%2fdocs.test%20https%3a%2f%2fwww.googleapis.com%2fauth%2fdrive%20https%3a%2f%2fwww.googleapis.com%2fauth%2fdrive.photos.readonly%20https%3a%2f%2fwww.googleapis.com%2fauth%2fpeopleapi.readonly\n",
            "\n",
            "Enter your authorization code:\n",
            "··········\n",
            "Mounted at /content/drive\n"
          ],
          "name": "stdout"
        }
      ]
    },
    {
      "cell_type": "markdown",
      "metadata": {
        "id": "L2qU55-0YlbD",
        "colab_type": "text"
      },
      "source": [
        "#Functions\n",
        "credit to # https://gis.stackexchange.com/questions/299787/finding-pixel-location-in-raster-using-coordinates"
      ]
    },
    {
      "cell_type": "code",
      "metadata": {
        "id": "iwJqDvFHJjo7",
        "colab_type": "code",
        "colab": {}
      },
      "source": [
        "# Extracts RGB 3-channel image from SAFE directory and saves it in the working directory \n",
        "# and returns the path to the new file\n",
        "def extract_rgb_jp2(safePath, sceneTitle):\n",
        "  for subdirs, dirs, files in os.walk(safePath):\n",
        "    for file in files:\n",
        "      if file.endswith('_TCI.jp2'):\n",
        "        rgbPath = os.path.join(subdirs, file)\n",
        "        destPath = sceneTitle+'.jp2'\n",
        "        print(f'Copying {file} to {destPath}')\n",
        "        shutil.copy2(rgbPath, destPath)\n",
        "        return destPath"
      ],
      "execution_count": 0,
      "outputs": []
    },
    {
      "cell_type": "code",
      "metadata": {
        "colab_type": "code",
        "id": "IKR7lD-DM_Bn",
        "colab": {}
      },
      "source": [
        "# returns matrix of [n ships, patch_size, patch_size]\n",
        "def create_ship_patches(ships, img, patch_size=50):\n",
        "  coordinates = list(zip(ships.geometry.x, ships.geometry.y))\n",
        "  with progressbar.ProgressBar(max_value=len(ships.index)) as bar: # creates progress bar\n",
        "    patch_list = np.zeros([len(ships.index), patch_size, patch_size, len(img.indexes)])\n",
        "    for i, (lon, lat) in enumerate(coordinates): # Loop through your list of coords\n",
        "      py, px = img.index(lon, lat) # Get pixel coordinates from map coordinates\n",
        "      window = rio.windows.Window(px - patch_size//2, py - patch_size//2, patch_size, patch_size) # Build an NxN window\n",
        "      patch = img.read(window=window) # clip is a nbands * patch_size * patch_size numpy array\n",
        "      patch_list[i] = np.transpose(patch, (1,2,0)) # transpose to [patch_size, patch_size, n bands]\n",
        "      bar.update(i)\n",
        "  return patch_list.astype(int)"
      ],
      "execution_count": 0,
      "outputs": []
    },
    {
      "cell_type": "code",
      "metadata": {
        "colab_type": "code",
        "id": "EGtUnj7dM_Bw",
        "colab": {}
      },
      "source": [
        "# creates patches for use in classifying ship or no ship\n",
        "def create_patches(img, patch_size=50, step_size=30):\n",
        "  n_patches = len(range(0,img.height, step_size)) * len(range(0,img.width, step_size))\n",
        "  patch_list = []\n",
        "  index = 0\n",
        "  with progressbar.ProgressBar(max_value=n_patches) as bar: # creates progress bar\n",
        "    for y in range(0,img.height, step_size): # iterate across image column-wise\n",
        "      for x in range(0,img.width, step_size): # iterate across image row-wise\n",
        "        window = rio.windows.Window(x,y, patch_size, patch_size)\n",
        "        if window.col_off+window.width > img.width or window.row_off+window.height > img.height:\n",
        "          pass\n",
        "        else:\n",
        "          # Read the data in the window\n",
        "          patch = img.read(window=window) # patch is a nbands * patch_size * patch_size numpy array \n",
        "          patch_list.append(np.transpose(patch, (1,2,0))) # transpose to [patch_size, patch_size, n bands]\n",
        "          index += 1\n",
        "          bar.update(index)\n",
        "  patch_array = np.stack(patch_list, axis=0)\n",
        "  return patch_array.astype(int)"
      ],
      "execution_count": 0,
      "outputs": []
    },
    {
      "cell_type": "code",
      "metadata": {
        "colab_type": "code",
        "id": "UDdxNbczM_B1",
        "colab": {}
      },
      "source": [
        "# returns boolean list of whether patches intersect with any ships\n",
        "def patch_intersects_ship_buffers(ships, img, patch_size=50, step_size=30):\n",
        "  n_patches = (len(range(0,img.height, step_size)) * len(range(0,img.width, step_size)))\n",
        "  isShip_list = [] #list to hold all the patch locations\n",
        "  buffer_list = []\n",
        "  x_list = []\n",
        "  y_list = []\n",
        "  index = 0\n",
        "\n",
        "  with progressbar.ProgressBar(max_value=n_patches) as bar: # creates progress bar\n",
        "    for y in range(0,img.height, step_size): # iterate across image column-wise\n",
        "      for x in range(0,img.width, step_size): # iterate across image row-wise\n",
        "        window = rio.windows.Window(x,y, patch_size, patch_size) #get patch window\n",
        "        if window.col_off+window.width > img.width or window.row_off+window.height > img.height:\n",
        "          pass #skip patches that extend off the edge so they have the wrong shape\n",
        "        else:\n",
        "          #create centroid point\n",
        "          centroid = Point(img.transform *(window.col_off+patch_size/2, window.row_off+patch_size/2))\n",
        "          buffer = centroid.buffer(img.transform[0]*step_size/1.5)\n",
        "          buffer_list.append(buffer)\n",
        "          isShip = np.any(ships.intersects(buffer)) #intersect ships with polygon and check if any are positive\n",
        "          isShip_list.append(isShip) #append result to list\n",
        "          x_list.append(x),\n",
        "          y_list.append(y)\n",
        "          index += 1\n",
        "          bar.update(index)\n",
        "  results = pd.DataFrame({'isShip':isShip_list, 'x':x_list, 'y':y_list, 'patch_size':patch_size})\n",
        "  return results"
      ],
      "execution_count": 0,
      "outputs": []
    },
    {
      "cell_type": "code",
      "metadata": {
        "colab_type": "code",
        "id": "fbCXu7HBM_B5",
        "colab": {}
      },
      "source": [
        "# plots a patch\n",
        "def plot_patch(img, x, y, patch_size=50, step_size=30):\n",
        "  window = rio.windows.Window(x,y, patch_size, patch_size)\n",
        "  patch = img.read(window=window)\n",
        "  show(patch, title=f'x: {x}, y: {y}')"
      ],
      "execution_count": 0,
      "outputs": []
    },
    {
      "cell_type": "markdown",
      "metadata": {
        "colab_type": "text",
        "id": "OdmKEJ6CM_B-"
      },
      "source": [
        "# Define Parameters"
      ]
    },
    {
      "cell_type": "code",
      "metadata": {
        "colab_type": "code",
        "id": "_jnTCnhAM_B_",
        "colab": {}
      },
      "source": [
        "DRIVE_PATH = '/content/drive/My Drive/MUSA-650-Final-Project/'"
      ],
      "execution_count": 0,
      "outputs": []
    },
    {
      "cell_type": "code",
      "metadata": {
        "colab_type": "code",
        "id": "IxjgSEcwM_CE",
        "colab": {}
      },
      "source": [
        "#Load param file\n",
        "with open(DRIVE_PATH+'params.json', 'r') as file:\n",
        "    params = json.load(file)\n",
        "    \n",
        "    SENTINEL_USER = params['SENTINEL_USER']\n",
        "    SENTINEL_PWD = params['SENTINEL_PWD']\n",
        "    KAGGLE_USER = params['KAGGLE_USER']\n",
        "    KAGGLE_KEY = params['KAGGLE_KEY']"
      ],
      "execution_count": 0,
      "outputs": []
    },
    {
      "cell_type": "code",
      "metadata": {
        "colab_type": "code",
        "id": "W0qmWSw_M_CH",
        "colab": {}
      },
      "source": [
        "# unique Sentinel-2 tile id for images covering Singapore\n",
        "TILE_ID = \"48NUG\" "
      ],
      "execution_count": 0,
      "outputs": []
    },
    {
      "cell_type": "code",
      "metadata": {
        "colab_type": "code",
        "id": "8fayZXDjM_CJ",
        "colab": {}
      },
      "source": [
        "# Patch parameters\n",
        "PATCH_SIZE = 24\n",
        "STEP_SIZE = 12\n",
        "SCALE_FACTOR = 3/10 #PlanetScope GSD / Sentinel-2 GSD"
      ],
      "execution_count": 0,
      "outputs": []
    },
    {
      "cell_type": "markdown",
      "metadata": {
        "colab_type": "text",
        "id": "S_b23r9jM_CN"
      },
      "source": [
        "# Download Data"
      ]
    },
    {
      "cell_type": "markdown",
      "metadata": {
        "id": "zHSIDCo1lKcz",
        "colab_type": "text"
      },
      "source": [
        "## Kaggle PlanetScope"
      ]
    },
    {
      "cell_type": "code",
      "metadata": {
        "id": "egGcraQyl4lI",
        "colab_type": "code",
        "outputId": "dbfe478d-aa23-4e3a-fed5-14156d2063be",
        "colab": {
          "base_uri": "https://localhost:8080/",
          "height": 35
        }
      },
      "source": [
        "os.mkdir('.kaggle')\n",
        "os.listdir()"
      ],
      "execution_count": 15,
      "outputs": [
        {
          "output_type": "execute_result",
          "data": {
            "text/plain": [
              "['.config', '.kaggle', 'drive', 'sample_data']"
            ]
          },
          "metadata": {
            "tags": []
          },
          "execution_count": 15
        }
      ]
    },
    {
      "cell_type": "code",
      "metadata": {
        "id": "AgFfwDJdmFkp",
        "colab_type": "code",
        "colab": {}
      },
      "source": [
        "token = {\"username\":KAGGLE_USER,\"key\":KAGGLE_KEY}\n",
        "\n",
        "with open('/content/.kaggle/kaggle.json', 'w') as file:\n",
        "    json.dump(token, file)"
      ],
      "execution_count": 0,
      "outputs": []
    },
    {
      "cell_type": "code",
      "metadata": {
        "id": "NzwM9qVbmQ9r",
        "colab_type": "code",
        "outputId": "b1dbe8b6-4f5d-4c46-a0bd-15e9b33435a8",
        "colab": {
          "base_uri": "https://localhost:8080/",
          "height": 208
        }
      },
      "source": [
        "!cp /content/.kaggle/kaggle.json ~/.kaggle/kaggle.json\n",
        "!kaggle config set -n path -v{/content}\n",
        "!cp /content/.kaggle/kaggle.json ~/.kaggle/kaggle.json\n",
        "!kaggle config set -n path -v{/content}"
      ],
      "execution_count": 17,
      "outputs": [
        {
          "output_type": "stream",
          "text": [
            "cp: cannot create regular file '/root/.kaggle/kaggle.json': No such file or directory\n",
            "Traceback (most recent call last):\n",
            "  File \"/usr/local/bin/kaggle\", line 5, in <module>\n",
            "    from kaggle.cli import main\n",
            "  File \"/usr/local/lib/python2.7/dist-packages/kaggle/__init__.py\", line 23, in <module>\n",
            "    api.authenticate()\n",
            "  File \"/usr/local/lib/python2.7/dist-packages/kaggle/api/kaggle_api_extended.py\", line 146, in authenticate\n",
            "    self.config_file, self.config_dir))\n",
            "IOError: Could not find kaggle.json. Make sure it's located in /root/.kaggle. Or use the environment method.\n",
            "Warning: Your Kaggle API key is readable by other users on this system! To fix this, you can run 'chmod 600 /root/.kaggle/kaggle.json'\n",
            "- path is now set to: {/content}\n"
          ],
          "name": "stdout"
        }
      ]
    },
    {
      "cell_type": "code",
      "metadata": {
        "id": "-Efe-XPkmTsD",
        "colab_type": "code",
        "outputId": "a06d85ac-ddeb-4901-a56f-5be6e9bfece9",
        "colab": {
          "base_uri": "https://localhost:8080/",
          "height": 87
        }
      },
      "source": [
        "!kaggle datasets download -d rhammell/ships-in-satellite-imagery -p /content"
      ],
      "execution_count": 18,
      "outputs": [
        {
          "output_type": "stream",
          "text": [
            "Warning: Your Kaggle API key is readable by other users on this system! To fix this, you can run 'chmod 600 /root/.kaggle/kaggle.json'\n",
            "Downloading ships-in-satellite-imagery.zip to /content\n",
            " 95% 177M/185M [00:02<00:00, 81.1MB/s]\n",
            "100% 185M/185M [00:02<00:00, 81.5MB/s]\n"
          ],
          "name": "stdout"
        }
      ]
    },
    {
      "cell_type": "code",
      "metadata": {
        "id": "44VXdPcNmWcU",
        "colab_type": "code",
        "outputId": "87eea17c-4a61-4745-e410-de15bca3861d",
        "colab": {
          "base_uri": "https://localhost:8080/",
          "height": 104
        }
      },
      "source": [
        "os.listdir()"
      ],
      "execution_count": 19,
      "outputs": [
        {
          "output_type": "execute_result",
          "data": {
            "text/plain": [
              "['.config',\n",
              " '.kaggle',\n",
              " 'ships-in-satellite-imagery.zip',\n",
              " 'drive',\n",
              " 'sample_data']"
            ]
          },
          "metadata": {
            "tags": []
          },
          "execution_count": 19
        }
      ]
    },
    {
      "cell_type": "code",
      "metadata": {
        "id": "2TPWaAGTmYz3",
        "colab_type": "code",
        "colab": {}
      },
      "source": [
        "with zipfile.ZipFile('ships-in-satellite-imagery.zip', 'r') as kaggleZip:\n",
        "      kaggleZip.extractall(os.getcwd())"
      ],
      "execution_count": 0,
      "outputs": []
    },
    {
      "cell_type": "code",
      "metadata": {
        "id": "ao_jtOXjngpI",
        "colab_type": "code",
        "outputId": "180bbdbe-2f64-448b-b3e4-b21743c05005",
        "colab": {
          "base_uri": "https://localhost:8080/",
          "height": 219
        }
      },
      "source": [
        "with open('shipsnet.json') as data_file:\n",
        "    kg_ships_df = pd.DataFrame(json.load(data_file))\n",
        "print(kg_ships_df.shape)\n",
        "kg_ships_df.head()"
      ],
      "execution_count": 21,
      "outputs": [
        {
          "output_type": "stream",
          "text": [
            "(4000, 4)\n"
          ],
          "name": "stdout"
        },
        {
          "output_type": "execute_result",
          "data": {
            "text/html": [
              "<div>\n",
              "<style scoped>\n",
              "    .dataframe tbody tr th:only-of-type {\n",
              "        vertical-align: middle;\n",
              "    }\n",
              "\n",
              "    .dataframe tbody tr th {\n",
              "        vertical-align: top;\n",
              "    }\n",
              "\n",
              "    .dataframe thead th {\n",
              "        text-align: right;\n",
              "    }\n",
              "</style>\n",
              "<table border=\"1\" class=\"dataframe\">\n",
              "  <thead>\n",
              "    <tr style=\"text-align: right;\">\n",
              "      <th></th>\n",
              "      <th>data</th>\n",
              "      <th>labels</th>\n",
              "      <th>locations</th>\n",
              "      <th>scene_ids</th>\n",
              "    </tr>\n",
              "  </thead>\n",
              "  <tbody>\n",
              "    <tr>\n",
              "      <th>0</th>\n",
              "      <td>[82, 89, 91, 87, 89, 87, 86, 86, 86, 86, 84, 8...</td>\n",
              "      <td>1</td>\n",
              "      <td>[-118.2254694333423, 33.73803725920789]</td>\n",
              "      <td>20180708_180909_0f47</td>\n",
              "    </tr>\n",
              "    <tr>\n",
              "      <th>1</th>\n",
              "      <td>[76, 75, 67, 62, 68, 72, 73, 73, 68, 69, 69, 6...</td>\n",
              "      <td>1</td>\n",
              "      <td>[-122.33222866289329, 37.7491755586813]</td>\n",
              "      <td>20170705_180816_103e</td>\n",
              "    </tr>\n",
              "    <tr>\n",
              "      <th>2</th>\n",
              "      <td>[125, 127, 129, 130, 126, 125, 129, 133, 132, ...</td>\n",
              "      <td>1</td>\n",
              "      <td>[-118.14283073363218, 33.736016066914175]</td>\n",
              "      <td>20180712_211331_0f06</td>\n",
              "    </tr>\n",
              "    <tr>\n",
              "      <th>3</th>\n",
              "      <td>[102, 99, 113, 106, 96, 102, 105, 105, 103, 10...</td>\n",
              "      <td>1</td>\n",
              "      <td>[-122.34784341495181, 37.76648707436548]</td>\n",
              "      <td>20170609_180756_103a</td>\n",
              "    </tr>\n",
              "    <tr>\n",
              "      <th>4</th>\n",
              "      <td>[78, 76, 74, 78, 79, 79, 79, 82, 86, 85, 83, 8...</td>\n",
              "      <td>1</td>\n",
              "      <td>[-122.34852408322172, 37.75878462398653]</td>\n",
              "      <td>20170515_180653_1007</td>\n",
              "    </tr>\n",
              "  </tbody>\n",
              "</table>\n",
              "</div>"
            ],
            "text/plain": [
              "                                                data  ...             scene_ids\n",
              "0  [82, 89, 91, 87, 89, 87, 86, 86, 86, 86, 84, 8...  ...  20180708_180909_0f47\n",
              "1  [76, 75, 67, 62, 68, 72, 73, 73, 68, 69, 69, 6...  ...  20170705_180816_103e\n",
              "2  [125, 127, 129, 130, 126, 125, 129, 133, 132, ...  ...  20180712_211331_0f06\n",
              "3  [102, 99, 113, 106, 96, 102, 105, 105, 103, 10...  ...  20170609_180756_103a\n",
              "4  [78, 76, 74, 78, 79, 79, 79, 82, 86, 85, 83, 8...  ...  20170515_180653_1007\n",
              "\n",
              "[5 rows x 4 columns]"
            ]
          },
          "metadata": {
            "tags": []
          },
          "execution_count": 21
        }
      ]
    },
    {
      "cell_type": "code",
      "metadata": {
        "id": "LyXqr0wRn8G3",
        "colab_type": "code",
        "colab": {
          "base_uri": "https://localhost:8080/",
          "height": 202
        },
        "outputId": "b17fcfe3-caa5-4d1d-e955-559fd2e4099e"
      },
      "source": [
        "with open('shipsnet.json') as data_file:\n",
        "    kg_ships_dict = json.load(data_file)\n",
        "\n",
        "kg_ships_df = pd.DataFrame(kg_ships_dict)\n",
        "kg_ships_df.head()"
      ],
      "execution_count": 29,
      "outputs": [
        {
          "output_type": "execute_result",
          "data": {
            "text/html": [
              "<div>\n",
              "<style scoped>\n",
              "    .dataframe tbody tr th:only-of-type {\n",
              "        vertical-align: middle;\n",
              "    }\n",
              "\n",
              "    .dataframe tbody tr th {\n",
              "        vertical-align: top;\n",
              "    }\n",
              "\n",
              "    .dataframe thead th {\n",
              "        text-align: right;\n",
              "    }\n",
              "</style>\n",
              "<table border=\"1\" class=\"dataframe\">\n",
              "  <thead>\n",
              "    <tr style=\"text-align: right;\">\n",
              "      <th></th>\n",
              "      <th>data</th>\n",
              "      <th>labels</th>\n",
              "      <th>locations</th>\n",
              "      <th>scene_ids</th>\n",
              "    </tr>\n",
              "  </thead>\n",
              "  <tbody>\n",
              "    <tr>\n",
              "      <th>0</th>\n",
              "      <td>[82, 89, 91, 87, 89, 87, 86, 86, 86, 86, 84, 8...</td>\n",
              "      <td>1</td>\n",
              "      <td>[-118.2254694333423, 33.73803725920789]</td>\n",
              "      <td>20180708_180909_0f47</td>\n",
              "    </tr>\n",
              "    <tr>\n",
              "      <th>1</th>\n",
              "      <td>[76, 75, 67, 62, 68, 72, 73, 73, 68, 69, 69, 6...</td>\n",
              "      <td>1</td>\n",
              "      <td>[-122.33222866289329, 37.7491755586813]</td>\n",
              "      <td>20170705_180816_103e</td>\n",
              "    </tr>\n",
              "    <tr>\n",
              "      <th>2</th>\n",
              "      <td>[125, 127, 129, 130, 126, 125, 129, 133, 132, ...</td>\n",
              "      <td>1</td>\n",
              "      <td>[-118.14283073363218, 33.736016066914175]</td>\n",
              "      <td>20180712_211331_0f06</td>\n",
              "    </tr>\n",
              "    <tr>\n",
              "      <th>3</th>\n",
              "      <td>[102, 99, 113, 106, 96, 102, 105, 105, 103, 10...</td>\n",
              "      <td>1</td>\n",
              "      <td>[-122.34784341495181, 37.76648707436548]</td>\n",
              "      <td>20170609_180756_103a</td>\n",
              "    </tr>\n",
              "    <tr>\n",
              "      <th>4</th>\n",
              "      <td>[78, 76, 74, 78, 79, 79, 79, 82, 86, 85, 83, 8...</td>\n",
              "      <td>1</td>\n",
              "      <td>[-122.34852408322172, 37.75878462398653]</td>\n",
              "      <td>20170515_180653_1007</td>\n",
              "    </tr>\n",
              "  </tbody>\n",
              "</table>\n",
              "</div>"
            ],
            "text/plain": [
              "                                                data  ...             scene_ids\n",
              "0  [82, 89, 91, 87, 89, 87, 86, 86, 86, 86, 84, 8...  ...  20180708_180909_0f47\n",
              "1  [76, 75, 67, 62, 68, 72, 73, 73, 68, 69, 69, 6...  ...  20170705_180816_103e\n",
              "2  [125, 127, 129, 130, 126, 125, 129, 133, 132, ...  ...  20180712_211331_0f06\n",
              "3  [102, 99, 113, 106, 96, 102, 105, 105, 103, 10...  ...  20170609_180756_103a\n",
              "4  [78, 76, 74, 78, 79, 79, 79, 82, 86, 85, 83, 8...  ...  20170515_180653_1007\n",
              "\n",
              "[5 rows x 4 columns]"
            ]
          },
          "metadata": {
            "tags": []
          },
          "execution_count": 29
        }
      ]
    },
    {
      "cell_type": "code",
      "metadata": {
        "id": "uT5kX-hWn_F-",
        "colab_type": "code",
        "outputId": "baef4d40-ed3e-407d-8e0c-398a64e893a0",
        "colab": {
          "base_uri": "https://localhost:8080/",
          "height": 35
        }
      },
      "source": [
        "n_spectrum = 3 # color channel (RGB)\n",
        "kg_patch_size = 80\n",
        "kg_ships_patches = np.array(kg_ships_dict['data']\n",
        "             ).astype('uint8'\n",
        "             ).reshape([-1, n_spectrum, kg_patch_size, kg_patch_size])\n",
        "kg_ships_patches = np.moveaxis(kg_ships_patches, 1, 3)\n",
        "kg_ships_patches.shape"
      ],
      "execution_count": 30,
      "outputs": [
        {
          "output_type": "execute_result",
          "data": {
            "text/plain": [
              "(4000, 80, 80, 3)"
            ]
          },
          "metadata": {
            "tags": []
          },
          "execution_count": 30
        }
      ]
    },
    {
      "cell_type": "code",
      "metadata": {
        "id": "pTe-cEyJooMJ",
        "colab_type": "code",
        "outputId": "aba53b41-83ad-4de1-c8be-8f424dc7d0f7",
        "colab": {
          "base_uri": "https://localhost:8080/",
          "height": 35
        }
      },
      "source": [
        "kg_ships_patches.min(), kg_ships_patches.max()"
      ],
      "execution_count": 31,
      "outputs": [
        {
          "output_type": "execute_result",
          "data": {
            "text/plain": [
              "(1, 255)"
            ]
          },
          "metadata": {
            "tags": []
          },
          "execution_count": 31
        }
      ]
    },
    {
      "cell_type": "code",
      "metadata": {
        "id": "wj0goacTpfzg",
        "colab_type": "code",
        "outputId": "4cd841f7-8092-45f4-9ce3-eec869e48494",
        "colab": {
          "base_uri": "https://localhost:8080/",
          "height": 285
        }
      },
      "source": [
        "plt.imshow(kg_ships_patches[100])"
      ],
      "execution_count": 32,
      "outputs": [
        {
          "output_type": "execute_result",
          "data": {
            "text/plain": [
              "<matplotlib.image.AxesImage at 0x7f49006a30b8>"
            ]
          },
          "metadata": {
            "tags": []
          },
          "execution_count": 32
        },
        {
          "output_type": "display_data",
          "data": {
            "image/png": "[encoded data removed]",
            "text/plain": [
              "<Figure size 432x288 with 1 Axes>"
            ]
          },
          "metadata": {
            "tags": [],
            "needs_background": "light"
          }
        }
      ]
    },
    {
      "cell_type": "code",
      "metadata": {
        "id": "pxGG14jypmpJ",
        "colab_type": "code",
        "colab": {}
      },
      "source": [
        "kg_patch_new_size = round(kg_patch_size*SCALE_FACTOR)\n",
        "\n",
        "kg_patches_resize = np.zeros([kg_ships_patches.shape[0],\n",
        "                            kg_patch_new_size,\n",
        "                            kg_patch_new_size,\n",
        "                            kg_ships_patches.shape[3]])"
      ],
      "execution_count": 0,
      "outputs": []
    },
    {
      "cell_type": "code",
      "metadata": {
        "id": "UWQs6KIzsTAd",
        "colab_type": "code",
        "colab": {}
      },
      "source": [
        "for img in range(kg_ships_patches.shape[0]):\n",
        "  kg_patches_resize[img] = resize(kg_ships_patches[img], [kg_patch_new_size, kg_patch_new_size])"
      ],
      "execution_count": 0,
      "outputs": []
    },
    {
      "cell_type": "code",
      "metadata": {
        "id": "qsqpvmafrNsl",
        "colab_type": "code",
        "outputId": "db34ef32-0d00-4b77-ab46-7790b151d23b",
        "colab": {
          "base_uri": "https://localhost:8080/",
          "height": 283
        }
      },
      "source": [
        "kg_patches_resize.shape, plt.imshow(kg_patches_resize[100])"
      ],
      "execution_count": 35,
      "outputs": [
        {
          "output_type": "execute_result",
          "data": {
            "text/plain": [
              "((4000, 24, 24, 3), <matplotlib.image.AxesImage at 0x7f48fc1e8eb8>)"
            ]
          },
          "metadata": {
            "tags": []
          },
          "execution_count": 35
        },
        {
          "output_type": "display_data",
          "data": {
            "image/png": "[encoded data removed]",
            "text/plain": [
              "<Figure size 432x288 with 1 Axes>"
            ]
          },
          "metadata": {
            "tags": [],
            "needs_background": "light"
          }
        }
      ]
    },
    {
      "cell_type": "code",
      "metadata": {
        "id": "zxoDTqnQiAje",
        "colab_type": "code",
        "colab": {}
      },
      "source": [
        "# Sample data\n",
        "from sklearn.model_selection import train_test_split\n",
        "X_data, X_sample, y_data, y_sample = train_test_split(kg_patches_resize, \n",
        "                                                    kg_ships_df.labels, \n",
        "                                                    stratify=kg_ships_df.labels, \n",
        "                                                    test_size=0.5, \n",
        "                                                    random_state=42)"
      ],
      "execution_count": 0,
      "outputs": []
    },
    {
      "cell_type": "code",
      "metadata": {
        "id": "_Li2SbGLigpL",
        "colab_type": "code",
        "colab": {
          "base_uri": "https://localhost:8080/",
          "height": 35
        },
        "outputId": "b37de051-9ab3-4b6a-b5cf-69c82c165e09"
      },
      "source": [
        "X_sample.shape"
      ],
      "execution_count": 212,
      "outputs": [
        {
          "output_type": "execute_result",
          "data": {
            "text/plain": [
              "(2000, 24, 24, 3)"
            ]
          },
          "metadata": {
            "tags": []
          },
          "execution_count": 212
        }
      ]
    },
    {
      "cell_type": "code",
      "metadata": {
        "id": "J_fvma77h3UU",
        "colab_type": "code",
        "colab": {
          "base_uri": "https://localhost:8080/",
          "height": 35
        },
        "outputId": "41ba80f6-73e8-487c-ce20-4eda788a1f2d"
      },
      "source": [
        "#Prepare Data\n",
        "from __future__ import print_function\n",
        "import keras\n",
        "from keras.datasets import mnist\n",
        "from keras.models import Sequential\n",
        "from keras.layers import Dense, Dropout\n",
        "from keras.optimizers import RMSprop\n",
        "\n",
        "x_train, x_test, y_train, y_test = train_test_split(X_sample, \n",
        "                                                    y_sample, \n",
        "                                                    stratify=y_sample, \n",
        "                                                    test_size=0.5, \n",
        "                                                    random_state=42)\n",
        "np.unique(y_train, return_counts=True), np.unique(y_test, return_counts=True)"
      ],
      "execution_count": 233,
      "outputs": [
        {
          "output_type": "execute_result",
          "data": {
            "text/plain": [
              "((array([0, 1]), array([750, 250])), (array([0, 1]), array([750, 250])))"
            ]
          },
          "metadata": {
            "tags": []
          },
          "execution_count": 233
        }
      ]
    },
    {
      "cell_type": "code",
      "metadata": {
        "id": "an_xH01h9Iw2",
        "colab_type": "code",
        "colab": {
          "base_uri": "https://localhost:8080/",
          "height": 52
        },
        "outputId": "cbbcaa0a-c570-4847-816b-46e06ff05b05"
      },
      "source": [
        "x_train = x_train.astype('float32')\n",
        "x_test = x_test.astype('float32')\n",
        "x_train /= 255\n",
        "x_test /= 255\n",
        "print(x_train.shape[0], 'train samples')\n",
        "print(x_test.shape[0], 'test samples')\n",
        "\n",
        "y_train = y_train.astype('int')\n",
        "y_test = y_test.astype('int')\n",
        "num_classes = 2\n",
        "y_train = keras.utils.to_categorical(y_train, num_classes, dtype='int')\n",
        "y_test = keras.utils.to_categorical(y_test, num_classes, dtype='int')"
      ],
      "execution_count": 234,
      "outputs": [
        {
          "output_type": "stream",
          "text": [
            "1000 train samples\n",
            "1000 test samples\n"
          ],
          "name": "stdout"
        }
      ]
    },
    {
      "cell_type": "code",
      "metadata": {
        "id": "HHIBSjMd7li2",
        "colab_type": "code",
        "colab": {
          "base_uri": "https://localhost:8080/",
          "height": 35
        },
        "outputId": "499769e4-c5b0-4669-9141-827684a9ca8c"
      },
      "source": [
        "x_train.shape"
      ],
      "execution_count": 235,
      "outputs": [
        {
          "output_type": "execute_result",
          "data": {
            "text/plain": [
              "(1000, 24, 24, 3)"
            ]
          },
          "metadata": {
            "tags": []
          },
          "execution_count": 235
        }
      ]
    },
    {
      "cell_type": "code",
      "metadata": {
        "id": "GEWETENJ9Q5o",
        "colab_type": "code",
        "colab": {
          "base_uri": "https://localhost:8080/",
          "height": 139
        },
        "outputId": "2741dd9e-140f-4f02-938d-3bee9760cd69"
      },
      "source": [
        "y_train"
      ],
      "execution_count": 236,
      "outputs": [
        {
          "output_type": "execute_result",
          "data": {
            "text/plain": [
              "array([[0, 1],\n",
              "       [1, 0],\n",
              "       [0, 1],\n",
              "       ...,\n",
              "       [0, 1],\n",
              "       [0, 1],\n",
              "       [1, 0]])"
            ]
          },
          "metadata": {
            "tags": []
          },
          "execution_count": 236
        }
      ]
    },
    {
      "cell_type": "code",
      "metadata": {
        "colab_type": "code",
        "id": "QxV78TVFZSjt",
        "colab": {}
      },
      "source": [
        "from keras.layers.convolutional import Conv2D, MaxPooling2D\n",
        "from keras.layers import Dense, Flatten, Activation\n",
        "\n",
        "M = Sequential()\n",
        "M.add(Conv2D(64, (3, 3), padding='same', activation='relu', input_shape=(24, 24, 3)))\n",
        "M.add(Conv2D(128, (3, 3), padding='same', activation='relu'))\n",
        "M.add(MaxPooling2D(pool_size=(2, 2))) #12x12\n",
        "M.add(Dropout(0.20))\n",
        "\n",
        "M.add(Conv2D(256, (3, 3), padding='same', activation='relu'))\n",
        "M.add(MaxPooling2D(pool_size=(2, 2))) #6x6\n",
        "\n",
        "#M.add(Conv2D(512, (3, 3), padding='same', activation='softmax'))\n",
        "#M.add(MaxPooling2D(pool_size=(2, 2))) #3x3\n",
        "\n",
        "M.add(Dropout(0.20))\n",
        "M.add(Flatten())\n",
        "\n",
        "M.add(Dense(512, activation='relu'))\n",
        "M.add(Dropout(0.40))\n",
        "#M.add(Dense(512, activation='softmax'))\n",
        "M.add(Dense(2, activation='relu'))"
      ],
      "execution_count": 0,
      "outputs": []
    },
    {
      "cell_type": "code",
      "metadata": {
        "colab_type": "code",
        "outputId": "175321c9-a249-4830-9e8b-cc7a315ea9bd",
        "id": "LSR3xaYSZSkB",
        "colab": {
          "base_uri": "https://localhost:8080/",
          "height": 537
        }
      },
      "source": [
        "M.summary()"
      ],
      "execution_count": 238,
      "outputs": [
        {
          "output_type": "stream",
          "text": [
            "Model: \"sequential_26\"\n",
            "_________________________________________________________________\n",
            "Layer (type)                 Output Shape              Param #   \n",
            "=================================================================\n",
            "conv2d_88 (Conv2D)           (None, 24, 24, 64)        1792      \n",
            "_________________________________________________________________\n",
            "conv2d_89 (Conv2D)           (None, 24, 24, 128)       73856     \n",
            "_________________________________________________________________\n",
            "max_pooling2d_63 (MaxPooling (None, 12, 12, 128)       0         \n",
            "_________________________________________________________________\n",
            "dropout_74 (Dropout)         (None, 12, 12, 128)       0         \n",
            "_________________________________________________________________\n",
            "conv2d_90 (Conv2D)           (None, 12, 12, 256)       295168    \n",
            "_________________________________________________________________\n",
            "max_pooling2d_64 (MaxPooling (None, 6, 6, 256)         0         \n",
            "_________________________________________________________________\n",
            "dropout_75 (Dropout)         (None, 6, 6, 256)         0         \n",
            "_________________________________________________________________\n",
            "flatten_26 (Flatten)         (None, 9216)              0         \n",
            "_________________________________________________________________\n",
            "dense_68 (Dense)             (None, 512)               4719104   \n",
            "_________________________________________________________________\n",
            "dropout_76 (Dropout)         (None, 512)               0         \n",
            "_________________________________________________________________\n",
            "dense_69 (Dense)             (None, 2)                 1026      \n",
            "=================================================================\n",
            "Total params: 5,090,946\n",
            "Trainable params: 5,090,946\n",
            "Non-trainable params: 0\n",
            "_________________________________________________________________\n"
          ],
          "name": "stdout"
        }
      ]
    },
    {
      "cell_type": "code",
      "metadata": {
        "colab_type": "code",
        "outputId": "8eb74b38-416e-4e60-84d0-82b96eec6bac",
        "id": "kkayNMjDZSkO",
        "colab": {
          "base_uri": "https://localhost:8080/",
          "height": 1000
        }
      },
      "source": [
        "from keras.utils import plot_model\n",
        "\n",
        "plot_model(M, show_shapes=True, show_layer_names=True)"
      ],
      "execution_count": 239,
      "outputs": [
        {
          "output_type": "execute_result",
          "data": {
            "image/png": "[encoded data removed]",
            "text/plain": [
              "<IPython.core.display.Image object>"
            ]
          },
          "metadata": {
            "tags": []
          },
          "execution_count": 239
        }
      ]
    },
    {
      "cell_type": "code",
      "metadata": {
        "colab_type": "code",
        "id": "GfVxZaGrZSkb",
        "colab": {}
      },
      "source": [
        "from keras.optimizers import SGD\n",
        "opt = SGD(lr=0.01)\n",
        "\n",
        "M.compile(loss='binary_crossentropy',\n",
        "              optimizer='adam',\n",
        "              metrics=['accuracy'])"
      ],
      "execution_count": 0,
      "outputs": []
    },
    {
      "cell_type": "code",
      "metadata": {
        "colab_type": "code",
        "outputId": "bde03c09-d157-410a-ae28-92e048845216",
        "id": "_OLO_vwoZSkr",
        "colab": {
          "base_uri": "https://localhost:8080/",
          "height": 381
        }
      },
      "source": [
        "from tensorflow.keras.preprocessing.image import ImageDataGenerator\n",
        "# data augmentation configuration for training data\n",
        "train_datagen = ImageDataGenerator(\n",
        "    shear_range=0.2,\n",
        "    zoom_range=0.2,\n",
        "    horizontal_flip=True)\n",
        "\n",
        "# data augmentation configuration for test data:\n",
        "test_datagen = ImageDataGenerator()\n",
        "\n",
        "train_generator = train_datagen.flow(\n",
        "    x_train,\n",
        "    y_train,\n",
        "    batch_size=128,\n",
        "    )\n",
        "\n",
        "validation_generator = test_datagen.flow(\n",
        "    x_test,\n",
        "    y_test,\n",
        "    batch_size=128,\n",
        "    )\n",
        "\n",
        "M.fit_generator(\n",
        "    train_generator,\n",
        "    steps_per_epoch=len(x_train) // 128,\n",
        "    epochs=10,\n",
        "    validation_data=validation_generator,\n",
        "    validation_steps=len(x_test) // 128)"
      ],
      "execution_count": 241,
      "outputs": [
        {
          "output_type": "stream",
          "text": [
            "Epoch 1/10\n",
            "7/7 [==============================] - 15s 2s/step - loss: 2.3919 - accuracy: 0.4083 - val_loss: 2.2618 - val_accuracy: 0.3761\n",
            "Epoch 2/10\n",
            "7/7 [==============================] - 14s 2s/step - loss: 2.7167 - accuracy: 0.3756 - val_loss: 2.4501 - val_accuracy: 0.3710\n",
            "Epoch 3/10\n",
            "7/7 [==============================] - 13s 2s/step - loss: 2.1170 - accuracy: 0.3461 - val_loss: 1.7193 - val_accuracy: 0.3813\n",
            "Epoch 4/10\n",
            "7/7 [==============================] - 14s 2s/step - loss: 2.4107 - accuracy: 0.3253 - val_loss: 1.9422 - val_accuracy: 0.7477\n",
            "Epoch 5/10\n",
            "7/7 [==============================] - 14s 2s/step - loss: 2.1753 - accuracy: 0.6726 - val_loss: 0.6328 - val_accuracy: 0.7408\n",
            "Epoch 6/10\n",
            "7/7 [==============================] - 14s 2s/step - loss: 0.8939 - accuracy: 0.5625 - val_loss: 1.1206 - val_accuracy: 0.5000\n",
            "Epoch 7/10\n",
            "7/7 [==============================] - 14s 2s/step - loss: 0.8582 - accuracy: 0.5075 - val_loss: 0.5974 - val_accuracy: 0.5006\n",
            "Epoch 8/10\n",
            "7/7 [==============================] - 14s 2s/step - loss: 0.6529 - accuracy: 0.7511 - val_loss: 0.6202 - val_accuracy: 0.7420\n",
            "Epoch 9/10\n",
            "7/7 [==============================] - 13s 2s/step - loss: 0.5906 - accuracy: 0.7511 - val_loss: 0.6243 - val_accuracy: 0.7444\n",
            "Epoch 10/10\n",
            "7/7 [==============================] - 14s 2s/step - loss: 0.5966 - accuracy: 0.7414 - val_loss: 0.5629 - val_accuracy: 0.7626\n"
          ],
          "name": "stdout"
        },
        {
          "output_type": "execute_result",
          "data": {
            "text/plain": [
              "<keras.callbacks.callbacks.History at 0x7f48b52c4a58>"
            ]
          },
          "metadata": {
            "tags": []
          },
          "execution_count": 241
        }
      ]
    },
    {
      "cell_type": "code",
      "metadata": {
        "colab_type": "code",
        "outputId": "6d63b163-8b05-45d3-9b5c-7c77af3b9dfa",
        "id": "CLZAmPMxZSk1",
        "colab": {
          "base_uri": "https://localhost:8080/",
          "height": 52
        }
      },
      "source": [
        "#Evaluating test loss and test accuracy\n",
        "score = M.evaluate(x_test, y_test, verbose=0)\n",
        "print('Test loss:', score[0])\n",
        "print('Test accuracy:', score[1])"
      ],
      "execution_count": 244,
      "outputs": [
        {
          "output_type": "stream",
          "text": [
            "Test loss: 0.5866015496253967\n",
            "Test accuracy: 0.75\n"
          ],
          "name": "stdout"
        }
      ]
    },
    {
      "cell_type": "code",
      "metadata": {
        "id": "dQ9EQCnJisOQ",
        "colab_type": "code",
        "colab": {}
      },
      "source": [
        "\n",
        "datagen = ImageDataGenerator(\n",
        "    rotation_range=180,\n",
        "    horizontal_flip=True,\n",
        "    vertical_flip=True)\n",
        "\n",
        "datagen.fit(x_train)\n",
        "\n",
        "model.fit_generator(datagen.flow(x_train, y_train, batch_size=32),\n",
        "                    steps_per_epoch=len(x_train) / 32, epochs=epochs)"
      ],
      "execution_count": 0,
      "outputs": []
    }
  ]
}