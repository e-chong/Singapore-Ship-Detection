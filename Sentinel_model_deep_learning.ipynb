{
  "nbformat": 4,
  "nbformat_minor": 0,
  "metadata": {
    "colab": {
      "name": "Sentinel_model_deep_learning.ipynb",
      "provenance": [],
      "collapsed_sections": [],
      "machine_shape": "hm",
      "authorship_tag": "ABX9TyOm9Xcc3AiXplpf71E4zB+v",
      "include_colab_link": true
    },
    "kernelspec": {
      "name": "python3",
      "display_name": "Python 3"
    }
  },
  "cells": [
    {
      "cell_type": "markdown",
      "metadata": {
        "id": "view-in-github",
        "colab_type": "text"
      },
      "source": [
        "<a href=\"https://colab.research.google.com/github/e-chong/Singapore-Ship-Detection/blob/master/Sentinel_model_deep_learning.ipynb\" target=\"_parent\"><img src=\"https://colab.research.google.com/assets/colab-badge.svg\" alt=\"Open In Colab\"/></a>"
      ]
    },
    {
      "cell_type": "code",
      "metadata": {
        "id": "JHtn7Hc-PC72",
        "colab_type": "code",
        "colab": {}
      },
      "source": [
        "# suppress output\n",
        "%%capture \n",
        "\n",
        "!pip install rasterio\n",
        "!pip install geopandas\n",
        "!pip install progressbar2"
      ],
      "execution_count": 0,
      "outputs": []
    },
    {
      "cell_type": "code",
      "metadata": {
        "id": "xqNoCRTdN-J2",
        "colab_type": "code",
        "outputId": "e4af2385-18fd-4e70-9e2c-24c952332334",
        "colab": {
          "base_uri": "https://localhost:8080/",
          "height": 364
        }
      },
      "source": [
        "!pip install dask-image"
      ],
      "execution_count": 0,
      "outputs": [
        {
          "output_type": "stream",
          "text": [
            "Collecting dask-image\n",
            "\u001b[?25l  Downloading https://files.pythonhosted.org/packages/49/8a/78ed4a15a05fd7695701b101bc418e67afa287aca6e2158d6c4e6a3bee87/dask-image-0.2.0.tar.gz (50kB)\n",
            "\u001b[K     |████████████████████████████████| 51kB 1.7MB/s \n",
            "\u001b[?25hRequirement already satisfied: dask[array]>=0.16.1 in /usr/local/lib/python3.6/dist-packages (from dask-image) (2.12.0)\n",
            "Requirement already satisfied: numpy>=1.11.3 in /usr/local/lib/python3.6/dist-packages (from dask-image) (1.18.3)\n",
            "Requirement already satisfied: scipy>=0.19.1 in /usr/local/lib/python3.6/dist-packages (from dask-image) (1.4.1)\n",
            "Collecting pims>=0.4.1\n",
            "\u001b[?25l  Downloading https://files.pythonhosted.org/packages/00/08/bbf9f5465c92ea6577bc5824fea21d2583e24e94fe10cc853587ffcacda0/PIMS-0.4.1-py3-none-any.whl (81kB)\n",
            "\u001b[K     |████████████████████████████████| 81kB 4.5MB/s \n",
            "\u001b[?25hRequirement already satisfied: toolz>=0.7.3; extra == \"array\" in /usr/local/lib/python3.6/dist-packages (from dask[array]>=0.16.1->dask-image) (0.10.0)\n",
            "Requirement already satisfied: six>=1.8 in /usr/local/lib/python3.6/dist-packages (from pims>=0.4.1->dask-image) (1.12.0)\n",
            "Collecting slicerator>=0.9.7\n",
            "  Downloading https://files.pythonhosted.org/packages/75/ae/fe46f5371105508a209fe6162e7e7b11db531a79d2eabcd24566b8b1f534/slicerator-1.0.0-py3-none-any.whl\n",
            "Building wheels for collected packages: dask-image\n",
            "  Building wheel for dask-image (setup.py) ... \u001b[?25l\u001b[?25hdone\n",
            "  Created wheel for dask-image: filename=dask_image-0.2.0-py2.py3-none-any.whl size=22056 sha256=0f34ffc68f16ce8a040cef900ddcd2356e0acf5de88c30c49c2ca388149ab2c4\n",
            "  Stored in directory: /root/.cache/pip/wheels/9c/0d/46/22f406c3bff35ad80a7d6785f96fb3381114e97d3cd3615f63\n",
            "Successfully built dask-image\n",
            "Installing collected packages: slicerator, pims, dask-image\n",
            "Successfully installed dask-image-0.2.0 pims-0.4.1 slicerator-1.0.0\n"
          ],
          "name": "stdout"
        }
      ]
    },
    {
      "cell_type": "code",
      "metadata": {
        "id": "8ANez5xsOQd6",
        "colab_type": "code",
        "colab": {}
      },
      "source": [
        "# Load Dependencies\n",
        "import numpy as np\n",
        "import pandas as pd\n",
        "import geopandas as gpd # vector spatial operations\n",
        "from shapely.geometry import Polygon # vector geometries\n",
        "import rasterio as rio # raster spatial operations\n",
        "from rasterio.plot import show #convenience wrapper for pyplot.imshow for RGB and 1 band images\n",
        "import os\n",
        "import time\n",
        "import progressbar\n",
        "import matplotlib.pyplot as plt\n",
        "#import dask_image.imread\n",
        "#import dask_image.ndfilters\n",
        "#import dask_image.ndmeasure\n",
        "#import dask.array as da"
      ],
      "execution_count": 0,
      "outputs": []
    },
    {
      "cell_type": "code",
      "metadata": {
        "id": "xisFiHvHPOze",
        "colab_type": "code",
        "outputId": "a7f4f84c-eff4-498a-aa12-2a4950a353fe",
        "colab": {
          "base_uri": "https://localhost:8080/",
          "height": 124
        }
      },
      "source": [
        "from google.colab import drive\n",
        "drive.mount('/content/drive')"
      ],
      "execution_count": 6,
      "outputs": [
        {
          "output_type": "stream",
          "text": [
            "Go to this URL in a browser: https://accounts.google.com/o/oauth2/auth?client_id=947318989803-6bn6qk8qdgf4n4g3pfee6491hc0brc4i.apps.googleusercontent.com&redirect_uri=urn%3aietf%3awg%3aoauth%3a2.0%3aoob&response_type=code&scope=email%20https%3a%2f%2fwww.googleapis.com%2fauth%2fdocs.test%20https%3a%2f%2fwww.googleapis.com%2fauth%2fdrive%20https%3a%2f%2fwww.googleapis.com%2fauth%2fdrive.photos.readonly%20https%3a%2f%2fwww.googleapis.com%2fauth%2fpeopleapi.readonly\n",
            "\n",
            "Enter your authorization code:\n",
            "··········\n",
            "Mounted at /content/drive\n"
          ],
          "name": "stdout"
        }
      ]
    },
    {
      "cell_type": "markdown",
      "metadata": {
        "id": "L2qU55-0YlbD",
        "colab_type": "text"
      },
      "source": [
        "#Functions\n",
        "credit to # https://gis.stackexchange.com/questions/299787/finding-pixel-location-in-raster-using-coordinates"
      ]
    },
    {
      "cell_type": "code",
      "metadata": {
        "id": "BUItuhhJYz5o",
        "colab_type": "code",
        "colab": {}
      },
      "source": [
        "# returns matrix of [n ships, patch_size, patch_size]\n",
        "def create_ship_patches(ships, img, patch_size=30):\n",
        "  coordinates = list(zip(ships.geometry.x, ships.geometry.y))\n",
        "  with progressbar.ProgressBar(max_value=len(ships.index)) as bar: # creates progress bar\n",
        "    patch_list = np.zeros([len(ships.index), patch_size, patch_size, len(img.indexes)])\n",
        "    for i, (lon, lat) in enumerate(coordinates): # Loop through your list of coords\n",
        "      py, px = img.index(lon, lat) # Get pixel coordinates from map coordinates\n",
        "      window = rio.windows.Window(px - patch_size//2, py - patch_size//2, patch_size, patch_size) # Build an NxN window\n",
        "      patch = img.read(window=window) # clip is a nbands * patch_size * patch_size numpy array\n",
        "      patch_list[i] = np.transpose(patch, (1,2,0)) # transpose to [patch_size, patch_size, n bands]\n",
        "      bar.update(i)\n",
        "  return patch_list.astype(int)"
      ],
      "execution_count": 0,
      "outputs": []
    },
    {
      "cell_type": "code",
      "metadata": {
        "id": "b2eqjSBR5-Zf",
        "colab_type": "code",
        "colab": {}
      },
      "source": [
        "# creates patches for use in classifying ship or no ship\n",
        "def create_patches(img, patch_size=50, step_size=30):\n",
        "  n_patches = len(range(0,img.height, step_size))* len(range(0,img.width, step_size))\n",
        "  patches = np.zeros([n_patches, patch_size, patch_size, len(img.indexes)])\n",
        "  index = 0\n",
        "  with progressbar.ProgressBar(max_value=n_patches) as bar: # creates progress bar\n",
        "    for y in range(0,img.height, step_size): # iterate across image column-wise\n",
        "      for x in range(0,img.width, step_size): # iterate across imgage row-wise\n",
        "        window = rio.windows.Window(x,y, patch_size, patch_size)\n",
        "        if window.col_off+window.width > img.width or window.row_off+window.height > img.height:\n",
        "          pass\n",
        "        else:\n",
        "          # Read the data in the window\n",
        "          patch = img.read(window=window) # patch is a nbands * patch_size * patch_size numpy array\n",
        "          patches[index] = np.transpose(patch, (1,2,0)) # transpose to [patch_size, patch_size, n bands]\n",
        "          index += 1\n",
        "          bar.update(index)\n",
        "  return patches.astype(int)\n"
      ],
      "execution_count": 0,
      "outputs": []
    },
    {
      "cell_type": "code",
      "metadata": {
        "id": "twZvSlhl1V67",
        "colab_type": "code",
        "colab": {}
      },
      "source": [
        "# create X and dataframe with labels\n",
        "def patch_intersects_ship(ships, img, patch_size=50, step_size=30):\n",
        "  n_patches = len(range(0,img.height, step_size))* len(range(0,img.width, step_size))\n",
        "  X = np.zeros([n_patches, patch_size, patch_size, len(img.indexes)])\n",
        "  isShip_list = [] #list to hold all the patch locations\n",
        "  x_list = []\n",
        "  y_list = []\n",
        "  index = 0\n",
        "  with progressbar.ProgressBar(max_value=n_patches) as bar: # creates progress bar\n",
        "    for y in range(0,img.height, step_size): # iterate across image column-wise\n",
        "      for x in range(0,img.width, step_size): # iterate across imgage row-wise\n",
        "        window = rio.windows.Window(x,y, patch_size, patch_size) #get patch window\n",
        "        if window.col_off+window.width > img.width or window.row_off+window.height > img.height:\n",
        "          pass #skip patches that extend off the edge so they have the wrong shape\n",
        "        else:\n",
        "          # Read the data in the window\n",
        "          patch = img.read(window=window) # patch is a nbands * patch_size * patch_size numpy array\n",
        "          X[index] = np.transpose(patch, (1,2,0)) # transpose to [patch_size, patch_size, n bands]\n",
        "          # create polygon with patches spatial coordinates\n",
        "          patch_poly = Polygon([img.transform * (window.col_off, window.row_off), #must be a more pythonic way to do this\n",
        "                              img.transform * (window.col_off + window.width, window.row_off),\n",
        "                              img.transform * (window.col_off + window.width, window.row_off + window.height),\n",
        "                              img.transform * (window.col_off, window.row_off + window.height)])\n",
        "          isShip = np.any(ships.intersects(patch_poly)) #intersect ships with polygon and chek if any are positive\n",
        "          isShip_list.append(isShip) #append result to list\n",
        "          x_list.append(x),\n",
        "          y_list.append(y)\n",
        "          index += 1\n",
        "          bar.update(index)\n",
        "  results = pd.DataFrame({'isShip':isShip_list, 'x':x_list, 'y':y_list, 'patch_size':patch_size})\n",
        "  return results, X"
      ],
      "execution_count": 0,
      "outputs": []
    },
    {
      "cell_type": "code",
      "metadata": {
        "colab_type": "code",
        "id": "BU4k6A7f9sPa",
        "colab": {}
      },
      "source": [
        "# create X and y\n",
        "def patch_intersects_ship(ships, img, patch_size=50, step_size=30):\n",
        "  n_patches = len(range(0,img.height, step_size))* len(range(0,img.width, step_size))\n",
        "  X = np.zeros([n_patches, patch_size, patch_size, len(img.indexes)])\n",
        "  y = []\n",
        "  index = 0\n",
        "  with progressbar.ProgressBar(max_value=n_patches) as bar: # creates progress bar\n",
        "    for y in range(0,img.height, step_size): # iterate across image column-wise\n",
        "      for x in range(0,img.width, step_size): # iterate across imgage row-wise\n",
        "        window = rio.windows.Window(x,y, patch_size, patch_size) #get patch window\n",
        "        if window.col_off+window.width > img.width or window.row_off+window.height > img.height:\n",
        "          pass #skip patches that extend off the edge so they have the wrong shape\n",
        "        else:\n",
        "          # Read the data in the window\n",
        "          patch = img.read(window=window) # patch is a nbands * patch_size * patch_size numpy array\n",
        "          X[index] = np.transpose(patch, (1,2,0)) # transpose to [patch_size, patch_size, n bands]\n",
        "          # create polygon with patches spatial coordinates\n",
        "          patch_poly = Polygon([img.transform * (window.col_off, window.row_off), #must be a more pythonic way to do this\n",
        "                              img.transform * (window.col_off + window.width, window.row_off),\n",
        "                              img.transform * (window.col_off + window.width, window.row_off + window.height),\n",
        "                              img.transform * (window.col_off, window.row_off + window.height)])\n",
        "          isShip = np.any(ships.intersects(patch_poly)) #intersect ships with polygon and chek if any are positive\n",
        "          y.append(isShip)\n",
        "          index += 1\n",
        "          bar.update(index)\n",
        "  \n",
        "  return X, y"
      ],
      "execution_count": 0,
      "outputs": []
    },
    {
      "cell_type": "code",
      "metadata": {
        "colab_type": "code",
        "id": "ioro5x0-OE6O",
        "colab": {}
      },
      "source": [
        "# create X\n",
        "def patch_intersects_ship(ships, img, patch_size=50, step_size=25):\n",
        "  n_patches = len(range(0,img.height, step_size))* len(range(0,img.width, step_size))\n",
        "  X = np.zeros([n_patches, patch_size, patch_size, len(img.indexes)])\n",
        "  index = 0\n",
        "  with progressbar.ProgressBar(max_value=n_patches) as bar: # creates progress bar\n",
        "    for y in range(0,img.height, step_size): # iterate across image column-wise\n",
        "      for x in range(0,img.width, step_size): # iterate across imgage row-wise\n",
        "        window = rio.windows.Window(x,y, patch_size, patch_size) #get patch window\n",
        "        if window.col_off+window.width > img.width or window.row_off+window.height > img.height:\n",
        "          pass #skip patches that extend off the edge so they have the wrong shape\n",
        "        else:\n",
        "          # Read the data in the window\n",
        "          patch = img.read(window=window) # patch is a nbands * patch_size * patch_size numpy array\n",
        "          X[index] = np.transpose(patch, (1,2,0)) # transpose to [patch_size, patch_size, n bands]\n",
        "          index += 1\n",
        "          bar.update(index)\n",
        "  \n",
        "  return X"
      ],
      "execution_count": 0,
      "outputs": []
    },
    {
      "cell_type": "code",
      "metadata": {
        "colab_type": "code",
        "id": "QKOW6blkBldE",
        "colab": {}
      },
      "source": [
        "# create y\n",
        "def patch_intersects_shipy(ships, img, patch_size=50, step_size=25):\n",
        "  n_patches = len(range(0,img.height, step_size))* len(range(0,img.width, step_size))\n",
        "  y_list = []\n",
        "  index = 0\n",
        "  with progressbar.ProgressBar(max_value=n_patches) as bar: # creates progress bar\n",
        "    for y in range(0,img.height, step_size): # iterate across image column-wise\n",
        "      for x in range(0,img.width, step_size): # iterate across imgage row-wise\n",
        "        window = rio.windows.Window(x,y, patch_size, patch_size) #get patch window\n",
        "        if window.col_off+window.width > img.width or window.row_off+window.height > img.height:\n",
        "          pass #skip patches that extend off the edge so they have the wrong shape\n",
        "        else:\n",
        "          # create polygon with patches spatial coordinates\n",
        "          patch_poly = Polygon([img.transform * (window.col_off, window.row_off), #must be a more pythonic way to do this\n",
        "                              img.transform * (window.col_off + window.width, window.row_off),\n",
        "                              img.transform * (window.col_off + window.width, window.row_off + window.height),\n",
        "                              img.transform * (window.col_off, window.row_off + window.height)])\n",
        "          isShip = np.any(ships.intersects(patch_poly)) #intersect ships with polygon and chek if any are positive\n",
        "          y_list.append(isShip),\n",
        "          index += 1\n",
        "          bar.update(index)\n",
        "  \n",
        "  return y_list"
      ],
      "execution_count": 0,
      "outputs": []
    },
    {
      "cell_type": "code",
      "metadata": {
        "id": "lhequix-St9Q",
        "colab_type": "code",
        "colab": {}
      },
      "source": [
        "# returns boolean list of whether patches intersect with any ships\n",
        "def patch_intersects_ship(ships, img, patch_size=50, step_size=30):\n",
        "  n_patches = len(range(0,img.height, step_size))* len(range(0,img.width, step_size))\n",
        "  isShip_list = [] #list to hold all the patch locations\n",
        "  x_list = []\n",
        "  y_list = []\n",
        "  index = 0\n",
        "  with progressbar.ProgressBar(max_value=n_patches) as bar: # creates progress bar\n",
        "    for y in range(0,img.height, step_size): # iterate across image column-wise\n",
        "      for x in range(0,img.width, step_size): # iterate across imgage row-wise\n",
        "        window = rio.windows.Window(x,y, patch_size, patch_size) #get patch window\n",
        "        if window.col_off+window.width > img.width or window.row_off+window.height > img.height:\n",
        "          pass #skip patches that extend off the edge so they have the wrong shape\n",
        "        else:\n",
        "          # create polygon with patches spatial coordinates\n",
        "          patch_poly = Polygon([img.transform * (window.col_off, window.row_off), #must be a more pythonic way to do this\n",
        "                              img.transform * (window.col_off + window.width, window.row_off),\n",
        "                              img.transform * (window.col_off + window.width, window.row_off + window.height),\n",
        "                              img.transform * (window.col_off, window.row_off + window.height)])\n",
        "          isShip = np.any(ships.intersects(patch_poly)) #intersect ships with polygon and chek if any are positive\n",
        "          isShip_list.append(isShip) #append result to list\n",
        "          x_list.append(x),\n",
        "          y_list.append(y)\n",
        "          index += 1\n",
        "          bar.update(index)\n",
        "  results = pd.DataFrame({'isShip':isShip_list, 'x':x_list, 'y':y_list, 'patch_size':patch_size})\n",
        "  return results"
      ],
      "execution_count": 0,
      "outputs": []
    },
    {
      "cell_type": "markdown",
      "metadata": {
        "id": "xTCqhbeLYf3K",
        "colab_type": "text"
      },
      "source": [
        "# Testing"
      ]
    },
    {
      "cell_type": "code",
      "metadata": {
        "id": "sPM6vJbLPPTy",
        "colab_type": "code",
        "outputId": "e02292ac-dd5a-425e-f6c3-3b703087f11a",
        "colab": {
          "base_uri": "https://localhost:8080/",
          "height": 156
        }
      },
      "source": [
        "drive_path = '/content/drive/My Drive/MUSA-650-Final-Project/'\n",
        "# NOTE: unified notebook will be able to use the title field from sceneMeta to get specific images and ship points\n",
        "files = os.listdir(drive_path)\n",
        "files"
      ],
      "execution_count": 8,
      "outputs": [
        {
          "output_type": "execute_result",
          "data": {
            "text/plain": [
              "['S2B_MSIL1C_20190406T031549_N0207_R118_T48NUG_20190406T073031.jp2',\n",
              " 'S2B_MSIL1C_20190705T031549_N0207_R118_T48NUG_20190705T065323.jp2',\n",
              " 'S2A_MSIL1C_20191227T032131_N0208_R118_T48NUG_20191227T060736.jp2',\n",
              " 'S2B_MSIL1C_20171122T032029_N0206_R118_T48NUG_20200423T142704.jp2',\n",
              " 'S2B_MSIL1C_20190705T031549_N0207_R118_T48NUG_20190705T065323_SHIPS.geojson',\n",
              " 'S2B_MSIL1C_20190406T031549_N0207_R118_T48NUG_20190406T073031_SHIPS.geojson',\n",
              " 'S2A_MSIL1C_20191227T032131_N0208_R118_T48NUG_20191227T060736_SHIPS.geojson',\n",
              " 'S2B_MSIL1C_20171122T032029_N0206_R118_T48NUG_20200423T142704_SHIPS.geojson']"
            ]
          },
          "metadata": {
            "tags": []
          },
          "execution_count": 8
        }
      ]
    },
    {
      "cell_type": "code",
      "metadata": {
        "id": "GCDvZpP7F4uB",
        "colab_type": "code",
        "colab": {}
      },
      "source": [
        "# load ship points\n",
        "ship_points = gpd.read_file('/content/drive/My Drive/MUSA-650-Final-Project/S2A_MSIL1C_20191227T032131_N0208_R118_T48NUG_20191227T060736_SHIPS.geojson')"
      ],
      "execution_count": 0,
      "outputs": []
    },
    {
      "cell_type": "code",
      "metadata": {
        "id": "iMot3WQ5GPTt",
        "colab_type": "code",
        "colab": {}
      },
      "source": [
        "# load satelite image\n",
        "sat_img = rio.open('/content/drive/My Drive/MUSA-650-Final-Project/S2A_MSIL1C_20191227T032131_N0208_R118_T48NUG_20191227T060736.jp2')"
      ],
      "execution_count": 0,
      "outputs": []
    },
    {
      "cell_type": "code",
      "metadata": {
        "id": "W1_1W4aaAB1w",
        "colab_type": "code",
        "colab": {}
      },
      "source": [
        "# this function takes a few minutes to run\n",
        "X, y = patch_intersects_ship(ships=ship_points, img=sat_img)"
      ],
      "execution_count": 0,
      "outputs": []
    },
    {
      "cell_type": "code",
      "metadata": {
        "colab_type": "code",
        "outputId": "29836ce2-5ed1-493f-9513-54006be5d2de",
        "id": "DBEoV3ifB8-P",
        "colab": {
          "base_uri": "https://localhost:8080/",
          "height": 35
        }
      },
      "source": [
        "# this function takes a few minutes to run\n",
        "y = patch_intersects_shipy(ships=ship_points, img=sat_img)"
      ],
      "execution_count": 29,
      "outputs": [
        {
          "output_type": "stream",
          "text": [
            "100% (193600 of 193600) |################| Elapsed Time: 0:05:34 Time:  0:05:34\n"
          ],
          "name": "stderr"
        }
      ]
    },
    {
      "cell_type": "code",
      "metadata": {
        "id": "1d2IEIel9Nr_",
        "colab_type": "code",
        "outputId": "510689b8-01b9-459b-87ef-337006bd07d3",
        "colab": {
          "base_uri": "https://localhost:8080/",
          "height": 35
        }
      },
      "source": [
        "X.shape"
      ],
      "execution_count": 0,
      "outputs": [
        {
          "output_type": "execute_result",
          "data": {
            "text/plain": [
              "(133956, 50, 50, 3)"
            ]
          },
          "metadata": {
            "tags": []
          },
          "execution_count": 16
        }
      ]
    },
    {
      "cell_type": "code",
      "metadata": {
        "id": "Ic8Gt3Jb3GhA",
        "colab_type": "code",
        "outputId": "3273dd9e-70aa-4569-9b79-9456102b9c28",
        "colab": {
          "base_uri": "https://localhost:8080/",
          "height": 35
        }
      },
      "source": [
        "y = np.asarray(y, dtype=int)\n",
        "y.shape"
      ],
      "execution_count": 31,
      "outputs": [
        {
          "output_type": "execute_result",
          "data": {
            "text/plain": [
              "(191844,)"
            ]
          },
          "metadata": {
            "tags": []
          },
          "execution_count": 31
        }
      ]
    },
    {
      "cell_type": "code",
      "metadata": {
        "id": "YEHABIqu8T8t",
        "colab_type": "code",
        "outputId": "f17903cf-3c01-47e8-9cf0-b4763da14baa",
        "colab": {
          "base_uri": "https://localhost:8080/",
          "height": 415
        }
      },
      "source": [
        "test_class.isShip.unique()\n",
        "test_class"
      ],
      "execution_count": 0,
      "outputs": [
        {
          "output_type": "execute_result",
          "data": {
            "text/html": [
              "<div>\n",
              "<style scoped>\n",
              "    .dataframe tbody tr th:only-of-type {\n",
              "        vertical-align: middle;\n",
              "    }\n",
              "\n",
              "    .dataframe tbody tr th {\n",
              "        vertical-align: top;\n",
              "    }\n",
              "\n",
              "    .dataframe thead th {\n",
              "        text-align: right;\n",
              "    }\n",
              "</style>\n",
              "<table border=\"1\" class=\"dataframe\">\n",
              "  <thead>\n",
              "    <tr style=\"text-align: right;\">\n",
              "      <th></th>\n",
              "      <th>isShip</th>\n",
              "      <th>x</th>\n",
              "      <th>y</th>\n",
              "      <th>patch_size</th>\n",
              "    </tr>\n",
              "  </thead>\n",
              "  <tbody>\n",
              "    <tr>\n",
              "      <th>0</th>\n",
              "      <td>False</td>\n",
              "      <td>0</td>\n",
              "      <td>0</td>\n",
              "      <td>50</td>\n",
              "    </tr>\n",
              "    <tr>\n",
              "      <th>1</th>\n",
              "      <td>False</td>\n",
              "      <td>30</td>\n",
              "      <td>0</td>\n",
              "      <td>50</td>\n",
              "    </tr>\n",
              "    <tr>\n",
              "      <th>2</th>\n",
              "      <td>False</td>\n",
              "      <td>60</td>\n",
              "      <td>0</td>\n",
              "      <td>50</td>\n",
              "    </tr>\n",
              "    <tr>\n",
              "      <th>3</th>\n",
              "      <td>False</td>\n",
              "      <td>90</td>\n",
              "      <td>0</td>\n",
              "      <td>50</td>\n",
              "    </tr>\n",
              "    <tr>\n",
              "      <th>4</th>\n",
              "      <td>False</td>\n",
              "      <td>120</td>\n",
              "      <td>0</td>\n",
              "      <td>50</td>\n",
              "    </tr>\n",
              "    <tr>\n",
              "      <th>...</th>\n",
              "      <td>...</td>\n",
              "      <td>...</td>\n",
              "      <td>...</td>\n",
              "      <td>...</td>\n",
              "    </tr>\n",
              "    <tr>\n",
              "      <th>133220</th>\n",
              "      <td>False</td>\n",
              "      <td>10800</td>\n",
              "      <td>10920</td>\n",
              "      <td>50</td>\n",
              "    </tr>\n",
              "    <tr>\n",
              "      <th>133221</th>\n",
              "      <td>False</td>\n",
              "      <td>10830</td>\n",
              "      <td>10920</td>\n",
              "      <td>50</td>\n",
              "    </tr>\n",
              "    <tr>\n",
              "      <th>133222</th>\n",
              "      <td>False</td>\n",
              "      <td>10860</td>\n",
              "      <td>10920</td>\n",
              "      <td>50</td>\n",
              "    </tr>\n",
              "    <tr>\n",
              "      <th>133223</th>\n",
              "      <td>False</td>\n",
              "      <td>10890</td>\n",
              "      <td>10920</td>\n",
              "      <td>50</td>\n",
              "    </tr>\n",
              "    <tr>\n",
              "      <th>133224</th>\n",
              "      <td>False</td>\n",
              "      <td>10920</td>\n",
              "      <td>10920</td>\n",
              "      <td>50</td>\n",
              "    </tr>\n",
              "  </tbody>\n",
              "</table>\n",
              "<p>133225 rows × 4 columns</p>\n",
              "</div>"
            ],
            "text/plain": [
              "        isShip      x      y  patch_size\n",
              "0        False      0      0          50\n",
              "1        False     30      0          50\n",
              "2        False     60      0          50\n",
              "3        False     90      0          50\n",
              "4        False    120      0          50\n",
              "...        ...    ...    ...         ...\n",
              "133220   False  10800  10920          50\n",
              "133221   False  10830  10920          50\n",
              "133222   False  10860  10920          50\n",
              "133223   False  10890  10920          50\n",
              "133224   False  10920  10920          50\n",
              "\n",
              "[133225 rows x 4 columns]"
            ]
          },
          "metadata": {
            "tags": []
          },
          "execution_count": 30
        }
      ]
    },
    {
      "cell_type": "code",
      "metadata": {
        "id": "MHebzd1J9NWA",
        "colab_type": "code",
        "outputId": "20e947b5-0a88-45b1-901a-fa98cbe3f138",
        "colab": {
          "base_uri": "https://localhost:8080/",
          "height": 35
        }
      },
      "source": [
        "Ship =  test_class['isShip']==True\n",
        "test_class_Ship = test_class[Ship]\n",
        "test_class_Ship.shape"
      ],
      "execution_count": 0,
      "outputs": [
        {
          "output_type": "execute_result",
          "data": {
            "text/plain": [
              "(1060, 4)"
            ]
          },
          "metadata": {
            "tags": []
          },
          "execution_count": 33
        }
      ]
    },
    {
      "cell_type": "code",
      "metadata": {
        "id": "0MsXFy_aDluw",
        "colab_type": "code",
        "colab": {}
      },
      "source": [
        "index = []\n",
        "\n",
        "for row in test_class.iterrows():\n",
        "  if ['isShip']==True:\n",
        "    index.append(1)\n",
        "  else:\n",
        "    index.append(0)"
      ],
      "execution_count": 0,
      "outputs": []
    },
    {
      "cell_type": "code",
      "metadata": {
        "id": "mcMKp2SwFZtJ",
        "colab_type": "code",
        "outputId": "4232faa6-ac6c-460f-a773-0f1c7d26fd8c",
        "colab": {
          "base_uri": "https://localhost:8080/",
          "height": 35
        }
      },
      "source": [
        "len(index)"
      ],
      "execution_count": 0,
      "outputs": [
        {
          "output_type": "execute_result",
          "data": {
            "text/plain": [
              "133225"
            ]
          },
          "metadata": {
            "tags": []
          },
          "execution_count": 38
        }
      ]
    },
    {
      "cell_type": "code",
      "metadata": {
        "id": "ZRsXu0VIDIWi",
        "colab_type": "code",
        "outputId": "9a795720-3414-439f-b6f0-d0e040f4c960",
        "colab": {
          "base_uri": "https://localhost:8080/",
          "height": 285
        }
      },
      "source": [
        "test_ships = test_class.loc[test_class.isShip == True]\n",
        "i = 90\n",
        "test_w = rio.windows.Window(test_ships.iloc[i].x,test_ships.iloc[i].y, test_ships.iloc[i].patch_size, test_ships.iloc[i].patch_size)\n",
        "test_patch = sat_img.read(window=test_w)\n",
        "show(test_patch)"
      ],
      "execution_count": 0,
      "outputs": [
        {
          "output_type": "display_data",
          "data": {
            "image/png": "[encoded data removed]",
            "text/plain": [
              "<Figure size 432x288 with 1 Axes>"
            ]
          },
          "metadata": {
            "tags": [],
            "needs_background": "light"
          }
        },
        {
          "output_type": "execute_result",
          "data": {
            "text/plain": [
              "<matplotlib.axes._subplots.AxesSubplot at 0x7fe1a8355cf8>"
            ]
          },
          "metadata": {
            "tags": []
          },
          "execution_count": 13
        }
      ]
    },
    {
      "cell_type": "code",
      "metadata": {
        "id": "aDuEzISUZSU4",
        "colab_type": "code",
        "outputId": "15b9f3bb-30a3-430d-8f12-b1da8ec8019e",
        "colab": {
          "base_uri": "https://localhost:8080/",
          "height": 35
        }
      },
      "source": [
        "training_ship_patches = create_ship_patches(ship_points, sat_img)"
      ],
      "execution_count": 0,
      "outputs": [
        {
          "output_type": "stream",
          "text": [
            "100% (425 of 425) |######################| Elapsed Time: 0:00:07 Time:  0:00:07\n"
          ],
          "name": "stderr"
        }
      ]
    },
    {
      "cell_type": "code",
      "metadata": {
        "id": "2pFQUtbo3rDZ",
        "colab_type": "code",
        "outputId": "d7f8ea44-aae5-4abf-c692-e49951dc03f6",
        "colab": {
          "base_uri": "https://localhost:8080/",
          "height": 35
        }
      },
      "source": [
        "training_ship_patches.shape"
      ],
      "execution_count": 0,
      "outputs": [
        {
          "output_type": "execute_result",
          "data": {
            "text/plain": [
              "(425, 30, 30, 3)"
            ]
          },
          "metadata": {
            "tags": []
          },
          "execution_count": 15
        }
      ]
    },
    {
      "cell_type": "code",
      "metadata": {
        "id": "RIcIuIblzavY",
        "colab_type": "code",
        "outputId": "b7cc5dfd-5de9-4826-82b4-d0681df60cc3",
        "colab": {
          "base_uri": "https://localhost:8080/",
          "height": 283
        }
      },
      "source": [
        "#plot ship patch\n",
        "plt.imshow(training_ship_patches[10])"
      ],
      "execution_count": 0,
      "outputs": [
        {
          "output_type": "execute_result",
          "data": {
            "text/plain": [
              "<matplotlib.image.AxesImage at 0x7fe1a7abc748>"
            ]
          },
          "metadata": {
            "tags": []
          },
          "execution_count": 16
        },
        {
          "output_type": "display_data",
          "data": {
            "image/png": "[encoded data removed]",
            "text/plain": [
              "<Figure size 432x288 with 1 Axes>"
            ]
          },
          "metadata": {
            "tags": [],
            "needs_background": "light"
          }
        }
      ]
    },
    {
      "cell_type": "code",
      "metadata": {
        "id": "lJhy2QOFdNAV",
        "colab_type": "code",
        "outputId": "715f4f09-9a34-4d62-ad57-90f83a3c6af8",
        "colab": {
          "base_uri": "https://localhost:8080/",
          "height": 35
        }
      },
      "source": [
        "test_patches = create_patches(sat_img)"
      ],
      "execution_count": 0,
      "outputs": [
        {
          "output_type": "stream",
          "text": [
            "100% (133956 of 133956) |################| Elapsed Time: 0:00:49 Time:  0:00:49\n"
          ],
          "name": "stderr"
        }
      ]
    },
    {
      "cell_type": "code",
      "metadata": {
        "id": "6T-N1BO_7OGr",
        "colab_type": "code",
        "outputId": "5cf80029-7120-4d64-abc2-06b15ea36f18",
        "colab": {
          "base_uri": "https://localhost:8080/",
          "height": 35
        }
      },
      "source": [
        "test_patches.shape"
      ],
      "execution_count": 0,
      "outputs": [
        {
          "output_type": "execute_result",
          "data": {
            "text/plain": [
              "(133956, 50, 50, 3)"
            ]
          },
          "metadata": {
            "tags": []
          },
          "execution_count": 18
        }
      ]
    },
    {
      "cell_type": "code",
      "metadata": {
        "id": "z-SCuDQCdh5j",
        "colab_type": "code",
        "outputId": "75f32d5e-4865-44bd-f7b7-1e935f3c7c7b",
        "colab": {
          "base_uri": "https://localhost:8080/",
          "height": 285
        }
      },
      "source": [
        "plt.imshow(test_patches[5567])"
      ],
      "execution_count": 0,
      "outputs": [
        {
          "output_type": "execute_result",
          "data": {
            "text/plain": [
              "<matplotlib.image.AxesImage at 0x7fe1a7a27dd8>"
            ]
          },
          "metadata": {
            "tags": []
          },
          "execution_count": 19
        },
        {
          "output_type": "display_data",
          "data": {
            "image/png": "[encoded data removed]",
            "text/plain": [
              "<Figure size 432x288 with 1 Axes>"
            ]
          },
          "metadata": {
            "tags": [],
            "needs_background": "light"
          }
        }
      ]
    },
    {
      "cell_type": "code",
      "metadata": {
        "id": "lO41A5T4d98h",
        "colab_type": "code",
        "colab": {}
      },
      "source": [
        ""
      ],
      "execution_count": 0,
      "outputs": []
    },
    {
      "cell_type": "code",
      "metadata": {
        "colab_type": "code",
        "id": "PavMX6Goiahr",
        "colab": {}
      },
      "source": [
        "from keras.layers.convolutional import Conv2D, MaxPooling2D\n",
        "from keras.layers import Dense, Flatten, Activation\n",
        "\n",
        "M5 = Sequential()\n",
        "M5.add(Conv2D(64, (3, 3), padding='same', activation='relu', input_shape=(64, 64, 3)))\n",
        "M5.add(Conv2D(128, (3, 3), padding='same', activation='relu'))\n",
        "M5.add(MaxPooling2D(pool_size=(2, 2))) #32x32\n",
        "M5.add(Dropout(0.25))\n",
        "\n",
        "M5.add(Conv2D(256, (3, 3), padding='same', activation='relu'))\n",
        "M5.add(MaxPooling2D(pool_size=(2, 2))) #16x16\n",
        "\n",
        "M5.add(Conv2D(512, (3, 3), padding='same', activation='relu'))\n",
        "M5.add(MaxPooling2D(pool_size=(2, 2))) #8x8\n",
        "\n",
        "M5.add(Dropout(0.25))\n",
        "M5.add(Flatten())\n",
        "\n",
        "M5.add(Dense(1024, activation='relu'))\n",
        "M5.add(Dropout(0.25))\n",
        "M5.add(Dense(4096, activation='relu'))\n",
        "M5.add(Dense(10, activation='softmax'))"
      ],
      "execution_count": 0,
      "outputs": []
    },
    {
      "cell_type": "code",
      "metadata": {
        "colab_type": "code",
        "outputId": "17a76dee-07a5-41db-bd26-a289be6a9c1e",
        "id": "85bHt-g9iaid",
        "colab": {
          "base_uri": "https://localhost:8080/",
          "height": 641
        }
      },
      "source": [
        "M5.summary()"
      ],
      "execution_count": 0,
      "outputs": [
        {
          "output_type": "stream",
          "text": [
            "Model: \"sequential_5\"\n",
            "_________________________________________________________________\n",
            "Layer (type)                 Output Shape              Param #   \n",
            "=================================================================\n",
            "conv2d_2 (Conv2D)            (None, 64, 64, 64)        1792      \n",
            "_________________________________________________________________\n",
            "conv2d_3 (Conv2D)            (None, 64, 64, 128)       73856     \n",
            "_________________________________________________________________\n",
            "max_pooling2d_2 (MaxPooling2 (None, 32, 32, 128)       0         \n",
            "_________________________________________________________________\n",
            "dropout_8 (Dropout)          (None, 32, 32, 128)       0         \n",
            "_________________________________________________________________\n",
            "conv2d_4 (Conv2D)            (None, 32, 32, 256)       295168    \n",
            "_________________________________________________________________\n",
            "max_pooling2d_3 (MaxPooling2 (None, 16, 16, 256)       0         \n",
            "_________________________________________________________________\n",
            "conv2d_5 (Conv2D)            (None, 16, 16, 512)       1180160   \n",
            "_________________________________________________________________\n",
            "max_pooling2d_4 (MaxPooling2 (None, 8, 8, 512)         0         \n",
            "_________________________________________________________________\n",
            "dropout_9 (Dropout)          (None, 8, 8, 512)         0         \n",
            "_________________________________________________________________\n",
            "flatten_2 (Flatten)          (None, 32768)             0         \n",
            "_________________________________________________________________\n",
            "dense_12 (Dense)             (None, 1024)              33555456  \n",
            "_________________________________________________________________\n",
            "dropout_10 (Dropout)         (None, 1024)              0         \n",
            "_________________________________________________________________\n",
            "dense_13 (Dense)             (None, 4096)              4198400   \n",
            "_________________________________________________________________\n",
            "dense_14 (Dense)             (None, 10)                40970     \n",
            "=================================================================\n",
            "Total params: 39,345,802\n",
            "Trainable params: 39,345,802\n",
            "Non-trainable params: 0\n",
            "_________________________________________________________________\n"
          ],
          "name": "stdout"
        }
      ]
    },
    {
      "cell_type": "code",
      "metadata": {
        "colab_type": "code",
        "outputId": "9e6ca001-a367-4435-f1fd-454487054369",
        "id": "ZUtzKjz_iai_",
        "colab": {
          "base_uri": "https://localhost:8080/",
          "height": 1000
        }
      },
      "source": [
        "plot_model(M5, show_shapes=True, show_layer_names=True)"
      ],
      "execution_count": 0,
      "outputs": [
        {
          "output_type": "execute_result",
          "data": {
            "image/png": "[encoded data removed]",
            "text/plain": [
              "<IPython.core.display.Image object>"
            ]
          },
          "metadata": {
            "tags": []
          },
          "execution_count": 55
        }
      ]
    },
    {
      "cell_type": "code",
      "metadata": {
        "colab_type": "code",
        "id": "m7C0F2VxiajP",
        "colab": {}
      },
      "source": [
        "M5.compile(loss='categorical_crossentropy',\n",
        "              optimizer=RMSprop(),\n",
        "              metrics=['accuracy'])"
      ],
      "execution_count": 0,
      "outputs": []
    },
    {
      "cell_type": "code",
      "metadata": {
        "id": "fgumlqmyFepf",
        "colab_type": "code",
        "outputId": "4bebf75a-e19e-4505-ae54-0c1de96120f7",
        "colab": {
          "base_uri": "https://localhost:8080/",
          "height": 901
        }
      },
      "source": [
        "# data augmentation configuration for training data\n",
        "train_datagen = ImageDataGenerator(\n",
        "    shear_range=0.2,\n",
        "    zoom_range=0.2,\n",
        "    horizontal_flip=True)\n",
        "\n",
        "# data augmentation configuration for test data:\n",
        "test_datagen = ImageDataGenerator()\n",
        "\n",
        "train_generator = train_datagen.flow(\n",
        "    X2_train,\n",
        "    y2_train,\n",
        "    batch_size=250,\n",
        "    )\n",
        "\n",
        "validation_generator = test_datagen.flow(\n",
        "    X2_test,\n",
        "    y2_test,\n",
        "    batch_size=250,\n",
        "    )\n",
        "\n",
        "M5.fit_generator(\n",
        "    train_generator,\n",
        "    steps_per_epoch=len(X2_train) // 250,\n",
        "    epochs=25,\n",
        "    validation_data=validation_generator,\n",
        "    validation_steps=len(X2_test) // 250)"
      ],
      "execution_count": 0,
      "outputs": [
        {
          "output_type": "stream",
          "text": [
            "Epoch 1/25\n",
            "54/54 [==============================] - 22s 409ms/step - loss: 4.1449 - accuracy: 0.1856 - val_loss: 2.0245 - val_accuracy: 0.2852\n",
            "Epoch 2/25\n",
            "54/54 [==============================] - 20s 362ms/step - loss: 2.0791 - accuracy: 0.2253 - val_loss: 2.0083 - val_accuracy: 0.2001\n",
            "Epoch 3/25\n",
            "54/54 [==============================] - 20s 364ms/step - loss: 1.8877 - accuracy: 0.2674 - val_loss: 1.7712 - val_accuracy: 0.2873\n",
            "Epoch 4/25\n",
            "54/54 [==============================] - 19s 361ms/step - loss: 1.7430 - accuracy: 0.3344 - val_loss: 1.9235 - val_accuracy: 0.3127\n",
            "Epoch 5/25\n",
            "54/54 [==============================] - 19s 360ms/step - loss: 1.6175 - accuracy: 0.3834 - val_loss: 1.6755 - val_accuracy: 0.3759\n",
            "Epoch 6/25\n",
            "54/54 [==============================] - 20s 362ms/step - loss: 1.4303 - accuracy: 0.4804 - val_loss: 1.1356 - val_accuracy: 0.5778\n",
            "Epoch 7/25\n",
            "54/54 [==============================] - 19s 359ms/step - loss: 1.3229 - accuracy: 0.5276 - val_loss: 0.9657 - val_accuracy: 0.6403\n",
            "Epoch 8/25\n",
            "54/54 [==============================] - 19s 361ms/step - loss: 1.2340 - accuracy: 0.5658 - val_loss: 0.9268 - val_accuracy: 0.6154\n",
            "Epoch 9/25\n",
            "54/54 [==============================] - 19s 361ms/step - loss: 1.1234 - accuracy: 0.6028 - val_loss: 0.9527 - val_accuracy: 0.6844\n",
            "Epoch 10/25\n",
            "54/54 [==============================] - 19s 361ms/step - loss: 1.0131 - accuracy: 0.6334 - val_loss: 1.2832 - val_accuracy: 0.5613\n",
            "Epoch 11/25\n",
            "54/54 [==============================] - 20s 362ms/step - loss: 0.9765 - accuracy: 0.6528 - val_loss: 0.9486 - val_accuracy: 0.6710\n",
            "Epoch 12/25\n",
            "54/54 [==============================] - 19s 357ms/step - loss: 0.9074 - accuracy: 0.6757 - val_loss: 0.9158 - val_accuracy: 0.5931\n",
            "Epoch 13/25\n",
            "54/54 [==============================] - 19s 359ms/step - loss: 0.8120 - accuracy: 0.7079 - val_loss: 0.6960 - val_accuracy: 0.7855\n",
            "Epoch 14/25\n",
            "54/54 [==============================] - 20s 368ms/step - loss: 0.7862 - accuracy: 0.7239 - val_loss: 0.5325 - val_accuracy: 0.8075\n",
            "Epoch 15/25\n",
            "54/54 [==============================] - 20s 364ms/step - loss: 0.6881 - accuracy: 0.7537 - val_loss: 0.7630 - val_accuracy: 0.6872\n",
            "Epoch 16/25\n",
            "54/54 [==============================] - 20s 364ms/step - loss: 0.7004 - accuracy: 0.7590 - val_loss: 0.7175 - val_accuracy: 0.8046\n",
            "Epoch 17/25\n",
            "54/54 [==============================] - 20s 364ms/step - loss: 0.6743 - accuracy: 0.7703 - val_loss: 0.6915 - val_accuracy: 0.7735\n",
            "Epoch 18/25\n",
            "54/54 [==============================] - 20s 362ms/step - loss: 0.6368 - accuracy: 0.7822 - val_loss: 0.9083 - val_accuracy: 0.7098\n",
            "Epoch 19/25\n",
            "54/54 [==============================] - 20s 363ms/step - loss: 0.5834 - accuracy: 0.7969 - val_loss: 0.4901 - val_accuracy: 0.8224\n",
            "Epoch 20/25\n",
            "54/54 [==============================] - 20s 364ms/step - loss: 0.5363 - accuracy: 0.8135 - val_loss: 0.4593 - val_accuracy: 0.8519\n",
            "Epoch 21/25\n",
            "54/54 [==============================] - 19s 359ms/step - loss: 0.5279 - accuracy: 0.8171 - val_loss: 0.4215 - val_accuracy: 0.8421\n",
            "Epoch 22/25\n",
            "54/54 [==============================] - 20s 363ms/step - loss: 0.4992 - accuracy: 0.8259 - val_loss: 0.5754 - val_accuracy: 0.7399\n",
            "Epoch 23/25\n",
            "54/54 [==============================] - 20s 363ms/step - loss: 0.4818 - accuracy: 0.8346 - val_loss: 0.5191 - val_accuracy: 0.8337\n",
            "Epoch 24/25\n",
            "54/54 [==============================] - 19s 361ms/step - loss: 0.4199 - accuracy: 0.8533 - val_loss: 1.0039 - val_accuracy: 0.7547\n",
            "Epoch 25/25\n",
            "54/54 [==============================] - 20s 361ms/step - loss: 0.4607 - accuracy: 0.8433 - val_loss: 0.4239 - val_accuracy: 0.8567\n"
          ],
          "name": "stdout"
        },
        {
          "output_type": "execute_result",
          "data": {
            "text/plain": [
              "<keras.callbacks.callbacks.History at 0x7f5c08c6a438>"
            ]
          },
          "metadata": {
            "tags": []
          },
          "execution_count": 57
        }
      ]
    },
    {
      "cell_type": "code",
      "metadata": {
        "colab_type": "code",
        "id": "TbifEbHFiajZ",
        "outputId": "1c45cb45-bdbc-4544-9394-74c2cd7f2294",
        "colab": {
          "base_uri": "https://localhost:8080/",
          "height": 52
        }
      },
      "source": [
        "#Evaluating test loss and test accuracy\n",
        "score = M5.evaluate(X2_test, y2_test, verbose=0)\n",
        "print('Test loss:', score[0])\n",
        "print('Test accuracy:', score[1])"
      ],
      "execution_count": 0,
      "outputs": [
        {
          "output_type": "stream",
          "text": [
            "Test loss: 0.4371580673500344\n",
            "Test accuracy: 0.8566666841506958\n"
          ],
          "name": "stdout"
        }
      ]
    }
  ]
}