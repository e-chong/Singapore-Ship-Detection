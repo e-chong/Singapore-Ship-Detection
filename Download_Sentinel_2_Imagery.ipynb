{
  "nbformat": 4,
  "nbformat_minor": 0,
  "metadata": {
    "colab": {
      "name": "Download Sentinel-2 Imagery.ipynb",
      "provenance": [],
      "collapsed_sections": [],
      "machine_shape": "hm",
      "include_colab_link": true
    },
    "kernelspec": {
      "name": "python3",
      "display_name": "Python 3"
    }
  },
  "cells": [
    {
      "cell_type": "markdown",
      "metadata": {
        "id": "view-in-github",
        "colab_type": "text"
      },
      "source": [
        "<a href=\"https://colab.research.google.com/github/e-chong/Singapore-Ship-Detection/blob/master/Download_Sentinel_2_Imagery.ipynb\" target=\"_parent\"><img src=\"https://colab.research.google.com/assets/colab-badge.svg\" alt=\"Open In Colab\"/></a>"
      ]
    },
    {
      "cell_type": "markdown",
      "metadata": {
        "id": "Tdt0JNIxsTgA",
        "colab_type": "text"
      },
      "source": [
        "# Download Sentinel-2 Imagery\n",
        "\n",
        "This notebook downloads sentinel-2 imagery"
      ]
    },
    {
      "cell_type": "markdown",
      "metadata": {
        "id": "OOeCH4X3tuVW",
        "colab_type": "text"
      },
      "source": [
        "# 1. Setup Environment"
      ]
    },
    {
      "cell_type": "code",
      "metadata": {
        "id": "EBi-FWrxs7cT",
        "colab_type": "code",
        "colab": {}
      },
      "source": [
        "# install libraries\n",
        "\n",
        "# suppress output\n",
        "%%capture \n",
        "\n",
        "!pip install rasterio\n",
        "!pip install geopandas\n",
        "!pip install sentinelsat\n",
        "!pip install satpy\n",
        "!pip install glymur\n",
        "!pip install python-geotiepoints\n",
        "!pip install pyspectral"
      ],
      "execution_count": 0,
      "outputs": []
    },
    {
      "cell_type": "code",
      "metadata": {
        "id": "Lx9T7zursQ7t",
        "colab_type": "code",
        "outputId": "b06ad1a1-7c38-4a1c-fb22-0ef16f6c099a",
        "colab": {
          "base_uri": "https://localhost:8080/",
          "height": 35
        }
      },
      "source": [
        "# Load Dependencies\n",
        "import numpy as np\n",
        "import pandas as pd\n",
        "import geopandas as gpd # vector spatial operations\n",
        "import rasterio as rio # raster spatial operations\n",
        "from rasterio.plot import show #convenience wrapper for pyplot.imshow for RGB and 1 band images\n",
        "\n",
        "#packages for Sentinel-2 I/O\n",
        "from sentinelsat import SentinelAPI\n",
        "from satpy.scene import Scene\n",
        "from satpy import find_files_and_readers\n",
        "\n",
        "import requests, zipfile, io, os, shutil # downloading and extracting zipfolders\n",
        "\n",
        "import matplotlib.pyplot as plt # plotting\n",
        "\n",
        "%tensorflow_version 1.x"
      ],
      "execution_count": 0,
      "outputs": [
        {
          "output_type": "stream",
          "text": [
            "TensorFlow 1.x selected.\n"
          ],
          "name": "stdout"
        }
      ]
    },
    {
      "cell_type": "code",
      "metadata": {
        "id": "vrGCFZjLaaEz",
        "colab_type": "code",
        "colab": {}
      },
      "source": [
        "from google.colab import drive\n",
        "drive.mount('/content/drive/')"
      ],
      "execution_count": 0,
      "outputs": []
    },
    {
      "cell_type": "code",
      "metadata": {
        "id": "M9VVbpYqadXG",
        "colab_type": "code",
        "colab": {}
      },
      "source": [
        "DRIVE_PATH = '/content/drive/My Drive/MUSA-650-Final-Project/'\n",
        "#Load param file\n",
        "with open(DRIVE_PATH+'params.json', 'r') as file:\n",
        "    params = json.load(file)\n",
        "    \n",
        "    SENTINEL_USER = params['SENTINEL_USER']\n",
        "    SENTINEL_PWD = params['SENTINEL_PWD']\n",
        "    KAGGLE_USER = params['KAGGLE_USER']\n",
        "    KAGGLE_KEY = params['KAGGLE_KEY']"
      ],
      "execution_count": 0,
      "outputs": []
    },
    {
      "cell_type": "code",
      "metadata": {
        "id": "uT_WANhqt_c2",
        "colab_type": "code",
        "outputId": "81361b3f-7680-4bca-f767-49d284bb071c",
        "colab": {
          "base_uri": "https://localhost:8080/",
          "height": 73
        }
      },
      "source": [
        "# Sentinel API Authentication\n",
        "tile_id = \"48NUG\" # unique Sentinel-2 tile id for images covering Singapore\n",
        "api = SentinelAPI(SENTINEL_USER, SENTINEL_PWD, 'https://scihub.copernicus.eu/dhus')\n",
        "\n",
        "queryResults = api.to_geodataframe(api.query(tileid=tile_id,\n",
        "                                             date=('20100101','NOW'),\n",
        "                                             platformname='Sentinel-2',\n",
        "                                             cloudcoverpercentage=(0, 6)))\n",
        "scenes = queryResults"
      ],
      "execution_count": 0,
      "outputs": [
        {
          "output_type": "stream",
          "text": [
            "/usr/local/lib/python3.6/dist-packages/pyproj/crs/crs.py:53: FutureWarning: '+init=<authority>:<code>' syntax is deprecated. '<authority>:<code>' is the preferred initialization method. When making the change, be mindful of axis order changes: https://pyproj4.github.io/pyproj/stable/gotchas.html#axis-order-changes-in-proj-6\n",
            "  return _prepare_from_string(\" \".join(pjargs))\n"
          ],
          "name": "stderr"
        }
      ]
    },
    {
      "cell_type": "code",
      "metadata": {
        "id": "XtdEC70AoAk3",
        "colab_type": "code",
        "outputId": "fa373d60-97f2-4016-fbb4-fb22cd40174e",
        "colab": {
          "base_uri": "https://localhost:8080/",
          "height": 487
        }
      },
      "source": [
        "queryResults.head()"
      ],
      "execution_count": 0,
      "outputs": [
        {
          "output_type": "execute_result",
          "data": {
            "text/html": [
              "<div>\n",
              "<style scoped>\n",
              "    .dataframe tbody tr th:only-of-type {\n",
              "        vertical-align: middle;\n",
              "    }\n",
              "\n",
              "    .dataframe tbody tr th {\n",
              "        vertical-align: top;\n",
              "    }\n",
              "\n",
              "    .dataframe thead th {\n",
              "        text-align: right;\n",
              "    }\n",
              "</style>\n",
              "<table border=\"1\" class=\"dataframe\">\n",
              "  <thead>\n",
              "    <tr style=\"text-align: right;\">\n",
              "      <th></th>\n",
              "      <th>title</th>\n",
              "      <th>link</th>\n",
              "      <th>link_alternative</th>\n",
              "      <th>link_icon</th>\n",
              "      <th>summary</th>\n",
              "      <th>datatakesensingstart</th>\n",
              "      <th>beginposition</th>\n",
              "      <th>endposition</th>\n",
              "      <th>ingestiondate</th>\n",
              "      <th>orbitnumber</th>\n",
              "      <th>relativeorbitnumber</th>\n",
              "      <th>cloudcoverpercentage</th>\n",
              "      <th>sensoroperationalmode</th>\n",
              "      <th>tileid</th>\n",
              "      <th>hv_order_tileid</th>\n",
              "      <th>format</th>\n",
              "      <th>processingbaseline</th>\n",
              "      <th>platformname</th>\n",
              "      <th>filename</th>\n",
              "      <th>instrumentname</th>\n",
              "      <th>instrumentshortname</th>\n",
              "      <th>size</th>\n",
              "      <th>s2datatakeid</th>\n",
              "      <th>producttype</th>\n",
              "      <th>platformidentifier</th>\n",
              "      <th>orbitdirection</th>\n",
              "      <th>platformserialidentifier</th>\n",
              "      <th>processinglevel</th>\n",
              "      <th>identifier</th>\n",
              "      <th>level1cpdiidentifier</th>\n",
              "      <th>uuid</th>\n",
              "      <th>granuleidentifier</th>\n",
              "      <th>datastripidentifier</th>\n",
              "      <th>geometry</th>\n",
              "    </tr>\n",
              "  </thead>\n",
              "  <tbody>\n",
              "    <tr>\n",
              "      <th>8345c17f-dd76-4398-b4bf-2eb708631b07</th>\n",
              "      <td>S2A_MSIL1C_20191227T032131_N0208_R118_T48NUG_2...</td>\n",
              "      <td>https://scihub.copernicus.eu/dhus/odata/v1/Pro...</td>\n",
              "      <td>https://scihub.copernicus.eu/dhus/odata/v1/Pro...</td>\n",
              "      <td>https://scihub.copernicus.eu/dhus/odata/v1/Pro...</td>\n",
              "      <td>Date: 2019-12-27T03:21:31.024Z, Instrument: MS...</td>\n",
              "      <td>2019-12-27 03:21:31.024</td>\n",
              "      <td>2019-12-27 03:21:31.024</td>\n",
              "      <td>2019-12-27 03:21:31.024</td>\n",
              "      <td>2019-12-27 08:03:15.620</td>\n",
              "      <td>23567</td>\n",
              "      <td>118</td>\n",
              "      <td>3.6098</td>\n",
              "      <td>INS-NOBS</td>\n",
              "      <td>48NUG</td>\n",
              "      <td>NG48U</td>\n",
              "      <td>SAFE</td>\n",
              "      <td>02.08</td>\n",
              "      <td>Sentinel-2</td>\n",
              "      <td>S2A_MSIL1C_20191227T032131_N0208_R118_T48NUG_2...</td>\n",
              "      <td>Multi-Spectral Instrument</td>\n",
              "      <td>MSI</td>\n",
              "      <td>747.76 MB</td>\n",
              "      <td>GS2A_20191227T032131_023567_N02.08</td>\n",
              "      <td>S2MSI1C</td>\n",
              "      <td>2015-028A</td>\n",
              "      <td>DESCENDING</td>\n",
              "      <td>Sentinel-2A</td>\n",
              "      <td>Level-1C</td>\n",
              "      <td>S2A_MSIL1C_20191227T032131_N0208_R118_T48NUG_2...</td>\n",
              "      <td>S2A_OPER_MSI_L1C_TL_EPAE_20191227T060736_A0235...</td>\n",
              "      <td>8345c17f-dd76-4398-b4bf-2eb708631b07</td>\n",
              "      <td>NaN</td>\n",
              "      <td>NaN</td>\n",
              "      <td>MULTIPOLYGON (((103.20277 0.81602, 104.18934 0...</td>\n",
              "    </tr>\n",
              "    <tr>\n",
              "      <th>5d57f964-03cb-4001-a2f2-33f9eba9605e</th>\n",
              "      <td>S2B_MSIL1C_20190705T031549_N0207_R118_T48NUG_2...</td>\n",
              "      <td>https://scihub.copernicus.eu/dhus/odata/v1/Pro...</td>\n",
              "      <td>https://scihub.copernicus.eu/dhus/odata/v1/Pro...</td>\n",
              "      <td>https://scihub.copernicus.eu/dhus/odata/v1/Pro...</td>\n",
              "      <td>Date: 2019-07-05T03:15:49.024Z, Instrument: MS...</td>\n",
              "      <td>2019-07-05 03:15:49.024</td>\n",
              "      <td>2019-07-05 03:15:49.024</td>\n",
              "      <td>2019-07-05 03:15:49.024</td>\n",
              "      <td>2019-07-05 09:41:20.667</td>\n",
              "      <td>12156</td>\n",
              "      <td>118</td>\n",
              "      <td>5.5518</td>\n",
              "      <td>INS-NOBS</td>\n",
              "      <td>48NUG</td>\n",
              "      <td>NG48U</td>\n",
              "      <td>SAFE</td>\n",
              "      <td>02.07</td>\n",
              "      <td>Sentinel-2</td>\n",
              "      <td>S2B_MSIL1C_20190705T031549_N0207_R118_T48NUG_2...</td>\n",
              "      <td>Multi-Spectral Instrument</td>\n",
              "      <td>MSI</td>\n",
              "      <td>743.30 MB</td>\n",
              "      <td>GS2B_20190705T031549_012156_N02.07</td>\n",
              "      <td>S2MSI1C</td>\n",
              "      <td>2017-013A</td>\n",
              "      <td>DESCENDING</td>\n",
              "      <td>Sentinel-2B</td>\n",
              "      <td>Level-1C</td>\n",
              "      <td>S2B_MSIL1C_20190705T031549_N0207_R118_T48NUG_2...</td>\n",
              "      <td>S2B_OPER_MSI_L1C_TL_SGS__20190705T065323_A0121...</td>\n",
              "      <td>5d57f964-03cb-4001-a2f2-33f9eba9605e</td>\n",
              "      <td>NaN</td>\n",
              "      <td>NaN</td>\n",
              "      <td>MULTIPOLYGON (((103.20277 0.81602, 104.18934 0...</td>\n",
              "    </tr>\n",
              "    <tr>\n",
              "      <th>06a584ce-37d8-4b9c-a35c-9ce4924d81c2</th>\n",
              "      <td>S2B_MSIL1C_20190406T031549_N0207_R118_T48NUG_2...</td>\n",
              "      <td>https://scihub.copernicus.eu/dhus/odata/v1/Pro...</td>\n",
              "      <td>https://scihub.copernicus.eu/dhus/odata/v1/Pro...</td>\n",
              "      <td>https://scihub.copernicus.eu/dhus/odata/v1/Pro...</td>\n",
              "      <td>Date: 2019-04-06T03:15:49.024Z, Instrument: MS...</td>\n",
              "      <td>2019-04-06 03:15:49.024</td>\n",
              "      <td>2019-04-06 03:15:49.024</td>\n",
              "      <td>2019-04-06 03:15:49.024</td>\n",
              "      <td>2019-04-06 09:28:17.321</td>\n",
              "      <td>10869</td>\n",
              "      <td>118</td>\n",
              "      <td>5.8114</td>\n",
              "      <td>INS-NOBS</td>\n",
              "      <td>48NUG</td>\n",
              "      <td>NG48U</td>\n",
              "      <td>SAFE</td>\n",
              "      <td>02.07</td>\n",
              "      <td>Sentinel-2</td>\n",
              "      <td>S2B_MSIL1C_20190406T031549_N0207_R118_T48NUG_2...</td>\n",
              "      <td>Multi-Spectral Instrument</td>\n",
              "      <td>MSI</td>\n",
              "      <td>767.45 MB</td>\n",
              "      <td>GS2B_20190406T031549_010869_N02.07</td>\n",
              "      <td>S2MSI1C</td>\n",
              "      <td>2017-013A</td>\n",
              "      <td>DESCENDING</td>\n",
              "      <td>Sentinel-2B</td>\n",
              "      <td>Level-1C</td>\n",
              "      <td>S2B_MSIL1C_20190406T031549_N0207_R118_T48NUG_2...</td>\n",
              "      <td>S2B_OPER_MSI_L1C_TL_EPAE_20190406T073031_A0108...</td>\n",
              "      <td>06a584ce-37d8-4b9c-a35c-9ce4924d81c2</td>\n",
              "      <td>S2B_OPER_MSI_L1C_TL_EPAE_20190406T073031_A0108...</td>\n",
              "      <td>S2B_OPER_MSI_L1C_DS_EPAE_20190406T073031_S2019...</td>\n",
              "      <td>MULTIPOLYGON (((103.20277 0.81602, 104.18934 0...</td>\n",
              "    </tr>\n",
              "    <tr>\n",
              "      <th>69ff6d59-6ecd-4de2-9dad-85e23a8d0dbe</th>\n",
              "      <td>S2B_MSIL1C_20190327T031729_N0207_R118_T48NUG_2...</td>\n",
              "      <td>https://scihub.copernicus.eu/dhus/odata/v1/Pro...</td>\n",
              "      <td>https://scihub.copernicus.eu/dhus/odata/v1/Pro...</td>\n",
              "      <td>https://scihub.copernicus.eu/dhus/odata/v1/Pro...</td>\n",
              "      <td>Date: 2019-03-27T03:17:29.024Z, Instrument: MS...</td>\n",
              "      <td>2019-03-27 03:17:29.024</td>\n",
              "      <td>2019-03-27 03:17:29.024</td>\n",
              "      <td>2019-03-27 03:17:29.024</td>\n",
              "      <td>2019-03-27 14:06:18.415</td>\n",
              "      <td>10726</td>\n",
              "      <td>118</td>\n",
              "      <td>5.9415</td>\n",
              "      <td>INS-NOBS</td>\n",
              "      <td>48NUG</td>\n",
              "      <td>NG48U</td>\n",
              "      <td>SAFE</td>\n",
              "      <td>02.07</td>\n",
              "      <td>Sentinel-2</td>\n",
              "      <td>S2B_MSIL1C_20190327T031729_N0207_R118_T48NUG_2...</td>\n",
              "      <td>Multi-Spectral Instrument</td>\n",
              "      <td>MSI</td>\n",
              "      <td>781.26 MB</td>\n",
              "      <td>GS2B_20190327T031729_010726_N02.07</td>\n",
              "      <td>S2MSI1C</td>\n",
              "      <td>2017-013A</td>\n",
              "      <td>DESCENDING</td>\n",
              "      <td>Sentinel-2B</td>\n",
              "      <td>Level-1C</td>\n",
              "      <td>S2B_MSIL1C_20190327T031729_N0207_R118_T48NUG_2...</td>\n",
              "      <td>S2B_OPER_MSI_L1C_TL_SGS__20190327T083636_A0107...</td>\n",
              "      <td>69ff6d59-6ecd-4de2-9dad-85e23a8d0dbe</td>\n",
              "      <td>S2B_OPER_MSI_L1C_TL_SGS__20190327T083636_A0107...</td>\n",
              "      <td>S2B_OPER_MSI_L1C_DS_SGS__20190327T083636_S2019...</td>\n",
              "      <td>MULTIPOLYGON (((103.31888 0.81606, 104.18934 0...</td>\n",
              "    </tr>\n",
              "    <tr>\n",
              "      <th>0fda02a0-abba-4b57-8be0-9d00e8241930</th>\n",
              "      <td>S2B_MSIL1C_20190327T031729_N0207_R118_T48NUG_2...</td>\n",
              "      <td>https://scihub.copernicus.eu/dhus/odata/v1/Pro...</td>\n",
              "      <td>https://scihub.copernicus.eu/dhus/odata/v1/Pro...</td>\n",
              "      <td>https://scihub.copernicus.eu/dhus/odata/v1/Pro...</td>\n",
              "      <td>Date: 2019-03-27T03:17:29.024Z, Instrument: MS...</td>\n",
              "      <td>2019-03-27 03:17:29.024</td>\n",
              "      <td>2019-03-27 03:17:29.024</td>\n",
              "      <td>2019-03-27 03:17:29.024</td>\n",
              "      <td>2019-03-27 14:04:25.308</td>\n",
              "      <td>10726</td>\n",
              "      <td>118</td>\n",
              "      <td>0.3209</td>\n",
              "      <td>INS-NOBS</td>\n",
              "      <td>48NUG</td>\n",
              "      <td>NG48U</td>\n",
              "      <td>SAFE</td>\n",
              "      <td>02.07</td>\n",
              "      <td>Sentinel-2</td>\n",
              "      <td>S2B_MSIL1C_20190327T031729_N0207_R118_T48NUG_2...</td>\n",
              "      <td>Multi-Spectral Instrument</td>\n",
              "      <td>MSI</td>\n",
              "      <td>73.01 MB</td>\n",
              "      <td>GS2B_20190327T031729_010726_N02.07</td>\n",
              "      <td>S2MSI1C</td>\n",
              "      <td>2017-013A</td>\n",
              "      <td>DESCENDING</td>\n",
              "      <td>Sentinel-2B</td>\n",
              "      <td>Level-1C</td>\n",
              "      <td>S2B_MSIL1C_20190327T031729_N0207_R118_T48NUG_2...</td>\n",
              "      <td>S2B_OPER_MSI_L1C_TL_MTI__20190327T084106_A0107...</td>\n",
              "      <td>0fda02a0-abba-4b57-8be0-9d00e8241930</td>\n",
              "      <td>S2B_OPER_MSI_L1C_TL_MTI__20190327T084106_A0107...</td>\n",
              "      <td>S2B_OPER_MSI_L1C_DS_MTI__20190327T084106_S2019...</td>\n",
              "      <td>MULTIPOLYGON (((103.20277 0.81602, 104.05048 0...</td>\n",
              "    </tr>\n",
              "  </tbody>\n",
              "</table>\n",
              "</div>"
            ],
            "text/plain": [
              "                                                                                  title  ...                                           geometry\n",
              "8345c17f-dd76-4398-b4bf-2eb708631b07  S2A_MSIL1C_20191227T032131_N0208_R118_T48NUG_2...  ...  MULTIPOLYGON (((103.20277 0.81602, 104.18934 0...\n",
              "5d57f964-03cb-4001-a2f2-33f9eba9605e  S2B_MSIL1C_20190705T031549_N0207_R118_T48NUG_2...  ...  MULTIPOLYGON (((103.20277 0.81602, 104.18934 0...\n",
              "06a584ce-37d8-4b9c-a35c-9ce4924d81c2  S2B_MSIL1C_20190406T031549_N0207_R118_T48NUG_2...  ...  MULTIPOLYGON (((103.20277 0.81602, 104.18934 0...\n",
              "69ff6d59-6ecd-4de2-9dad-85e23a8d0dbe  S2B_MSIL1C_20190327T031729_N0207_R118_T48NUG_2...  ...  MULTIPOLYGON (((103.31888 0.81606, 104.18934 0...\n",
              "0fda02a0-abba-4b57-8be0-9d00e8241930  S2B_MSIL1C_20190327T031729_N0207_R118_T48NUG_2...  ...  MULTIPOLYGON (((103.20277 0.81602, 104.05048 0...\n",
              "\n",
              "[5 rows x 34 columns]"
            ]
          },
          "metadata": {
            "tags": []
          },
          "execution_count": 11
        }
      ]
    },
    {
      "cell_type": "code",
      "metadata": {
        "id": "QAjrl2P43vJH",
        "colab_type": "code",
        "outputId": "61b4d5be-21c0-4324-affd-7082fff57bfe",
        "colab": {
          "base_uri": "https://localhost:8080/",
          "height": 386
        }
      },
      "source": [
        "tempList = list()\n",
        "for uuid in scenes.uuid:\n",
        "  tempList.append(api.get_product_odata(uuid, full=True))\n",
        "\n",
        "sceneMeta = pd.DataFrame(tempList)\n",
        "sceneMeta = sceneMeta.loc[sceneMeta['Online'] == True] # filter out images that are in Long Term Archive and have a 30 minute throttle to download\n",
        "\n",
        "sceneMeta"
      ],
      "execution_count": 0,
      "outputs": [
        {
          "output_type": "execute_result",
          "data": {
            "text/html": [
              "<div>\n",
              "<style scoped>\n",
              "    .dataframe tbody tr th:only-of-type {\n",
              "        vertical-align: middle;\n",
              "    }\n",
              "\n",
              "    .dataframe tbody tr th {\n",
              "        vertical-align: top;\n",
              "    }\n",
              "\n",
              "    .dataframe thead th {\n",
              "        text-align: right;\n",
              "    }\n",
              "</style>\n",
              "<table border=\"1\" class=\"dataframe\">\n",
              "  <thead>\n",
              "    <tr style=\"text-align: right;\">\n",
              "      <th></th>\n",
              "      <th>id</th>\n",
              "      <th>title</th>\n",
              "      <th>size</th>\n",
              "      <th>md5</th>\n",
              "      <th>date</th>\n",
              "      <th>footprint</th>\n",
              "      <th>url</th>\n",
              "      <th>Online</th>\n",
              "      <th>Creation Date</th>\n",
              "      <th>Ingestion Date</th>\n",
              "      <th>Cloud cover percentage</th>\n",
              "      <th>Datatake sensing start</th>\n",
              "      <th>Date</th>\n",
              "      <th>Degraded ancillary data percentage</th>\n",
              "      <th>Degraded MSI data percentage</th>\n",
              "      <th>Filename</th>\n",
              "      <th>Footprint</th>\n",
              "      <th>Format</th>\n",
              "      <th>Format correctness</th>\n",
              "      <th>General quality</th>\n",
              "      <th>Generation time</th>\n",
              "      <th>Geometric quality</th>\n",
              "      <th>Identifier</th>\n",
              "      <th>Instrument</th>\n",
              "      <th>Instrument abbreviation</th>\n",
              "      <th>Instrument mode</th>\n",
              "      <th>Instrument name</th>\n",
              "      <th>JTS footprint</th>\n",
              "      <th>Mission datatake id</th>\n",
              "      <th>NSSDC identifier</th>\n",
              "      <th>Orbit number (start)</th>\n",
              "      <th>Pass direction</th>\n",
              "      <th>Platform serial identifier</th>\n",
              "      <th>Processing baseline</th>\n",
              "      <th>Processing level</th>\n",
              "      <th>Product type</th>\n",
              "      <th>Radiometric quality</th>\n",
              "      <th>Relative orbit (start)</th>\n",
              "      <th>Satellite</th>\n",
              "      <th>Satellite name</th>\n",
              "      <th>Satellite number</th>\n",
              "      <th>Sensing start</th>\n",
              "      <th>Sensing stop</th>\n",
              "      <th>Sensor quality</th>\n",
              "      <th>Size</th>\n",
              "      <th>Tile Identifier</th>\n",
              "      <th>Tile Identifier horizontal order</th>\n",
              "      <th>Level-1C PDI Identifier</th>\n",
              "      <th>Datastrip identifier</th>\n",
              "      <th>Granule identifier</th>\n",
              "    </tr>\n",
              "  </thead>\n",
              "  <tbody>\n",
              "    <tr>\n",
              "      <th>0</th>\n",
              "      <td>8345c17f-dd76-4398-b4bf-2eb708631b07</td>\n",
              "      <td>S2A_MSIL1C_20191227T032131_N0208_R118_T48NUG_2...</td>\n",
              "      <td>784125118</td>\n",
              "      <td>FCD2A37B4A069C5342299AD2AEE90B41</td>\n",
              "      <td>2019-12-27 03:21:31.024</td>\n",
              "      <td>POLYGON((103.20205689083804 1.808922187860351,...</td>\n",
              "      <td>https://scihub.copernicus.eu/dhus/odata/v1/Pro...</td>\n",
              "      <td>True</td>\n",
              "      <td>2019-12-27 08:04:08.105</td>\n",
              "      <td>2019-12-27 08:03:15.620</td>\n",
              "      <td>3.6098</td>\n",
              "      <td>2019-12-27 03:21:31.024</td>\n",
              "      <td>2019-12-27 03:21:31.024</td>\n",
              "      <td>0.0</td>\n",
              "      <td>0</td>\n",
              "      <td>S2A_MSIL1C_20191227T032131_N0208_R118_T48NUG_2...</td>\n",
              "      <td>&lt;gml:Polygon srsName=\"http://www.opengis.net/g...</td>\n",
              "      <td>SAFE</td>\n",
              "      <td>PASSED</td>\n",
              "      <td>PASSED</td>\n",
              "      <td>2019-12-27 06:07:36</td>\n",
              "      <td>PASSED</td>\n",
              "      <td>S2A_MSIL1C_20191227T032131_N0208_R118_T48NUG_2...</td>\n",
              "      <td>MSI</td>\n",
              "      <td>MSI</td>\n",
              "      <td>INS-NOBS</td>\n",
              "      <td>Multi-Spectral Instrument</td>\n",
              "      <td>MULTIPOLYGON (((103.2027660714231 0.8160247595...</td>\n",
              "      <td>GS2A_20191227T032131_023567_N02.08</td>\n",
              "      <td>2015-028A</td>\n",
              "      <td>23567</td>\n",
              "      <td>DESCENDING</td>\n",
              "      <td>Sentinel-2A</td>\n",
              "      <td>2.08</td>\n",
              "      <td>Level-1C</td>\n",
              "      <td>S2MSI1C</td>\n",
              "      <td>PASSED</td>\n",
              "      <td>118</td>\n",
              "      <td>Sentinel-2</td>\n",
              "      <td>Sentinel-2</td>\n",
              "      <td>A</td>\n",
              "      <td>2019-12-27 03:21:31.024</td>\n",
              "      <td>2019-12-27 03:21:31.024</td>\n",
              "      <td>PASSED</td>\n",
              "      <td>747.76 MB</td>\n",
              "      <td>48NUG</td>\n",
              "      <td>NG48U</td>\n",
              "      <td>S2A_OPER_MSI_L1C_TL_EPAE_20191227T060736_A0235...</td>\n",
              "      <td>NaN</td>\n",
              "      <td>NaN</td>\n",
              "    </tr>\n",
              "    <tr>\n",
              "      <th>1</th>\n",
              "      <td>5d57f964-03cb-4001-a2f2-33f9eba9605e</td>\n",
              "      <td>S2B_MSIL1C_20190705T031549_N0207_R118_T48NUG_2...</td>\n",
              "      <td>779449455</td>\n",
              "      <td>5E51BCC8A45CF3ADD026433463D37D58</td>\n",
              "      <td>2019-07-05 03:15:49.024</td>\n",
              "      <td>POLYGON((103.20205689083804 1.808922187860351,...</td>\n",
              "      <td>https://scihub.copernicus.eu/dhus/odata/v1/Pro...</td>\n",
              "      <td>True</td>\n",
              "      <td>2019-07-05 10:32:33.443</td>\n",
              "      <td>2019-07-05 09:41:20.667</td>\n",
              "      <td>5.5518</td>\n",
              "      <td>2019-07-05 03:15:49.024</td>\n",
              "      <td>2019-07-05 03:15:49.024</td>\n",
              "      <td>0.0</td>\n",
              "      <td>0</td>\n",
              "      <td>S2B_MSIL1C_20190705T031549_N0207_R118_T48NUG_2...</td>\n",
              "      <td>&lt;gml:Polygon srsName=\"http://www.opengis.net/g...</td>\n",
              "      <td>SAFE</td>\n",
              "      <td>PASSED</td>\n",
              "      <td>PASSED</td>\n",
              "      <td>2019-07-05 06:53:23</td>\n",
              "      <td>PASSED</td>\n",
              "      <td>S2B_MSIL1C_20190705T031549_N0207_R118_T48NUG_2...</td>\n",
              "      <td>MSI</td>\n",
              "      <td>MSI</td>\n",
              "      <td>INS-NOBS</td>\n",
              "      <td>Multi-Spectral Instrument</td>\n",
              "      <td>MULTIPOLYGON (((103.2027660714231 0.8160247595...</td>\n",
              "      <td>GS2B_20190705T031549_012156_N02.07</td>\n",
              "      <td>2017-013A</td>\n",
              "      <td>12156</td>\n",
              "      <td>DESCENDING</td>\n",
              "      <td>Sentinel-2B</td>\n",
              "      <td>2.07</td>\n",
              "      <td>Level-1C</td>\n",
              "      <td>S2MSI1C</td>\n",
              "      <td>PASSED</td>\n",
              "      <td>118</td>\n",
              "      <td>Sentinel-2</td>\n",
              "      <td>Sentinel-2</td>\n",
              "      <td>B</td>\n",
              "      <td>2019-07-05 03:15:49.024</td>\n",
              "      <td>2019-07-05 03:15:49.024</td>\n",
              "      <td>PASSED</td>\n",
              "      <td>743.30 MB</td>\n",
              "      <td>48NUG</td>\n",
              "      <td>NG48U</td>\n",
              "      <td>S2B_OPER_MSI_L1C_TL_SGS__20190705T065323_A0121...</td>\n",
              "      <td>NaN</td>\n",
              "      <td>NaN</td>\n",
              "    </tr>\n",
              "    <tr>\n",
              "      <th>2</th>\n",
              "      <td>06a584ce-37d8-4b9c-a35c-9ce4924d81c2</td>\n",
              "      <td>S2B_MSIL1C_20190406T031549_N0207_R118_T48NUG_2...</td>\n",
              "      <td>804777353</td>\n",
              "      <td>98F454F41D8C8248E26F5DAC2A6C7526</td>\n",
              "      <td>2019-04-06 03:15:49.024</td>\n",
              "      <td>POLYGON((103.20205689083804 1.808922187860351,...</td>\n",
              "      <td>https://scihub.copernicus.eu/dhus/odata/v1/Pro...</td>\n",
              "      <td>True</td>\n",
              "      <td>2019-04-06 09:29:13.485</td>\n",
              "      <td>2019-04-06 09:28:17.321</td>\n",
              "      <td>5.8114</td>\n",
              "      <td>2019-04-06 03:15:49.024</td>\n",
              "      <td>2019-04-06 03:15:49.024</td>\n",
              "      <td>0.0</td>\n",
              "      <td>0</td>\n",
              "      <td>S2B_MSIL1C_20190406T031549_N0207_R118_T48NUG_2...</td>\n",
              "      <td>&lt;gml:Polygon srsName=\"http://www.opengis.net/g...</td>\n",
              "      <td>SAFE</td>\n",
              "      <td>PASSED</td>\n",
              "      <td>PASSED</td>\n",
              "      <td>2019-04-06 07:30:31</td>\n",
              "      <td>PASSED</td>\n",
              "      <td>S2B_MSIL1C_20190406T031549_N0207_R118_T48NUG_2...</td>\n",
              "      <td>MSI</td>\n",
              "      <td>MSI</td>\n",
              "      <td>INS-NOBS</td>\n",
              "      <td>Multi-Spectral Instrument</td>\n",
              "      <td>MULTIPOLYGON (((103.2027660714231 0.8160247595...</td>\n",
              "      <td>GS2B_20190406T031549_010869_N02.07</td>\n",
              "      <td>2017-013A</td>\n",
              "      <td>10869</td>\n",
              "      <td>DESCENDING</td>\n",
              "      <td>Sentinel-2B</td>\n",
              "      <td>2.07</td>\n",
              "      <td>Level-1C</td>\n",
              "      <td>S2MSI1C</td>\n",
              "      <td>PASSED</td>\n",
              "      <td>118</td>\n",
              "      <td>Sentinel-2</td>\n",
              "      <td>Sentinel-2</td>\n",
              "      <td>B</td>\n",
              "      <td>2019-04-06 03:15:49.024</td>\n",
              "      <td>2019-04-06 03:15:49.024</td>\n",
              "      <td>PASSED</td>\n",
              "      <td>767.45 MB</td>\n",
              "      <td>48NUG</td>\n",
              "      <td>NG48U</td>\n",
              "      <td>S2B_OPER_MSI_L1C_TL_EPAE_20190406T073031_A0108...</td>\n",
              "      <td>S2B_OPER_MSI_L1C_DS_EPAE_20190406T073031_S2019...</td>\n",
              "      <td>S2B_OPER_MSI_L1C_TL_EPAE_20190406T073031_A0108...</td>\n",
              "    </tr>\n",
              "    <tr>\n",
              "      <th>10</th>\n",
              "      <td>82d4edad-fe56-44f3-9e85-46449cb8d3c0</td>\n",
              "      <td>S2B_MSIL1C_20171122T032029_N0206_R118_T48NUG_2...</td>\n",
              "      <td>764374083</td>\n",
              "      <td>ff28b79dd0a50802664f65c48100e50a</td>\n",
              "      <td>2017-11-22 03:20:29.027</td>\n",
              "      <td>POLYGON((103.20205689083804 1.808922187860351,...</td>\n",
              "      <td>https://scihub.copernicus.eu/dhus/odata/v1/Pro...</td>\n",
              "      <td>True</td>\n",
              "      <td>2017-11-22 20:41:54.999</td>\n",
              "      <td>2017-11-22 20:38:59.643</td>\n",
              "      <td>4.7439</td>\n",
              "      <td>2017-11-22 03:20:29.027</td>\n",
              "      <td>2017-11-22 03:20:29.027</td>\n",
              "      <td>0.0</td>\n",
              "      <td>0</td>\n",
              "      <td>S2B_MSIL1C_20171122T032029_N0206_R118_T48NUG_2...</td>\n",
              "      <td>&lt;gml:Polygon srsName=\"http://www.opengis.net/g...</td>\n",
              "      <td>SAFE</td>\n",
              "      <td>NaN</td>\n",
              "      <td>NaN</td>\n",
              "      <td>2017-11-22 08:35:26</td>\n",
              "      <td>NaN</td>\n",
              "      <td>S2B_MSIL1C_20171122T032029_N0206_R118_T48NUG_2...</td>\n",
              "      <td>MSI</td>\n",
              "      <td>MSI</td>\n",
              "      <td>INS-NOBS</td>\n",
              "      <td>Multi-Spectral Instrument</td>\n",
              "      <td>POLYGON ((103.20205689083804 1.808922187860351...</td>\n",
              "      <td>GS2B_20171122T032029_003719_N02.06</td>\n",
              "      <td>2015-000A</td>\n",
              "      <td>3719</td>\n",
              "      <td>DESCENDING</td>\n",
              "      <td>Sentinel-2B</td>\n",
              "      <td>2.06</td>\n",
              "      <td>Level-1C</td>\n",
              "      <td>S2MSI1C</td>\n",
              "      <td>NaN</td>\n",
              "      <td>118</td>\n",
              "      <td>Sentinel-2</td>\n",
              "      <td>Sentinel-2</td>\n",
              "      <td>B</td>\n",
              "      <td>2017-11-22 03:20:29.027</td>\n",
              "      <td>2017-11-22 03:20:29.027</td>\n",
              "      <td>NaN</td>\n",
              "      <td>728.80 MB</td>\n",
              "      <td>48NUG</td>\n",
              "      <td>NG48U</td>\n",
              "      <td>S2B_OPER_MSI_L1C_TL_SGS__20171122T083526_A0037...</td>\n",
              "      <td>S2B_OPER_MSI_L1C_DS_SGS__20171122T083526_S2017...</td>\n",
              "      <td>S2B_OPER_MSI_L1C_TL_SGS__20171122T083526_A0037...</td>\n",
              "    </tr>\n",
              "  </tbody>\n",
              "</table>\n",
              "</div>"
            ],
            "text/plain": [
              "                                      id  ...                                 Granule identifier\n",
              "0   8345c17f-dd76-4398-b4bf-2eb708631b07  ...                                                NaN\n",
              "1   5d57f964-03cb-4001-a2f2-33f9eba9605e  ...                                                NaN\n",
              "2   06a584ce-37d8-4b9c-a35c-9ce4924d81c2  ...  S2B_OPER_MSI_L1C_TL_EPAE_20190406T073031_A0108...\n",
              "10  82d4edad-fe56-44f3-9e85-46449cb8d3c0  ...  S2B_OPER_MSI_L1C_TL_SGS__20171122T083526_A0037...\n",
              "\n",
              "[4 rows x 50 columns]"
            ]
          },
          "metadata": {
            "tags": []
          },
          "execution_count": 4
        }
      ]
    },
    {
      "cell_type": "code",
      "metadata": {
        "id": "RqvT9DhBrGfE",
        "colab_type": "code",
        "outputId": "09d45eb3-84f3-453d-a9ed-7ad1409cf1a1",
        "colab": {
          "base_uri": "https://localhost:8080/",
          "height": 231
        }
      },
      "source": [
        "# download sentinel images available online\n",
        "for index, row in sceneMeta.iterrows():\n",
        "  uuid = row['id']\n",
        "  title = row['title']\n",
        "  filename = row['Filename']\n",
        "  print(f'Downloading {title}')\n",
        "  api.download(uuid)"
      ],
      "execution_count": 0,
      "outputs": [
        {
          "output_type": "stream",
          "text": [
            "Downloading S2A_MSIL1C_20191227T032131_N0208_R118_T48NUG_20191227T060736\n"
          ],
          "name": "stdout"
        },
        {
          "output_type": "stream",
          "text": [
            "Downloading: 100%|██████████| 784M/784M [01:07<00:00, 11.6MB/s]\n",
            "MD5 checksumming: 100%|██████████| 784M/784M [00:01<00:00, 459MB/s]\n"
          ],
          "name": "stderr"
        },
        {
          "output_type": "stream",
          "text": [
            "Downloading S2B_MSIL1C_20190705T031549_N0207_R118_T48NUG_20190705T065323\n"
          ],
          "name": "stdout"
        },
        {
          "output_type": "stream",
          "text": [
            "Downloading: 100%|██████████| 779M/779M [01:06<00:00, 11.8MB/s]\n",
            "MD5 checksumming: 100%|██████████| 779M/779M [00:01<00:00, 465MB/s]\n"
          ],
          "name": "stderr"
        },
        {
          "output_type": "stream",
          "text": [
            "Downloading S2B_MSIL1C_20190406T031549_N0207_R118_T48NUG_20190406T073031\n"
          ],
          "name": "stdout"
        },
        {
          "output_type": "stream",
          "text": [
            "Downloading: 100%|██████████| 805M/805M [01:14<00:00, 10.9MB/s]\n",
            "MD5 checksumming: 100%|██████████| 805M/805M [00:01<00:00, 465MB/s]\n"
          ],
          "name": "stderr"
        },
        {
          "output_type": "stream",
          "text": [
            "Downloading S2B_MSIL1C_20171122T032029_N0206_R118_T48NUG_20171122T083526\n"
          ],
          "name": "stdout"
        },
        {
          "output_type": "stream",
          "text": [
            "Downloading: 100%|██████████| 764M/764M [01:07<00:00, 11.3MB/s]\n",
            "MD5 checksumming: 100%|██████████| 764M/764M [00:01<00:00, 461MB/s]\n"
          ],
          "name": "stderr"
        }
      ]
    },
    {
      "cell_type": "code",
      "metadata": {
        "id": "N5MRw8x_tIFm",
        "colab_type": "code",
        "colab": {}
      },
      "source": [
        "# # move zip folders to google drive if needed\n",
        "# from google.colab import drive\n",
        "# drive.mount('/content/drive')\n",
        "# for index, row in sceneMeta.iterrows(): \n",
        "#     title = row['title']\n",
        "#     filename = row['Filename']\n",
        "#     print(f'Moving {title} to Google Drive')\n",
        "#     shutil. copy ( title+'.zip' , '/content/drive/My Drive/'+title+'.zip' )\n",
        "#     with zipfile.ZipFile(title+'.zip', 'r') as safezip:\n",
        "#       safezip.extractall(filename)"
      ],
      "execution_count": 0,
      "outputs": []
    },
    {
      "cell_type": "code",
      "metadata": {
        "id": "r_PLST457c54",
        "colab_type": "code",
        "outputId": "8227a0f6-f27d-4d8c-c278-ee7aeb336405",
        "colab": {
          "base_uri": "https://localhost:8080/",
          "height": 88
        }
      },
      "source": [
        "# Unzip folders\n",
        "# this creates SAFE files/directories which are explained here: https://sentinel.esa.int/web/sentinel/user-guides/sentinel-2-msi/data-formats\n",
        "for index, row in sceneMeta.iterrows(): \n",
        "    title = row['title']\n",
        "    filename = row['Filename']\n",
        "    print(f'Unzipping {title}')\n",
        "    with zipfile.ZipFile(title+'.zip', 'r') as safezip:\n",
        "      safezip.extractall(filename)"
      ],
      "execution_count": 0,
      "outputs": [
        {
          "output_type": "stream",
          "text": [
            "Unzipping S2A_MSIL1C_20191227T032131_N0208_R118_T48NUG_20191227T060736\n",
            "Unzipping S2B_MSIL1C_20190705T031549_N0207_R118_T48NUG_20190705T065323\n",
            "Unzipping S2B_MSIL1C_20190406T031549_N0207_R118_T48NUG_20190406T073031\n",
            "Unzipping S2B_MSIL1C_20171122T032029_N0206_R118_T48NUG_20171122T083526\n"
          ],
          "name": "stdout"
        }
      ]
    },
    {
      "cell_type": "code",
      "metadata": {
        "id": "ifNqOWNvkVrf",
        "colab_type": "code",
        "outputId": "35a18099-a888-4e02-d76f-194be2ba89db",
        "colab": {
          "base_uri": "https://localhost:8080/",
          "height": 770
        }
      },
      "source": [
        "# NOTE: You can load all channels at once with:\n",
        "# scn.load(scn.available_dataset_names()) # load all channels\n",
        "\n",
        "# save RGB channels as a geotiff\n",
        "for index, row in sceneMeta.iterrows():\n",
        "  title = row['title']\n",
        "  filename = row['Filename']\n",
        "  print(f'Reading {title}')\n",
        "  files = find_files_and_readers(base_dir=filename, reader=\"msi_safe\")\n",
        "  scn = Scene(filenames=files)\n",
        "  scn.load(['true_color'])\n",
        "  print(f'Saving {title} TIFF')\n",
        "  scn.save_dataset('true_color', filename=title+'.tif')"
      ],
      "execution_count": 0,
      "outputs": [
        {
          "output_type": "stream",
          "text": [
            "Reading S2A_MSIL1C_20191227T032131_N0208_R118_T48NUG_20191227T060736\n"
          ],
          "name": "stdout"
        },
        {
          "output_type": "stream",
          "text": [
            "/usr/local/lib/python3.6/dist-packages/pyproj/crs/crs.py:53: FutureWarning: '+init=<authority>:<code>' syntax is deprecated. '<authority>:<code>' is the preferred initialization method. When making the change, be mindful of axis order changes: https://pyproj4.github.io/pyproj/stable/gotchas.html#axis-order-changes-in-proj-6\n",
            "  return _prepare_from_string(\" \".join(pjargs))\n",
            "/usr/local/lib/python3.6/dist-packages/pyproj/crs/crs.py:543: UserWarning: You will likely lose important projection information when converting to a PROJ string from another format. See: https://proj.org/faq.html#what-is-the-best-format-for-describing-coordinate-reference-systems\n",
            "  proj_string = self.to_proj4()\n",
            "/usr/local/lib/python3.6/dist-packages/pyproj/crs/crs.py:53: FutureWarning: '+init=<authority>:<code>' syntax is deprecated. '<authority>:<code>' is the preferred initialization method. When making the change, be mindful of axis order changes: https://pyproj4.github.io/pyproj/stable/gotchas.html#axis-order-changes-in-proj-6\n",
            "  return _prepare_from_string(\" \".join(pjargs))\n",
            "/usr/local/lib/python3.6/dist-packages/pyproj/crs/crs.py:543: UserWarning: You will likely lose important projection information when converting to a PROJ string from another format. See: https://proj.org/faq.html#what-is-the-best-format-for-describing-coordinate-reference-systems\n",
            "  proj_string = self.to_proj4()\n",
            "/usr/local/lib/python3.6/dist-packages/pyproj/crs/crs.py:53: FutureWarning: '+init=<authority>:<code>' syntax is deprecated. '<authority>:<code>' is the preferred initialization method. When making the change, be mindful of axis order changes: https://pyproj4.github.io/pyproj/stable/gotchas.html#axis-order-changes-in-proj-6\n",
            "  return _prepare_from_string(\" \".join(pjargs))\n",
            "/usr/local/lib/python3.6/dist-packages/pyproj/crs/crs.py:543: UserWarning: You will likely lose important projection information when converting to a PROJ string from another format. See: https://proj.org/faq.html#what-is-the-best-format-for-describing-coordinate-reference-systems\n",
            "  proj_string = self.to_proj4()\n",
            "/usr/local/lib/python3.6/dist-packages/pyproj/crs/crs.py:53: FutureWarning: '+init=<authority>:<code>' syntax is deprecated. '<authority>:<code>' is the preferred initialization method. When making the change, be mindful of axis order changes: https://pyproj4.github.io/pyproj/stable/gotchas.html#axis-order-changes-in-proj-6\n",
            "  return _prepare_from_string(\" \".join(pjargs))\n",
            "/usr/local/lib/python3.6/dist-packages/pyproj/crs/crs.py:543: UserWarning: You will likely lose important projection information when converting to a PROJ string from another format. See: https://proj.org/faq.html#what-is-the-best-format-for-describing-coordinate-reference-systems\n",
            "  proj_string = self.to_proj4()\n",
            "/usr/local/lib/python3.6/dist-packages/pyproj/crs/crs.py:53: FutureWarning: '+init=<authority>:<code>' syntax is deprecated. '<authority>:<code>' is the preferred initialization method. When making the change, be mindful of axis order changes: https://pyproj4.github.io/pyproj/stable/gotchas.html#axis-order-changes-in-proj-6\n",
            "  return _prepare_from_string(\" \".join(pjargs))\n",
            "/usr/local/lib/python3.6/dist-packages/pyproj/crs/crs.py:543: UserWarning: You will likely lose important projection information when converting to a PROJ string from another format. See: https://proj.org/faq.html#what-is-the-best-format-for-describing-coordinate-reference-systems\n",
            "  proj_string = self.to_proj4()\n",
            "/usr/local/lib/python3.6/dist-packages/pyproj/crs/crs.py:53: FutureWarning: '+init=<authority>:<code>' syntax is deprecated. '<authority>:<code>' is the preferred initialization method. When making the change, be mindful of axis order changes: https://pyproj4.github.io/pyproj/stable/gotchas.html#axis-order-changes-in-proj-6\n",
            "  return _prepare_from_string(\" \".join(pjargs))\n",
            "/usr/local/lib/python3.6/dist-packages/pyproj/crs/crs.py:543: UserWarning: You will likely lose important projection information when converting to a PROJ string from another format. See: https://proj.org/faq.html#what-is-the-best-format-for-describing-coordinate-reference-systems\n",
            "  proj_string = self.to_proj4()\n",
            "/usr/local/lib/python3.6/dist-packages/pyproj/crs/crs.py:53: FutureWarning: '+init=<authority>:<code>' syntax is deprecated. '<authority>:<code>' is the preferred initialization method. When making the change, be mindful of axis order changes: https://pyproj4.github.io/pyproj/stable/gotchas.html#axis-order-changes-in-proj-6\n",
            "  return _prepare_from_string(\" \".join(pjargs))\n",
            "/usr/local/lib/python3.6/dist-packages/pyproj/crs/crs.py:543: UserWarning: You will likely lose important projection information when converting to a PROJ string from another format. See: https://proj.org/faq.html#what-is-the-best-format-for-describing-coordinate-reference-systems\n",
            "  proj_string = self.to_proj4()\n",
            "100%|██████████| 52/52 [00:00<00:00, 852.92kB/s]\n",
            "No rsr file /root/.local/share/pyspectral/rsr_msi_Sentinel-2A.h5 on disk\n",
            "3364248it [00:01, 1964382.60it/s]\n"
          ],
          "name": "stderr"
        },
        {
          "output_type": "stream",
          "text": [
            "Saving S2A_MSIL1C_20191227T032131_N0208_R118_T48NUG_20191227T060736 TIFF\n"
          ],
          "name": "stdout"
        },
        {
          "output_type": "stream",
          "text": [
            "/usr/local/lib/python3.6/dist-packages/dask/core.py:121: RuntimeWarning: invalid value encountered in log\n",
            "  return func(*(_execute_task(a, cache) for a in args))\n"
          ],
          "name": "stderr"
        },
        {
          "output_type": "stream",
          "text": [
            "Reading S2B_MSIL1C_20190705T031549_N0207_R118_T48NUG_20190705T065323\n",
            "Saving S2B_MSIL1C_20190705T031549_N0207_R118_T48NUG_20190705T065323 TIFF\n",
            "Reading S2B_MSIL1C_20190406T031549_N0207_R118_T48NUG_20190406T073031\n",
            "Saving S2B_MSIL1C_20190406T031549_N0207_R118_T48NUG_20190406T073031 TIFF\n",
            "Reading S2B_MSIL1C_20171122T032029_N0206_R118_T48NUG_20171122T083526\n",
            "Saving S2B_MSIL1C_20171122T032029_N0206_R118_T48NUG_20171122T083526 TIFF\n"
          ],
          "name": "stdout"
        }
      ]
    },
    {
      "cell_type": "code",
      "metadata": {
        "id": "mHsABFUHp8a-",
        "colab_type": "code",
        "outputId": "7b3f65b1-c6a5-4029-ab20-b3d11aef53f6",
        "colab": {
          "base_uri": "https://localhost:8080/",
          "height": 160
        }
      },
      "source": [
        "# delete uneeded files to free up space\n",
        "# eventually maybe move into extraction for-loops\n",
        "for name in sceneMeta.title:\n",
        "  if os.path.exists(name+'.zip'):\n",
        "    print(f'Deleting {name}.zip')\n",
        "    os.remove(name+'.zip')\n",
        "  else:\n",
        "    pass\n",
        "  if os.path.exists(name+'.SAFE'):\n",
        "    print(f'Deleting {name}.SAFE')\n",
        "    shutil.rmtree(name+'.SAFE')"
      ],
      "execution_count": 0,
      "outputs": [
        {
          "output_type": "stream",
          "text": [
            "Deleting S2A_MSIL1C_20191227T032131_N0208_R118_T48NUG_20191227T060736.zip\n",
            "Deleting S2A_MSIL1C_20191227T032131_N0208_R118_T48NUG_20191227T060736.SAFE\n",
            "Deleting S2B_MSIL1C_20190705T031549_N0207_R118_T48NUG_20190705T065323.zip\n",
            "Deleting S2B_MSIL1C_20190705T031549_N0207_R118_T48NUG_20190705T065323.SAFE\n",
            "Deleting S2B_MSIL1C_20190406T031549_N0207_R118_T48NUG_20190406T073031.zip\n",
            "Deleting S2B_MSIL1C_20190406T031549_N0207_R118_T48NUG_20190406T073031.SAFE\n",
            "Deleting S2B_MSIL1C_20171122T032029_N0206_R118_T48NUG_20171122T083526.zip\n",
            "Deleting S2B_MSIL1C_20171122T032029_N0206_R118_T48NUG_20171122T083526.SAFE\n"
          ],
          "name": "stdout"
        }
      ]
    },
    {
      "cell_type": "code",
      "metadata": {
        "id": "GhWIjW70nouA",
        "colab_type": "code",
        "outputId": "9eaebe37-e89b-48ad-854e-0da3b0cc8ddc",
        "colab": {
          "base_uri": "https://localhost:8080/",
          "height": 121
        }
      },
      "source": [
        "os.listdir()"
      ],
      "execution_count": 0,
      "outputs": [
        {
          "output_type": "execute_result",
          "data": {
            "text/plain": [
              "['.config',\n",
              " 'S2B_MSIL1C_20190406T031549_N0207_R118_T48NUG_20190406T073031.tif',\n",
              " 'S2A_MSIL1C_20191227T032131_N0208_R118_T48NUG_20191227T060736.tif',\n",
              " 'S2B_MSIL1C_20171122T032029_N0206_R118_T48NUG_20171122T083526.tif',\n",
              " 'S2B_MSIL1C_20190705T031549_N0207_R118_T48NUG_20190705T065323.tif',\n",
              " 'sample_data']"
            ]
          },
          "metadata": {
            "tags": []
          },
          "execution_count": 19
        }
      ]
    },
    {
      "cell_type": "markdown",
      "metadata": {
        "id": "_Ok6m9cewbPU",
        "colab_type": "text"
      },
      "source": [
        "Downloaded Sentinel-2 imagery manually from Google drive to mark ship locations as points in QGIS "
      ]
    }
  ]
}