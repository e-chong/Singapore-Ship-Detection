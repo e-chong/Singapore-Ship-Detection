{
  "nbformat": 4,
  "nbformat_minor": 0,
  "metadata": {
    "colab": {
      "name": "Read and resize Kaggle ships.ipynb",
      "provenance": [],
      "collapsed_sections": [],
      "authorship_tag": "ABX9TyPphV01Jl4mWsejR65+vorS",
      "include_colab_link": true
    },
    "kernelspec": {
      "name": "python3",
      "display_name": "Python 3"
    }
  },
  "cells": [
    {
      "cell_type": "markdown",
      "metadata": {
        "id": "view-in-github",
        "colab_type": "text"
      },
      "source": [
        "<a href=\"https://colab.research.google.com/github/e-chong/Singapore-Ship-Detection/blob/master/Read_and_resize_Kaggle_ships.ipynb\" target=\"_parent\"><img src=\"https://colab.research.google.com/assets/colab-badge.svg\" alt=\"Open In Colab\"/></a>"
      ]
    },
    {
      "cell_type": "markdown",
      "metadata": {
        "id": "mHQln5NJ3KED",
        "colab_type": "text"
      },
      "source": [
        "Download data from the Kaggle competition \"Ships in Satellite Imagery\".\n",
        "\n",
        "https://www.kaggle.com/rhammell/ships-in-satellite-imagery\n",
        "\n",
        "https://towardsdatascience.com/setting-up-kaggle-in-google-colab-ebb281b61463"
      ]
    },
    {
      "cell_type": "markdown",
      "metadata": {
        "id": "qfVL6VSXC_AW",
        "colab_type": "text"
      },
      "source": [
        "Install and load packages"
      ]
    },
    {
      "cell_type": "code",
      "metadata": {
        "id": "hL8Yeimc38pl",
        "colab_type": "code",
        "colab": {}
      },
      "source": [
        "%%capture\n",
        "!pip install kaggle\n",
        "!pip install tifffile\n",
        "# !pip install rasterio"
      ],
      "execution_count": 0,
      "outputs": []
    },
    {
      "cell_type": "code",
      "metadata": {
        "id": "P6MaDX5iEGB9",
        "colab_type": "code",
        "colab": {}
      },
      "source": [
        "import json\n",
        "import numpy as np\n",
        "import pandas as pd\n",
        "import matplotlib.pyplot as plt\n",
        "from skimage.transform import resize\n",
        "import tifffile as tiff\n",
        "# import rasterio\n",
        "# from rasterio.enums import Resampling\n",
        "import scipy.ndimage"
      ],
      "execution_count": 0,
      "outputs": []
    },
    {
      "cell_type": "markdown",
      "metadata": {
        "id": "17B6UrHBDBSr",
        "colab_type": "text"
      },
      "source": [
        "Make a directory called `.kaggle` that will store the Kaggle API Key"
      ]
    },
    {
      "cell_type": "code",
      "metadata": {
        "id": "jNJ-ewTYBlYO",
        "colab_type": "code",
        "colab": {}
      },
      "source": [
        "!mkdir .kaggle"
      ],
      "execution_count": 0,
      "outputs": []
    },
    {
      "cell_type": "markdown",
      "metadata": {
        "id": "CIlOSpAwDIPs",
        "colab_type": "text"
      },
      "source": [
        "Create a json with the API key"
      ]
    },
    {
      "cell_type": "code",
      "metadata": {
        "id": "g4jlG9IR94xm",
        "colab_type": "code",
        "colab": {}
      },
      "source": [
        "token = {\"username\":\"echong91\",\"key\":\"635179943a477c0e17ef3b3961910251\"}\n",
        "\n",
        "with open('/content/.kaggle/kaggle.json', 'w') as file:\n",
        "    json.dump(token, file)"
      ],
      "execution_count": 0,
      "outputs": []
    },
    {
      "cell_type": "markdown",
      "metadata": {
        "id": "mMgWF4uZDNO0",
        "colab_type": "text"
      },
      "source": [
        "Copy the API key to the a folder in the root directory called `.kaggle`.\n",
        "\n",
        "For some reason, this needs to be run twice to work properly."
      ]
    },
    {
      "cell_type": "code",
      "metadata": {
        "id": "TMbA-4I-SCIv",
        "colab_type": "code",
        "outputId": "987f9638-965d-4b92-ad22-664fc75ae246",
        "colab": {
          "base_uri": "https://localhost:8080/",
          "height": 214
        }
      },
      "source": [
        "!cp /content/.kaggle/kaggle.json ~/.kaggle/kaggle.json\n",
        "!kaggle config set -n path -v{/content}\n",
        "!cp /content/.kaggle/kaggle.json ~/.kaggle/kaggle.json\n",
        "!kaggle config set -n path -v{/content}\n"
      ],
      "execution_count": 0,
      "outputs": [
        {
          "output_type": "stream",
          "text": [
            "cp: cannot create regular file '/root/.kaggle/kaggle.json': No such file or directory\n",
            "Traceback (most recent call last):\n",
            "  File \"/usr/local/bin/kaggle\", line 5, in <module>\n",
            "    from kaggle.cli import main\n",
            "  File \"/usr/local/lib/python2.7/dist-packages/kaggle/__init__.py\", line 23, in <module>\n",
            "    api.authenticate()\n",
            "  File \"/usr/local/lib/python2.7/dist-packages/kaggle/api/kaggle_api_extended.py\", line 146, in authenticate\n",
            "    self.config_file, self.config_dir))\n",
            "IOError: Could not find kaggle.json. Make sure it's located in /root/.kaggle. Or use the environment method.\n",
            "Warning: Your Kaggle API key is readable by other users on this system! To fix this, you can run 'chmod 600 /root/.kaggle/kaggle.json'\n",
            "- path is now set to: {/content}\n"
          ],
          "name": "stdout"
        }
      ]
    },
    {
      "cell_type": "code",
      "metadata": {
        "id": "lRDspZj--UJE",
        "colab_type": "code",
        "colab": {}
      },
      "source": [
        "# !chmod 600 /root/.kaggle/kaggle.json"
      ],
      "execution_count": 0,
      "outputs": []
    },
    {
      "cell_type": "markdown",
      "metadata": {
        "id": "JNbBRTbbDuGS",
        "colab_type": "text"
      },
      "source": [
        "Download the dataset. It is now in the working directory."
      ]
    },
    {
      "cell_type": "code",
      "metadata": {
        "id": "UFn6n6Za7JCh",
        "colab_type": "code",
        "outputId": "35dd3d9f-a53e-4618-b0a7-33e4faab6a6b",
        "colab": {
          "base_uri": "https://localhost:8080/",
          "height": 88
        }
      },
      "source": [
        "!kaggle datasets download -d rhammell/ships-in-satellite-imagery -p /content"
      ],
      "execution_count": 0,
      "outputs": [
        {
          "output_type": "stream",
          "text": [
            "Warning: Your Kaggle API key is readable by other users on this system! To fix this, you can run 'chmod 600 /root/.kaggle/kaggle.json'\n",
            "Downloading ships-in-satellite-imagery.zip to /content\n",
            " 96% 178M/185M [00:05<00:00, 45.5MB/s]\n",
            "100% 185M/185M [00:05<00:00, 35.1MB/s]\n"
          ],
          "name": "stdout"
        }
      ]
    },
    {
      "cell_type": "code",
      "metadata": {
        "id": "F1wdR-p4DxqV",
        "colab_type": "code",
        "outputId": "ec570cbf-c206-4089-a8bb-18f5813073d2",
        "colab": {
          "base_uri": "https://localhost:8080/",
          "height": 35
        }
      },
      "source": [
        "!ls"
      ],
      "execution_count": 0,
      "outputs": [
        {
          "output_type": "stream",
          "text": [
            "sample_data  ships-in-satellite-imagery.zip\n"
          ],
          "name": "stdout"
        }
      ]
    },
    {
      "cell_type": "markdown",
      "metadata": {
        "id": "stRG05xF-1Tc",
        "colab_type": "text"
      },
      "source": [
        "Unzip data"
      ]
    },
    {
      "cell_type": "code",
      "metadata": {
        "id": "arapEtAY-nQx",
        "colab_type": "code",
        "colab": {}
      },
      "source": [
        "%%capture\n",
        "!unzip \\*.zip"
      ],
      "execution_count": 0,
      "outputs": []
    },
    {
      "cell_type": "code",
      "metadata": {
        "id": "TprgLf5gD9D0",
        "colab_type": "code",
        "outputId": "3aed3f18-30e9-4897-9c11-13fd171547e9",
        "colab": {
          "base_uri": "https://localhost:8080/",
          "height": 35
        }
      },
      "source": [
        "!ls"
      ],
      "execution_count": 0,
      "outputs": [
        {
          "output_type": "stream",
          "text": [
            "sample_data  scenes  ships-in-satellite-imagery.zip  shipsnet  shipsnet.json\n"
          ],
          "name": "stdout"
        }
      ]
    },
    {
      "cell_type": "markdown",
      "metadata": {
        "id": "RN_vOXC1D-xu",
        "colab_type": "text"
      },
      "source": [
        "Read the json file as a pandas dataframe and inspect.\n",
        "\n",
        "**Do we actually need the dataframe?**"
      ]
    },
    {
      "cell_type": "code",
      "metadata": {
        "id": "hvkVDNLe8VjJ",
        "colab_type": "code",
        "colab": {}
      },
      "source": [
        "with open('shipsnet.json') as data_file:\n",
        "    kg_ships_dict = json.load(data_file)"
      ],
      "execution_count": 0,
      "outputs": []
    },
    {
      "cell_type": "code",
      "metadata": {
        "id": "0b71KS3VEQB6",
        "colab_type": "code",
        "outputId": "6e75e42e-604a-4261-e6c1-1be6f8e819aa",
        "colab": {
          "base_uri": "https://localhost:8080/",
          "height": 206
        }
      },
      "source": [
        "kg_ships_df = pd.DataFrame(kg_ships_dict)\n",
        "kg_ships_df.head()"
      ],
      "execution_count": 0,
      "outputs": [
        {
          "output_type": "execute_result",
          "data": {
            "text/html": [
              "<div>\n",
              "<style scoped>\n",
              "    .dataframe tbody tr th:only-of-type {\n",
              "        vertical-align: middle;\n",
              "    }\n",
              "\n",
              "    .dataframe tbody tr th {\n",
              "        vertical-align: top;\n",
              "    }\n",
              "\n",
              "    .dataframe thead th {\n",
              "        text-align: right;\n",
              "    }\n",
              "</style>\n",
              "<table border=\"1\" class=\"dataframe\">\n",
              "  <thead>\n",
              "    <tr style=\"text-align: right;\">\n",
              "      <th></th>\n",
              "      <th>data</th>\n",
              "      <th>labels</th>\n",
              "      <th>locations</th>\n",
              "      <th>scene_ids</th>\n",
              "    </tr>\n",
              "  </thead>\n",
              "  <tbody>\n",
              "    <tr>\n",
              "      <th>0</th>\n",
              "      <td>[82, 89, 91, 87, 89, 87, 86, 86, 86, 86, 84, 8...</td>\n",
              "      <td>1</td>\n",
              "      <td>[-118.2254694333423, 33.73803725920789]</td>\n",
              "      <td>20180708_180909_0f47</td>\n",
              "    </tr>\n",
              "    <tr>\n",
              "      <th>1</th>\n",
              "      <td>[76, 75, 67, 62, 68, 72, 73, 73, 68, 69, 69, 6...</td>\n",
              "      <td>1</td>\n",
              "      <td>[-122.33222866289329, 37.7491755586813]</td>\n",
              "      <td>20170705_180816_103e</td>\n",
              "    </tr>\n",
              "    <tr>\n",
              "      <th>2</th>\n",
              "      <td>[125, 127, 129, 130, 126, 125, 129, 133, 132, ...</td>\n",
              "      <td>1</td>\n",
              "      <td>[-118.14283073363218, 33.736016066914175]</td>\n",
              "      <td>20180712_211331_0f06</td>\n",
              "    </tr>\n",
              "    <tr>\n",
              "      <th>3</th>\n",
              "      <td>[102, 99, 113, 106, 96, 102, 105, 105, 103, 10...</td>\n",
              "      <td>1</td>\n",
              "      <td>[-122.34784341495181, 37.76648707436548]</td>\n",
              "      <td>20170609_180756_103a</td>\n",
              "    </tr>\n",
              "    <tr>\n",
              "      <th>4</th>\n",
              "      <td>[78, 76, 74, 78, 79, 79, 79, 82, 86, 85, 83, 8...</td>\n",
              "      <td>1</td>\n",
              "      <td>[-122.34852408322172, 37.75878462398653]</td>\n",
              "      <td>20170515_180653_1007</td>\n",
              "    </tr>\n",
              "  </tbody>\n",
              "</table>\n",
              "</div>"
            ],
            "text/plain": [
              "                                                data  ...             scene_ids\n",
              "0  [82, 89, 91, 87, 89, 87, 86, 86, 86, 86, 84, 8...  ...  20180708_180909_0f47\n",
              "1  [76, 75, 67, 62, 68, 72, 73, 73, 68, 69, 69, 6...  ...  20170705_180816_103e\n",
              "2  [125, 127, 129, 130, 126, 125, 129, 133, 132, ...  ...  20180712_211331_0f06\n",
              "3  [102, 99, 113, 106, 96, 102, 105, 105, 103, 10...  ...  20170609_180756_103a\n",
              "4  [78, 76, 74, 78, 79, 79, 79, 82, 86, 85, 83, 8...  ...  20170515_180653_1007\n",
              "\n",
              "[5 rows x 4 columns]"
            ]
          },
          "metadata": {
            "tags": []
          },
          "execution_count": 12
        }
      ]
    },
    {
      "cell_type": "markdown",
      "metadata": {
        "id": "VeoeAHI6F1e4",
        "colab_type": "text"
      },
      "source": [
        "Read image data as numpy array and reshape as 80x80x3"
      ]
    },
    {
      "cell_type": "code",
      "metadata": {
        "id": "ffCLG3d0FMvJ",
        "colab_type": "code",
        "colab": {}
      },
      "source": [
        "kg_ships_data = np.array(kg_ships_dict['data']).astype('uint8')"
      ],
      "execution_count": 0,
      "outputs": []
    },
    {
      "cell_type": "code",
      "metadata": {
        "id": "DWGAsK78MeQk",
        "colab_type": "code",
        "outputId": "1a8bef6b-f106-4ab0-95ef-ac693f9b4bae",
        "colab": {
          "base_uri": "https://localhost:8080/",
          "height": 35
        }
      },
      "source": [
        "kg_ships_data[0]"
      ],
      "execution_count": 0,
      "outputs": [
        {
          "output_type": "execute_result",
          "data": {
            "text/plain": [
              "array([82, 89, 91, ..., 86, 88, 89], dtype=uint8)"
            ]
          },
          "metadata": {
            "tags": []
          },
          "execution_count": 14
        }
      ]
    },
    {
      "cell_type": "code",
      "metadata": {
        "id": "8Cgm-uORF8uv",
        "colab_type": "code",
        "outputId": "03efeeab-9d09-4ff1-96a2-eb677a7f921e",
        "colab": {
          "base_uri": "https://localhost:8080/",
          "height": 35
        }
      },
      "source": [
        "n_spectrum = 3 # color channel (RGB)\n",
        "weight = 80\n",
        "height = 80\n",
        "X = kg_ships_data.reshape([-1, n_spectrum, weight, height])\n",
        "X = np.moveaxis(X, 1, 3)\n",
        "X[0].shape"
      ],
      "execution_count": 0,
      "outputs": [
        {
          "output_type": "execute_result",
          "data": {
            "text/plain": [
              "(80, 80, 3)"
            ]
          },
          "metadata": {
            "tags": []
          },
          "execution_count": 15
        }
      ]
    },
    {
      "cell_type": "code",
      "metadata": {
        "id": "TqRlgpOiLMVW",
        "colab_type": "code",
        "outputId": "861b2bf3-18cd-4602-edf0-5ebef56c1533",
        "colab": {
          "base_uri": "https://localhost:8080/",
          "height": 268
        }
      },
      "source": [
        "plt.imshow(X[0]);"
      ],
      "execution_count": 0,
      "outputs": [
        {
          "output_type": "display_data",
          "data": {
            "image/png": "[encoded data removed]",
            "text/plain": [
              "<Figure size 432x288 with 1 Axes>"
            ]
          },
          "metadata": {
            "tags": [],
            "needs_background": "light"
          }
        }
      ]
    },
    {
      "cell_type": "markdown",
      "metadata": {
        "id": "-ocuFUCjJG6s",
        "colab_type": "text"
      },
      "source": [
        "Resize images to match Sentinel-2 patches\n",
        "\n",
        "Note that there are several interpolation methods we should experiment with: \n",
        "- Discussion: https://stackoverflow.com/questions/48121916/numpy-resize-rescale-image\n",
        "- \"Order\" parameter for interpolation: https://scikit-image.org/docs/dev/api/skimage.transform.html#skimage.transform.resize\n",
        "- Definitions for \"Order\" parameter: https://scikit-image.org/docs/dev/api/skimage.transform.html#skimage.transform.warp"
      ]
    },
    {
      "cell_type": "code",
      "metadata": {
        "id": "4pIEyjIIKt7M",
        "colab_type": "code",
        "colab": {}
      },
      "source": [
        "patch_size = [50, 50]"
      ],
      "execution_count": 0,
      "outputs": []
    },
    {
      "cell_type": "code",
      "metadata": {
        "id": "sd6y3X3mPhJf",
        "colab_type": "code",
        "colab": {}
      },
      "source": [
        "kg_ships_resize = np.zeros([X.shape[0],\n",
        "                            patch_size[0],\n",
        "                            patch_size[1],\n",
        "                            X.shape[3]])\n",
        "\n",
        "for img in range(X.shape[0]):\n",
        "  kg_ships_resize[img] = resize(X[img], patch_size)"
      ],
      "execution_count": 0,
      "outputs": []
    },
    {
      "cell_type": "code",
      "metadata": {
        "id": "g4l5WXvAROsN",
        "colab_type": "code",
        "outputId": "72f9dd8f-bb65-4943-e19e-f2273d1a5ce6",
        "colab": {
          "base_uri": "https://localhost:8080/",
          "height": 35
        }
      },
      "source": [
        "kg_ships_resize.shape"
      ],
      "execution_count": 0,
      "outputs": [
        {
          "output_type": "execute_result",
          "data": {
            "text/plain": [
              "(4000, 50, 50, 3)"
            ]
          },
          "metadata": {
            "tags": []
          },
          "execution_count": 19
        }
      ]
    },
    {
      "cell_type": "markdown",
      "metadata": {
        "id": "Bh1jVINoRro0",
        "colab_type": "text"
      },
      "source": [
        "Resized images have been rescaled 0 to 1"
      ]
    },
    {
      "cell_type": "code",
      "metadata": {
        "id": "49EFXzf8Jj7u",
        "colab_type": "code",
        "outputId": "71533967-2c8b-4850-f88b-8f43a78af3c5",
        "colab": {
          "base_uri": "https://localhost:8080/",
          "height": 892
        }
      },
      "source": [
        "kg_ships_resize[0]"
      ],
      "execution_count": 0,
      "outputs": [
        {
          "output_type": "execute_result",
          "data": {
            "text/plain": [
              "array([[[0.33427451, 0.37815686, 0.32443137],\n",
              "        [0.34780392, 0.38807843, 0.34309804],\n",
              "        [0.34058824, 0.38235294, 0.33137255],\n",
              "        ...,\n",
              "        [0.35176471, 0.39745098, 0.33980392],\n",
              "        [0.35541176, 0.40717647, 0.34270588],\n",
              "        [0.32984314, 0.3772549 , 0.32584314]],\n",
              "\n",
              "       [[0.35345098, 0.394     , 0.34380392],\n",
              "        [0.33670588, 0.38298039, 0.33270588],\n",
              "        [0.33568627, 0.37882353, 0.32784314],\n",
              "        ...,\n",
              "        [0.32431373, 0.36607843, 0.31470588],\n",
              "        [0.33301961, 0.38082353, 0.32447059],\n",
              "        [0.3492549 , 0.3914902 , 0.33921569]],\n",
              "\n",
              "       [[0.32666667, 0.37372549, 0.32411765],\n",
              "        [0.34137255, 0.38666667, 0.33745098],\n",
              "        [0.33823529, 0.37941176, 0.33235294],\n",
              "        ...,\n",
              "        [0.33823529, 0.3745098 , 0.32745098],\n",
              "        [0.33196078, 0.36764706, 0.31509804],\n",
              "        [0.34      , 0.38333333, 0.33294118]],\n",
              "\n",
              "       ...,\n",
              "\n",
              "       [[0.35098039, 0.38235294, 0.33921569],\n",
              "        [0.3545098 , 0.38764706, 0.3427451 ],\n",
              "        [0.34803922, 0.38823529, 0.34313725],\n",
              "        ...,\n",
              "        [0.34901961, 0.39117647, 0.3372549 ],\n",
              "        [0.3427451 , 0.38392157, 0.33117647],\n",
              "        [0.34745098, 0.39      , 0.33901961]],\n",
              "\n",
              "       [[0.34482353, 0.38196078, 0.33698039],\n",
              "        [0.35215686, 0.39141176, 0.34396078],\n",
              "        [0.34862745, 0.38960784, 0.3445098 ],\n",
              "        ...,\n",
              "        [0.34509804, 0.38823529, 0.33333333],\n",
              "        [0.3412549 , 0.38439216, 0.33341176],\n",
              "        [0.34231373, 0.3865098 , 0.33552941]],\n",
              "\n",
              "       [[0.34317647, 0.3854902 , 0.33368627],\n",
              "        [0.34996078, 0.38929412, 0.33803922],\n",
              "        [0.34509804, 0.38431373, 0.33784314],\n",
              "        ...,\n",
              "        [0.34509804, 0.38823529, 0.33196078],\n",
              "        [0.34654902, 0.39109804, 0.33764706],\n",
              "        [0.34901961, 0.39215686, 0.34309804]]])"
            ]
          },
          "metadata": {
            "tags": []
          },
          "execution_count": 20
        }
      ]
    },
    {
      "cell_type": "code",
      "metadata": {
        "id": "G8-wLNuqKzZJ",
        "colab_type": "code",
        "outputId": "c50f04ec-1030-489c-8aea-155cd6c4e993",
        "colab": {
          "base_uri": "https://localhost:8080/",
          "height": 267
        }
      },
      "source": [
        "plt.imshow(kg_ships_resize[0]);"
      ],
      "execution_count": 0,
      "outputs": [
        {
          "output_type": "display_data",
          "data": {
            "image/png": "[encoded data removed]",
            "text/plain": [
              "<Figure size 432x288 with 1 Axes>"
            ]
          },
          "metadata": {
            "tags": [],
            "needs_background": "light"
          }
        }
      ]
    },
    {
      "cell_type": "code",
      "metadata": {
        "id": "RIgvBmc-9CeJ",
        "colab_type": "code",
        "outputId": "92fc9688-3fcd-4613-dd3d-5555568125a9",
        "colab": {
          "base_uri": "https://localhost:8080/",
          "height": 241
        }
      },
      "source": [
        "upscale_factor = 3/10\n",
        "\n",
        "with rasterio.open(\"example.tif\") as dataset:\n",
        "\n",
        "    # resample data to target shape\n",
        "    data = dataset.read(\n",
        "        out_shape=(\n",
        "            dataset.count,\n",
        "            int(dataset.height * upscale_factor),\n",
        "            int(dataset.width * upscale_factor)\n",
        "        ),\n",
        "        resampling=Resampling.bilinear\n",
        "    )\n",
        "\n",
        "    # scale image transform\n",
        "    transform = dataset.transform * dataset.transform.scale(\n",
        "        (dataset.width / data.shape[-1]),\n",
        "        (dataset.height / data.shape[-2])\n",
        "    )"
      ],
      "execution_count": 0,
      "outputs": [
        {
          "output_type": "error",
          "ename": "AttributeError",
          "evalue": "ignored",
          "traceback": [
            "\u001b[0;31m---------------------------------------------------------------------------\u001b[0m",
            "\u001b[0;31mAttributeError\u001b[0m                            Traceback (most recent call last)",
            "\u001b[0;32m<ipython-input-25-d1a20d2b548d>\u001b[0m in \u001b[0;36m<module>\u001b[0;34m()\u001b[0m\n\u001b[1;32m      1\u001b[0m \u001b[0mupscale_factor\u001b[0m \u001b[0;34m=\u001b[0m \u001b[0;36m3\u001b[0m\u001b[0;34m/\u001b[0m\u001b[0;36m10\u001b[0m\u001b[0;34m\u001b[0m\u001b[0;34m\u001b[0m\u001b[0m\n\u001b[1;32m      2\u001b[0m \u001b[0;34m\u001b[0m\u001b[0m\n\u001b[0;32m----> 3\u001b[0;31m \u001b[0;32mwith\u001b[0m \u001b[0mkg_ships_resize\u001b[0m\u001b[0;34m[\u001b[0m\u001b[0;36m0\u001b[0m\u001b[0;34m]\u001b[0m \u001b[0;32mas\u001b[0m \u001b[0mdataset\u001b[0m\u001b[0;34m:\u001b[0m\u001b[0;34m\u001b[0m\u001b[0;34m\u001b[0m\u001b[0m\n\u001b[0m\u001b[1;32m      4\u001b[0m \u001b[0;34m\u001b[0m\u001b[0m\n\u001b[1;32m      5\u001b[0m     \u001b[0;31m# resample data to target shape\u001b[0m\u001b[0;34m\u001b[0m\u001b[0;34m\u001b[0m\u001b[0;34m\u001b[0m\u001b[0m\n",
            "\u001b[0;31mAttributeError\u001b[0m: __enter__"
          ]
        }
      ]
    },
    {
      "cell_type": "markdown",
      "metadata": {
        "id": "fjxvJW91_qZh",
        "colab_type": "text"
      },
      "source": [
        "Experiment with resizing stuff."
      ]
    },
    {
      "cell_type": "code",
      "metadata": {
        "id": "6vyG0CC09HE2",
        "colab_type": "code",
        "colab": {}
      },
      "source": [
        "data = dataset.read(\n",
        "    out_shape=(\n",
        "        dataset.count,\n",
        "        int(dataset.height * upscale_factor),\n",
        "        int(dataset.width * upscale_factor)\n",
        "    ),\n",
        "    resampling=Resampling.bilinear\n",
        ")\n",
        "\n",
        "# scale image transform\n",
        "transform = dataset.transform * dataset.transform.scale(\n",
        "    (dataset.width / data.shape[-1]),\n",
        "    (dataset.height / data.shape[-2])\n",
        ")"
      ],
      "execution_count": 0,
      "outputs": []
    },
    {
      "cell_type": "code",
      "metadata": {
        "id": "YVP3Xpfc-1xr",
        "colab_type": "code",
        "colab": {}
      },
      "source": [
        "test = scipy.ndimage.zoom(kg_ships_resize[0], (2, 2, 1), order=1)"
      ],
      "execution_count": 0,
      "outputs": []
    },
    {
      "cell_type": "code",
      "metadata": {
        "id": "S_ruIxof-51t",
        "colab_type": "code",
        "outputId": "6e8c402a-041e-439f-9f90-0a3ff5e8f70a",
        "colab": {
          "base_uri": "https://localhost:8080/",
          "height": 267
        }
      },
      "source": [
        "plt.imshow(kg_ships_resize[0]);"
      ],
      "execution_count": 0,
      "outputs": [
        {
          "output_type": "display_data",
          "data": {
            "image/png": "[encoded data removed]",
            "text/plain": [
              "<Figure size 432x288 with 1 Axes>"
            ]
          },
          "metadata": {
            "tags": [],
            "needs_background": "light"
          }
        }
      ]
    },
    {
      "cell_type": "code",
      "metadata": {
        "id": "XKaSyVhy-_uP",
        "colab_type": "code",
        "outputId": "5a19d30a-98e5-4038-abf1-893b55fd02ee",
        "colab": {
          "base_uri": "https://localhost:8080/",
          "height": 35
        }
      },
      "source": [
        "kg_ships_resize[0].shape"
      ],
      "execution_count": 0,
      "outputs": [
        {
          "output_type": "execute_result",
          "data": {
            "text/plain": [
              "(50, 50, 3)"
            ]
          },
          "metadata": {
            "tags": []
          },
          "execution_count": 35
        }
      ]
    },
    {
      "cell_type": "code",
      "metadata": {
        "id": "DgeUSCl3-77O",
        "colab_type": "code",
        "outputId": "5294d7f5-01f4-425f-a179-7bb10d10dddc",
        "colab": {
          "base_uri": "https://localhost:8080/",
          "height": 268
        }
      },
      "source": [
        "plt.imshow(test);"
      ],
      "execution_count": 0,
      "outputs": [
        {
          "output_type": "display_data",
          "data": {
            "image/png": "[encoded data removed]",
            "text/plain": [
              "<Figure size 432x288 with 1 Axes>"
            ]
          },
          "metadata": {
            "tags": [],
            "needs_background": "light"
          }
        }
      ]
    },
    {
      "cell_type": "code",
      "metadata": {
        "id": "Gvt9yR4t_mHS",
        "colab_type": "code",
        "colab": {}
      },
      "source": [
        ""
      ],
      "execution_count": 0,
      "outputs": []
    }
  ]
}