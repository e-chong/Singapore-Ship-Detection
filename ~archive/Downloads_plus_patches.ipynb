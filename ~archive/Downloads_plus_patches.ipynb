{
  "nbformat": 4,
  "nbformat_minor": 0,
  "metadata": {
    "colab": {
      "name": "Downloads-plus-patches-train.ipynb",
      "provenance": [],
      "collapsed_sections": [
        "XmcUNMRKqxCP"
      ],
      "machine_shape": "hm",
      "include_colab_link": true
    },
    "kernelspec": {
      "name": "python3",
      "display_name": "Python 3"
    }
  },
  "cells": [
    {
      "cell_type": "markdown",
      "metadata": {
        "id": "view-in-github",
        "colab_type": "text"
      },
      "source": [
        "<a href=\"https://colab.research.google.com/github/e-chong/Singapore-Ship-Detection/blob/master/Downloads_plus_patches.ipynb\" target=\"_parent\"><img src=\"https://colab.research.google.com/assets/colab-badge.svg\" alt=\"Open In Colab\"/></a>"
      ]
    },
    {
      "cell_type": "markdown",
      "metadata": {
        "id": "Vge05pS9qtoz",
        "colab_type": "text"
      },
      "source": [
        "# Setup Environment"
      ]
    },
    {
      "cell_type": "code",
      "metadata": {
        "id": "nLt3Oaheqspr",
        "colab_type": "code",
        "colab": {}
      },
      "source": [
        "# install libraries\n",
        "\n",
        "# suppress output\n",
        "%%capture \n",
        "\n",
        "!pip install rasterio\n",
        "!pip install geopandas\n",
        "!pip install sentinelsat\n",
        "!pip install glymur\n",
        "!pip install python-geotiepoints\n",
        "!pip install pyspectral\n",
        "!pip install progressbar2\n",
        "!pip install kaggle\n",
        "!pip install tifffile"
      ],
      "execution_count": 0,
      "outputs": []
    },
    {
      "cell_type": "code",
      "metadata": {
        "id": "6gasTM7Mu7lk",
        "colab_type": "code",
        "colab": {}
      },
      "source": [
        "%tensorflow_version 1.x\n",
        "%matplotlib inline"
      ],
      "execution_count": 0,
      "outputs": []
    },
    {
      "cell_type": "code",
      "metadata": {
        "id": "6pLKc0YIqwnb",
        "colab_type": "code",
        "colab": {}
      },
      "source": [
        "# Base dependencies\n",
        "import numpy as np\n",
        "import pandas as pd\n",
        "import geopandas as gpd # vector spatial operations\n",
        "import rasterio as rio # raster spatial operations\n",
        "import json\n",
        "\n",
        "# Plotting\n",
        "from rasterio.plot import show #convenience wrapper for pyplot.imshow for RGB and 1 band images\n",
        "import matplotlib.pyplot as plt\n",
        "\n",
        "#Sentinel-2 I/O\n",
        "from sentinelsat import SentinelAPI\n",
        "import requests, zipfile, io, os, shutil # downloading and extracting zipfolders\n",
        "\n",
        "# Sentinel-2 create patches\n",
        "from shapely.geometry import Point # vector geometries\n",
        "import time\n",
        "import progressbar\n",
        "\n",
        "# Resize Kaggle patches\n",
        "from skimage.transform import resize\n",
        "import tifffile as tiff\n",
        "import scipy.ndimage\n",
        "\n",
        "#data preparation\n",
        "from sklearn.model_selection import train_test_split\n",
        "from keras.preprocessing.image import ImageDataGenerator\n"
      ],
      "execution_count": 0,
      "outputs": []
    },
    {
      "cell_type": "code",
      "metadata": {
        "id": "nGMQwewktfst",
        "colab_type": "code",
        "outputId": "73efa6a4-bd74-42bf-f184-e5a9b7112b65",
        "colab": {
          "base_uri": "https://localhost:8080/",
          "height": 129
        }
      },
      "source": [
        "from google.colab import drive\n",
        "drive.mount('/content/drive/')"
      ],
      "execution_count": 9,
      "outputs": [
        {
          "output_type": "stream",
          "text": [
            "Go to this URL in a browser: https://accounts.google.com/o/oauth2/auth?client_id=947318989803-6bn6qk8qdgf4n4g3pfee6491hc0brc4i.apps.googleusercontent.com&redirect_uri=urn%3aietf%3awg%3aoauth%3a2.0%3aoob&response_type=code&scope=email%20https%3a%2f%2fwww.googleapis.com%2fauth%2fdocs.test%20https%3a%2f%2fwww.googleapis.com%2fauth%2fdrive%20https%3a%2f%2fwww.googleapis.com%2fauth%2fdrive.photos.readonly%20https%3a%2f%2fwww.googleapis.com%2fauth%2fpeopleapi.readonly\n",
            "\n",
            "Enter your authorization code:\n",
            "··········\n",
            "Mounted at /content/drive/\n"
          ],
          "name": "stdout"
        }
      ]
    },
    {
      "cell_type": "markdown",
      "metadata": {
        "id": "XmcUNMRKqxCP",
        "colab_type": "text"
      },
      "source": [
        "# Define Functions"
      ]
    },
    {
      "cell_type": "code",
      "metadata": {
        "id": "iwJqDvFHJjo7",
        "colab_type": "code",
        "colab": {}
      },
      "source": [
        "# Extracts RGB 3-channel image from SAFE directory and saves it in the working directory \n",
        "# and returns the path to the new file\n",
        "def extract_rgb_jp2(safePath, sceneTitle):\n",
        "  for subdirs, dirs, files in os.walk(safePath):\n",
        "    for file in files:\n",
        "      if file.endswith('_TCI.jp2'):\n",
        "        rgbPath = os.path.join(subdirs, file)\n",
        "        destPath = sceneTitle+'.jp2'\n",
        "        print(f'Copying {file} to {destPath}')\n",
        "        shutil.copy2(rgbPath, destPath)\n",
        "        return destPath"
      ],
      "execution_count": 0,
      "outputs": []
    },
    {
      "cell_type": "code",
      "metadata": {
        "id": "l5p2ZHlnqzO4",
        "colab_type": "code",
        "colab": {}
      },
      "source": [
        "# returns matrix of [n ships, patch_size, patch_size]\n",
        "def create_ship_patches(ships, img, patch_size=50):\n",
        "  coordinates = list(zip(ships.geometry.x, ships.geometry.y))\n",
        "  with progressbar.ProgressBar(max_value=len(ships.index)) as bar: # creates progress bar\n",
        "    patch_list = np.zeros([len(ships.index), patch_size, patch_size, len(img.indexes)])\n",
        "    for i, (lon, lat) in enumerate(coordinates): # Loop through your list of coords\n",
        "      py, px = img.index(lon, lat) # Get pixel coordinates from map coordinates\n",
        "      window = rio.windows.Window(px - patch_size//2, py - patch_size//2, patch_size, patch_size) # Build an NxN window\n",
        "      patch = img.read(window=window) # clip is a nbands * patch_size * patch_size numpy array\n",
        "      patch_list[i] = np.transpose(patch, (1,2,0)) # transpose to [patch_size, patch_size, n bands]\n",
        "      bar.update(i)\n",
        "  return patch_list.astype(int)"
      ],
      "execution_count": 0,
      "outputs": []
    },
    {
      "cell_type": "code",
      "metadata": {
        "id": "aN4-ti1Hvasr",
        "colab_type": "code",
        "colab": {}
      },
      "source": [
        "# creates patches for use in classifying ship or no ship\n",
        "def create_patches(img, patch_size=50, step_size=30):\n",
        "  n_patches = len(range(0,img.height, step_size)) * len(range(0,img.width, step_size))\n",
        "  patch_list = []\n",
        "  index = 0\n",
        "  with progressbar.ProgressBar(max_value=n_patches) as bar: # creates progress bar\n",
        "    for y in range(0,img.height, step_size): # iterate across image column-wise\n",
        "      for x in range(0,img.width, step_size): # iterate across image row-wise\n",
        "        window = rio.windows.Window(x,y, patch_size, patch_size)\n",
        "        if window.col_off+window.width > img.width or window.row_off+window.height > img.height:\n",
        "          pass\n",
        "        else:\n",
        "          # Read the data in the window\n",
        "          patch = img.read(window=window) # patch is a nbands * patch_size * patch_size numpy array \n",
        "          patch_list.append(np.transpose(patch, (1,2,0))) # transpose to [patch_size, patch_size, n bands]\n",
        "          index += 1\n",
        "          bar.update(index)\n",
        "  patch_array = np.stack(patch_list, axis=0)\n",
        "  return patch_array.astype(int)"
      ],
      "execution_count": 0,
      "outputs": []
    },
    {
      "cell_type": "code",
      "metadata": {
        "id": "Op83RdI0va1S",
        "colab_type": "code",
        "colab": {}
      },
      "source": [
        "# returns boolean list of whether patches intersect with any ships\n",
        "def patch_intersects_ship_buffers(ships, img, patch_size=50, step_size=30):\n",
        "  n_patches = (len(range(0,img.height, step_size)) * len(range(0,img.width, step_size)))\n",
        "  isShip_list = [] #list to hold all the patch locations\n",
        "  buffer_list = []\n",
        "  x_list = []\n",
        "  y_list = []\n",
        "  index = 0\n",
        "\n",
        "  with progressbar.ProgressBar(max_value=n_patches) as bar: # creates progress bar\n",
        "    for y in range(0,img.height, step_size): # iterate across image column-wise\n",
        "      for x in range(0,img.width, step_size): # iterate across image row-wise\n",
        "        window = rio.windows.Window(x,y, patch_size, patch_size) #get patch window\n",
        "        if window.col_off+window.width > img.width or window.row_off+window.height > img.height:\n",
        "          pass #skip patches that extend off the edge so they have the wrong shape\n",
        "        else:\n",
        "          #create centroid point\n",
        "          centroid = Point(img.transform *(window.col_off+patch_size/2, window.row_off+patch_size/2))\n",
        "          buffer = centroid.buffer(img.transform[0]*step_size/1.5)\n",
        "          buffer_list.append(buffer)\n",
        "          isShip = np.any(ships.intersects(buffer)) #intersect ships with polygon and check if any are positive\n",
        "          isShip_list.append(isShip) #append result to list\n",
        "          x_list.append(x),\n",
        "          y_list.append(y)\n",
        "          index += 1\n",
        "          bar.update(index)\n",
        "  results = pd.DataFrame({'isShip':isShip_list, 'x':x_list, 'y':y_list, 'patch_size':patch_size})\n",
        "  return results"
      ],
      "execution_count": 0,
      "outputs": []
    },
    {
      "cell_type": "code",
      "metadata": {
        "id": "B4Qeset-S01e",
        "colab_type": "code",
        "colab": {}
      },
      "source": [
        "# plots a patch\n",
        "def plot_patch(img, x, y, patch_size=50, step_size=30):\n",
        "  window = rio.windows.Window(x,y, patch_size, patch_size)\n",
        "  patch = img.read(window=window)\n",
        "  show(patch, title=f'x: {x}, y: {y}')"
      ],
      "execution_count": 0,
      "outputs": []
    },
    {
      "cell_type": "markdown",
      "metadata": {
        "id": "jHugdnAiqzvF",
        "colab_type": "text"
      },
      "source": [
        "# Define Parameters"
      ]
    },
    {
      "cell_type": "code",
      "metadata": {
        "id": "xi3m9osct2hP",
        "colab_type": "code",
        "colab": {}
      },
      "source": [
        "DRIVE_PATH = '/content/drive/My Drive/MUSA-650-Final-Project/'"
      ],
      "execution_count": 0,
      "outputs": []
    },
    {
      "cell_type": "code",
      "metadata": {
        "id": "s0LwDd5ZsuEo",
        "colab_type": "code",
        "colab": {}
      },
      "source": [
        "#Load param file\n",
        "with open(DRIVE_PATH+'params.json', 'r') as file:\n",
        "    params = json.load(file)\n",
        "    \n",
        "    SENTINEL_USER = params['SENTINEL_USER']\n",
        "    SENTINEL_PWD = params['SENTINEL_PWD']\n",
        "    KAGGLE_USER = params['KAGGLE_USER']\n",
        "    KAGGLE_KEY = params['KAGGLE_KEY']"
      ],
      "execution_count": 0,
      "outputs": []
    },
    {
      "cell_type": "code",
      "metadata": {
        "id": "emn3G2QEq2aM",
        "colab_type": "code",
        "colab": {}
      },
      "source": [
        "# unique Sentinel-2 tile id for images covering Singapore\n",
        "TILE_ID = \"48NUG\" "
      ],
      "execution_count": 0,
      "outputs": []
    },
    {
      "cell_type": "code",
      "metadata": {
        "id": "1kLoJJ3irUx9",
        "colab_type": "code",
        "colab": {}
      },
      "source": [
        "# Patch parameters\n",
        "PATCH_SIZE = 40\n",
        "STEP_SIZE = 20\n",
        "SCALE_FACTOR = 3/10 #PlanetScope GSD / Sentinel-2 GSD"
      ],
      "execution_count": 0,
      "outputs": []
    },
    {
      "cell_type": "markdown",
      "metadata": {
        "id": "3ci93r1nq3Vw",
        "colab_type": "text"
      },
      "source": [
        "# Download Data"
      ]
    },
    {
      "cell_type": "markdown",
      "metadata": {
        "id": "JSC1hKJgzhXr",
        "colab_type": "text"
      },
      "source": [
        "## Sentinel-2"
      ]
    },
    {
      "cell_type": "code",
      "metadata": {
        "id": "p_dPKtgaq687",
        "colab_type": "code",
        "outputId": "82365fa4-0f35-4397-f936-5f5e9f08c47a",
        "colab": {
          "base_uri": "https://localhost:8080/",
          "height": 357
        }
      },
      "source": [
        "# Sentinel API Query\n",
        "api = SentinelAPI(SENTINEL_USER, SENTINEL_PWD, 'https://scihub.copernicus.eu/dhus')\n",
        "\n",
        "scenes = api.to_geodataframe(api.query(tileid=TILE_ID,\n",
        "                                             date=('20100101','NOW'),\n",
        "                                             platformname='Sentinel-2',\n",
        "                                             cloudcoverpercentage=(0, 6)))\n",
        "#get full scene metadata\n",
        "tempList = list()\n",
        "for uuid in scenes.uuid:\n",
        "  tempList.append(api.get_product_odata(uuid, full=True))\n",
        "\n",
        "sceneMeta = pd.DataFrame(tempList)\n",
        "sceneMeta = sceneMeta.loc[sceneMeta['Online'] == True] # filter out images that are in Long Term Archive and have a 30 minute throttle to download\n",
        "\n",
        "sceneMeta"
      ],
      "execution_count": 0,
      "outputs": [
        {
          "output_type": "stream",
          "text": [
            "/usr/local/lib/python3.6/dist-packages/pyproj/crs/crs.py:53: FutureWarning: '+init=<authority>:<code>' syntax is deprecated. '<authority>:<code>' is the preferred initialization method. When making the change, be mindful of axis order changes: https://pyproj4.github.io/pyproj/stable/gotchas.html#axis-order-changes-in-proj-6\n",
            "  return _prepare_from_string(\" \".join(pjargs))\n"
          ],
          "name": "stderr"
        },
        {
          "output_type": "execute_result",
          "data": {
            "text/html": [
              "<div>\n",
              "<style scoped>\n",
              "    .dataframe tbody tr th:only-of-type {\n",
              "        vertical-align: middle;\n",
              "    }\n",
              "\n",
              "    .dataframe tbody tr th {\n",
              "        vertical-align: top;\n",
              "    }\n",
              "\n",
              "    .dataframe thead th {\n",
              "        text-align: right;\n",
              "    }\n",
              "</style>\n",
              "<table border=\"1\" class=\"dataframe\">\n",
              "  <thead>\n",
              "    <tr style=\"text-align: right;\">\n",
              "      <th></th>\n",
              "      <th>id</th>\n",
              "      <th>title</th>\n",
              "      <th>size</th>\n",
              "      <th>md5</th>\n",
              "      <th>date</th>\n",
              "      <th>footprint</th>\n",
              "      <th>url</th>\n",
              "      <th>Online</th>\n",
              "      <th>Creation Date</th>\n",
              "      <th>Ingestion Date</th>\n",
              "      <th>Cloud cover percentage</th>\n",
              "      <th>Datatake sensing start</th>\n",
              "      <th>Date</th>\n",
              "      <th>Degraded ancillary data percentage</th>\n",
              "      <th>Degraded MSI data percentage</th>\n",
              "      <th>Filename</th>\n",
              "      <th>Footprint</th>\n",
              "      <th>Format</th>\n",
              "      <th>Format correctness</th>\n",
              "      <th>General quality</th>\n",
              "      <th>Generation time</th>\n",
              "      <th>Geometric quality</th>\n",
              "      <th>Identifier</th>\n",
              "      <th>Instrument</th>\n",
              "      <th>Instrument abbreviation</th>\n",
              "      <th>Instrument mode</th>\n",
              "      <th>Instrument name</th>\n",
              "      <th>JTS footprint</th>\n",
              "      <th>Mission datatake id</th>\n",
              "      <th>NSSDC identifier</th>\n",
              "      <th>Orbit number (start)</th>\n",
              "      <th>Pass direction</th>\n",
              "      <th>Platform serial identifier</th>\n",
              "      <th>Processing baseline</th>\n",
              "      <th>Processing level</th>\n",
              "      <th>Product type</th>\n",
              "      <th>Radiometric quality</th>\n",
              "      <th>Relative orbit (start)</th>\n",
              "      <th>Satellite</th>\n",
              "      <th>Satellite name</th>\n",
              "      <th>Satellite number</th>\n",
              "      <th>Sensing start</th>\n",
              "      <th>Sensing stop</th>\n",
              "      <th>Sensor quality</th>\n",
              "      <th>Size</th>\n",
              "      <th>Tile Identifier</th>\n",
              "      <th>Tile Identifier horizontal order</th>\n",
              "      <th>Level-1C PDI Identifier</th>\n",
              "      <th>Datastrip identifier</th>\n",
              "      <th>Granule identifier</th>\n",
              "    </tr>\n",
              "  </thead>\n",
              "  <tbody>\n",
              "    <tr>\n",
              "      <th>0</th>\n",
              "      <td>8345c17f-dd76-4398-b4bf-2eb708631b07</td>\n",
              "      <td>S2A_MSIL1C_20191227T032131_N0208_R118_T48NUG_2...</td>\n",
              "      <td>784125118</td>\n",
              "      <td>FCD2A37B4A069C5342299AD2AEE90B41</td>\n",
              "      <td>2019-12-27 03:21:31.024</td>\n",
              "      <td>POLYGON((103.20205689083804 1.808922187860351,...</td>\n",
              "      <td>https://scihub.copernicus.eu/dhus/odata/v1/Pro...</td>\n",
              "      <td>True</td>\n",
              "      <td>2019-12-27 08:04:08.105</td>\n",
              "      <td>2019-12-27 08:03:15.620</td>\n",
              "      <td>3.6098</td>\n",
              "      <td>2019-12-27 03:21:31.024</td>\n",
              "      <td>2019-12-27 03:21:31.024</td>\n",
              "      <td>0.0</td>\n",
              "      <td>0</td>\n",
              "      <td>S2A_MSIL1C_20191227T032131_N0208_R118_T48NUG_2...</td>\n",
              "      <td>&lt;gml:Polygon srsName=\"http://www.opengis.net/g...</td>\n",
              "      <td>SAFE</td>\n",
              "      <td>PASSED</td>\n",
              "      <td>PASSED</td>\n",
              "      <td>2019-12-27 06:07:36</td>\n",
              "      <td>PASSED</td>\n",
              "      <td>S2A_MSIL1C_20191227T032131_N0208_R118_T48NUG_2...</td>\n",
              "      <td>MSI</td>\n",
              "      <td>MSI</td>\n",
              "      <td>INS-NOBS</td>\n",
              "      <td>Multi-Spectral Instrument</td>\n",
              "      <td>MULTIPOLYGON (((103.2027660714231 0.8160247595...</td>\n",
              "      <td>GS2A_20191227T032131_023567_N02.08</td>\n",
              "      <td>2015-028A</td>\n",
              "      <td>23567</td>\n",
              "      <td>DESCENDING</td>\n",
              "      <td>Sentinel-2A</td>\n",
              "      <td>2.08</td>\n",
              "      <td>Level-1C</td>\n",
              "      <td>S2MSI1C</td>\n",
              "      <td>PASSED</td>\n",
              "      <td>118</td>\n",
              "      <td>Sentinel-2</td>\n",
              "      <td>Sentinel-2</td>\n",
              "      <td>A</td>\n",
              "      <td>2019-12-27 03:21:31.024</td>\n",
              "      <td>2019-12-27 03:21:31.024</td>\n",
              "      <td>PASSED</td>\n",
              "      <td>747.76 MB</td>\n",
              "      <td>48NUG</td>\n",
              "      <td>NG48U</td>\n",
              "      <td>S2A_OPER_MSI_L1C_TL_EPAE_20191227T060736_A0235...</td>\n",
              "      <td>NaN</td>\n",
              "      <td>NaN</td>\n",
              "    </tr>\n",
              "    <tr>\n",
              "      <th>1</th>\n",
              "      <td>5d57f964-03cb-4001-a2f2-33f9eba9605e</td>\n",
              "      <td>S2B_MSIL1C_20190705T031549_N0207_R118_T48NUG_2...</td>\n",
              "      <td>779449455</td>\n",
              "      <td>5E51BCC8A45CF3ADD026433463D37D58</td>\n",
              "      <td>2019-07-05 03:15:49.024</td>\n",
              "      <td>POLYGON((103.20205689083804 1.808922187860351,...</td>\n",
              "      <td>https://scihub.copernicus.eu/dhus/odata/v1/Pro...</td>\n",
              "      <td>True</td>\n",
              "      <td>2019-07-05 10:32:33.443</td>\n",
              "      <td>2019-07-05 09:41:20.667</td>\n",
              "      <td>5.5518</td>\n",
              "      <td>2019-07-05 03:15:49.024</td>\n",
              "      <td>2019-07-05 03:15:49.024</td>\n",
              "      <td>0.0</td>\n",
              "      <td>0</td>\n",
              "      <td>S2B_MSIL1C_20190705T031549_N0207_R118_T48NUG_2...</td>\n",
              "      <td>&lt;gml:Polygon srsName=\"http://www.opengis.net/g...</td>\n",
              "      <td>SAFE</td>\n",
              "      <td>PASSED</td>\n",
              "      <td>PASSED</td>\n",
              "      <td>2019-07-05 06:53:23</td>\n",
              "      <td>PASSED</td>\n",
              "      <td>S2B_MSIL1C_20190705T031549_N0207_R118_T48NUG_2...</td>\n",
              "      <td>MSI</td>\n",
              "      <td>MSI</td>\n",
              "      <td>INS-NOBS</td>\n",
              "      <td>Multi-Spectral Instrument</td>\n",
              "      <td>MULTIPOLYGON (((103.2027660714231 0.8160247595...</td>\n",
              "      <td>GS2B_20190705T031549_012156_N02.07</td>\n",
              "      <td>2017-013A</td>\n",
              "      <td>12156</td>\n",
              "      <td>DESCENDING</td>\n",
              "      <td>Sentinel-2B</td>\n",
              "      <td>2.07</td>\n",
              "      <td>Level-1C</td>\n",
              "      <td>S2MSI1C</td>\n",
              "      <td>PASSED</td>\n",
              "      <td>118</td>\n",
              "      <td>Sentinel-2</td>\n",
              "      <td>Sentinel-2</td>\n",
              "      <td>B</td>\n",
              "      <td>2019-07-05 03:15:49.024</td>\n",
              "      <td>2019-07-05 03:15:49.024</td>\n",
              "      <td>PASSED</td>\n",
              "      <td>743.30 MB</td>\n",
              "      <td>48NUG</td>\n",
              "      <td>NG48U</td>\n",
              "      <td>S2B_OPER_MSI_L1C_TL_SGS__20190705T065323_A0121...</td>\n",
              "      <td>NaN</td>\n",
              "      <td>NaN</td>\n",
              "    </tr>\n",
              "    <tr>\n",
              "      <th>2</th>\n",
              "      <td>06a584ce-37d8-4b9c-a35c-9ce4924d81c2</td>\n",
              "      <td>S2B_MSIL1C_20190406T031549_N0207_R118_T48NUG_2...</td>\n",
              "      <td>804777353</td>\n",
              "      <td>98F454F41D8C8248E26F5DAC2A6C7526</td>\n",
              "      <td>2019-04-06 03:15:49.024</td>\n",
              "      <td>POLYGON((103.20205689083804 1.808922187860351,...</td>\n",
              "      <td>https://scihub.copernicus.eu/dhus/odata/v1/Pro...</td>\n",
              "      <td>True</td>\n",
              "      <td>2019-04-06 09:29:13.485</td>\n",
              "      <td>2019-04-06 09:28:17.321</td>\n",
              "      <td>5.8114</td>\n",
              "      <td>2019-04-06 03:15:49.024</td>\n",
              "      <td>2019-04-06 03:15:49.024</td>\n",
              "      <td>0.0</td>\n",
              "      <td>0</td>\n",
              "      <td>S2B_MSIL1C_20190406T031549_N0207_R118_T48NUG_2...</td>\n",
              "      <td>&lt;gml:Polygon srsName=\"http://www.opengis.net/g...</td>\n",
              "      <td>SAFE</td>\n",
              "      <td>PASSED</td>\n",
              "      <td>PASSED</td>\n",
              "      <td>2019-04-06 07:30:31</td>\n",
              "      <td>PASSED</td>\n",
              "      <td>S2B_MSIL1C_20190406T031549_N0207_R118_T48NUG_2...</td>\n",
              "      <td>MSI</td>\n",
              "      <td>MSI</td>\n",
              "      <td>INS-NOBS</td>\n",
              "      <td>Multi-Spectral Instrument</td>\n",
              "      <td>MULTIPOLYGON (((103.2027660714231 0.8160247595...</td>\n",
              "      <td>GS2B_20190406T031549_010869_N02.07</td>\n",
              "      <td>2017-013A</td>\n",
              "      <td>10869</td>\n",
              "      <td>DESCENDING</td>\n",
              "      <td>Sentinel-2B</td>\n",
              "      <td>2.07</td>\n",
              "      <td>Level-1C</td>\n",
              "      <td>S2MSI1C</td>\n",
              "      <td>PASSED</td>\n",
              "      <td>118</td>\n",
              "      <td>Sentinel-2</td>\n",
              "      <td>Sentinel-2</td>\n",
              "      <td>B</td>\n",
              "      <td>2019-04-06 03:15:49.024</td>\n",
              "      <td>2019-04-06 03:15:49.024</td>\n",
              "      <td>PASSED</td>\n",
              "      <td>767.45 MB</td>\n",
              "      <td>48NUG</td>\n",
              "      <td>NG48U</td>\n",
              "      <td>S2B_OPER_MSI_L1C_TL_EPAE_20190406T073031_A0108...</td>\n",
              "      <td>S2B_OPER_MSI_L1C_DS_EPAE_20190406T073031_S2019...</td>\n",
              "      <td>S2B_OPER_MSI_L1C_TL_EPAE_20190406T073031_A0108...</td>\n",
              "    </tr>\n",
              "  </tbody>\n",
              "</table>\n",
              "</div>"
            ],
            "text/plain": [
              "                                     id  ...                                 Granule identifier\n",
              "0  8345c17f-dd76-4398-b4bf-2eb708631b07  ...                                                NaN\n",
              "1  5d57f964-03cb-4001-a2f2-33f9eba9605e  ...                                                NaN\n",
              "2  06a584ce-37d8-4b9c-a35c-9ce4924d81c2  ...  S2B_OPER_MSI_L1C_TL_EPAE_20190406T073031_A0108...\n",
              "\n",
              "[3 rows x 50 columns]"
            ]
          },
          "metadata": {
            "tags": []
          },
          "execution_count": 14
        }
      ]
    },
    {
      "cell_type": "code",
      "metadata": {
        "id": "BH-gvcYLvsrw",
        "colab_type": "code",
        "outputId": "b29167db-175a-4ec5-980c-07784b6498c9",
        "colab": {
          "base_uri": "https://localhost:8080/",
          "height": 182
        }
      },
      "source": [
        "# download sentinel images available online\n",
        "for index, row in sceneMeta.iterrows():\n",
        "  uuid = row['id']\n",
        "  title = row['title']\n",
        "  filename = row['Filename']\n",
        "  print(f'Downloading {title}')\n",
        "  api.download(uuid)"
      ],
      "execution_count": 0,
      "outputs": [
        {
          "output_type": "stream",
          "text": [
            "Downloading S2A_MSIL1C_20191227T032131_N0208_R118_T48NUG_20191227T060736\n"
          ],
          "name": "stdout"
        },
        {
          "output_type": "stream",
          "text": [
            "Downloading: 100%|██████████| 784M/784M [01:29<00:00, 8.77MB/s]\n",
            "MD5 checksumming: 100%|██████████| 784M/784M [00:01<00:00, 460MB/s]\n"
          ],
          "name": "stderr"
        },
        {
          "output_type": "stream",
          "text": [
            "Downloading S2B_MSIL1C_20190705T031549_N0207_R118_T48NUG_20190705T065323\n"
          ],
          "name": "stdout"
        },
        {
          "output_type": "stream",
          "text": [
            "Downloading: 100%|██████████| 779M/779M [01:18<00:00, 9.87MB/s]\n",
            "MD5 checksumming: 100%|██████████| 779M/779M [00:01<00:00, 462MB/s]\n"
          ],
          "name": "stderr"
        },
        {
          "output_type": "stream",
          "text": [
            "Downloading S2B_MSIL1C_20190406T031549_N0207_R118_T48NUG_20190406T073031\n"
          ],
          "name": "stdout"
        },
        {
          "output_type": "stream",
          "text": [
            "Downloading: 100%|██████████| 805M/805M [01:13<00:00, 10.9MB/s]\n",
            "MD5 checksumming: 100%|██████████| 805M/805M [00:01<00:00, 453MB/s]\n"
          ],
          "name": "stderr"
        }
      ]
    },
    {
      "cell_type": "code",
      "metadata": {
        "id": "1y4QRir2wI8S",
        "colab_type": "code",
        "outputId": "c7cf7523-db00-4105-f9a2-5988dbd56c7f",
        "colab": {
          "base_uri": "https://localhost:8080/",
          "height": 72
        }
      },
      "source": [
        "# Unzip folders\n",
        "# this creates SAFE files/directories which are explained here: https://sentinel.esa.int/web/sentinel/user-guides/sentinel-2-msi/data-formats\n",
        "for index, row in sceneMeta.iterrows(): \n",
        "    title = row['title']\n",
        "    filename = row['Filename']\n",
        "    print(f'Unzipping {title}')\n",
        "    with zipfile.ZipFile(title+'.zip', 'r') as safezip:\n",
        "      safezip.extractall(filename)"
      ],
      "execution_count": 0,
      "outputs": [
        {
          "output_type": "stream",
          "text": [
            "Unzipping S2A_MSIL1C_20191227T032131_N0208_R118_T48NUG_20191227T060736\n",
            "Unzipping S2B_MSIL1C_20190705T031549_N0207_R118_T48NUG_20190705T065323\n",
            "Unzipping S2B_MSIL1C_20190406T031549_N0207_R118_T48NUG_20190406T073031\n"
          ],
          "name": "stdout"
        }
      ]
    },
    {
      "cell_type": "code",
      "metadata": {
        "id": "VL-GqgeXIXyG",
        "colab_type": "code",
        "outputId": "177b6a1b-628d-4ac5-aa79-4df7279b20de",
        "colab": {
          "base_uri": "https://localhost:8080/",
          "height": 110
        }
      },
      "source": [
        "image_paths = []\n",
        "for index, row in sceneMeta.iterrows():\n",
        "  image_paths.append(extract_rgb_jp2(row['Filename'], row['title']))\n",
        "print(image_paths)"
      ],
      "execution_count": 0,
      "outputs": [
        {
          "output_type": "stream",
          "text": [
            "Copying T48NUG_20191227T032131_TCI.jp2 to S2A_MSIL1C_20191227T032131_N0208_R118_T48NUG_20191227T060736.jp2\n",
            "Copying T48NUG_20190705T031549_TCI.jp2 to S2B_MSIL1C_20190705T031549_N0207_R118_T48NUG_20190705T065323.jp2\n",
            "Copying T48NUG_20190406T031549_TCI.jp2 to S2B_MSIL1C_20190406T031549_N0207_R118_T48NUG_20190406T073031.jp2\n",
            "['S2A_MSIL1C_20191227T032131_N0208_R118_T48NUG_20191227T060736.jp2', 'S2B_MSIL1C_20190705T031549_N0207_R118_T48NUG_20190705T065323.jp2', 'S2B_MSIL1C_20190406T031549_N0207_R118_T48NUG_20190406T073031.jp2']\n"
          ],
          "name": "stdout"
        }
      ]
    },
    {
      "cell_type": "code",
      "metadata": {
        "id": "VlJV1ccFwNZD",
        "colab_type": "code",
        "outputId": "7609b897-b3b8-4844-bc89-c1ab2e315caa",
        "colab": {
          "base_uri": "https://localhost:8080/",
          "height": 127
        }
      },
      "source": [
        "# delete unneeded files to free up space\n",
        "# eventually maybe move into extraction for-loops\n",
        "for name in sceneMeta.title:\n",
        "  if os.path.exists(name+'.zip'):\n",
        "    print(f'Deleting {name}.zip')\n",
        "    os.remove(name+'.zip')\n",
        "  if os.path.exists(name+'.SAFE'):\n",
        "    print(f'Deleting {name}.SAFE')\n",
        "    shutil.rmtree(name+'.SAFE')"
      ],
      "execution_count": 0,
      "outputs": [
        {
          "output_type": "stream",
          "text": [
            "Deleting S2A_MSIL1C_20191227T032131_N0208_R118_T48NUG_20191227T060736.zip\n",
            "Deleting S2A_MSIL1C_20191227T032131_N0208_R118_T48NUG_20191227T060736.SAFE\n",
            "Deleting S2B_MSIL1C_20190705T031549_N0207_R118_T48NUG_20190705T065323.zip\n",
            "Deleting S2B_MSIL1C_20190705T031549_N0207_R118_T48NUG_20190705T065323.SAFE\n",
            "Deleting S2B_MSIL1C_20190406T031549_N0207_R118_T48NUG_20190406T073031.zip\n",
            "Deleting S2B_MSIL1C_20190406T031549_N0207_R118_T48NUG_20190406T073031.SAFE\n"
          ],
          "name": "stdout"
        }
      ]
    },
    {
      "cell_type": "code",
      "metadata": {
        "id": "p-dkQsluwSfo",
        "colab_type": "code",
        "outputId": "64e58334-bb74-400a-c491-f2fe8563ecdc",
        "colab": {
          "base_uri": "https://localhost:8080/",
          "height": 127
        }
      },
      "source": [
        "os.listdir()"
      ],
      "execution_count": 0,
      "outputs": [
        {
          "output_type": "execute_result",
          "data": {
            "text/plain": [
              "['.config',\n",
              " 'S2B_MSIL1C_20190705T031549_N0207_R118_T48NUG_20190705T065323.jp2',\n",
              " 'S2A_MSIL1C_20191227T032131_N0208_R118_T48NUG_20191227T060736.jp2',\n",
              " 'drive',\n",
              " 'S2B_MSIL1C_20190406T031549_N0207_R118_T48NUG_20190406T073031.jp2',\n",
              " 'sample_data']"
            ]
          },
          "metadata": {
            "tags": []
          },
          "execution_count": 19
        }
      ]
    },
    {
      "cell_type": "markdown",
      "metadata": {
        "id": "zHSIDCo1lKcz",
        "colab_type": "text"
      },
      "source": [
        "## Kaggle PlanetScope"
      ]
    },
    {
      "cell_type": "code",
      "metadata": {
        "id": "egGcraQyl4lI",
        "colab_type": "code",
        "colab": {
          "base_uri": "https://localhost:8080/",
          "height": 35
        },
        "outputId": "f88c3898-01da-4427-ddbf-cf42fb510e84"
      },
      "source": [
        "os.mkdir('.kaggle')\n",
        "os.listdir()"
      ],
      "execution_count": 4,
      "outputs": [
        {
          "output_type": "execute_result",
          "data": {
            "text/plain": [
              "['.config', '.kaggle', 'sample_data']"
            ]
          },
          "metadata": {
            "tags": []
          },
          "execution_count": 4
        }
      ]
    },
    {
      "cell_type": "code",
      "metadata": {
        "id": "AgFfwDJdmFkp",
        "colab_type": "code",
        "colab": {}
      },
      "source": [
        "token = {\"username\":KAGGLE_USER,\"key\":KAGGLE_KEY}\n",
        "\n",
        "with open('/content/.kaggle/kaggle.json', 'w') as file:\n",
        "    json.dump(token, file)"
      ],
      "execution_count": 0,
      "outputs": []
    },
    {
      "cell_type": "code",
      "metadata": {
        "id": "NzwM9qVbmQ9r",
        "colab_type": "code",
        "colab": {
          "base_uri": "https://localhost:8080/",
          "height": 219
        },
        "outputId": "7dc7d53c-9689-476a-bfee-3bd444162c2f"
      },
      "source": [
        "!cp /content/.kaggle/kaggle.json ~/.kaggle/kaggle.json\n",
        "!kaggle config set -n path -v{/content}\n",
        "!cp /content/.kaggle/kaggle.json ~/.kaggle/kaggle.json\n",
        "!kaggle config set -n path -v{/content}"
      ],
      "execution_count": 16,
      "outputs": [
        {
          "output_type": "stream",
          "text": [
            "cp: cannot create regular file '/root/.kaggle/kaggle.json': No such file or directory\n",
            "Traceback (most recent call last):\n",
            "  File \"/usr/local/bin/kaggle\", line 5, in <module>\n",
            "    from kaggle.cli import main\n",
            "  File \"/usr/local/lib/python2.7/dist-packages/kaggle/__init__.py\", line 23, in <module>\n",
            "    api.authenticate()\n",
            "  File \"/usr/local/lib/python2.7/dist-packages/kaggle/api/kaggle_api_extended.py\", line 146, in authenticate\n",
            "    self.config_file, self.config_dir))\n",
            "IOError: Could not find kaggle.json. Make sure it's located in /root/.kaggle. Or use the environment method.\n",
            "Warning: Your Kaggle API key is readable by other users on this system! To fix this, you can run 'chmod 600 /root/.kaggle/kaggle.json'\n",
            "- path is now set to: {/content}\n"
          ],
          "name": "stdout"
        }
      ]
    },
    {
      "cell_type": "code",
      "metadata": {
        "id": "-Efe-XPkmTsD",
        "colab_type": "code",
        "colab": {
          "base_uri": "https://localhost:8080/",
          "height": 90
        },
        "outputId": "144570d3-a8e2-496d-af41-5e8f2f26ee16"
      },
      "source": [
        "!kaggle datasets download -d rhammell/ships-in-satellite-imagery -p /content"
      ],
      "execution_count": 17,
      "outputs": [
        {
          "output_type": "stream",
          "text": [
            "Warning: Your Kaggle API key is readable by other users on this system! To fix this, you can run 'chmod 600 /root/.kaggle/kaggle.json'\n",
            "Downloading ships-in-satellite-imagery.zip to /content\n",
            " 98% 182M/185M [00:04<00:00, 36.8MB/s]\n",
            "100% 185M/185M [00:05<00:00, 38.7MB/s]\n"
          ],
          "name": "stdout"
        }
      ]
    },
    {
      "cell_type": "code",
      "metadata": {
        "id": "44VXdPcNmWcU",
        "colab_type": "code",
        "colab": {
          "base_uri": "https://localhost:8080/",
          "height": 164
        },
        "outputId": "b80f4570-7eff-47c5-cf75-56a5d570c0de"
      },
      "source": [
        "os.listdir()"
      ],
      "execution_count": 24,
      "outputs": [
        {
          "output_type": "execute_result",
          "data": {
            "text/plain": [
              "['.config',\n",
              " 'ships-in-satellite-imagery.zip',\n",
              " '.kaggle',\n",
              " 'drive',\n",
              " 'shipsnet.json',\n",
              " 'shipsnet',\n",
              " 'scenes',\n",
              " 'sample_data']"
            ]
          },
          "metadata": {
            "tags": []
          },
          "execution_count": 24
        }
      ]
    },
    {
      "cell_type": "code",
      "metadata": {
        "id": "2TPWaAGTmYz3",
        "colab_type": "code",
        "colab": {}
      },
      "source": [
        "with zipfile.ZipFile('ships-in-satellite-imagery.zip', 'r') as kaggleZip:\n",
        "      kaggleZip.extractall(os.getcwd())"
      ],
      "execution_count": 0,
      "outputs": []
    },
    {
      "cell_type": "code",
      "metadata": {
        "id": "ao_jtOXjngpI",
        "colab_type": "code",
        "colab": {
          "base_uri": "https://localhost:8080/",
          "height": 225
        },
        "outputId": "7be19629-3581-4646-ab62-fcc700414178"
      },
      "source": [
        "with open('shipsnet.json') as data_file:\n",
        "    kg_ships_df = pd.DataFrame(json.load(data_file))\n",
        "print(kg_ships_df.shape)\n",
        "kg_ships_df.head()"
      ],
      "execution_count": 28,
      "outputs": [
        {
          "output_type": "stream",
          "text": [
            "(4000, 4)\n"
          ],
          "name": "stdout"
        },
        {
          "output_type": "execute_result",
          "data": {
            "text/html": [
              "<div>\n",
              "<style scoped>\n",
              "    .dataframe tbody tr th:only-of-type {\n",
              "        vertical-align: middle;\n",
              "    }\n",
              "\n",
              "    .dataframe tbody tr th {\n",
              "        vertical-align: top;\n",
              "    }\n",
              "\n",
              "    .dataframe thead th {\n",
              "        text-align: right;\n",
              "    }\n",
              "</style>\n",
              "<table border=\"1\" class=\"dataframe\">\n",
              "  <thead>\n",
              "    <tr style=\"text-align: right;\">\n",
              "      <th></th>\n",
              "      <th>data</th>\n",
              "      <th>labels</th>\n",
              "      <th>locations</th>\n",
              "      <th>scene_ids</th>\n",
              "    </tr>\n",
              "  </thead>\n",
              "  <tbody>\n",
              "    <tr>\n",
              "      <th>0</th>\n",
              "      <td>[82, 89, 91, 87, 89, 87, 86, 86, 86, 86, 84, 8...</td>\n",
              "      <td>1</td>\n",
              "      <td>[-118.2254694333423, 33.73803725920789]</td>\n",
              "      <td>20180708_180909_0f47</td>\n",
              "    </tr>\n",
              "    <tr>\n",
              "      <th>1</th>\n",
              "      <td>[76, 75, 67, 62, 68, 72, 73, 73, 68, 69, 69, 6...</td>\n",
              "      <td>1</td>\n",
              "      <td>[-122.33222866289329, 37.7491755586813]</td>\n",
              "      <td>20170705_180816_103e</td>\n",
              "    </tr>\n",
              "    <tr>\n",
              "      <th>2</th>\n",
              "      <td>[125, 127, 129, 130, 126, 125, 129, 133, 132, ...</td>\n",
              "      <td>1</td>\n",
              "      <td>[-118.14283073363218, 33.736016066914175]</td>\n",
              "      <td>20180712_211331_0f06</td>\n",
              "    </tr>\n",
              "    <tr>\n",
              "      <th>3</th>\n",
              "      <td>[102, 99, 113, 106, 96, 102, 105, 105, 103, 10...</td>\n",
              "      <td>1</td>\n",
              "      <td>[-122.34784341495181, 37.76648707436548]</td>\n",
              "      <td>20170609_180756_103a</td>\n",
              "    </tr>\n",
              "    <tr>\n",
              "      <th>4</th>\n",
              "      <td>[78, 76, 74, 78, 79, 79, 79, 82, 86, 85, 83, 8...</td>\n",
              "      <td>1</td>\n",
              "      <td>[-122.34852408322172, 37.75878462398653]</td>\n",
              "      <td>20170515_180653_1007</td>\n",
              "    </tr>\n",
              "  </tbody>\n",
              "</table>\n",
              "</div>"
            ],
            "text/plain": [
              "                                                data  ...             scene_ids\n",
              "0  [82, 89, 91, 87, 89, 87, 86, 86, 86, 86, 84, 8...  ...  20180708_180909_0f47\n",
              "1  [76, 75, 67, 62, 68, 72, 73, 73, 68, 69, 69, 6...  ...  20170705_180816_103e\n",
              "2  [125, 127, 129, 130, 126, 125, 129, 133, 132, ...  ...  20180712_211331_0f06\n",
              "3  [102, 99, 113, 106, 96, 102, 105, 105, 103, 10...  ...  20170609_180756_103a\n",
              "4  [78, 76, 74, 78, 79, 79, 79, 82, 86, 85, 83, 8...  ...  20170515_180653_1007\n",
              "\n",
              "[5 rows x 4 columns]"
            ]
          },
          "metadata": {
            "tags": []
          },
          "execution_count": 28
        }
      ]
    },
    {
      "cell_type": "code",
      "metadata": {
        "id": "LyXqr0wRn8G3",
        "colab_type": "code",
        "colab": {}
      },
      "source": [
        "kg_ships_data = "
      ],
      "execution_count": 0,
      "outputs": []
    },
    {
      "cell_type": "code",
      "metadata": {
        "id": "uT5kX-hWn_F-",
        "colab_type": "code",
        "colab": {
          "base_uri": "https://localhost:8080/",
          "height": 35
        },
        "outputId": "80174e76-57c3-4954-ef9a-952b8197c289"
      },
      "source": [
        "n_spectrum = 3 # color channel (RGB)\n",
        "kg_patch_size = 80\n",
        "kg_ships_patches = np.array(kg_ships_dict['data']\n",
        "             ).astype('uint8'\n",
        "             ).reshape([-1, n_spectrum, kg_patch_size, kg_patch_size])\n",
        "kg_ships_patches = np.moveaxis(kg_ships_patches, 1, 3)\n",
        "kg_ships_patches.shape"
      ],
      "execution_count": 49,
      "outputs": [
        {
          "output_type": "execute_result",
          "data": {
            "text/plain": [
              "int"
            ]
          },
          "metadata": {
            "tags": []
          },
          "execution_count": 49
        }
      ]
    },
    {
      "cell_type": "code",
      "metadata": {
        "id": "pTe-cEyJooMJ",
        "colab_type": "code",
        "colab": {
          "base_uri": "https://localhost:8080/",
          "height": 35
        },
        "outputId": "db6b2bce-6ebe-4724-c264-fe29a0b5b954"
      },
      "source": [
        "kg_ships_patches.min(), kg_ships_patches.max()"
      ],
      "execution_count": 45,
      "outputs": [
        {
          "output_type": "execute_result",
          "data": {
            "text/plain": [
              "(1, 255)"
            ]
          },
          "metadata": {
            "tags": []
          },
          "execution_count": 45
        }
      ]
    },
    {
      "cell_type": "code",
      "metadata": {
        "id": "wj0goacTpfzg",
        "colab_type": "code",
        "colab": {
          "base_uri": "https://localhost:8080/",
          "height": 286
        },
        "outputId": "b8a1b9cd-bacf-4e69-854c-a7a11f1679b7"
      },
      "source": [
        "plt.imshow(kg_ships_patches[100])"
      ],
      "execution_count": 73,
      "outputs": [
        {
          "output_type": "execute_result",
          "data": {
            "text/plain": [
              "<matplotlib.image.AxesImage at 0x7f612fa98780>"
            ]
          },
          "metadata": {
            "tags": []
          },
          "execution_count": 73
        },
        {
          "output_type": "display_data",
          "data": {
            "image/png": "[encoded data removed]",
            "text/plain": [
              "<Figure size 432x288 with 1 Axes>"
            ]
          },
          "metadata": {
            "tags": [],
            "needs_background": "light"
          }
        }
      ]
    },
    {
      "cell_type": "code",
      "metadata": {
        "id": "pxGG14jypmpJ",
        "colab_type": "code",
        "colab": {}
      },
      "source": [
        "kg_patch_new_size = round(kg_patch_size*SCALE_FACTOR)\n",
        "\n",
        "kg_patches_resize = np.zeros([kg_ships_patches.shape[0],\n",
        "                            kg_patch_new_size,\n",
        "                            kg_patch_new_size,\n",
        "                            kg_ships_patches.shape[3]])"
      ],
      "execution_count": 0,
      "outputs": []
    },
    {
      "cell_type": "code",
      "metadata": {
        "id": "UWQs6KIzsTAd",
        "colab_type": "code",
        "colab": {}
      },
      "source": [
        "for img in range(kg_ships_patches.shape[0]):\n",
        "  kg_patches_resize[img] = resize(kg_ships_patches[img], [kg_patch_new_size, kg_patch_new_size])"
      ],
      "execution_count": 0,
      "outputs": []
    },
    {
      "cell_type": "code",
      "metadata": {
        "id": "qsqpvmafrNsl",
        "colab_type": "code",
        "colab": {
          "base_uri": "https://localhost:8080/",
          "height": 283
        },
        "outputId": "2d90a875-3272-4753-9c27-01067ccbb0a2"
      },
      "source": [
        "kg_patches_resize.shape, plt.imshow(kg_patches_resize[100])"
      ],
      "execution_count": 72,
      "outputs": [
        {
          "output_type": "execute_result",
          "data": {
            "text/plain": [
              "((4000, 24, 24, 3), <matplotlib.image.AxesImage at 0x7f612fac4438>)"
            ]
          },
          "metadata": {
            "tags": []
          },
          "execution_count": 72
        },
        {
          "output_type": "display_data",
          "data": {
            "image/png": "[encoded data removed]",
            "text/plain": [
              "<Figure size 432x288 with 1 Axes>"
            ]
          },
          "metadata": {
            "tags": [],
            "needs_background": "light"
          }
        }
      ]
    },
    {
      "cell_type": "markdown",
      "metadata": {
        "id": "hf2XOgCEq7nn",
        "colab_type": "text"
      },
      "source": [
        "# Create Sentinel-2 Patches"
      ]
    },
    {
      "cell_type": "code",
      "metadata": {
        "id": "PdzlzTvhq9ea",
        "colab_type": "code",
        "colab": {}
      },
      "source": [
        "# load ship points and scene\n",
        "scene_name = sceneMeta.title[0] # \n",
        "ship_points = gpd.read_file(DRIVE_PATH+scene_name+'_SHIPS.geojson')\n",
        "sat_img = rio.open(scene_name+'.jp2')"
      ],
      "execution_count": 0,
      "outputs": []
    },
    {
      "cell_type": "code",
      "metadata": {
        "id": "dzdJ6sYiLuug",
        "colab_type": "code",
        "outputId": "ba50f3f4-785c-474b-c9db-c1bc50c78435",
        "colab": {
          "base_uri": "https://localhost:8080/",
          "height": 35
        }
      },
      "source": [
        "sat_img.count#, show(sat_img)"
      ],
      "execution_count": 0,
      "outputs": [
        {
          "output_type": "execute_result",
          "data": {
            "text/plain": [
              "3"
            ]
          },
          "metadata": {
            "tags": []
          },
          "execution_count": 21
        }
      ]
    },
    {
      "cell_type": "code",
      "metadata": {
        "id": "9G7Sm8VVyvOr",
        "colab_type": "code",
        "outputId": "0399f889-a607-4fc0-bdc5-4972a02c61ad",
        "colab": {
          "base_uri": "https://localhost:8080/",
          "height": 35
        }
      },
      "source": [
        "sentinel_patch_classes = patch_intersects_ship_buffers(ships = ship_points, \n",
        "                                                       img=sat_img, \n",
        "                                                       patch_size=PATCH_SIZE, \n",
        "                                                       step_size=STEP_SIZE)"
      ],
      "execution_count": 0,
      "outputs": [
        {
          "output_type": "stream",
          "text": [
            "100% (301401 of 301401) |################| Elapsed Time: 0:10:08 Time:  0:10:08\n"
          ],
          "name": "stderr"
        }
      ]
    },
    {
      "cell_type": "code",
      "metadata": {
        "id": "m-Aa_T-Qyvut",
        "colab_type": "code",
        "outputId": "949d511d-d8a4-4cbc-d36f-682bb75a76d4",
        "colab": {
          "base_uri": "https://localhost:8080/",
          "height": 35
        }
      },
      "source": [
        "sentinel_patches = create_patches(img=sat_img, \n",
        "                                  patch_size=PATCH_SIZE, \n",
        "                                  step_size=STEP_SIZE)"
      ],
      "execution_count": 0,
      "outputs": [
        {
          "output_type": "stream",
          "text": [
            "100% (301401 of 301401) |################| Elapsed Time: 0:01:01 Time:  0:01:01\n"
          ],
          "name": "stderr"
        }
      ]
    },
    {
      "cell_type": "code",
      "metadata": {
        "id": "cwu0YhP_w6LB",
        "colab_type": "code",
        "outputId": "1dba7ce7-9b2f-4f3b-eaf5-e573e3467316",
        "colab": {
          "base_uri": "https://localhost:8080/",
          "height": 35
        }
      },
      "source": [
        "sentinel_patches.shape"
      ],
      "execution_count": 0,
      "outputs": [
        {
          "output_type": "execute_result",
          "data": {
            "text/plain": [
              "(300304, 40, 40, 3)"
            ]
          },
          "metadata": {
            "tags": []
          },
          "execution_count": 24
        }
      ]
    },
    {
      "cell_type": "code",
      "metadata": {
        "id": "RL9QB02Uk-a6",
        "colab_type": "code",
        "outputId": "0313a0cb-0006-4ea9-9ac8-7653f4631528",
        "colab": {
          "base_uri": "https://localhost:8080/",
          "height": 281
        }
      },
      "source": [
        "plot_patch(img=sat_img,\n",
        "           x=sentinel_patch_classes.x[200],\n",
        "           y=sentinel_patch_classes.y[200],\n",
        "           patch_size=PATCH_SIZE, \n",
        "           step_size=STEP_SIZE)"
      ],
      "execution_count": 0,
      "outputs": [
        {
          "output_type": "display_data",
          "data": {
            "image/png": "[encoded data removed]",
            "text/plain": [
              "<Figure size 432x288 with 1 Axes>"
            ]
          },
          "metadata": {
            "tags": [],
            "needs_background": "light"
          }
        }
      ]
    },
    {
      "cell_type": "code",
      "metadata": {
        "id": "wJem4QdKYBAs",
        "colab_type": "code",
        "outputId": "bc912afd-fe2d-443e-a4a9-6df329a363a6",
        "colab": {
          "base_uri": "https://localhost:8080/",
          "height": 285
        }
      },
      "source": [
        "plt.imshow(sentinel_patches[205])"
      ],
      "execution_count": 0,
      "outputs": [
        {
          "output_type": "execute_result",
          "data": {
            "text/plain": [
              "<matplotlib.image.AxesImage at 0x7f959eadba58>"
            ]
          },
          "metadata": {
            "tags": []
          },
          "execution_count": 27
        },
        {
          "output_type": "display_data",
          "data": {
            "image/png": "[encoded data removed]",
            "text/plain": [
              "<Figure size 432x288 with 1 Axes>"
            ]
          },
          "metadata": {
            "tags": [],
            "needs_background": "light"
          }
        }
      ]
    },
    {
      "cell_type": "markdown",
      "metadata": {
        "id": "ZLpOjEDF8tX7",
        "colab_type": "text"
      },
      "source": [
        "# Prepare Data"
      ]
    },
    {
      "cell_type": "code",
      "metadata": {
        "id": "RfPIHz_4_23X",
        "colab_type": "code",
        "colab": {}
      },
      "source": [
        "x_train, x_test, y_train, y_test = train_test_split(kg_patches_resize, \n",
        "                                                    kg_ships_df.labels, \n",
        "                                                    stratify=kg_ships_df.labels, \n",
        "                                                    test_size=0.5, \n",
        "                                                    random_state=42)\n",
        "np.unique(y_train, return_counts=True), np.unique(y_test, return_counts=True)"
      ],
      "execution_count": 0,
      "outputs": []
    },
    {
      "cell_type": "code",
      "metadata": {
        "id": "KnFvzwyzYE3G",
        "colab_type": "code",
        "colab": {}
      },
      "source": [
        "datagen = ImageDataGenerator(\n",
        "    rotation_range=180,\n",
        "    horizontal_flip=True,\n",
        "    vertical_flip=True)"
      ],
      "execution_count": 0,
      "outputs": []
    },
    {
      "cell_type": "code",
      "metadata": {
        "id": "nnNi7a58BGJi",
        "colab_type": "code",
        "colab": {}
      },
      "source": [
        "datagen.fit(x_train)"
      ],
      "execution_count": 0,
      "outputs": []
    },
    {
      "cell_type": "code",
      "metadata": {
        "id": "nnoYLpn5B8BZ",
        "colab_type": "code",
        "colab": {
          "base_uri": "https://localhost:8080/",
          "height": 35
        },
        "outputId": "7e2d4da8-914a-476c-b08b-fcb2725e0c0a"
      },
      "source": [
        "model.fit_generator(datagen.flow(x_train, y_train, batch_size=32),\n",
        "                    steps_per_epoch=len(x_train) / 32, epochs=epochs)"
      ],
      "execution_count": 88,
      "outputs": [
        {
          "output_type": "execute_result",
          "data": {
            "text/plain": [
              "<keras.preprocessing.image.ImageDataGenerator at 0x7f60f12c1ac8>"
            ]
          },
          "metadata": {
            "tags": []
          },
          "execution_count": 88
        }
      ]
    },
    {
      "cell_type": "code",
      "metadata": {
        "id": "qWihIrypB9Ps",
        "colab_type": "code",
        "colab": {}
      },
      "source": [
        ""
      ],
      "execution_count": 0,
      "outputs": []
    }
  ]
}