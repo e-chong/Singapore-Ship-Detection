{
  "nbformat": 4,
  "nbformat_minor": 0,
  "metadata": {
    "colab": {
      "name": "Copy of Downloads-plus-patches-train.ipynb",
      "provenance": [],
      "collapsed_sections": [],
      "machine_shape": "hm",
      "include_colab_link": true
    },
    "kernelspec": {
      "name": "python3",
      "display_name": "Python 3"
    }
  },
  "cells": [
    {
      "cell_type": "markdown",
      "metadata": {
        "id": "view-in-github",
        "colab_type": "text"
      },
      "source": [
        "<a href=\"https://colab.research.google.com/github/e-chong/Singapore-Ship-Detection/blob/master/Downloads_plus_patches_train.ipynb\" target=\"_parent\"><img src=\"https://colab.research.google.com/assets/colab-badge.svg\" alt=\"Open In Colab\"/></a>"
      ]
    },
    {
      "cell_type": "markdown",
      "metadata": {
        "id": "Vge05pS9qtoz",
        "colab_type": "text"
      },
      "source": [
        "# Setup Environment"
      ]
    },
    {
      "cell_type": "code",
      "metadata": {
        "id": "nLt3Oaheqspr",
        "colab_type": "code",
        "colab": {}
      },
      "source": [
        "# install libraries\n",
        "\n",
        "# suppress output\n",
        "%%capture \n",
        "\n",
        "!pip install rasterio\n",
        "!pip install geopandas\n",
        "!pip install sentinelsat\n",
        "!pip install glymur\n",
        "!pip install python-geotiepoints\n",
        "!pip install pyspectral\n",
        "!pip install progressbar2\n",
        "!pip install kaggle\n",
        "!pip install tifffile"
      ],
      "execution_count": 0,
      "outputs": []
    },
    {
      "cell_type": "code",
      "metadata": {
        "id": "6gasTM7Mu7lk",
        "colab_type": "code",
        "colab": {
          "base_uri": "https://localhost:8080/",
          "height": 35
        },
        "outputId": "8418bbb9-93b2-45fb-ce72-6c9bddd23956"
      },
      "source": [
        "%tensorflow_version 1.x\n",
        "%matplotlib inline"
      ],
      "execution_count": 2,
      "outputs": [
        {
          "output_type": "stream",
          "text": [
            "TensorFlow 1.x selected.\n"
          ],
          "name": "stdout"
        }
      ]
    },
    {
      "cell_type": "code",
      "metadata": {
        "id": "6pLKc0YIqwnb",
        "colab_type": "code",
        "colab": {
          "base_uri": "https://localhost:8080/",
          "height": 35
        },
        "outputId": "be48b41b-a08c-426d-b734-ea04f009fb22"
      },
      "source": [
        "# Base dependencies\n",
        "import numpy as np\n",
        "import pandas as pd\n",
        "import geopandas as gpd # vector spatial operations\n",
        "import rasterio as rio # raster spatial operations\n",
        "import json\n",
        "\n",
        "# Plotting\n",
        "from rasterio.plot import show #convenience wrapper for pyplot.imshow for RGB and 1 band images\n",
        "import matplotlib.pyplot as plt\n",
        "\n",
        "#Sentinel-2 I/O\n",
        "from sentinelsat import SentinelAPI\n",
        "import requests, zipfile, io, os, shutil # downloading and extracting zipfolders\n",
        "\n",
        "# Sentinel-2 create patches\n",
        "from shapely.geometry import Point # vector geometries\n",
        "import time\n",
        "import progressbar\n",
        "\n",
        "# Resize Kaggle patches\n",
        "from skimage.transform import resize\n",
        "import tifffile as tiff\n",
        "import scipy.ndimage\n",
        "\n",
        "#data preparation\n",
        "from sklearn.model_selection import train_test_split\n",
        "from sklearn.preprocessing import LabelEncoder\n",
        "from keras.preprocessing.image import ImageDataGenerator\n"
      ],
      "execution_count": 3,
      "outputs": [
        {
          "output_type": "stream",
          "text": [
            "Using TensorFlow backend.\n"
          ],
          "name": "stderr"
        }
      ]
    },
    {
      "cell_type": "code",
      "metadata": {
        "id": "nGMQwewktfst",
        "colab_type": "code",
        "outputId": "5e400851-026f-44f5-cf19-a45ed38ad7c8",
        "colab": {
          "base_uri": "https://localhost:8080/",
          "height": 35
        }
      },
      "source": [
        "from google.colab import drive\n",
        "drive.mount('/content/drive/')"
      ],
      "execution_count": 4,
      "outputs": [
        {
          "output_type": "stream",
          "text": [
            "Drive already mounted at /content/drive/; to attempt to forcibly remount, call drive.mount(\"/content/drive/\", force_remount=True).\n"
          ],
          "name": "stdout"
        }
      ]
    },
    {
      "cell_type": "markdown",
      "metadata": {
        "id": "XmcUNMRKqxCP",
        "colab_type": "text"
      },
      "source": [
        "# Define Functions"
      ]
    },
    {
      "cell_type": "code",
      "metadata": {
        "id": "iwJqDvFHJjo7",
        "colab_type": "code",
        "colab": {}
      },
      "source": [
        "# Extracts RGB 3-channel image from SAFE directory and saves it in the working directory \n",
        "# and returns the path to the new file\n",
        "def extract_rgb_jp2(safePath, sceneTitle):\n",
        "  for subdirs, dirs, files in os.walk(safePath):\n",
        "    for file in files:\n",
        "      if file.endswith('_TCI.jp2'):\n",
        "        rgbPath = os.path.join(subdirs, file)\n",
        "        destPath = sceneTitle+'.jp2'\n",
        "        print(f'Copying {file} to {destPath}')\n",
        "        shutil.copy2(rgbPath, destPath)\n",
        "        return destPath"
      ],
      "execution_count": 0,
      "outputs": []
    },
    {
      "cell_type": "code",
      "metadata": {
        "id": "l5p2ZHlnqzO4",
        "colab_type": "code",
        "colab": {}
      },
      "source": [
        "# returns matrix of [n ships, patch_size, patch_size]\n",
        "def create_ship_patches(ships, img, patch_size=50):\n",
        "  coordinates = list(zip(ships.geometry.x, ships.geometry.y))\n",
        "  with progressbar.ProgressBar(max_value=len(ships.index)) as bar: # creates progress bar\n",
        "    patch_list = np.zeros([len(ships.index), patch_size, patch_size, len(img.indexes)])\n",
        "    for i, (lon, lat) in enumerate(coordinates): # Loop through your list of coords\n",
        "      py, px = img.index(lon, lat) # Get pixel coordinates from map coordinates\n",
        "      window = rio.windows.Window(px - patch_size//2, py - patch_size//2, patch_size, patch_size) # Build an NxN window\n",
        "      patch = img.read(window=window) # clip is a nbands * patch_size * patch_size numpy array\n",
        "      patch_list[i] = np.transpose(patch, (1,2,0)) # transpose to [patch_size, patch_size, n bands]\n",
        "      bar.update(i)\n",
        "  return patch_list.astype(int)"
      ],
      "execution_count": 0,
      "outputs": []
    },
    {
      "cell_type": "code",
      "metadata": {
        "id": "aN4-ti1Hvasr",
        "colab_type": "code",
        "colab": {}
      },
      "source": [
        "# creates patches for use in classifying ship or no ship\n",
        "def create_patches(img, patch_size=50, step_size=30):\n",
        "  n_patches = len(range(0,img.height, step_size)) * len(range(0,img.width, step_size))\n",
        "  patch_list = []\n",
        "  index = 0\n",
        "  with progressbar.ProgressBar(max_value=n_patches) as bar: # creates progress bar\n",
        "    for y in range(0,img.height, step_size): # iterate across image column-wise\n",
        "      for x in range(0,img.width, step_size): # iterate across image row-wise\n",
        "        window = rio.windows.Window(x,y, patch_size, patch_size)\n",
        "        if window.col_off+window.width > img.width or window.row_off+window.height > img.height:\n",
        "          pass\n",
        "        else:\n",
        "          # Read the data in the window\n",
        "          patch = img.read(window=window) # patch is a nbands * patch_size * patch_size numpy array \n",
        "          patch_list.append(np.transpose(patch, (1,2,0))) # transpose to [patch_size, patch_size, n bands]\n",
        "          index += 1\n",
        "          bar.update(index)\n",
        "  patch_array = np.stack(patch_list, axis=0)\n",
        "  return patch_array.astype(int)"
      ],
      "execution_count": 0,
      "outputs": []
    },
    {
      "cell_type": "code",
      "metadata": {
        "id": "4YLIoORgOWfm",
        "colab_type": "code",
        "colab": {}
      },
      "source": [
        "# creates patches that correspond to a sample\n",
        "def create_patches_sample(img, \n",
        "                          sample, # the output of `patch_intersects_ship_buffers()`\n",
        "                          patch_size=50, \n",
        "                          step_size=30):\n",
        "  n_patches = len(range(0,img.height, step_size)) * len(range(0,img.width, step_size))\n",
        "  patch_list = []\n",
        "  index = 0\n",
        "  with progressbar.ProgressBar(max_value=n_patches) as bar: # creates progress bar\n",
        "    for y in range(0,img.height, step_size): # iterate across image column-wise\n",
        "      for x in range(0,img.width, step_size): # iterate across image row-wise\n",
        "        window = rio.windows.Window(x,y, patch_size, patch_size)\n",
        "        if window.col_off+window.width > img.width or window.row_off+window.height > img.height:\n",
        "          # index += 1\n",
        "          pass\n",
        "        elif index not in sample.index:\n",
        "          index += 1\n",
        "          bar.update(index)\n",
        "        else:\n",
        "          # Read the data in the window\n",
        "          patch = img.read(window=window) # patch is a nbands * patch_size * patch_size numpy array \n",
        "          patch_list.append(np.transpose(patch, (1,2,0))) # transpose to [patch_size, patch_size, n bands]\n",
        "          index += 1\n",
        "          bar.update(index)\n",
        "  patch_array = np.stack(patch_list, axis=0)\n",
        "  return patch_array.astype(int)"
      ],
      "execution_count": 0,
      "outputs": []
    },
    {
      "cell_type": "code",
      "metadata": {
        "id": "Op83RdI0va1S",
        "colab_type": "code",
        "colab": {}
      },
      "source": [
        "# returns boolean list of whether patches intersect with any ships\n",
        "def patch_intersects_ship_buffers(ships, img, patch_size=50, step_size=30):\n",
        "  n_patches = (len(range(0,img.height, step_size)) * len(range(0,img.width, step_size)))\n",
        "  isShip_list = [] #list to hold all the patch locations\n",
        "  buffer_list = []\n",
        "  x_list = []\n",
        "  y_list = []\n",
        "  index = 0\n",
        "\n",
        "  with progressbar.ProgressBar(max_value=n_patches) as bar: # creates progress bar\n",
        "    for y in range(0,img.height, step_size): # iterate across image column-wise\n",
        "      for x in range(0,img.width, step_size): # iterate across image row-wise\n",
        "        window = rio.windows.Window(x,y, patch_size, patch_size) #get patch window\n",
        "        if window.col_off+window.width > img.width or window.row_off+window.height > img.height:\n",
        "          pass #skip patches that extend off the edge so they have the wrong shape\n",
        "        else:\n",
        "          #create centroid point\n",
        "          centroid = Point(img.transform *(window.col_off+patch_size/2, window.row_off+patch_size/2))\n",
        "          buffer = centroid.buffer(img.transform[0]*step_size/1.5)\n",
        "          buffer_list.append(buffer)\n",
        "          isShip = np.any(ships.intersects(buffer)) #intersect ships with polygon and check if any are positive\n",
        "          isShip_list.append(isShip) #append result to list\n",
        "          x_list.append(x),\n",
        "          y_list.append(y)\n",
        "          index += 1\n",
        "          bar.update(index)\n",
        "  results = pd.DataFrame({'isShip':isShip_list, 'x':x_list, 'y':y_list, 'patch_size':patch_size})\n",
        "  return results"
      ],
      "execution_count": 0,
      "outputs": []
    },
    {
      "cell_type": "code",
      "metadata": {
        "id": "B4Qeset-S01e",
        "colab_type": "code",
        "colab": {}
      },
      "source": [
        "# plots a patch\n",
        "def plot_patch(img, x, y, patch_size=50, step_size=30):\n",
        "  window = rio.windows.Window(x,y, patch_size, patch_size)\n",
        "  patch = img.read(window=window)\n",
        "  show(patch, title=f'x: {x}, y: {y}')"
      ],
      "execution_count": 0,
      "outputs": []
    },
    {
      "cell_type": "markdown",
      "metadata": {
        "id": "jHugdnAiqzvF",
        "colab_type": "text"
      },
      "source": [
        "# Define Parameters"
      ]
    },
    {
      "cell_type": "code",
      "metadata": {
        "id": "xi3m9osct2hP",
        "colab_type": "code",
        "colab": {}
      },
      "source": [
        "DRIVE_PATH = '/content/drive/My Drive/MUSA-650-Final-Project/'"
      ],
      "execution_count": 0,
      "outputs": []
    },
    {
      "cell_type": "code",
      "metadata": {
        "id": "s0LwDd5ZsuEo",
        "colab_type": "code",
        "colab": {}
      },
      "source": [
        "#Load param file\n",
        "with open(DRIVE_PATH+'params.json', 'r') as file:\n",
        "    params = json.load(file)\n",
        "    \n",
        "    SENTINEL_USER = params['SENTINEL_USER']\n",
        "    SENTINEL_PWD = params['SENTINEL_PWD']\n",
        "    KAGGLE_USER = params['KAGGLE_USER']\n",
        "    KAGGLE_KEY = params['KAGGLE_KEY']"
      ],
      "execution_count": 0,
      "outputs": []
    },
    {
      "cell_type": "code",
      "metadata": {
        "id": "emn3G2QEq2aM",
        "colab_type": "code",
        "colab": {}
      },
      "source": [
        "# unique Sentinel-2 tile id for images covering Singapore\n",
        "TILE_ID = \"48NUG\" "
      ],
      "execution_count": 0,
      "outputs": []
    },
    {
      "cell_type": "code",
      "metadata": {
        "id": "1kLoJJ3irUx9",
        "colab_type": "code",
        "colab": {}
      },
      "source": [
        "# Patch parameters\n",
        "PATCH_SIZE = 30\n",
        "STEP_SIZE = 12\n",
        "SCALE_FACTOR = 3.7/10 #PlanetScope GSD / Sentinel-2 GSD"
      ],
      "execution_count": 0,
      "outputs": []
    },
    {
      "cell_type": "markdown",
      "metadata": {
        "id": "3ci93r1nq3Vw",
        "colab_type": "text"
      },
      "source": [
        "# Download Data"
      ]
    },
    {
      "cell_type": "markdown",
      "metadata": {
        "id": "JSC1hKJgzhXr",
        "colab_type": "text"
      },
      "source": [
        "## Sentinel-2"
      ]
    },
    {
      "cell_type": "code",
      "metadata": {
        "id": "p_dPKtgaq687",
        "colab_type": "code",
        "outputId": "090708f0-cfb3-4fd6-d3ec-83fbcf09a805",
        "colab": {
          "base_uri": "https://localhost:8080/",
          "height": 289
        }
      },
      "source": [
        "# Sentinel API Query\n",
        "api = SentinelAPI(SENTINEL_USER, SENTINEL_PWD, 'https://scihub.copernicus.eu/dhus')\n",
        "\n",
        "scenes = api.to_geodataframe(api.query(tileid=TILE_ID,\n",
        "                                             date=('20100101','NOW'),\n",
        "                                             platformname='Sentinel-2',\n",
        "                                             cloudcoverpercentage=(0, 6)))\n",
        "#get full scene metadata\n",
        "tempList = list()\n",
        "for uuid in scenes.uuid:\n",
        "  tempList.append(api.get_product_odata(uuid, full=True))\n",
        "\n",
        "sceneMeta = pd.DataFrame(tempList)\n",
        "sceneMeta = sceneMeta.loc[sceneMeta['Online'] == True] # filter out images that are in Long Term Archive and have a 30 minute throttle to download\n",
        "\n",
        "sceneMeta"
      ],
      "execution_count": 14,
      "outputs": [
        {
          "output_type": "stream",
          "text": [
            "/usr/local/lib/python3.6/dist-packages/pyproj/crs/crs.py:53: FutureWarning: '+init=<authority>:<code>' syntax is deprecated. '<authority>:<code>' is the preferred initialization method. When making the change, be mindful of axis order changes: https://pyproj4.github.io/pyproj/stable/gotchas.html#axis-order-changes-in-proj-6\n",
            "  return _prepare_from_string(\" \".join(pjargs))\n"
          ],
          "name": "stderr"
        },
        {
          "output_type": "execute_result",
          "data": {
            "text/html": [
              "<div>\n",
              "<style scoped>\n",
              "    .dataframe tbody tr th:only-of-type {\n",
              "        vertical-align: middle;\n",
              "    }\n",
              "\n",
              "    .dataframe tbody tr th {\n",
              "        vertical-align: top;\n",
              "    }\n",
              "\n",
              "    .dataframe thead th {\n",
              "        text-align: right;\n",
              "    }\n",
              "</style>\n",
              "<table border=\"1\" class=\"dataframe\">\n",
              "  <thead>\n",
              "    <tr style=\"text-align: right;\">\n",
              "      <th></th>\n",
              "      <th>id</th>\n",
              "      <th>title</th>\n",
              "      <th>size</th>\n",
              "      <th>md5</th>\n",
              "      <th>date</th>\n",
              "      <th>footprint</th>\n",
              "      <th>url</th>\n",
              "      <th>Online</th>\n",
              "      <th>Creation Date</th>\n",
              "      <th>Ingestion Date</th>\n",
              "      <th>Cloud cover percentage</th>\n",
              "      <th>Datatake sensing start</th>\n",
              "      <th>Date</th>\n",
              "      <th>Degraded ancillary data percentage</th>\n",
              "      <th>Degraded MSI data percentage</th>\n",
              "      <th>Filename</th>\n",
              "      <th>Footprint</th>\n",
              "      <th>Format</th>\n",
              "      <th>Format correctness</th>\n",
              "      <th>General quality</th>\n",
              "      <th>Generation time</th>\n",
              "      <th>Geometric quality</th>\n",
              "      <th>Identifier</th>\n",
              "      <th>Instrument</th>\n",
              "      <th>Instrument abbreviation</th>\n",
              "      <th>Instrument mode</th>\n",
              "      <th>Instrument name</th>\n",
              "      <th>JTS footprint</th>\n",
              "      <th>Mission datatake id</th>\n",
              "      <th>NSSDC identifier</th>\n",
              "      <th>Orbit number (start)</th>\n",
              "      <th>Pass direction</th>\n",
              "      <th>Platform serial identifier</th>\n",
              "      <th>Processing baseline</th>\n",
              "      <th>Processing level</th>\n",
              "      <th>Product type</th>\n",
              "      <th>Radiometric quality</th>\n",
              "      <th>Relative orbit (start)</th>\n",
              "      <th>Satellite</th>\n",
              "      <th>Satellite name</th>\n",
              "      <th>Satellite number</th>\n",
              "      <th>Sensing start</th>\n",
              "      <th>Sensing stop</th>\n",
              "      <th>Sensor quality</th>\n",
              "      <th>Size</th>\n",
              "      <th>Tile Identifier</th>\n",
              "      <th>Tile Identifier horizontal order</th>\n",
              "      <th>Level-1C PDI Identifier</th>\n",
              "      <th>Datastrip identifier</th>\n",
              "      <th>Granule identifier</th>\n",
              "    </tr>\n",
              "  </thead>\n",
              "  <tbody>\n",
              "    <tr>\n",
              "      <th>0</th>\n",
              "      <td>8345c17f-dd76-4398-b4bf-2eb708631b07</td>\n",
              "      <td>S2A_MSIL1C_20191227T032131_N0208_R118_T48NUG_2...</td>\n",
              "      <td>784125118</td>\n",
              "      <td>FCD2A37B4A069C5342299AD2AEE90B41</td>\n",
              "      <td>2019-12-27 03:21:31.024</td>\n",
              "      <td>POLYGON((103.20205689083804 1.808922187860351,...</td>\n",
              "      <td>https://scihub.copernicus.eu/dhus/odata/v1/Pro...</td>\n",
              "      <td>True</td>\n",
              "      <td>2019-12-27 08:04:08.105</td>\n",
              "      <td>2019-12-27 08:03:15.620</td>\n",
              "      <td>3.6098</td>\n",
              "      <td>2019-12-27 03:21:31.024</td>\n",
              "      <td>2019-12-27 03:21:31.024</td>\n",
              "      <td>0.0</td>\n",
              "      <td>0</td>\n",
              "      <td>S2A_MSIL1C_20191227T032131_N0208_R118_T48NUG_2...</td>\n",
              "      <td>&lt;gml:Polygon srsName=\"http://www.opengis.net/g...</td>\n",
              "      <td>SAFE</td>\n",
              "      <td>PASSED</td>\n",
              "      <td>PASSED</td>\n",
              "      <td>2019-12-27 06:07:36</td>\n",
              "      <td>PASSED</td>\n",
              "      <td>S2A_MSIL1C_20191227T032131_N0208_R118_T48NUG_2...</td>\n",
              "      <td>MSI</td>\n",
              "      <td>MSI</td>\n",
              "      <td>INS-NOBS</td>\n",
              "      <td>Multi-Spectral Instrument</td>\n",
              "      <td>MULTIPOLYGON (((103.2027660714231 0.8160247595...</td>\n",
              "      <td>GS2A_20191227T032131_023567_N02.08</td>\n",
              "      <td>2015-028A</td>\n",
              "      <td>23567</td>\n",
              "      <td>DESCENDING</td>\n",
              "      <td>Sentinel-2A</td>\n",
              "      <td>2.08</td>\n",
              "      <td>Level-1C</td>\n",
              "      <td>S2MSI1C</td>\n",
              "      <td>PASSED</td>\n",
              "      <td>118</td>\n",
              "      <td>Sentinel-2</td>\n",
              "      <td>Sentinel-2</td>\n",
              "      <td>A</td>\n",
              "      <td>2019-12-27 03:21:31.024</td>\n",
              "      <td>2019-12-27 03:21:31.024</td>\n",
              "      <td>PASSED</td>\n",
              "      <td>747.76 MB</td>\n",
              "      <td>48NUG</td>\n",
              "      <td>NG48U</td>\n",
              "      <td>S2A_OPER_MSI_L1C_TL_EPAE_20191227T060736_A0235...</td>\n",
              "      <td>NaN</td>\n",
              "      <td>NaN</td>\n",
              "    </tr>\n",
              "    <tr>\n",
              "      <th>1</th>\n",
              "      <td>5d57f964-03cb-4001-a2f2-33f9eba9605e</td>\n",
              "      <td>S2B_MSIL1C_20190705T031549_N0207_R118_T48NUG_2...</td>\n",
              "      <td>779449455</td>\n",
              "      <td>5E51BCC8A45CF3ADD026433463D37D58</td>\n",
              "      <td>2019-07-05 03:15:49.024</td>\n",
              "      <td>POLYGON((103.20205689083804 1.808922187860351,...</td>\n",
              "      <td>https://scihub.copernicus.eu/dhus/odata/v1/Pro...</td>\n",
              "      <td>True</td>\n",
              "      <td>2019-07-05 10:32:33.443</td>\n",
              "      <td>2019-07-05 09:41:20.667</td>\n",
              "      <td>5.5518</td>\n",
              "      <td>2019-07-05 03:15:49.024</td>\n",
              "      <td>2019-07-05 03:15:49.024</td>\n",
              "      <td>0.0</td>\n",
              "      <td>0</td>\n",
              "      <td>S2B_MSIL1C_20190705T031549_N0207_R118_T48NUG_2...</td>\n",
              "      <td>&lt;gml:Polygon srsName=\"http://www.opengis.net/g...</td>\n",
              "      <td>SAFE</td>\n",
              "      <td>PASSED</td>\n",
              "      <td>PASSED</td>\n",
              "      <td>2019-07-05 06:53:23</td>\n",
              "      <td>PASSED</td>\n",
              "      <td>S2B_MSIL1C_20190705T031549_N0207_R118_T48NUG_2...</td>\n",
              "      <td>MSI</td>\n",
              "      <td>MSI</td>\n",
              "      <td>INS-NOBS</td>\n",
              "      <td>Multi-Spectral Instrument</td>\n",
              "      <td>MULTIPOLYGON (((103.2027660714231 0.8160247595...</td>\n",
              "      <td>GS2B_20190705T031549_012156_N02.07</td>\n",
              "      <td>2017-013A</td>\n",
              "      <td>12156</td>\n",
              "      <td>DESCENDING</td>\n",
              "      <td>Sentinel-2B</td>\n",
              "      <td>2.07</td>\n",
              "      <td>Level-1C</td>\n",
              "      <td>S2MSI1C</td>\n",
              "      <td>PASSED</td>\n",
              "      <td>118</td>\n",
              "      <td>Sentinel-2</td>\n",
              "      <td>Sentinel-2</td>\n",
              "      <td>B</td>\n",
              "      <td>2019-07-05 03:15:49.024</td>\n",
              "      <td>2019-07-05 03:15:49.024</td>\n",
              "      <td>PASSED</td>\n",
              "      <td>743.30 MB</td>\n",
              "      <td>48NUG</td>\n",
              "      <td>NG48U</td>\n",
              "      <td>S2B_OPER_MSI_L1C_TL_SGS__20190705T065323_A0121...</td>\n",
              "      <td>NaN</td>\n",
              "      <td>NaN</td>\n",
              "    </tr>\n",
              "  </tbody>\n",
              "</table>\n",
              "</div>"
            ],
            "text/plain": [
              "                                     id  ... Granule identifier\n",
              "0  8345c17f-dd76-4398-b4bf-2eb708631b07  ...                NaN\n",
              "1  5d57f964-03cb-4001-a2f2-33f9eba9605e  ...                NaN\n",
              "\n",
              "[2 rows x 50 columns]"
            ]
          },
          "metadata": {
            "tags": []
          },
          "execution_count": 14
        }
      ]
    },
    {
      "cell_type": "code",
      "metadata": {
        "id": "BH-gvcYLvsrw",
        "colab_type": "code",
        "outputId": "56f6f3ea-8cf8-4b85-dc76-3ecf9f56c42c",
        "colab": {
          "base_uri": "https://localhost:8080/",
          "height": 124
        }
      },
      "source": [
        "# download sentinel images available online\n",
        "for index, row in sceneMeta.iterrows():\n",
        "  uuid = row['id']\n",
        "  title = row['title']\n",
        "  filename = row['Filename']\n",
        "  print(f'Downloading {title}')\n",
        "  api.download(uuid)"
      ],
      "execution_count": 15,
      "outputs": [
        {
          "output_type": "stream",
          "text": [
            "Downloading S2A_MSIL1C_20191227T032131_N0208_R118_T48NUG_20191227T060736\n"
          ],
          "name": "stdout"
        },
        {
          "output_type": "stream",
          "text": [
            "Downloading: 100%|██████████| 784M/784M [00:41<00:00, 18.9MB/s]\n",
            "MD5 checksumming: 100%|██████████| 784M/784M [00:01<00:00, 430MB/s]\n"
          ],
          "name": "stderr"
        },
        {
          "output_type": "stream",
          "text": [
            "Downloading S2B_MSIL1C_20190705T031549_N0207_R118_T48NUG_20190705T065323\n"
          ],
          "name": "stdout"
        },
        {
          "output_type": "stream",
          "text": [
            "Downloading: 100%|██████████| 779M/779M [00:29<00:00, 26.3MB/s]\n",
            "MD5 checksumming: 100%|██████████| 779M/779M [00:01<00:00, 426MB/s]\n"
          ],
          "name": "stderr"
        }
      ]
    },
    {
      "cell_type": "code",
      "metadata": {
        "id": "1y4QRir2wI8S",
        "colab_type": "code",
        "outputId": "98fccd94-0bb4-4070-b7ac-ae50f42f97e0",
        "colab": {
          "base_uri": "https://localhost:8080/",
          "height": 53
        }
      },
      "source": [
        "# Unzip folders\n",
        "# this creates SAFE files/directories which are explained here: https://sentinel.esa.int/web/sentinel/user-guides/sentinel-2-msi/data-formats\n",
        "for index, row in sceneMeta.iterrows(): \n",
        "    title = row['title']\n",
        "    filename = row['Filename']\n",
        "    print(f'Unzipping {title}')\n",
        "    with zipfile.ZipFile(title+'.zip', 'r') as safezip:\n",
        "      safezip.extractall(filename)"
      ],
      "execution_count": 16,
      "outputs": [
        {
          "output_type": "stream",
          "text": [
            "Unzipping S2A_MSIL1C_20191227T032131_N0208_R118_T48NUG_20191227T060736\n",
            "Unzipping S2B_MSIL1C_20190705T031549_N0207_R118_T48NUG_20190705T065323\n"
          ],
          "name": "stdout"
        }
      ]
    },
    {
      "cell_type": "code",
      "metadata": {
        "id": "VL-GqgeXIXyG",
        "colab_type": "code",
        "outputId": "6e4ff8d9-307b-4d12-ebba-efc6b49f6c37",
        "colab": {
          "base_uri": "https://localhost:8080/",
          "height": 71
        }
      },
      "source": [
        "image_paths = []\n",
        "for index, row in sceneMeta.iterrows():\n",
        "  image_paths.append(extract_rgb_jp2(row['Filename'], row['title']))\n",
        "print(image_paths)"
      ],
      "execution_count": 17,
      "outputs": [
        {
          "output_type": "stream",
          "text": [
            "Copying T48NUG_20191227T032131_TCI.jp2 to S2A_MSIL1C_20191227T032131_N0208_R118_T48NUG_20191227T060736.jp2\n",
            "Copying T48NUG_20190705T031549_TCI.jp2 to S2B_MSIL1C_20190705T031549_N0207_R118_T48NUG_20190705T065323.jp2\n",
            "['S2A_MSIL1C_20191227T032131_N0208_R118_T48NUG_20191227T060736.jp2', 'S2B_MSIL1C_20190705T031549_N0207_R118_T48NUG_20190705T065323.jp2']\n"
          ],
          "name": "stdout"
        }
      ]
    },
    {
      "cell_type": "code",
      "metadata": {
        "id": "VlJV1ccFwNZD",
        "colab_type": "code",
        "outputId": "4fd375c7-4759-486a-e64d-5a31008ef8ae",
        "colab": {
          "base_uri": "https://localhost:8080/",
          "height": 88
        }
      },
      "source": [
        "# delete unneeded files to free up space\n",
        "# eventually maybe move into extraction for-loops\n",
        "for name in sceneMeta.title:\n",
        "  if os.path.exists(name+'.zip'):\n",
        "    print(f'Deleting {name}.zip')\n",
        "    os.remove(name+'.zip')\n",
        "  if os.path.exists(name+'.SAFE'):\n",
        "    print(f'Deleting {name}.SAFE')\n",
        "    shutil.rmtree(name+'.SAFE')"
      ],
      "execution_count": 18,
      "outputs": [
        {
          "output_type": "stream",
          "text": [
            "Deleting S2A_MSIL1C_20191227T032131_N0208_R118_T48NUG_20191227T060736.zip\n",
            "Deleting S2A_MSIL1C_20191227T032131_N0208_R118_T48NUG_20191227T060736.SAFE\n",
            "Deleting S2B_MSIL1C_20190705T031549_N0207_R118_T48NUG_20190705T065323.zip\n",
            "Deleting S2B_MSIL1C_20190705T031549_N0207_R118_T48NUG_20190705T065323.SAFE\n"
          ],
          "name": "stdout"
        }
      ]
    },
    {
      "cell_type": "code",
      "metadata": {
        "id": "p-dkQsluwSfo",
        "colab_type": "code",
        "outputId": "7e46623a-a0c5-47a2-dcbc-f5a61c679e26",
        "colab": {
          "base_uri": "https://localhost:8080/",
          "height": 196
        }
      },
      "source": [
        "os.listdir()"
      ],
      "execution_count": 19,
      "outputs": [
        {
          "output_type": "execute_result",
          "data": {
            "text/plain": [
              "['.config',\n",
              " 'shipsnet.json',\n",
              " 'S2A_MSIL1C_20191227T032131_N0208_R118_T48NUG_20191227T060736.jp2',\n",
              " 'S2B_MSIL1C_20190705T031549_N0207_R118_T48NUG_20190705T065323.jp2',\n",
              " 'shipsnet',\n",
              " '.kaggle',\n",
              " 'ships-in-satellite-imagery.zip',\n",
              " 'scenes',\n",
              " 'drive',\n",
              " 'sample_data']"
            ]
          },
          "metadata": {
            "tags": []
          },
          "execution_count": 19
        }
      ]
    },
    {
      "cell_type": "markdown",
      "metadata": {
        "id": "zHSIDCo1lKcz",
        "colab_type": "text"
      },
      "source": [
        "## Kaggle PlanetScope"
      ]
    },
    {
      "cell_type": "code",
      "metadata": {
        "id": "egGcraQyl4lI",
        "colab_type": "code",
        "outputId": "4849ca45-bebe-48b3-851b-c89e6ab8071c",
        "colab": {
          "base_uri": "https://localhost:8080/",
          "height": 187
        }
      },
      "source": [
        "os.mkdir('.kaggle')\n",
        "os.listdir()"
      ],
      "execution_count": 20,
      "outputs": [
        {
          "output_type": "error",
          "ename": "FileExistsError",
          "evalue": "ignored",
          "traceback": [
            "\u001b[0;31m---------------------------------------------------------------------------\u001b[0m",
            "\u001b[0;31mFileExistsError\u001b[0m                           Traceback (most recent call last)",
            "\u001b[0;32m<ipython-input-20-e1bec99f448d>\u001b[0m in \u001b[0;36m<module>\u001b[0;34m()\u001b[0m\n\u001b[0;32m----> 1\u001b[0;31m \u001b[0mos\u001b[0m\u001b[0;34m.\u001b[0m\u001b[0mmkdir\u001b[0m\u001b[0;34m(\u001b[0m\u001b[0;34m'.kaggle'\u001b[0m\u001b[0;34m)\u001b[0m\u001b[0;34m\u001b[0m\u001b[0;34m\u001b[0m\u001b[0m\n\u001b[0m\u001b[1;32m      2\u001b[0m \u001b[0mos\u001b[0m\u001b[0;34m.\u001b[0m\u001b[0mlistdir\u001b[0m\u001b[0;34m(\u001b[0m\u001b[0;34m)\u001b[0m\u001b[0;34m\u001b[0m\u001b[0;34m\u001b[0m\u001b[0m\n",
            "\u001b[0;31mFileExistsError\u001b[0m: [Errno 17] File exists: '.kaggle'"
          ]
        }
      ]
    },
    {
      "cell_type": "code",
      "metadata": {
        "id": "AgFfwDJdmFkp",
        "colab_type": "code",
        "colab": {}
      },
      "source": [
        "token = {\"username\":KAGGLE_USER,\"key\":KAGGLE_KEY}\n",
        "\n",
        "with open('/content/.kaggle/kaggle.json', 'w') as file:\n",
        "    json.dump(token, file)"
      ],
      "execution_count": 0,
      "outputs": []
    },
    {
      "cell_type": "code",
      "metadata": {
        "id": "NzwM9qVbmQ9r",
        "colab_type": "code",
        "outputId": "be5dd87d-5383-4404-d330-44ce44f233cc",
        "colab": {
          "base_uri": "https://localhost:8080/",
          "height": 88
        }
      },
      "source": [
        "!cp /content/.kaggle/kaggle.json ~/.kaggle/kaggle.json\n",
        "!kaggle config set -n path -v{/content}\n",
        "!cp /content/.kaggle/kaggle.json ~/.kaggle/kaggle.json\n",
        "!kaggle config set -n path -v{/content}"
      ],
      "execution_count": 22,
      "outputs": [
        {
          "output_type": "stream",
          "text": [
            "Warning: Your Kaggle API key is readable by other users on this system! To fix this, you can run 'chmod 600 /root/.kaggle/kaggle.json'\n",
            "- path is now set to: {/content}\n",
            "Warning: Your Kaggle API key is readable by other users on this system! To fix this, you can run 'chmod 600 /root/.kaggle/kaggle.json'\n",
            "- path is now set to: {/content}\n"
          ],
          "name": "stdout"
        }
      ]
    },
    {
      "cell_type": "code",
      "metadata": {
        "id": "-Efe-XPkmTsD",
        "colab_type": "code",
        "outputId": "e9404b2d-650e-4b24-816b-9ce80a068974",
        "colab": {
          "base_uri": "https://localhost:8080/",
          "height": 53
        }
      },
      "source": [
        "!kaggle datasets download -d rhammell/ships-in-satellite-imagery -p /content"
      ],
      "execution_count": 23,
      "outputs": [
        {
          "output_type": "stream",
          "text": [
            "Warning: Your Kaggle API key is readable by other users on this system! To fix this, you can run 'chmod 600 /root/.kaggle/kaggle.json'\n",
            "ships-in-satellite-imagery.zip: Skipping, found more recently modified local copy (use --force to force download)\n"
          ],
          "name": "stdout"
        }
      ]
    },
    {
      "cell_type": "code",
      "metadata": {
        "id": "44VXdPcNmWcU",
        "colab_type": "code",
        "outputId": "61e91b1d-bc52-4b0e-aeee-07649efd5f57",
        "colab": {
          "base_uri": "https://localhost:8080/",
          "height": 196
        }
      },
      "source": [
        "os.listdir()"
      ],
      "execution_count": 24,
      "outputs": [
        {
          "output_type": "execute_result",
          "data": {
            "text/plain": [
              "['.config',\n",
              " 'shipsnet.json',\n",
              " 'S2A_MSIL1C_20191227T032131_N0208_R118_T48NUG_20191227T060736.jp2',\n",
              " 'S2B_MSIL1C_20190705T031549_N0207_R118_T48NUG_20190705T065323.jp2',\n",
              " 'shipsnet',\n",
              " '.kaggle',\n",
              " 'ships-in-satellite-imagery.zip',\n",
              " 'scenes',\n",
              " 'drive',\n",
              " 'sample_data']"
            ]
          },
          "metadata": {
            "tags": []
          },
          "execution_count": 24
        }
      ]
    },
    {
      "cell_type": "code",
      "metadata": {
        "id": "2TPWaAGTmYz3",
        "colab_type": "code",
        "colab": {}
      },
      "source": [
        "with zipfile.ZipFile('ships-in-satellite-imagery.zip', 'r') as kaggleZip:\n",
        "      kaggleZip.extractall(os.getcwd())"
      ],
      "execution_count": 0,
      "outputs": []
    },
    {
      "cell_type": "code",
      "metadata": {
        "id": "ao_jtOXjngpI",
        "colab_type": "code",
        "outputId": "18e029e4-1676-4090-8611-18fc5e6ca92c",
        "colab": {
          "base_uri": "https://localhost:8080/",
          "height": 224
        }
      },
      "source": [
        "with open('shipsnet.json') as data_file:\n",
        "    kg_ships_dict = json.load(data_file)\n",
        "kg_ships_df = pd.DataFrame(kg_ships_dict)\n",
        "print(kg_ships_df.shape)\n",
        "kg_ships_df.head()"
      ],
      "execution_count": 26,
      "outputs": [
        {
          "output_type": "stream",
          "text": [
            "(4000, 4)\n"
          ],
          "name": "stdout"
        },
        {
          "output_type": "execute_result",
          "data": {
            "text/html": [
              "<div>\n",
              "<style scoped>\n",
              "    .dataframe tbody tr th:only-of-type {\n",
              "        vertical-align: middle;\n",
              "    }\n",
              "\n",
              "    .dataframe tbody tr th {\n",
              "        vertical-align: top;\n",
              "    }\n",
              "\n",
              "    .dataframe thead th {\n",
              "        text-align: right;\n",
              "    }\n",
              "</style>\n",
              "<table border=\"1\" class=\"dataframe\">\n",
              "  <thead>\n",
              "    <tr style=\"text-align: right;\">\n",
              "      <th></th>\n",
              "      <th>data</th>\n",
              "      <th>labels</th>\n",
              "      <th>locations</th>\n",
              "      <th>scene_ids</th>\n",
              "    </tr>\n",
              "  </thead>\n",
              "  <tbody>\n",
              "    <tr>\n",
              "      <th>0</th>\n",
              "      <td>[82, 89, 91, 87, 89, 87, 86, 86, 86, 86, 84, 8...</td>\n",
              "      <td>1</td>\n",
              "      <td>[-118.2254694333423, 33.73803725920789]</td>\n",
              "      <td>20180708_180909_0f47</td>\n",
              "    </tr>\n",
              "    <tr>\n",
              "      <th>1</th>\n",
              "      <td>[76, 75, 67, 62, 68, 72, 73, 73, 68, 69, 69, 6...</td>\n",
              "      <td>1</td>\n",
              "      <td>[-122.33222866289329, 37.7491755586813]</td>\n",
              "      <td>20170705_180816_103e</td>\n",
              "    </tr>\n",
              "    <tr>\n",
              "      <th>2</th>\n",
              "      <td>[125, 127, 129, 130, 126, 125, 129, 133, 132, ...</td>\n",
              "      <td>1</td>\n",
              "      <td>[-118.14283073363218, 33.736016066914175]</td>\n",
              "      <td>20180712_211331_0f06</td>\n",
              "    </tr>\n",
              "    <tr>\n",
              "      <th>3</th>\n",
              "      <td>[102, 99, 113, 106, 96, 102, 105, 105, 103, 10...</td>\n",
              "      <td>1</td>\n",
              "      <td>[-122.34784341495181, 37.76648707436548]</td>\n",
              "      <td>20170609_180756_103a</td>\n",
              "    </tr>\n",
              "    <tr>\n",
              "      <th>4</th>\n",
              "      <td>[78, 76, 74, 78, 79, 79, 79, 82, 86, 85, 83, 8...</td>\n",
              "      <td>1</td>\n",
              "      <td>[-122.34852408322172, 37.75878462398653]</td>\n",
              "      <td>20170515_180653_1007</td>\n",
              "    </tr>\n",
              "  </tbody>\n",
              "</table>\n",
              "</div>"
            ],
            "text/plain": [
              "                                                data  ...             scene_ids\n",
              "0  [82, 89, 91, 87, 89, 87, 86, 86, 86, 86, 84, 8...  ...  20180708_180909_0f47\n",
              "1  [76, 75, 67, 62, 68, 72, 73, 73, 68, 69, 69, 6...  ...  20170705_180816_103e\n",
              "2  [125, 127, 129, 130, 126, 125, 129, 133, 132, ...  ...  20180712_211331_0f06\n",
              "3  [102, 99, 113, 106, 96, 102, 105, 105, 103, 10...  ...  20170609_180756_103a\n",
              "4  [78, 76, 74, 78, 79, 79, 79, 82, 86, 85, 83, 8...  ...  20170515_180653_1007\n",
              "\n",
              "[5 rows x 4 columns]"
            ]
          },
          "metadata": {
            "tags": []
          },
          "execution_count": 26
        }
      ]
    },
    {
      "cell_type": "code",
      "metadata": {
        "id": "uT5kX-hWn_F-",
        "colab_type": "code",
        "outputId": "fd2de600-94e7-4165-b067-b1db301197f0",
        "colab": {
          "base_uri": "https://localhost:8080/",
          "height": 35
        }
      },
      "source": [
        "n_spectrum = 3 # color channel (RGB)\n",
        "kg_patch_size = 80\n",
        "kg_ships_patches = np.array(kg_ships_dict['data']\n",
        "             ).astype('uint8'\n",
        "             ).reshape([-1, n_spectrum, kg_patch_size, kg_patch_size])\n",
        "kg_ships_patches = np.moveaxis(kg_ships_patches, 1, 3)\n",
        "kg_ships_patches.shape"
      ],
      "execution_count": 27,
      "outputs": [
        {
          "output_type": "execute_result",
          "data": {
            "text/plain": [
              "(4000, 80, 80, 3)"
            ]
          },
          "metadata": {
            "tags": []
          },
          "execution_count": 27
        }
      ]
    },
    {
      "cell_type": "code",
      "metadata": {
        "id": "pTe-cEyJooMJ",
        "colab_type": "code",
        "outputId": "791da680-56ed-4662-fcfa-afaea499de2c",
        "colab": {
          "base_uri": "https://localhost:8080/",
          "height": 35
        }
      },
      "source": [
        "kg_ships_patches.min(), kg_ships_patches.max()"
      ],
      "execution_count": 28,
      "outputs": [
        {
          "output_type": "execute_result",
          "data": {
            "text/plain": [
              "(1, 255)"
            ]
          },
          "metadata": {
            "tags": []
          },
          "execution_count": 28
        }
      ]
    },
    {
      "cell_type": "code",
      "metadata": {
        "id": "wj0goacTpfzg",
        "colab_type": "code",
        "outputId": "65b7c9d1-9358-4356-e655-65df6c8ae499",
        "colab": {
          "base_uri": "https://localhost:8080/",
          "height": 268
        }
      },
      "source": [
        "plt.imshow(kg_ships_patches[100]);"
      ],
      "execution_count": 29,
      "outputs": [
        {
          "output_type": "display_data",
          "data": {
            "image/png": "[encoded data removed]",
            "text/plain": [
              "<Figure size 432x288 with 1 Axes>"
            ]
          },
          "metadata": {
            "tags": [],
            "needs_background": "light"
          }
        }
      ]
    },
    {
      "cell_type": "markdown",
      "metadata": {
        "id": "P3DHHmaUDtV2",
        "colab_type": "text"
      },
      "source": [
        "Resize patches so each pixel has a 10m resolution."
      ]
    },
    {
      "cell_type": "code",
      "metadata": {
        "id": "pxGG14jypmpJ",
        "colab_type": "code",
        "colab": {}
      },
      "source": [
        "kg_patch_new_size = round(kg_patch_size*SCALE_FACTOR)\n",
        "\n",
        "kg_patches_resize = np.zeros([kg_ships_patches.shape[0],\n",
        "                            kg_patch_new_size,\n",
        "                            kg_patch_new_size,\n",
        "                            kg_ships_patches.shape[3]])"
      ],
      "execution_count": 0,
      "outputs": []
    },
    {
      "cell_type": "code",
      "metadata": {
        "id": "UWQs6KIzsTAd",
        "colab_type": "code",
        "colab": {}
      },
      "source": [
        "for img in range(kg_ships_patches.shape[0]):\n",
        "  kg_patches_resize[img] = resize(kg_ships_patches[img], [kg_patch_new_size, kg_patch_new_size])"
      ],
      "execution_count": 0,
      "outputs": []
    },
    {
      "cell_type": "code",
      "metadata": {
        "id": "qsqpvmafrNsl",
        "colab_type": "code",
        "outputId": "b97f365e-125a-40e5-d4ce-a2a96d103ccd",
        "colab": {
          "base_uri": "https://localhost:8080/",
          "height": 284
        }
      },
      "source": [
        "print(kg_patches_resize.shape)\n",
        "plt.imshow(kg_patches_resize[100]);"
      ],
      "execution_count": 32,
      "outputs": [
        {
          "output_type": "stream",
          "text": [
            "(4000, 30, 30, 3)\n"
          ],
          "name": "stdout"
        },
        {
          "output_type": "display_data",
          "data": {
            "image/png": "[encoded data removed]",
            "text/plain": [
              "<Figure size 432x288 with 1 Axes>"
            ]
          },
          "metadata": {
            "tags": [],
            "needs_background": "light"
          }
        }
      ]
    },
    {
      "cell_type": "markdown",
      "metadata": {
        "id": "hf2XOgCEq7nn",
        "colab_type": "text"
      },
      "source": [
        "# Create Sentinel-2 Patches"
      ]
    },
    {
      "cell_type": "code",
      "metadata": {
        "id": "PdzlzTvhq9ea",
        "colab_type": "code",
        "colab": {}
      },
      "source": [
        "# load ship points and scene\n",
        "scene_name = sceneMeta.title[0] # \n",
        "ship_points = gpd.read_file(DRIVE_PATH+scene_name+'_SHIPS.geojson')\n",
        "sat_img = rio.open(scene_name+'.jp2')"
      ],
      "execution_count": 0,
      "outputs": []
    },
    {
      "cell_type": "code",
      "metadata": {
        "id": "dzdJ6sYiLuug",
        "colab_type": "code",
        "outputId": "dec63275-5574-40ed-d443-e7e1be41cb39",
        "colab": {
          "base_uri": "https://localhost:8080/",
          "height": 287
        }
      },
      "source": [
        "print(sat_img.count)\n",
        "show(sat_img);"
      ],
      "execution_count": 47,
      "outputs": [
        {
          "output_type": "display_data",
          "data": {
            "image/png": "[encoded data removed]",
            "text/plain": [
              "<Figure size 432x288 with 1 Axes>"
            ]
          },
          "metadata": {
            "tags": [],
            "needs_background": "light"
          }
        },
        {
          "output_type": "execute_result",
          "data": {
            "text/plain": [
              "(3, <matplotlib.axes._subplots.AxesSubplot at 0x7f5d2ac96e10>)"
            ]
          },
          "metadata": {
            "tags": []
          },
          "execution_count": 47
        }
      ]
    },
    {
      "cell_type": "markdown",
      "metadata": {
        "id": "WzkDrbeXFMpd",
        "colab_type": "text"
      },
      "source": [
        "Create dataframe classifying every patch as ship or no ship"
      ]
    },
    {
      "cell_type": "code",
      "metadata": {
        "id": "LeH3mQGiHNRC",
        "colab_type": "code",
        "colab": {
          "base_uri": "https://localhost:8080/",
          "height": 35
        },
        "outputId": "eeccc495-64a1-4f0e-add7-5db382ebb7a2"
      },
      "source": [
        "csv_path = DRIVE_PATH + 'sentinel_patch_classes.csv'\n",
        "\n",
        "# sentinel_patch_classes = patch_intersects_ship_buffers(ships = ship_points, \n",
        "#                                                        img=sat_img, \n",
        "#                                                        patch_size=PATCH_SIZE, \n",
        "#                                                        step_size=STEP_SIZE)\n",
        "# sentinel_patch_classes.to_csv(csv_path, index = False)\n",
        "\n",
        "sentinel_patch_classes = pd.read_csv(csv_path)"
      ],
      "execution_count": 58,
      "outputs": [
        {
          "output_type": "stream",
          "text": [
            "100% (837225 of 837225) |################| Elapsed Time: 0:29:25 Time:  0:29:25\n"
          ],
          "name": "stderr"
        }
      ]
    },
    {
      "cell_type": "code",
      "metadata": {
        "id": "7IlAM13zHNJp",
        "colab_type": "code",
        "colab": {
          "base_uri": "https://localhost:8080/",
          "height": 88
        },
        "outputId": "2227ff29-61c1-4868-d836-77ff53acca8c"
      },
      "source": [
        "sentinel_patch_classes.groupby('isShip')['isShip'].count()"
      ],
      "execution_count": 73,
      "outputs": [
        {
          "output_type": "execute_result",
          "data": {
            "text/plain": [
              "isShip\n",
              "False    832972\n",
              "True        597\n",
              "Name: isShip, dtype: int64"
            ]
          },
          "metadata": {
            "tags": []
          },
          "execution_count": 73
        }
      ]
    },
    {
      "cell_type": "markdown",
      "metadata": {
        "id": "vmutVmr1O4gC",
        "colab_type": "text"
      },
      "source": [
        "Create a sample of the patches stratified by isShip"
      ]
    },
    {
      "cell_type": "code",
      "metadata": {
        "id": "rI6YHdQMHNCH",
        "colab_type": "code",
        "colab": {}
      },
      "source": [
        "frac = 0.1\n",
        "\n",
        "sentinel_sample = (sentinel_patch_classes\n",
        "                   .groupby('isShip', # stratify by isShip\n",
        "                            group_keys = False)\n",
        "                   .apply(lambda x: x.sample(frac = frac, # sample by group\n",
        "                                             random_state = 123))\n",
        "                   .sort_index()) # the index needs to be sorted for the sample patches to \"line up\" with `sentinel_sample`"
      ],
      "execution_count": 0,
      "outputs": []
    },
    {
      "cell_type": "code",
      "metadata": {
        "id": "9Dzy4GTmHM6t",
        "colab_type": "code",
        "colab": {
          "base_uri": "https://localhost:8080/",
          "height": 88
        },
        "outputId": "23ebff53-6fc5-4f28-a69e-abf79029dd37"
      },
      "source": [
        "sentinel_sample.groupby('isShip')['isShip'].count()"
      ],
      "execution_count": 238,
      "outputs": [
        {
          "output_type": "execute_result",
          "data": {
            "text/plain": [
              "isShip\n",
              "False    83297\n",
              "True        60\n",
              "Name: isShip, dtype: int64"
            ]
          },
          "metadata": {
            "tags": []
          },
          "execution_count": 238
        }
      ]
    },
    {
      "cell_type": "code",
      "metadata": {
        "id": "2TuUnpX4WnFA",
        "colab_type": "code",
        "colab": {
          "base_uri": "https://localhost:8080/",
          "height": 206
        },
        "outputId": "a2027f8f-a144-4e10-c9f9-24c02d2258bf"
      },
      "source": [
        "sentinel_sample.head()"
      ],
      "execution_count": 239,
      "outputs": [
        {
          "output_type": "execute_result",
          "data": {
            "text/html": [
              "<div>\n",
              "<style scoped>\n",
              "    .dataframe tbody tr th:only-of-type {\n",
              "        vertical-align: middle;\n",
              "    }\n",
              "\n",
              "    .dataframe tbody tr th {\n",
              "        vertical-align: top;\n",
              "    }\n",
              "\n",
              "    .dataframe thead th {\n",
              "        text-align: right;\n",
              "    }\n",
              "</style>\n",
              "<table border=\"1\" class=\"dataframe\">\n",
              "  <thead>\n",
              "    <tr style=\"text-align: right;\">\n",
              "      <th></th>\n",
              "      <th>isShip</th>\n",
              "      <th>x</th>\n",
              "      <th>y</th>\n",
              "      <th>patch_size</th>\n",
              "    </tr>\n",
              "  </thead>\n",
              "  <tbody>\n",
              "    <tr>\n",
              "      <th>17</th>\n",
              "      <td>False</td>\n",
              "      <td>204</td>\n",
              "      <td>0</td>\n",
              "      <td>30</td>\n",
              "    </tr>\n",
              "    <tr>\n",
              "      <th>19</th>\n",
              "      <td>False</td>\n",
              "      <td>228</td>\n",
              "      <td>0</td>\n",
              "      <td>30</td>\n",
              "    </tr>\n",
              "    <tr>\n",
              "      <th>24</th>\n",
              "      <td>False</td>\n",
              "      <td>288</td>\n",
              "      <td>0</td>\n",
              "      <td>30</td>\n",
              "    </tr>\n",
              "    <tr>\n",
              "      <th>28</th>\n",
              "      <td>False</td>\n",
              "      <td>336</td>\n",
              "      <td>0</td>\n",
              "      <td>30</td>\n",
              "    </tr>\n",
              "    <tr>\n",
              "      <th>51</th>\n",
              "      <td>False</td>\n",
              "      <td>612</td>\n",
              "      <td>0</td>\n",
              "      <td>30</td>\n",
              "    </tr>\n",
              "  </tbody>\n",
              "</table>\n",
              "</div>"
            ],
            "text/plain": [
              "    isShip    x  y  patch_size\n",
              "17   False  204  0          30\n",
              "19   False  228  0          30\n",
              "24   False  288  0          30\n",
              "28   False  336  0          30\n",
              "51   False  612  0          30"
            ]
          },
          "metadata": {
            "tags": []
          },
          "execution_count": 239
        }
      ]
    },
    {
      "cell_type": "markdown",
      "metadata": {
        "id": "DsBb0Uk_XDHf",
        "colab_type": "text"
      },
      "source": [
        "Create the patches that correspond to the sample index"
      ]
    },
    {
      "cell_type": "code",
      "metadata": {
        "id": "KoTX6SZQHMrm",
        "colab_type": "code",
        "colab": {
          "base_uri": "https://localhost:8080/",
          "height": 35
        },
        "outputId": "636584f7-95d7-4ad7-b9d1-fd8ac5659bdf"
      },
      "source": [
        "sentinel_sample_patches = create_patches_sample(img=sat_img, \n",
        "                      sample=sentinel_sample,\n",
        "                      patch_size=PATCH_SIZE, \n",
        "                      step_size=STEP_SIZE)"
      ],
      "execution_count": 245,
      "outputs": [
        {
          "output_type": "stream",
          "text": [
            "100% (837225 of 837225) |################| Elapsed Time: 0:00:09 Time:  0:00:09\n"
          ],
          "name": "stderr"
        }
      ]
    },
    {
      "cell_type": "code",
      "metadata": {
        "id": "zAWMXWdGHMhx",
        "colab_type": "code",
        "colab": {
          "base_uri": "https://localhost:8080/",
          "height": 35
        },
        "outputId": "e96adb10-24e5-4d0f-f03d-195e09d3cb87"
      },
      "source": [
        "sentinel_sample_patches.shape"
      ],
      "execution_count": 246,
      "outputs": [
        {
          "output_type": "execute_result",
          "data": {
            "text/plain": [
              "(83357, 30, 30, 3)"
            ]
          },
          "metadata": {
            "tags": []
          },
          "execution_count": 246
        }
      ]
    },
    {
      "cell_type": "code",
      "metadata": {
        "id": "YwVaLD7YWxCD",
        "colab_type": "code",
        "colab": {
          "base_uri": "https://localhost:8080/",
          "height": 206
        },
        "outputId": "28dae7f4-b10c-41b2-c7c2-7ceeaed85949"
      },
      "source": [
        "sentinel_sample.loc[sentinel_sample['isShip'] == True].head()"
      ],
      "execution_count": 247,
      "outputs": [
        {
          "output_type": "execute_result",
          "data": {
            "text/html": [
              "<div>\n",
              "<style scoped>\n",
              "    .dataframe tbody tr th:only-of-type {\n",
              "        vertical-align: middle;\n",
              "    }\n",
              "\n",
              "    .dataframe tbody tr th {\n",
              "        vertical-align: top;\n",
              "    }\n",
              "\n",
              "    .dataframe thead th {\n",
              "        text-align: right;\n",
              "    }\n",
              "</style>\n",
              "<table border=\"1\" class=\"dataframe\">\n",
              "  <thead>\n",
              "    <tr style=\"text-align: right;\">\n",
              "      <th></th>\n",
              "      <th>isShip</th>\n",
              "      <th>x</th>\n",
              "      <th>y</th>\n",
              "      <th>patch_size</th>\n",
              "    </tr>\n",
              "  </thead>\n",
              "  <tbody>\n",
              "    <tr>\n",
              "      <th>338654</th>\n",
              "      <td>True</td>\n",
              "      <td>10128</td>\n",
              "      <td>4440</td>\n",
              "      <td>30</td>\n",
              "    </tr>\n",
              "    <tr>\n",
              "      <th>354255</th>\n",
              "      <td>True</td>\n",
              "      <td>132</td>\n",
              "      <td>4656</td>\n",
              "      <td>30</td>\n",
              "    </tr>\n",
              "    <tr>\n",
              "      <th>355235</th>\n",
              "      <td>True</td>\n",
              "      <td>936</td>\n",
              "      <td>4668</td>\n",
              "      <td>30</td>\n",
              "    </tr>\n",
              "    <tr>\n",
              "      <th>414435</th>\n",
              "      <td>True</td>\n",
              "      <td>10152</td>\n",
              "      <td>5436</td>\n",
              "      <td>30</td>\n",
              "    </tr>\n",
              "    <tr>\n",
              "      <th>425330</th>\n",
              "      <td>True</td>\n",
              "      <td>9420</td>\n",
              "      <td>5580</td>\n",
              "      <td>30</td>\n",
              "    </tr>\n",
              "  </tbody>\n",
              "</table>\n",
              "</div>"
            ],
            "text/plain": [
              "        isShip      x     y  patch_size\n",
              "338654    True  10128  4440          30\n",
              "354255    True    132  4656          30\n",
              "355235    True    936  4668          30\n",
              "414435    True  10152  5436          30\n",
              "425330    True   9420  5580          30"
            ]
          },
          "metadata": {
            "tags": []
          },
          "execution_count": 247
        }
      ]
    },
    {
      "cell_type": "code",
      "metadata": {
        "id": "XG83V1LoXYpP",
        "colab_type": "code",
        "colab": {
          "base_uri": "https://localhost:8080/",
          "height": 35
        },
        "outputId": "9ea9d271-2e30-44fb-a4a3-3cc6353bc085"
      },
      "source": [
        "print(np.where(sentinel_sample.index == 354255)[0])"
      ],
      "execution_count": 250,
      "outputs": [
        {
          "output_type": "stream",
          "text": [
            "[35420]\n"
          ],
          "name": "stdout"
        }
      ]
    },
    {
      "cell_type": "code",
      "metadata": {
        "id": "4_URiR8hHMVx",
        "colab_type": "code",
        "colab": {
          "base_uri": "https://localhost:8080/",
          "height": 266
        },
        "outputId": "05b442d4-35fe-4e8b-93a8-d1733261beb8"
      },
      "source": [
        "plt.imshow(sentinel_sample_patches[35420]);"
      ],
      "execution_count": 251,
      "outputs": [
        {
          "output_type": "display_data",
          "data": {
            "image/png": "[encoded data removed]",
            "text/plain": [
              "<Figure size 432x288 with 1 Axes>"
            ]
          },
          "metadata": {
            "tags": [],
            "needs_background": "light"
          }
        }
      ]
    },
    {
      "cell_type": "code",
      "metadata": {
        "id": "m-Aa_T-Qyvut",
        "colab_type": "code",
        "outputId": "b3353b39-6288-45b2-8388-828ff9bd712b",
        "colab": {
          "base_uri": "https://localhost:8080/",
          "height": 35
        }
      },
      "source": [
        "## we would use this to create every patch\n",
        "## but it's too many to fit in memory\n",
        "\n",
        "# sentinel_patches = create_patches(img=sat_img, \n",
        "#                                   patch_size=PATCH_SIZE, \n",
        "#                                   step_size=STEP_SIZE)"
      ],
      "execution_count": 39,
      "outputs": [
        {
          "output_type": "stream",
          "text": [
            "100% (21609 of 21609) |##################| Elapsed Time: 0:00:38 Time:  0:00:38\n"
          ],
          "name": "stderr"
        }
      ]
    },
    {
      "cell_type": "code",
      "metadata": {
        "id": "RL9QB02Uk-a6",
        "colab_type": "code",
        "outputId": "3cba1176-4e22-463b-9f00-4a906859274b",
        "colab": {
          "base_uri": "https://localhost:8080/",
          "height": 281
        }
      },
      "source": [
        "plot_patch(img=sat_img,\n",
        "           x=sentinel_patch_classes.x[200],\n",
        "           y=sentinel_patch_classes.y[200],\n",
        "           patch_size=PATCH_SIZE, \n",
        "           step_size=STEP_SIZE)"
      ],
      "execution_count": 252,
      "outputs": [
        {
          "output_type": "display_data",
          "data": {
            "image/png": "[encoded data removed]",
            "text/plain": [
              "<Figure size 432x288 with 1 Axes>"
            ]
          },
          "metadata": {
            "tags": [],
            "needs_background": "light"
          }
        }
      ]
    },
    {
      "cell_type": "markdown",
      "metadata": {
        "id": "5DMZUqwNvua6",
        "colab_type": "text"
      },
      "source": [
        "Create array with labels for sample patches"
      ]
    },
    {
      "cell_type": "code",
      "metadata": {
        "id": "sVmhfBiKuY6g",
        "colab_type": "code",
        "colab": {
          "base_uri": "https://localhost:8080/",
          "height": 35
        },
        "outputId": "8ca0ee16-391f-4819-e80f-2e5b902b657d"
      },
      "source": [
        "lb = LabelEncoder()\n",
        "sentinel_sample_labels = lb.fit_transform(sentinel_sample['isShip'])"
      ],
      "execution_count": 269,
      "outputs": [
        {
          "output_type": "execute_result",
          "data": {
            "text/plain": [
              "(array([0, 1]), array([83297,    60]))"
            ]
          },
          "metadata": {
            "tags": []
          },
          "execution_count": 269
        }
      ]
    },
    {
      "cell_type": "markdown",
      "metadata": {
        "id": "ZLpOjEDF8tX7",
        "colab_type": "text"
      },
      "source": [
        "# Prepare Data"
      ]
    },
    {
      "cell_type": "code",
      "metadata": {
        "id": "RfPIHz_4_23X",
        "colab_type": "code",
        "colab": {}
      },
      "source": [
        "x_train, x_test, y_train, y_test = train_test_split(kg_patches_resize, \n",
        "                                                    kg_ships_df.labels, \n",
        "                                                    stratify=kg_ships_df.labels, \n",
        "                                                    test_size=0.5, \n",
        "                                                    random_state=42)\n",
        "np.unique(y_train, return_counts=True), np.unique(y_test, return_counts=True)"
      ],
      "execution_count": 0,
      "outputs": []
    },
    {
      "cell_type": "code",
      "metadata": {
        "id": "KnFvzwyzYE3G",
        "colab_type": "code",
        "colab": {}
      },
      "source": [
        "datagen = ImageDataGenerator(\n",
        "    rotation_range=180,\n",
        "    horizontal_flip=True,\n",
        "    vertical_flip=True)"
      ],
      "execution_count": 0,
      "outputs": []
    },
    {
      "cell_type": "code",
      "metadata": {
        "id": "nnNi7a58BGJi",
        "colab_type": "code",
        "colab": {}
      },
      "source": [
        "datagen.fit(x_train)"
      ],
      "execution_count": 0,
      "outputs": []
    },
    {
      "cell_type": "code",
      "metadata": {
        "id": "nnoYLpn5B8BZ",
        "colab_type": "code",
        "outputId": "7e2d4da8-914a-476c-b08b-fcb2725e0c0a",
        "colab": {
          "base_uri": "https://localhost:8080/",
          "height": 35
        }
      },
      "source": [
        "model.fit_generator(datagen.flow(x_train, y_train, batch_size=32),\n",
        "                    steps_per_epoch=len(x_train) / 32, epochs=epochs)"
      ],
      "execution_count": 0,
      "outputs": [
        {
          "output_type": "execute_result",
          "data": {
            "text/plain": [
              "<keras.preprocessing.image.ImageDataGenerator at 0x7f60f12c1ac8>"
            ]
          },
          "metadata": {
            "tags": []
          },
          "execution_count": 88
        }
      ]
    },
    {
      "cell_type": "code",
      "metadata": {
        "id": "qWihIrypB9Ps",
        "colab_type": "code",
        "colab": {}
      },
      "source": [
        ""
      ],
      "execution_count": 0,
      "outputs": []
    }
  ]
}