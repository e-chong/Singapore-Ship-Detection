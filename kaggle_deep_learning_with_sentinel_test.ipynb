{
  "nbformat": 4,
  "nbformat_minor": 0,
  "metadata": {
    "colab": {
      "name": "kaggle-deep-learning-with-sentinel-test.ipynb",
      "provenance": [],
      "collapsed_sections": [],
      "toc_visible": true,
      "include_colab_link": true
    },
    "kernelspec": {
      "name": "python3",
      "display_name": "Python 3"
    },
    "accelerator": "GPU"
  },
  "cells": [
    {
      "cell_type": "markdown",
      "metadata": {
        "id": "view-in-github",
        "colab_type": "text"
      },
      "source": [
        "<a href=\"https://colab.research.google.com/github/e-chong/Singapore-Ship-Detection/blob/master/kaggle_deep_learning_with_sentinel_test.ipynb\" target=\"_parent\"><img src=\"https://colab.research.google.com/assets/colab-badge.svg\" alt=\"Open In Colab\"/></a>"
      ]
    },
    {
      "cell_type": "code",
      "metadata": {
        "id": "JHtn7Hc-PC72",
        "colab_type": "code",
        "colab": {}
      },
      "source": [
        "# install libraries\n",
        "\n",
        "# suppress output\n",
        "%%capture \n",
        "\n",
        "!pip install rasterio\n",
        "!pip install geopandas\n",
        "!pip install sentinelsat\n",
        "!pip install satpy\n",
        "!pip install glymur\n",
        "!pip install python-geotiepoints\n",
        "!pip install pyspectral\n",
        "!pip install progressbar2\n",
        "!pip install kaggle\n",
        "!pip install tifffile"
      ],
      "execution_count": 0,
      "outputs": []
    },
    {
      "cell_type": "code",
      "metadata": {
        "id": "6gasTM7Mu7lk",
        "colab_type": "code",
        "outputId": "89ffd4f2-6bed-4405-acfc-318a884fb592",
        "colab": {
          "base_uri": "https://localhost:8080/",
          "height": 35
        }
      },
      "source": [
        "%tensorflow_version 1.x\n",
        "%matplotlib inline"
      ],
      "execution_count": 2,
      "outputs": [
        {
          "output_type": "stream",
          "text": [
            "TensorFlow 1.x selected.\n"
          ],
          "name": "stdout"
        }
      ]
    },
    {
      "cell_type": "code",
      "metadata": {
        "id": "6pLKc0YIqwnb",
        "colab_type": "code",
        "colab": {}
      },
      "source": [
        "# Base dependencies\n",
        "import numpy as np\n",
        "import pandas as pd\n",
        "import geopandas as gpd # vector spatial operations\n",
        "import rasterio as rio # raster spatial operations\n",
        "import json\n",
        "\n",
        "# Plotting\n",
        "from rasterio.plot import show #convenience wrapper for pyplot.imshow for RGB and 1 band images\n",
        "import matplotlib.pyplot as plt\n",
        "\n",
        "#Sentinel-2 I/O\n",
        "from sentinelsat import SentinelAPI\n",
        "from satpy.scene import Scene\n",
        "from satpy import find_files_and_readers\n",
        "import requests, zipfile, io, os, shutil # downloading and extracting zipfolders\n",
        "\n",
        "# Sentinel-2 create patches\n",
        "from shapely.geometry import Point # vector geometries\n",
        "import time\n",
        "import progressbar\n",
        "\n",
        "# Resize Kaggle patches\n",
        "from skimage.transform import resize\n",
        "import tifffile as tiff\n",
        "import scipy.ndimage\n"
      ],
      "execution_count": 0,
      "outputs": []
    },
    {
      "cell_type": "code",
      "metadata": {
        "id": "xisFiHvHPOze",
        "colab_type": "code",
        "outputId": "052c6fda-7532-448b-80e0-ec3e7d385639",
        "colab": {
          "base_uri": "https://localhost:8080/",
          "height": 129
        }
      },
      "source": [
        "from google.colab import drive\n",
        "drive.mount('/content/drive')"
      ],
      "execution_count": 4,
      "outputs": [
        {
          "output_type": "stream",
          "text": [
            "Go to this URL in a browser: https://accounts.google.com/o/oauth2/auth?client_id=947318989803-6bn6qk8qdgf4n4g3pfee6491hc0brc4i.apps.googleusercontent.com&redirect_uri=urn%3aietf%3awg%3aoauth%3a2.0%3aoob&response_type=code&scope=email%20https%3a%2f%2fwww.googleapis.com%2fauth%2fdocs.test%20https%3a%2f%2fwww.googleapis.com%2fauth%2fdrive%20https%3a%2f%2fwww.googleapis.com%2fauth%2fdrive.photos.readonly%20https%3a%2f%2fwww.googleapis.com%2fauth%2fpeopleapi.readonly\n",
            "\n",
            "Enter your authorization code:\n",
            "··········\n",
            "Mounted at /content/drive\n"
          ],
          "name": "stdout"
        }
      ]
    },
    {
      "cell_type": "markdown",
      "metadata": {
        "id": "L2qU55-0YlbD",
        "colab_type": "text"
      },
      "source": [
        "#Functions\n",
        "credit to # https://gis.stackexchange.com/questions/299787/finding-pixel-location-in-raster-using-coordinates"
      ]
    },
    {
      "cell_type": "code",
      "metadata": {
        "id": "iwJqDvFHJjo7",
        "colab_type": "code",
        "colab": {}
      },
      "source": [
        "# Extracts RGB 3-channel image from SAFE directory and saves it in the working directory \n",
        "# and returns the path to the new file\n",
        "def extract_rgb_jp2(safePath, sceneTitle):\n",
        "  for subdirs, dirs, files in os.walk(safePath):\n",
        "    for file in files:\n",
        "      if file.endswith('_TCI.jp2'):\n",
        "        rgbPath = os.path.join(subdirs, file)\n",
        "        destPath = sceneTitle+'.jp2'\n",
        "        print(f'Copying {file} to {destPath}')\n",
        "        shutil.copy2(rgbPath, destPath)\n",
        "        return destPath"
      ],
      "execution_count": 0,
      "outputs": []
    },
    {
      "cell_type": "code",
      "metadata": {
        "colab_type": "code",
        "id": "IKR7lD-DM_Bn",
        "colab": {}
      },
      "source": [
        "# returns matrix of [n ships, patch_size, patch_size]\n",
        "def create_ship_patches(ships, img, patch_size=50):\n",
        "  coordinates = list(zip(ships.geometry.x, ships.geometry.y))\n",
        "  with progressbar.ProgressBar(max_value=len(ships.index)) as bar: # creates progress bar\n",
        "    patch_list = np.zeros([len(ships.index), patch_size, patch_size, len(img.indexes)])\n",
        "    for i, (lon, lat) in enumerate(coordinates): # Loop through your list of coords\n",
        "      py, px = img.index(lon, lat) # Get pixel coordinates from map coordinates\n",
        "      window = rio.windows.Window(px - patch_size//2, py - patch_size//2, patch_size, patch_size) # Build an NxN window\n",
        "      patch = img.read(window=window) # clip is a nbands * patch_size * patch_size numpy array\n",
        "      patch_list[i] = np.transpose(patch, (1,2,0)) # transpose to [patch_size, patch_size, n bands]\n",
        "      bar.update(i)\n",
        "  return patch_list.astype(int)"
      ],
      "execution_count": 0,
      "outputs": []
    },
    {
      "cell_type": "code",
      "metadata": {
        "colab_type": "code",
        "id": "EGtUnj7dM_Bw",
        "colab": {}
      },
      "source": [
        "# creates patches for use in classifying ship or no ship\n",
        "def create_patches(img, patch_size=50, step_size=30):\n",
        "  n_patches = len(range(0,img.height, step_size)) * len(range(0,img.width, step_size))\n",
        "  patch_list = []\n",
        "  index = 0\n",
        "  with progressbar.ProgressBar(max_value=n_patches) as bar: # creates progress bar\n",
        "    for y in range(0,img.height, step_size): # iterate across image column-wise\n",
        "      for x in range(0,img.width, step_size): # iterate across image row-wise\n",
        "        window = rio.windows.Window(x,y, patch_size, patch_size)\n",
        "        if window.col_off+window.width > img.width or window.row_off+window.height > img.height:\n",
        "          pass\n",
        "        else:\n",
        "          # Read the data in the window\n",
        "          patch = img.read(window=window) # patch is a nbands * patch_size * patch_size numpy array \n",
        "          patch_list.append(np.transpose(patch, (1,2,0))) # transpose to [patch_size, patch_size, n bands]\n",
        "          index += 1\n",
        "          bar.update(index)\n",
        "  patch_array = np.stack(patch_list, axis=0)\n",
        "  return patch_array.astype(int)"
      ],
      "execution_count": 0,
      "outputs": []
    },
    {
      "cell_type": "code",
      "metadata": {
        "colab_type": "code",
        "id": "UDdxNbczM_B1",
        "colab": {}
      },
      "source": [
        "# returns boolean list of whether patches intersect with any ships\n",
        "def patch_intersects_ship_buffers(ships, img, patch_size=50, step_size=30):\n",
        "  n_patches = (len(range(0,img.height, step_size)) * len(range(0,img.width, step_size)))\n",
        "  isShip_list = [] #list to hold all the patch locations\n",
        "  buffer_list = []\n",
        "  x_list = []\n",
        "  y_list = []\n",
        "  index = 0\n",
        "\n",
        "  with progressbar.ProgressBar(max_value=n_patches) as bar: # creates progress bar\n",
        "    for y in range(0,img.height, step_size): # iterate across image column-wise\n",
        "      for x in range(0,img.width, step_size): # iterate across image row-wise\n",
        "        window = rio.windows.Window(x,y, patch_size, patch_size) #get patch window\n",
        "        if window.col_off+window.width > img.width or window.row_off+window.height > img.height:\n",
        "          pass #skip patches that extend off the edge so they have the wrong shape\n",
        "        else:\n",
        "          #create centroid point\n",
        "          centroid = Point(img.transform *(window.col_off+patch_size/2, window.row_off+patch_size/2))\n",
        "          buffer = centroid.buffer(img.transform[0]*step_size/1.5)\n",
        "          buffer_list.append(buffer)\n",
        "          isShip = np.any(ships.intersects(buffer)) #intersect ships with polygon and check if any are positive\n",
        "          isShip_list.append(isShip) #append result to list\n",
        "          x_list.append(x),\n",
        "          y_list.append(y)\n",
        "          index += 1\n",
        "          bar.update(index)\n",
        "  results = pd.DataFrame({'isShip':isShip_list, 'x':x_list, 'y':y_list, 'patch_size':patch_size})\n",
        "  return results"
      ],
      "execution_count": 0,
      "outputs": []
    },
    {
      "cell_type": "code",
      "metadata": {
        "colab_type": "code",
        "id": "fbCXu7HBM_B5",
        "colab": {}
      },
      "source": [
        "# plots a patch\n",
        "def plot_patch(img, x, y, patch_size=50, step_size=30):\n",
        "  window = rio.windows.Window(x,y, patch_size, patch_size)\n",
        "  patch = img.read(window=window)\n",
        "  show(patch, title=f'x: {x}, y: {y}')"
      ],
      "execution_count": 0,
      "outputs": []
    },
    {
      "cell_type": "code",
      "metadata": {
        "id": "NGqO6avWBu6Y",
        "colab_type": "code",
        "colab": {}
      },
      "source": [
        "# creates patches for use in classifying ship or no ship\n",
        "def predict_patch(model, img, x, y, patch_size=50):\n",
        "  window = rio.windows.Window(x,y, patch_size, patch_size)\n",
        "  patch = img.read(window=window)\n",
        "  patch = np.transpose(patch, (1,2,0))\n",
        "  patch = patch[np.newaxis, :]\n",
        "  prediction = model.predict_classes(patch)\n",
        "  return prediction"
      ],
      "execution_count": 0,
      "outputs": []
    },
    {
      "cell_type": "markdown",
      "metadata": {
        "colab_type": "text",
        "id": "OdmKEJ6CM_B-"
      },
      "source": [
        "# Define Parameters"
      ]
    },
    {
      "cell_type": "code",
      "metadata": {
        "colab_type": "code",
        "id": "_jnTCnhAM_B_",
        "colab": {}
      },
      "source": [
        "DRIVE_PATH = '/content/drive/My Drive/MUSA-650-Final-Project/'"
      ],
      "execution_count": 0,
      "outputs": []
    },
    {
      "cell_type": "code",
      "metadata": {
        "colab_type": "code",
        "id": "IxjgSEcwM_CE",
        "colab": {}
      },
      "source": [
        "#Load param file\n",
        "with open(DRIVE_PATH+'params.json', 'r') as file:\n",
        "    params = json.load(file)\n",
        "    \n",
        "    SENTINEL_USER = params['SENTINEL_USER']\n",
        "    SENTINEL_PWD = params['SENTINEL_PWD']\n",
        "    KAGGLE_USER = params['KAGGLE_USER']\n",
        "    KAGGLE_KEY = params['KAGGLE_KEY']"
      ],
      "execution_count": 0,
      "outputs": []
    },
    {
      "cell_type": "code",
      "metadata": {
        "colab_type": "code",
        "id": "W0qmWSw_M_CH",
        "colab": {}
      },
      "source": [
        "# unique Sentinel-2 tile id for images covering Singapore\n",
        "TILE_ID = \"48NUG\" "
      ],
      "execution_count": 0,
      "outputs": []
    },
    {
      "cell_type": "code",
      "metadata": {
        "colab_type": "code",
        "id": "8fayZXDjM_CJ",
        "colab": {}
      },
      "source": [
        "# Patch parameters\n",
        "PATCH_SIZE = 24\n",
        "STEP_SIZE = 12\n",
        "SCALE_FACTOR = 3.7/10 #PlanetScope GSD / Sentinel-2 GSD"
      ],
      "execution_count": 0,
      "outputs": []
    },
    {
      "cell_type": "markdown",
      "metadata": {
        "colab_type": "text",
        "id": "S_b23r9jM_CN"
      },
      "source": [
        "# Download Data"
      ]
    },
    {
      "cell_type": "markdown",
      "metadata": {
        "id": "zHSIDCo1lKcz",
        "colab_type": "text"
      },
      "source": [
        "## Kaggle PlanetScope"
      ]
    },
    {
      "cell_type": "code",
      "metadata": {
        "id": "egGcraQyl4lI",
        "colab_type": "code",
        "outputId": "02f52256-8ba1-4aa4-f0e9-1d924cb69843",
        "colab": {
          "base_uri": "https://localhost:8080/",
          "height": 35
        }
      },
      "source": [
        "os.mkdir('.kaggle')\n",
        "os.listdir()"
      ],
      "execution_count": 16,
      "outputs": [
        {
          "output_type": "execute_result",
          "data": {
            "text/plain": [
              "['.config', 'drive', '.kaggle', 'sample_data']"
            ]
          },
          "metadata": {
            "tags": []
          },
          "execution_count": 16
        }
      ]
    },
    {
      "cell_type": "code",
      "metadata": {
        "id": "AgFfwDJdmFkp",
        "colab_type": "code",
        "colab": {}
      },
      "source": [
        "token = {\"username\":KAGGLE_USER,\"key\":KAGGLE_KEY}\n",
        "\n",
        "with open('/content/.kaggle/kaggle.json', 'w') as file:\n",
        "    json.dump(token, file)"
      ],
      "execution_count": 0,
      "outputs": []
    },
    {
      "cell_type": "code",
      "metadata": {
        "id": "NzwM9qVbmQ9r",
        "colab_type": "code",
        "outputId": "2c10184c-fb51-477e-81be-6b9193b3bc54",
        "colab": {
          "base_uri": "https://localhost:8080/",
          "height": 219
        }
      },
      "source": [
        "!cp /content/.kaggle/kaggle.json ~/.kaggle/kaggle.json\n",
        "!kaggle config set -n path -v{/content}\n",
        "!cp /content/.kaggle/kaggle.json ~/.kaggle/kaggle.json\n",
        "!kaggle config set -n path -v{/content}"
      ],
      "execution_count": 18,
      "outputs": [
        {
          "output_type": "stream",
          "text": [
            "cp: cannot create regular file '/root/.kaggle/kaggle.json': No such file or directory\n",
            "Traceback (most recent call last):\n",
            "  File \"/usr/local/bin/kaggle\", line 5, in <module>\n",
            "    from kaggle.cli import main\n",
            "  File \"/usr/local/lib/python2.7/dist-packages/kaggle/__init__.py\", line 23, in <module>\n",
            "    api.authenticate()\n",
            "  File \"/usr/local/lib/python2.7/dist-packages/kaggle/api/kaggle_api_extended.py\", line 146, in authenticate\n",
            "    self.config_file, self.config_dir))\n",
            "IOError: Could not find kaggle.json. Make sure it's located in /root/.kaggle. Or use the environment method.\n",
            "Warning: Your Kaggle API key is readable by other users on this system! To fix this, you can run 'chmod 600 /root/.kaggle/kaggle.json'\n",
            "- path is now set to: {/content}\n"
          ],
          "name": "stdout"
        }
      ]
    },
    {
      "cell_type": "code",
      "metadata": {
        "id": "-Efe-XPkmTsD",
        "colab_type": "code",
        "outputId": "75b955a7-fdb7-4831-d1ed-ff752829d30b",
        "colab": {
          "base_uri": "https://localhost:8080/",
          "height": 90
        }
      },
      "source": [
        "!kaggle datasets download -d rhammell/ships-in-satellite-imagery -p /content"
      ],
      "execution_count": 19,
      "outputs": [
        {
          "output_type": "stream",
          "text": [
            "Warning: Your Kaggle API key is readable by other users on this system! To fix this, you can run 'chmod 600 /root/.kaggle/kaggle.json'\n",
            "Downloading ships-in-satellite-imagery.zip to /content\n",
            " 95% 177M/185M [00:03<00:00, 66.5MB/s]\n",
            "100% 185M/185M [00:03<00:00, 58.7MB/s]\n"
          ],
          "name": "stdout"
        }
      ]
    },
    {
      "cell_type": "code",
      "metadata": {
        "id": "44VXdPcNmWcU",
        "colab_type": "code",
        "outputId": "e7253ee6-fda9-4abd-cb49-6a0d201112d5",
        "colab": {
          "base_uri": "https://localhost:8080/",
          "height": 109
        }
      },
      "source": [
        "os.listdir()"
      ],
      "execution_count": 20,
      "outputs": [
        {
          "output_type": "execute_result",
          "data": {
            "text/plain": [
              "['.config',\n",
              " 'drive',\n",
              " '.kaggle',\n",
              " 'ships-in-satellite-imagery.zip',\n",
              " 'sample_data']"
            ]
          },
          "metadata": {
            "tags": []
          },
          "execution_count": 20
        }
      ]
    },
    {
      "cell_type": "code",
      "metadata": {
        "id": "2TPWaAGTmYz3",
        "colab_type": "code",
        "colab": {}
      },
      "source": [
        "with zipfile.ZipFile('ships-in-satellite-imagery.zip', 'r') as kaggleZip:\n",
        "      kaggleZip.extractall(os.getcwd())"
      ],
      "execution_count": 0,
      "outputs": []
    },
    {
      "cell_type": "code",
      "metadata": {
        "id": "ao_jtOXjngpI",
        "colab_type": "code",
        "outputId": "e1dceb9f-4463-41b0-f6cf-4df01c65ff86",
        "colab": {
          "base_uri": "https://localhost:8080/",
          "height": 225
        }
      },
      "source": [
        "with open('shipsnet.json') as data_file:\n",
        "    kg_ships_df = pd.DataFrame(json.load(data_file))\n",
        "print(kg_ships_df.shape)\n",
        "kg_ships_df.head()"
      ],
      "execution_count": 22,
      "outputs": [
        {
          "output_type": "stream",
          "text": [
            "(4000, 4)\n"
          ],
          "name": "stdout"
        },
        {
          "output_type": "execute_result",
          "data": {
            "text/html": [
              "<div>\n",
              "<style scoped>\n",
              "    .dataframe tbody tr th:only-of-type {\n",
              "        vertical-align: middle;\n",
              "    }\n",
              "\n",
              "    .dataframe tbody tr th {\n",
              "        vertical-align: top;\n",
              "    }\n",
              "\n",
              "    .dataframe thead th {\n",
              "        text-align: right;\n",
              "    }\n",
              "</style>\n",
              "<table border=\"1\" class=\"dataframe\">\n",
              "  <thead>\n",
              "    <tr style=\"text-align: right;\">\n",
              "      <th></th>\n",
              "      <th>data</th>\n",
              "      <th>labels</th>\n",
              "      <th>locations</th>\n",
              "      <th>scene_ids</th>\n",
              "    </tr>\n",
              "  </thead>\n",
              "  <tbody>\n",
              "    <tr>\n",
              "      <th>0</th>\n",
              "      <td>[82, 89, 91, 87, 89, 87, 86, 86, 86, 86, 84, 8...</td>\n",
              "      <td>1</td>\n",
              "      <td>[-118.2254694333423, 33.73803725920789]</td>\n",
              "      <td>20180708_180909_0f47</td>\n",
              "    </tr>\n",
              "    <tr>\n",
              "      <th>1</th>\n",
              "      <td>[76, 75, 67, 62, 68, 72, 73, 73, 68, 69, 69, 6...</td>\n",
              "      <td>1</td>\n",
              "      <td>[-122.33222866289329, 37.7491755586813]</td>\n",
              "      <td>20170705_180816_103e</td>\n",
              "    </tr>\n",
              "    <tr>\n",
              "      <th>2</th>\n",
              "      <td>[125, 127, 129, 130, 126, 125, 129, 133, 132, ...</td>\n",
              "      <td>1</td>\n",
              "      <td>[-118.14283073363218, 33.736016066914175]</td>\n",
              "      <td>20180712_211331_0f06</td>\n",
              "    </tr>\n",
              "    <tr>\n",
              "      <th>3</th>\n",
              "      <td>[102, 99, 113, 106, 96, 102, 105, 105, 103, 10...</td>\n",
              "      <td>1</td>\n",
              "      <td>[-122.34784341495181, 37.76648707436548]</td>\n",
              "      <td>20170609_180756_103a</td>\n",
              "    </tr>\n",
              "    <tr>\n",
              "      <th>4</th>\n",
              "      <td>[78, 76, 74, 78, 79, 79, 79, 82, 86, 85, 83, 8...</td>\n",
              "      <td>1</td>\n",
              "      <td>[-122.34852408322172, 37.75878462398653]</td>\n",
              "      <td>20170515_180653_1007</td>\n",
              "    </tr>\n",
              "  </tbody>\n",
              "</table>\n",
              "</div>"
            ],
            "text/plain": [
              "                                                data  ...             scene_ids\n",
              "0  [82, 89, 91, 87, 89, 87, 86, 86, 86, 86, 84, 8...  ...  20180708_180909_0f47\n",
              "1  [76, 75, 67, 62, 68, 72, 73, 73, 68, 69, 69, 6...  ...  20170705_180816_103e\n",
              "2  [125, 127, 129, 130, 126, 125, 129, 133, 132, ...  ...  20180712_211331_0f06\n",
              "3  [102, 99, 113, 106, 96, 102, 105, 105, 103, 10...  ...  20170609_180756_103a\n",
              "4  [78, 76, 74, 78, 79, 79, 79, 82, 86, 85, 83, 8...  ...  20170515_180653_1007\n",
              "\n",
              "[5 rows x 4 columns]"
            ]
          },
          "metadata": {
            "tags": []
          },
          "execution_count": 22
        }
      ]
    },
    {
      "cell_type": "code",
      "metadata": {
        "id": "LyXqr0wRn8G3",
        "colab_type": "code",
        "outputId": "9e313079-62f1-41f3-c6d2-073a88ca0cb7",
        "colab": {
          "base_uri": "https://localhost:8080/",
          "height": 206
        }
      },
      "source": [
        "with open('shipsnet.json') as data_file:\n",
        "    kg_ships_dict = json.load(data_file)\n",
        "\n",
        "kg_ships_df = pd.DataFrame(kg_ships_dict)\n",
        "kg_ships_df.head()"
      ],
      "execution_count": 23,
      "outputs": [
        {
          "output_type": "execute_result",
          "data": {
            "text/html": [
              "<div>\n",
              "<style scoped>\n",
              "    .dataframe tbody tr th:only-of-type {\n",
              "        vertical-align: middle;\n",
              "    }\n",
              "\n",
              "    .dataframe tbody tr th {\n",
              "        vertical-align: top;\n",
              "    }\n",
              "\n",
              "    .dataframe thead th {\n",
              "        text-align: right;\n",
              "    }\n",
              "</style>\n",
              "<table border=\"1\" class=\"dataframe\">\n",
              "  <thead>\n",
              "    <tr style=\"text-align: right;\">\n",
              "      <th></th>\n",
              "      <th>data</th>\n",
              "      <th>labels</th>\n",
              "      <th>locations</th>\n",
              "      <th>scene_ids</th>\n",
              "    </tr>\n",
              "  </thead>\n",
              "  <tbody>\n",
              "    <tr>\n",
              "      <th>0</th>\n",
              "      <td>[82, 89, 91, 87, 89, 87, 86, 86, 86, 86, 84, 8...</td>\n",
              "      <td>1</td>\n",
              "      <td>[-118.2254694333423, 33.73803725920789]</td>\n",
              "      <td>20180708_180909_0f47</td>\n",
              "    </tr>\n",
              "    <tr>\n",
              "      <th>1</th>\n",
              "      <td>[76, 75, 67, 62, 68, 72, 73, 73, 68, 69, 69, 6...</td>\n",
              "      <td>1</td>\n",
              "      <td>[-122.33222866289329, 37.7491755586813]</td>\n",
              "      <td>20170705_180816_103e</td>\n",
              "    </tr>\n",
              "    <tr>\n",
              "      <th>2</th>\n",
              "      <td>[125, 127, 129, 130, 126, 125, 129, 133, 132, ...</td>\n",
              "      <td>1</td>\n",
              "      <td>[-118.14283073363218, 33.736016066914175]</td>\n",
              "      <td>20180712_211331_0f06</td>\n",
              "    </tr>\n",
              "    <tr>\n",
              "      <th>3</th>\n",
              "      <td>[102, 99, 113, 106, 96, 102, 105, 105, 103, 10...</td>\n",
              "      <td>1</td>\n",
              "      <td>[-122.34784341495181, 37.76648707436548]</td>\n",
              "      <td>20170609_180756_103a</td>\n",
              "    </tr>\n",
              "    <tr>\n",
              "      <th>4</th>\n",
              "      <td>[78, 76, 74, 78, 79, 79, 79, 82, 86, 85, 83, 8...</td>\n",
              "      <td>1</td>\n",
              "      <td>[-122.34852408322172, 37.75878462398653]</td>\n",
              "      <td>20170515_180653_1007</td>\n",
              "    </tr>\n",
              "  </tbody>\n",
              "</table>\n",
              "</div>"
            ],
            "text/plain": [
              "                                                data  ...             scene_ids\n",
              "0  [82, 89, 91, 87, 89, 87, 86, 86, 86, 86, 84, 8...  ...  20180708_180909_0f47\n",
              "1  [76, 75, 67, 62, 68, 72, 73, 73, 68, 69, 69, 6...  ...  20170705_180816_103e\n",
              "2  [125, 127, 129, 130, 126, 125, 129, 133, 132, ...  ...  20180712_211331_0f06\n",
              "3  [102, 99, 113, 106, 96, 102, 105, 105, 103, 10...  ...  20170609_180756_103a\n",
              "4  [78, 76, 74, 78, 79, 79, 79, 82, 86, 85, 83, 8...  ...  20170515_180653_1007\n",
              "\n",
              "[5 rows x 4 columns]"
            ]
          },
          "metadata": {
            "tags": []
          },
          "execution_count": 23
        }
      ]
    },
    {
      "cell_type": "code",
      "metadata": {
        "id": "uT5kX-hWn_F-",
        "colab_type": "code",
        "outputId": "54d89217-3eac-4b84-b736-5c021752fc22",
        "colab": {
          "base_uri": "https://localhost:8080/",
          "height": 35
        }
      },
      "source": [
        "n_spectrum = 3 # color channel (RGB)\n",
        "kg_patch_size = 80\n",
        "kg_ships_patches = np.array(kg_ships_dict['data']\n",
        "             ).astype('uint8'\n",
        "             ).reshape([-1, n_spectrum, kg_patch_size, kg_patch_size])\n",
        "kg_ships_patches = np.moveaxis(kg_ships_patches, 1, 3)\n",
        "kg_ships_patches.shape"
      ],
      "execution_count": 24,
      "outputs": [
        {
          "output_type": "execute_result",
          "data": {
            "text/plain": [
              "(4000, 80, 80, 3)"
            ]
          },
          "metadata": {
            "tags": []
          },
          "execution_count": 24
        }
      ]
    },
    {
      "cell_type": "code",
      "metadata": {
        "id": "pTe-cEyJooMJ",
        "colab_type": "code",
        "outputId": "280fb822-8e84-4abc-8296-bb57c1be38f3",
        "colab": {
          "base_uri": "https://localhost:8080/",
          "height": 35
        }
      },
      "source": [
        "kg_ships_patches.min(), kg_ships_patches.max()"
      ],
      "execution_count": 25,
      "outputs": [
        {
          "output_type": "execute_result",
          "data": {
            "text/plain": [
              "(1, 255)"
            ]
          },
          "metadata": {
            "tags": []
          },
          "execution_count": 25
        }
      ]
    },
    {
      "cell_type": "code",
      "metadata": {
        "id": "wj0goacTpfzg",
        "colab_type": "code",
        "outputId": "65b50180-3874-4556-c70b-e41b72d37d89",
        "colab": {
          "base_uri": "https://localhost:8080/",
          "height": 286
        }
      },
      "source": [
        "plt.imshow(kg_ships_patches[100])"
      ],
      "execution_count": 26,
      "outputs": [
        {
          "output_type": "execute_result",
          "data": {
            "text/plain": [
              "<matplotlib.image.AxesImage at 0x7fadfcc72390>"
            ]
          },
          "metadata": {
            "tags": []
          },
          "execution_count": 26
        },
        {
          "output_type": "display_data",
          "data": {
            "image/png": "[encoded data removed]",
            "text/plain": [
              "<Figure size 432x288 with 1 Axes>"
            ]
          },
          "metadata": {
            "tags": [],
            "needs_background": "light"
          }
        }
      ]
    },
    {
      "cell_type": "code",
      "metadata": {
        "id": "pxGG14jypmpJ",
        "colab_type": "code",
        "colab": {
          "base_uri": "https://localhost:8080/",
          "height": 35
        },
        "outputId": "9970eb17-fa24-436c-dd0f-c3c278f21f37"
      },
      "source": [
        "kg_patch_new_size = round(kg_patch_size*SCALE_FACTOR)\n",
        "print(kg_patch_new_size)\n",
        "kg_patches_resize = np.zeros([kg_ships_patches.shape[0],\n",
        "                            kg_patch_new_size,\n",
        "                            kg_patch_new_size,\n",
        "                            kg_ships_patches.shape[3]])"
      ],
      "execution_count": 70,
      "outputs": [
        {
          "output_type": "stream",
          "text": [
            "30\n"
          ],
          "name": "stdout"
        }
      ]
    },
    {
      "cell_type": "code",
      "metadata": {
        "id": "UWQs6KIzsTAd",
        "colab_type": "code",
        "colab": {}
      },
      "source": [
        "for img in range(kg_ships_patches.shape[0]):\n",
        "  kg_patches_resize[img] = resize(kg_ships_patches[img], [kg_patch_new_size, kg_patch_new_size])"
      ],
      "execution_count": 0,
      "outputs": []
    },
    {
      "cell_type": "code",
      "metadata": {
        "id": "qsqpvmafrNsl",
        "colab_type": "code",
        "outputId": "555df87d-f94a-4a29-8105-abfaa0c4d3e6",
        "colab": {
          "base_uri": "https://localhost:8080/",
          "height": 284
        }
      },
      "source": [
        "kg_patches_resize.shape, plt.imshow(kg_patches_resize[100])"
      ],
      "execution_count": 72,
      "outputs": [
        {
          "output_type": "execute_result",
          "data": {
            "text/plain": [
              "((4000, 30, 30, 3), <matplotlib.image.AxesImage at 0x7fad47395898>)"
            ]
          },
          "metadata": {
            "tags": []
          },
          "execution_count": 72
        },
        {
          "output_type": "display_data",
          "data": {
            "image/png": "[encoded data removed]",
            "text/plain": [
              "<Figure size 432x288 with 1 Axes>"
            ]
          },
          "metadata": {
            "tags": [],
            "needs_background": "light"
          }
        }
      ]
    },
    {
      "cell_type": "code",
      "metadata": {
        "id": "zxoDTqnQiAje",
        "colab_type": "code",
        "colab": {}
      },
      "source": [
        "# Sample data\n",
        "from sklearn.model_selection import train_test_split\n",
        "X_data, X_sample, y_data, y_sample = train_test_split(kg_patches_resize, \n",
        "                                                    kg_ships_df.labels, \n",
        "                                                    stratify=kg_ships_df.labels, \n",
        "                                                    test_size=0.99, \n",
        "                                                    random_state=42)"
      ],
      "execution_count": 0,
      "outputs": []
    },
    {
      "cell_type": "code",
      "metadata": {
        "id": "_Li2SbGLigpL",
        "colab_type": "code",
        "outputId": "bf6693d4-0bcc-4f7f-d15d-6e0140df675f",
        "colab": {
          "base_uri": "https://localhost:8080/",
          "height": 35
        }
      },
      "source": [
        "X_sample.shape"
      ],
      "execution_count": 74,
      "outputs": [
        {
          "output_type": "execute_result",
          "data": {
            "text/plain": [
              "(3960, 30, 30, 3)"
            ]
          },
          "metadata": {
            "tags": []
          },
          "execution_count": 74
        }
      ]
    },
    {
      "cell_type": "code",
      "metadata": {
        "id": "J_fvma77h3UU",
        "colab_type": "code",
        "outputId": "4611638c-bfe7-487d-d909-1f9a9ae60cbb",
        "colab": {
          "base_uri": "https://localhost:8080/",
          "height": 35
        }
      },
      "source": [
        "#Prepare Data\n",
        "from __future__ import print_function\n",
        "import keras\n",
        "from keras.datasets import mnist\n",
        "from keras.models import Sequential\n",
        "from keras.layers import Dense, Dropout\n",
        "from keras.optimizers import RMSprop\n",
        "\n",
        "x_train, x_test, y_train, y_test = train_test_split(kg_patches_resize, \n",
        "                                                    kg_ships_df.labels, \n",
        "                                                    stratify=kg_ships_df.labels, \n",
        "                                                    test_size=0.4, \n",
        "                                                    random_state=42)\n",
        "np.unique(y_train, return_counts=True), np.unique(y_test, return_counts=True)"
      ],
      "execution_count": 75,
      "outputs": [
        {
          "output_type": "execute_result",
          "data": {
            "text/plain": [
              "((array([0, 1]), array([1800,  600])), (array([0, 1]), array([1200,  400])))"
            ]
          },
          "metadata": {
            "tags": []
          },
          "execution_count": 75
        }
      ]
    },
    {
      "cell_type": "code",
      "metadata": {
        "id": "an_xH01h9Iw2",
        "colab_type": "code",
        "outputId": "0c349cf9-874f-4b7e-881c-80f0187d844e",
        "colab": {
          "base_uri": "https://localhost:8080/",
          "height": 54
        }
      },
      "source": [
        "x_train = x_train.astype('float32')\n",
        "x_test = x_test.astype('float32')\n",
        "x_train /= 255\n",
        "x_test /= 255\n",
        "print(x_train.shape[0], 'train samples')\n",
        "print(x_test.shape[0], 'test samples')\n",
        "\n",
        "y_train = y_train.astype('int')\n",
        "y_test = y_test.astype('int')\n",
        "num_classes = 2\n",
        "y_train = keras.utils.to_categorical(y_train, num_classes, dtype='int')\n",
        "y_test = keras.utils.to_categorical(y_test, num_classes, dtype='int')"
      ],
      "execution_count": 76,
      "outputs": [
        {
          "output_type": "stream",
          "text": [
            "2400 train samples\n",
            "1600 test samples\n"
          ],
          "name": "stdout"
        }
      ]
    },
    {
      "cell_type": "code",
      "metadata": {
        "id": "HHIBSjMd7li2",
        "colab_type": "code",
        "outputId": "365eab9d-2f0b-41c0-f766-9aaacfb13ddc",
        "colab": {
          "base_uri": "https://localhost:8080/",
          "height": 35
        }
      },
      "source": [
        "x_train.shape"
      ],
      "execution_count": 77,
      "outputs": [
        {
          "output_type": "execute_result",
          "data": {
            "text/plain": [
              "(2400, 30, 30, 3)"
            ]
          },
          "metadata": {
            "tags": []
          },
          "execution_count": 77
        }
      ]
    },
    {
      "cell_type": "code",
      "metadata": {
        "id": "GEWETENJ9Q5o",
        "colab_type": "code",
        "outputId": "14430b0c-6286-43de-a4c7-9f584c8989ce",
        "colab": {
          "base_uri": "https://localhost:8080/",
          "height": 146
        }
      },
      "source": [
        "y_train"
      ],
      "execution_count": 78,
      "outputs": [
        {
          "output_type": "execute_result",
          "data": {
            "text/plain": [
              "array([[1, 0],\n",
              "       [0, 1],\n",
              "       [1, 0],\n",
              "       ...,\n",
              "       [1, 0],\n",
              "       [0, 1],\n",
              "       [1, 0]])"
            ]
          },
          "metadata": {
            "tags": []
          },
          "execution_count": 78
        }
      ]
    },
    {
      "cell_type": "code",
      "metadata": {
        "colab_type": "code",
        "id": "QxV78TVFZSjt",
        "colab": {}
      },
      "source": [
        "from keras.layers.convolutional import Conv2D, MaxPooling2D\n",
        "from keras.layers import Dense, Flatten, Activation\n",
        "\n",
        "M = Sequential()\n",
        "M.add(Conv2D(32, (3, 3), padding='same', activation='relu', input_shape=(kg_patch_new_size, kg_patch_new_size, 3)))\n",
        "M.add(Dropout(0.20))\n",
        "\n",
        "M.add(Conv2D(64, (3, 3), padding='same', activation='relu'))\n",
        "M.add(MaxPooling2D(pool_size=(2, 2))) #12x12\n",
        "M.add(Dropout(0.20))\n",
        "\n",
        "M.add(Conv2D(128, (3, 3), padding='same', activation='relu'))\n",
        "M.add(MaxPooling2D(pool_size=(2, 2))) #6x6\n",
        "\n",
        "#M.add(Conv2D(512, (3, 3), padding='same', activation='softmax'))\n",
        "#M.add(MaxPooling2D(pool_size=(2, 2))) #3x3\n",
        "\n",
        "M.add(Dropout(0.20))\n",
        "M.add(Flatten())\n",
        "\n",
        "M.add(Dense(512, activation='relu'))\n",
        "M.add(Dropout(0.20))\n",
        "#M.add(Dense(512, activation='softmax'))\n",
        "M.add(Dense(2, activation='softmax'))"
      ],
      "execution_count": 0,
      "outputs": []
    },
    {
      "cell_type": "code",
      "metadata": {
        "colab_type": "code",
        "outputId": "9065fc88-a55c-4f9f-9184-51a37f3367b8",
        "id": "LSR3xaYSZSkB",
        "colab": {
          "base_uri": "https://localhost:8080/",
          "height": 605
        }
      },
      "source": [
        "M.summary()"
      ],
      "execution_count": 80,
      "outputs": [
        {
          "output_type": "stream",
          "text": [
            "Model: \"sequential_3\"\n",
            "_________________________________________________________________\n",
            "Layer (type)                 Output Shape              Param #   \n",
            "=================================================================\n",
            "conv2d_7 (Conv2D)            (None, 30, 30, 32)        896       \n",
            "_________________________________________________________________\n",
            "dropout_9 (Dropout)          (None, 30, 30, 32)        0         \n",
            "_________________________________________________________________\n",
            "conv2d_8 (Conv2D)            (None, 30, 30, 64)        18496     \n",
            "_________________________________________________________________\n",
            "max_pooling2d_5 (MaxPooling2 (None, 15, 15, 64)        0         \n",
            "_________________________________________________________________\n",
            "dropout_10 (Dropout)         (None, 15, 15, 64)        0         \n",
            "_________________________________________________________________\n",
            "conv2d_9 (Conv2D)            (None, 15, 15, 128)       73856     \n",
            "_________________________________________________________________\n",
            "max_pooling2d_6 (MaxPooling2 (None, 7, 7, 128)         0         \n",
            "_________________________________________________________________\n",
            "dropout_11 (Dropout)         (None, 7, 7, 128)         0         \n",
            "_________________________________________________________________\n",
            "flatten_3 (Flatten)          (None, 6272)              0         \n",
            "_________________________________________________________________\n",
            "dense_5 (Dense)              (None, 512)               3211776   \n",
            "_________________________________________________________________\n",
            "dropout_12 (Dropout)         (None, 512)               0         \n",
            "_________________________________________________________________\n",
            "dense_6 (Dense)              (None, 2)                 1026      \n",
            "=================================================================\n",
            "Total params: 3,306,050\n",
            "Trainable params: 3,306,050\n",
            "Non-trainable params: 0\n",
            "_________________________________________________________________\n"
          ],
          "name": "stdout"
        }
      ]
    },
    {
      "cell_type": "code",
      "metadata": {
        "colab_type": "code",
        "outputId": "c812dd0b-fa0c-4af5-bfa5-150acaf7ab0f",
        "id": "kkayNMjDZSkO",
        "colab": {
          "base_uri": "https://localhost:8080/",
          "height": 1000
        }
      },
      "source": [
        "from keras.utils import plot_model\n",
        "\n",
        "plot_model(M, show_shapes=True, show_layer_names=True)"
      ],
      "execution_count": 81,
      "outputs": [
        {
          "output_type": "execute_result",
          "data": {
            "image/png": "[encoded data removed]",
            "text/plain": [
              "<IPython.core.display.Image object>"
            ]
          },
          "metadata": {
            "tags": []
          },
          "execution_count": 81
        }
      ]
    },
    {
      "cell_type": "code",
      "metadata": {
        "colab_type": "code",
        "id": "GfVxZaGrZSkb",
        "colab": {}
      },
      "source": [
        "M.compile(loss='categorical_crossentropy',\n",
        "              optimizer='adam',\n",
        "              metrics=['accuracy'])"
      ],
      "execution_count": 0,
      "outputs": []
    },
    {
      "cell_type": "code",
      "metadata": {
        "colab_type": "code",
        "outputId": "4c41e8f0-2d06-4ba5-bf29-ce4b84a20b60",
        "id": "_OLO_vwoZSkr",
        "colab": {
          "base_uri": "https://localhost:8080/",
          "height": 1000
        }
      },
      "source": [
        "from tensorflow.keras.preprocessing.image import ImageDataGenerator\n",
        "# data augmentation configuration for training data\n",
        "train_datagen = ImageDataGenerator(\n",
        "    shear_range=0.2,\n",
        "    zoom_range=0.2,\n",
        "    horizontal_flip=True,\n",
        "    vertical_flip=True,\n",
        "    rotation_range=360)\n",
        "\n",
        "# data augmentation configuration for test data:\n",
        "test_datagen = ImageDataGenerator()\n",
        "\n",
        "train_generator = train_datagen.flow(\n",
        "    x_train,\n",
        "    y_train,\n",
        "    batch_size=128,\n",
        "    )\n",
        "\n",
        "validation_generator = test_datagen.flow(\n",
        "    x_test,\n",
        "    y_test,\n",
        "    batch_size=128,\n",
        "    )\n",
        "\n",
        "M.fit_generator(\n",
        "    train_generator,\n",
        "    steps_per_epoch=len(x_train) // 128,\n",
        "    epochs=50,\n",
        "    validation_data=validation_generator,\n",
        "    validation_steps=len(x_test) // 128)"
      ],
      "execution_count": 83,
      "outputs": [
        {
          "output_type": "stream",
          "text": [
            "Epoch 1/50\n",
            "18/18 [==============================] - 2s 96ms/step - loss: 0.5878 - accuracy: 0.7434 - val_loss: 0.6075 - val_accuracy: 0.7500\n",
            "Epoch 2/50\n",
            "18/18 [==============================] - 1s 81ms/step - loss: 0.5656 - accuracy: 0.7544 - val_loss: 0.5636 - val_accuracy: 0.7514\n",
            "Epoch 3/50\n",
            "18/18 [==============================] - 1s 78ms/step - loss: 0.5637 - accuracy: 0.7509 - val_loss: 0.6337 - val_accuracy: 0.7486\n",
            "Epoch 4/50\n",
            "18/18 [==============================] - 1s 79ms/step - loss: 0.5683 - accuracy: 0.7469 - val_loss: 0.5783 - val_accuracy: 0.7480\n",
            "Epoch 5/50\n",
            "18/18 [==============================] - 1s 73ms/step - loss: 0.5604 - accuracy: 0.7509 - val_loss: 0.5738 - val_accuracy: 0.7541\n",
            "Epoch 6/50\n",
            "18/18 [==============================] - 1s 78ms/step - loss: 0.5619 - accuracy: 0.7500 - val_loss: 0.5508 - val_accuracy: 0.7486\n",
            "Epoch 7/50\n",
            "18/18 [==============================] - 1s 78ms/step - loss: 0.5519 - accuracy: 0.7425 - val_loss: 0.5183 - val_accuracy: 0.7527\n",
            "Epoch 8/50\n",
            "18/18 [==============================] - 1s 78ms/step - loss: 0.4469 - accuracy: 0.7613 - val_loss: 0.4225 - val_accuracy: 0.7785\n",
            "Epoch 9/50\n",
            "18/18 [==============================] - 1s 78ms/step - loss: 0.3825 - accuracy: 0.8018 - val_loss: 0.3695 - val_accuracy: 0.7867\n",
            "Epoch 10/50\n",
            "18/18 [==============================] - 1s 80ms/step - loss: 0.3690 - accuracy: 0.8129 - val_loss: 0.3448 - val_accuracy: 0.8240\n",
            "Epoch 11/50\n",
            "18/18 [==============================] - 1s 78ms/step - loss: 0.3521 - accuracy: 0.8253 - val_loss: 0.3855 - val_accuracy: 0.8234\n",
            "Epoch 12/50\n",
            "18/18 [==============================] - 1s 81ms/step - loss: 0.3693 - accuracy: 0.8187 - val_loss: 0.3606 - val_accuracy: 0.8091\n",
            "Epoch 13/50\n",
            "18/18 [==============================] - 1s 73ms/step - loss: 0.4012 - accuracy: 0.8013 - val_loss: 0.3357 - val_accuracy: 0.8213\n",
            "Epoch 14/50\n",
            "18/18 [==============================] - 1s 79ms/step - loss: 0.3607 - accuracy: 0.8164 - val_loss: 0.3492 - val_accuracy: 0.8327\n",
            "Epoch 15/50\n",
            "18/18 [==============================] - 1s 81ms/step - loss: 0.3447 - accuracy: 0.8288 - val_loss: 0.2965 - val_accuracy: 0.8363\n",
            "Epoch 16/50\n",
            "18/18 [==============================] - 1s 79ms/step - loss: 0.3267 - accuracy: 0.8451 - val_loss: 0.2550 - val_accuracy: 0.8567\n",
            "Epoch 17/50\n",
            "18/18 [==============================] - 1s 78ms/step - loss: 0.3150 - accuracy: 0.8512 - val_loss: 0.2714 - val_accuracy: 0.8743\n",
            "Epoch 18/50\n",
            "18/18 [==============================] - 1s 80ms/step - loss: 0.2927 - accuracy: 0.8592 - val_loss: 0.2179 - val_accuracy: 0.8764\n",
            "Epoch 19/50\n",
            "18/18 [==============================] - 1s 78ms/step - loss: 0.2824 - accuracy: 0.8737 - val_loss: 0.2997 - val_accuracy: 0.8539\n",
            "Epoch 20/50\n",
            "18/18 [==============================] - 1s 77ms/step - loss: 0.2818 - accuracy: 0.8680 - val_loss: 0.3161 - val_accuracy: 0.8791\n",
            "Epoch 21/50\n",
            "18/18 [==============================] - 1s 80ms/step - loss: 0.2644 - accuracy: 0.8886 - val_loss: 0.2024 - val_accuracy: 0.9001\n",
            "Epoch 22/50\n",
            "18/18 [==============================] - 2s 84ms/step - loss: 0.2684 - accuracy: 0.8790 - val_loss: 0.2072 - val_accuracy: 0.8995\n",
            "Epoch 23/50\n",
            "18/18 [==============================] - 1s 73ms/step - loss: 0.2454 - accuracy: 0.8983 - val_loss: 0.1667 - val_accuracy: 0.9022\n",
            "Epoch 24/50\n",
            "18/18 [==============================] - 1s 78ms/step - loss: 0.2305 - accuracy: 0.8961 - val_loss: 0.1544 - val_accuracy: 0.9015\n",
            "Epoch 25/50\n",
            "18/18 [==============================] - 1s 79ms/step - loss: 0.2459 - accuracy: 0.8898 - val_loss: 0.1776 - val_accuracy: 0.9083\n",
            "Epoch 26/50\n",
            "18/18 [==============================] - 1s 74ms/step - loss: 0.2383 - accuracy: 0.9049 - val_loss: 0.1500 - val_accuracy: 0.9083\n",
            "Epoch 27/50\n",
            "18/18 [==============================] - 1s 78ms/step - loss: 0.2361 - accuracy: 0.8952 - val_loss: 0.2031 - val_accuracy: 0.9154\n",
            "Epoch 28/50\n",
            "18/18 [==============================] - 1s 81ms/step - loss: 0.2080 - accuracy: 0.9145 - val_loss: 0.2271 - val_accuracy: 0.9171\n",
            "Epoch 29/50\n",
            "18/18 [==============================] - 1s 79ms/step - loss: 0.2256 - accuracy: 0.9027 - val_loss: 0.1965 - val_accuracy: 0.9137\n",
            "Epoch 30/50\n",
            "18/18 [==============================] - 1s 79ms/step - loss: 0.1895 - accuracy: 0.9195 - val_loss: 0.1756 - val_accuracy: 0.9219\n",
            "Epoch 31/50\n",
            "18/18 [==============================] - 1s 73ms/step - loss: 0.1990 - accuracy: 0.9177 - val_loss: 0.1779 - val_accuracy: 0.9260\n",
            "Epoch 32/50\n",
            "18/18 [==============================] - 1s 79ms/step - loss: 0.1932 - accuracy: 0.9208 - val_loss: 0.1866 - val_accuracy: 0.9361\n",
            "Epoch 33/50\n",
            "18/18 [==============================] - 1s 78ms/step - loss: 0.1756 - accuracy: 0.9314 - val_loss: 0.1236 - val_accuracy: 0.9423\n",
            "Epoch 34/50\n",
            "18/18 [==============================] - 1s 79ms/step - loss: 0.1840 - accuracy: 0.9283 - val_loss: 0.1656 - val_accuracy: 0.9429\n",
            "Epoch 35/50\n",
            "18/18 [==============================] - 1s 78ms/step - loss: 0.1662 - accuracy: 0.9349 - val_loss: 0.1820 - val_accuracy: 0.9490\n",
            "Epoch 36/50\n",
            "18/18 [==============================] - 1s 79ms/step - loss: 0.1582 - accuracy: 0.9357 - val_loss: 0.1459 - val_accuracy: 0.9314\n",
            "Epoch 37/50\n",
            "18/18 [==============================] - 1s 79ms/step - loss: 0.1732 - accuracy: 0.9269 - val_loss: 0.1424 - val_accuracy: 0.9389\n",
            "Epoch 38/50\n",
            "18/18 [==============================] - 1s 76ms/step - loss: 0.1803 - accuracy: 0.9291 - val_loss: 0.2181 - val_accuracy: 0.9280\n",
            "Epoch 39/50\n",
            "18/18 [==============================] - 1s 76ms/step - loss: 0.1639 - accuracy: 0.9335 - val_loss: 0.1066 - val_accuracy: 0.9477\n",
            "Epoch 40/50\n",
            "18/18 [==============================] - 1s 77ms/step - loss: 0.1488 - accuracy: 0.9459 - val_loss: 0.1158 - val_accuracy: 0.9479\n",
            "Epoch 41/50\n",
            "18/18 [==============================] - 1s 80ms/step - loss: 0.1520 - accuracy: 0.9419 - val_loss: 0.0605 - val_accuracy: 0.9660\n",
            "Epoch 42/50\n",
            "18/18 [==============================] - 1s 79ms/step - loss: 0.1419 - accuracy: 0.9472 - val_loss: 0.1589 - val_accuracy: 0.9436\n",
            "Epoch 43/50\n",
            "18/18 [==============================] - 1s 79ms/step - loss: 0.1422 - accuracy: 0.9503 - val_loss: 0.1366 - val_accuracy: 0.9477\n",
            "Epoch 44/50\n",
            "18/18 [==============================] - 1s 78ms/step - loss: 0.1413 - accuracy: 0.9507 - val_loss: 0.0874 - val_accuracy: 0.9742\n",
            "Epoch 45/50\n",
            "18/18 [==============================] - 2s 84ms/step - loss: 0.1245 - accuracy: 0.9514 - val_loss: 0.1012 - val_accuracy: 0.9511\n",
            "Epoch 46/50\n",
            "18/18 [==============================] - 1s 78ms/step - loss: 0.1160 - accuracy: 0.9554 - val_loss: 0.1487 - val_accuracy: 0.9375\n",
            "Epoch 47/50\n",
            "18/18 [==============================] - 1s 78ms/step - loss: 0.1357 - accuracy: 0.9518 - val_loss: 0.1395 - val_accuracy: 0.9626\n",
            "Epoch 48/50\n",
            "18/18 [==============================] - 1s 79ms/step - loss: 0.1226 - accuracy: 0.9577 - val_loss: 0.0663 - val_accuracy: 0.9524\n",
            "Epoch 49/50\n",
            "18/18 [==============================] - 1s 73ms/step - loss: 0.1137 - accuracy: 0.9612 - val_loss: 0.1206 - val_accuracy: 0.9592\n",
            "Epoch 50/50\n",
            "18/18 [==============================] - 1s 78ms/step - loss: 0.1345 - accuracy: 0.9529 - val_loss: 0.1691 - val_accuracy: 0.9382\n"
          ],
          "name": "stdout"
        },
        {
          "output_type": "execute_result",
          "data": {
            "text/plain": [
              "<keras.callbacks.callbacks.History at 0x7fad47246b38>"
            ]
          },
          "metadata": {
            "tags": []
          },
          "execution_count": 83
        }
      ]
    },
    {
      "cell_type": "code",
      "metadata": {
        "colab_type": "code",
        "outputId": "8e5f9a09-8dc5-4286-8e35-d550650f3e17",
        "id": "CLZAmPMxZSk1",
        "colab": {
          "base_uri": "https://localhost:8080/",
          "height": 54
        }
      },
      "source": [
        "#Evaluating test loss and test accuracy\n",
        "score = M.evaluate(x_test, y_test, verbose=0)\n",
        "print('Test loss:', score[0])\n",
        "print('Test accuracy:', score[1])"
      ],
      "execution_count": 84,
      "outputs": [
        {
          "output_type": "stream",
          "text": [
            "Test loss: 0.15718059241771698\n",
            "Test accuracy: 0.9387500286102295\n"
          ],
          "name": "stdout"
        }
      ]
    },
    {
      "cell_type": "markdown",
      "metadata": {
        "id": "CFeC6HqcDDrl",
        "colab_type": "text"
      },
      "source": [
        "# Load Sentinel-2 Data"
      ]
    },
    {
      "cell_type": "code",
      "metadata": {
        "id": "CmqOYkQmDI6Y",
        "colab_type": "code",
        "colab": {
          "base_uri": "https://localhost:8080/",
          "height": 290
        },
        "outputId": "c422e9c2-f1b3-4aff-ffe6-4304780caa88"
      },
      "source": [
        "# Sentinel API Query\n",
        "api = SentinelAPI(SENTINEL_USER, SENTINEL_PWD, 'https://scihub.copernicus.eu/dhus')\n",
        "\n",
        "scenes = api.to_geodataframe(api.query(tileid=TILE_ID,\n",
        "                                             date=('20100101','NOW'),\n",
        "                                             platformname='Sentinel-2',\n",
        "                                             cloudcoverpercentage=(0, 6)))\n",
        "#get full scene metadata\n",
        "tempList = list()\n",
        "for uuid in scenes.uuid:\n",
        "  tempList.append(api.get_product_odata(uuid, full=True))\n",
        "\n",
        "sceneMeta = pd.DataFrame(tempList)\n",
        "sceneMeta = sceneMeta.loc[sceneMeta['Online'] == True] # filter out images that are in Long Term Archive and have a 30 minute throttle to download\n",
        "\n",
        "sceneMeta"
      ],
      "execution_count": 47,
      "outputs": [
        {
          "output_type": "stream",
          "text": [
            "/usr/local/lib/python3.6/dist-packages/pyproj/crs/crs.py:53: FutureWarning: '+init=<authority>:<code>' syntax is deprecated. '<authority>:<code>' is the preferred initialization method. When making the change, be mindful of axis order changes: https://pyproj4.github.io/pyproj/stable/gotchas.html#axis-order-changes-in-proj-6\n",
            "  return _prepare_from_string(\" \".join(pjargs))\n"
          ],
          "name": "stderr"
        },
        {
          "output_type": "execute_result",
          "data": {
            "text/html": [
              "<div>\n",
              "<style scoped>\n",
              "    .dataframe tbody tr th:only-of-type {\n",
              "        vertical-align: middle;\n",
              "    }\n",
              "\n",
              "    .dataframe tbody tr th {\n",
              "        vertical-align: top;\n",
              "    }\n",
              "\n",
              "    .dataframe thead th {\n",
              "        text-align: right;\n",
              "    }\n",
              "</style>\n",
              "<table border=\"1\" class=\"dataframe\">\n",
              "  <thead>\n",
              "    <tr style=\"text-align: right;\">\n",
              "      <th></th>\n",
              "      <th>id</th>\n",
              "      <th>title</th>\n",
              "      <th>size</th>\n",
              "      <th>md5</th>\n",
              "      <th>date</th>\n",
              "      <th>footprint</th>\n",
              "      <th>url</th>\n",
              "      <th>Online</th>\n",
              "      <th>Creation Date</th>\n",
              "      <th>Ingestion Date</th>\n",
              "      <th>Cloud cover percentage</th>\n",
              "      <th>Datatake sensing start</th>\n",
              "      <th>Date</th>\n",
              "      <th>Degraded ancillary data percentage</th>\n",
              "      <th>Degraded MSI data percentage</th>\n",
              "      <th>Filename</th>\n",
              "      <th>Footprint</th>\n",
              "      <th>Format</th>\n",
              "      <th>Format correctness</th>\n",
              "      <th>General quality</th>\n",
              "      <th>Generation time</th>\n",
              "      <th>Geometric quality</th>\n",
              "      <th>Identifier</th>\n",
              "      <th>Instrument</th>\n",
              "      <th>Instrument abbreviation</th>\n",
              "      <th>Instrument mode</th>\n",
              "      <th>Instrument name</th>\n",
              "      <th>JTS footprint</th>\n",
              "      <th>Mission datatake id</th>\n",
              "      <th>NSSDC identifier</th>\n",
              "      <th>Orbit number (start)</th>\n",
              "      <th>Pass direction</th>\n",
              "      <th>Platform serial identifier</th>\n",
              "      <th>Processing baseline</th>\n",
              "      <th>Processing level</th>\n",
              "      <th>Product type</th>\n",
              "      <th>Radiometric quality</th>\n",
              "      <th>Relative orbit (start)</th>\n",
              "      <th>Satellite</th>\n",
              "      <th>Satellite name</th>\n",
              "      <th>Satellite number</th>\n",
              "      <th>Sensing start</th>\n",
              "      <th>Sensing stop</th>\n",
              "      <th>Sensor quality</th>\n",
              "      <th>Size</th>\n",
              "      <th>Tile Identifier</th>\n",
              "      <th>Tile Identifier horizontal order</th>\n",
              "      <th>Level-1C PDI Identifier</th>\n",
              "      <th>Datastrip identifier</th>\n",
              "      <th>Granule identifier</th>\n",
              "    </tr>\n",
              "  </thead>\n",
              "  <tbody>\n",
              "    <tr>\n",
              "      <th>0</th>\n",
              "      <td>8345c17f-dd76-4398-b4bf-2eb708631b07</td>\n",
              "      <td>S2A_MSIL1C_20191227T032131_N0208_R118_T48NUG_2...</td>\n",
              "      <td>784125118</td>\n",
              "      <td>FCD2A37B4A069C5342299AD2AEE90B41</td>\n",
              "      <td>2019-12-27 03:21:31.024</td>\n",
              "      <td>POLYGON((103.20205689083804 1.808922187860351,...</td>\n",
              "      <td>https://scihub.copernicus.eu/dhus/odata/v1/Pro...</td>\n",
              "      <td>True</td>\n",
              "      <td>2019-12-27 08:04:08.105</td>\n",
              "      <td>2019-12-27 08:03:15.620</td>\n",
              "      <td>3.6098</td>\n",
              "      <td>2019-12-27 03:21:31.024</td>\n",
              "      <td>2019-12-27 03:21:31.024</td>\n",
              "      <td>0.0</td>\n",
              "      <td>0</td>\n",
              "      <td>S2A_MSIL1C_20191227T032131_N0208_R118_T48NUG_2...</td>\n",
              "      <td>&lt;gml:Polygon srsName=\"http://www.opengis.net/g...</td>\n",
              "      <td>SAFE</td>\n",
              "      <td>PASSED</td>\n",
              "      <td>PASSED</td>\n",
              "      <td>2019-12-27 06:07:36</td>\n",
              "      <td>PASSED</td>\n",
              "      <td>S2A_MSIL1C_20191227T032131_N0208_R118_T48NUG_2...</td>\n",
              "      <td>MSI</td>\n",
              "      <td>MSI</td>\n",
              "      <td>INS-NOBS</td>\n",
              "      <td>Multi-Spectral Instrument</td>\n",
              "      <td>MULTIPOLYGON (((103.2027660714231 0.8160247595...</td>\n",
              "      <td>GS2A_20191227T032131_023567_N02.08</td>\n",
              "      <td>2015-028A</td>\n",
              "      <td>23567</td>\n",
              "      <td>DESCENDING</td>\n",
              "      <td>Sentinel-2A</td>\n",
              "      <td>2.08</td>\n",
              "      <td>Level-1C</td>\n",
              "      <td>S2MSI1C</td>\n",
              "      <td>PASSED</td>\n",
              "      <td>118</td>\n",
              "      <td>Sentinel-2</td>\n",
              "      <td>Sentinel-2</td>\n",
              "      <td>A</td>\n",
              "      <td>2019-12-27 03:21:31.024</td>\n",
              "      <td>2019-12-27 03:21:31.024</td>\n",
              "      <td>PASSED</td>\n",
              "      <td>747.76 MB</td>\n",
              "      <td>48NUG</td>\n",
              "      <td>NG48U</td>\n",
              "      <td>S2A_OPER_MSI_L1C_TL_EPAE_20191227T060736_A0235...</td>\n",
              "      <td>NaN</td>\n",
              "      <td>NaN</td>\n",
              "    </tr>\n",
              "    <tr>\n",
              "      <th>1</th>\n",
              "      <td>5d57f964-03cb-4001-a2f2-33f9eba9605e</td>\n",
              "      <td>S2B_MSIL1C_20190705T031549_N0207_R118_T48NUG_2...</td>\n",
              "      <td>779449455</td>\n",
              "      <td>5E51BCC8A45CF3ADD026433463D37D58</td>\n",
              "      <td>2019-07-05 03:15:49.024</td>\n",
              "      <td>POLYGON((103.20205689083804 1.808922187860351,...</td>\n",
              "      <td>https://scihub.copernicus.eu/dhus/odata/v1/Pro...</td>\n",
              "      <td>True</td>\n",
              "      <td>2019-07-05 10:32:33.443</td>\n",
              "      <td>2019-07-05 09:41:20.667</td>\n",
              "      <td>5.5518</td>\n",
              "      <td>2019-07-05 03:15:49.024</td>\n",
              "      <td>2019-07-05 03:15:49.024</td>\n",
              "      <td>0.0</td>\n",
              "      <td>0</td>\n",
              "      <td>S2B_MSIL1C_20190705T031549_N0207_R118_T48NUG_2...</td>\n",
              "      <td>&lt;gml:Polygon srsName=\"http://www.opengis.net/g...</td>\n",
              "      <td>SAFE</td>\n",
              "      <td>PASSED</td>\n",
              "      <td>PASSED</td>\n",
              "      <td>2019-07-05 06:53:23</td>\n",
              "      <td>PASSED</td>\n",
              "      <td>S2B_MSIL1C_20190705T031549_N0207_R118_T48NUG_2...</td>\n",
              "      <td>MSI</td>\n",
              "      <td>MSI</td>\n",
              "      <td>INS-NOBS</td>\n",
              "      <td>Multi-Spectral Instrument</td>\n",
              "      <td>MULTIPOLYGON (((103.2027660714231 0.8160247595...</td>\n",
              "      <td>GS2B_20190705T031549_012156_N02.07</td>\n",
              "      <td>2017-013A</td>\n",
              "      <td>12156</td>\n",
              "      <td>DESCENDING</td>\n",
              "      <td>Sentinel-2B</td>\n",
              "      <td>2.07</td>\n",
              "      <td>Level-1C</td>\n",
              "      <td>S2MSI1C</td>\n",
              "      <td>PASSED</td>\n",
              "      <td>118</td>\n",
              "      <td>Sentinel-2</td>\n",
              "      <td>Sentinel-2</td>\n",
              "      <td>B</td>\n",
              "      <td>2019-07-05 03:15:49.024</td>\n",
              "      <td>2019-07-05 03:15:49.024</td>\n",
              "      <td>PASSED</td>\n",
              "      <td>743.30 MB</td>\n",
              "      <td>48NUG</td>\n",
              "      <td>NG48U</td>\n",
              "      <td>S2B_OPER_MSI_L1C_TL_SGS__20190705T065323_A0121...</td>\n",
              "      <td>NaN</td>\n",
              "      <td>NaN</td>\n",
              "    </tr>\n",
              "  </tbody>\n",
              "</table>\n",
              "</div>"
            ],
            "text/plain": [
              "                                     id  ... Granule identifier\n",
              "0  8345c17f-dd76-4398-b4bf-2eb708631b07  ...                NaN\n",
              "1  5d57f964-03cb-4001-a2f2-33f9eba9605e  ...                NaN\n",
              "\n",
              "[2 rows x 50 columns]"
            ]
          },
          "metadata": {
            "tags": []
          },
          "execution_count": 47
        }
      ]
    },
    {
      "cell_type": "code",
      "metadata": {
        "id": "5-W2WS6vDMh2",
        "colab_type": "code",
        "colab": {
          "base_uri": "https://localhost:8080/",
          "height": 127
        },
        "outputId": "ab928e58-84c7-43d5-b7c4-7cf84ee794ae"
      },
      "source": [
        "# download sentinel images available online\n",
        "for index, row in sceneMeta.iterrows():\n",
        "  uuid = row['id']\n",
        "  title = row['title']\n",
        "  filename = row['Filename']\n",
        "  print(f'Downloading {title}')\n",
        "  api.download(uuid)"
      ],
      "execution_count": 48,
      "outputs": [
        {
          "output_type": "stream",
          "text": [
            "Downloading S2A_MSIL1C_20191227T032131_N0208_R118_T48NUG_20191227T060736\n"
          ],
          "name": "stdout"
        },
        {
          "output_type": "stream",
          "text": [
            "Downloading: 100%|██████████| 784M/784M [00:15<00:00, 50.3MB/s]\n",
            "MD5 checksumming: 100%|██████████| 784M/784M [00:01<00:00, 408MB/s]\n"
          ],
          "name": "stderr"
        },
        {
          "output_type": "stream",
          "text": [
            "Downloading S2B_MSIL1C_20190705T031549_N0207_R118_T48NUG_20190705T065323\n"
          ],
          "name": "stdout"
        },
        {
          "output_type": "stream",
          "text": [
            "Downloading: 100%|██████████| 779M/779M [00:16<00:00, 46.2MB/s]\n",
            "MD5 checksumming: 100%|██████████| 779M/779M [00:01<00:00, 406MB/s]\n"
          ],
          "name": "stderr"
        }
      ]
    },
    {
      "cell_type": "code",
      "metadata": {
        "id": "GdX5h9UEDPbd",
        "colab_type": "code",
        "colab": {
          "base_uri": "https://localhost:8080/",
          "height": 54
        },
        "outputId": "1c280ec1-4bbc-42bc-88d8-b449a501b3f6"
      },
      "source": [
        "# Unzip folders\n",
        "# this creates SAFE files/directories which are explained here: https://sentinel.esa.int/web/sentinel/user-guides/sentinel-2-msi/data-formats\n",
        "for index, row in sceneMeta.iterrows(): \n",
        "    title = row['title']\n",
        "    filename = row['Filename']\n",
        "    print(f'Unzipping {title}')\n",
        "    with zipfile.ZipFile(title+'.zip', 'r') as safezip:\n",
        "      safezip.extractall(filename)"
      ],
      "execution_count": 49,
      "outputs": [
        {
          "output_type": "stream",
          "text": [
            "Unzipping S2A_MSIL1C_20191227T032131_N0208_R118_T48NUG_20191227T060736\n",
            "Unzipping S2B_MSIL1C_20190705T031549_N0207_R118_T48NUG_20190705T065323\n"
          ],
          "name": "stdout"
        }
      ]
    },
    {
      "cell_type": "code",
      "metadata": {
        "id": "TsD9nuwjDRqJ",
        "colab_type": "code",
        "colab": {
          "base_uri": "https://localhost:8080/",
          "height": 72
        },
        "outputId": "ceea2530-056c-4026-cbea-7d30205ca510"
      },
      "source": [
        "image_paths = []\n",
        "for index, row in sceneMeta.iterrows():\n",
        "  image_paths.append(extract_rgb_jp2(row['Filename'], row['title']))\n",
        "print(image_paths)"
      ],
      "execution_count": 50,
      "outputs": [
        {
          "output_type": "stream",
          "text": [
            "Copying T48NUG_20191227T032131_TCI.jp2 to S2A_MSIL1C_20191227T032131_N0208_R118_T48NUG_20191227T060736.jp2\n",
            "Copying T48NUG_20190705T031549_TCI.jp2 to S2B_MSIL1C_20190705T031549_N0207_R118_T48NUG_20190705T065323.jp2\n",
            "['S2A_MSIL1C_20191227T032131_N0208_R118_T48NUG_20191227T060736.jp2', 'S2B_MSIL1C_20190705T031549_N0207_R118_T48NUG_20190705T065323.jp2']\n"
          ],
          "name": "stdout"
        }
      ]
    },
    {
      "cell_type": "code",
      "metadata": {
        "id": "P8FVtl6HDV4U",
        "colab_type": "code",
        "colab": {
          "base_uri": "https://localhost:8080/",
          "height": 90
        },
        "outputId": "9b066a3a-6cad-447d-becb-b1c5db214869"
      },
      "source": [
        "# delete unneeded files to free up space\n",
        "# eventually maybe move into extraction for-loops\n",
        "for name in sceneMeta.title:\n",
        "  if os.path.exists(name+'.zip'):\n",
        "    print(f'Deleting {name}.zip')\n",
        "    os.remove(name+'.zip')\n",
        "  if os.path.exists(name+'.SAFE'):\n",
        "    print(f'Deleting {name}.SAFE')\n",
        "    shutil.rmtree(name+'.SAFE')"
      ],
      "execution_count": 51,
      "outputs": [
        {
          "output_type": "stream",
          "text": [
            "Deleting S2A_MSIL1C_20191227T032131_N0208_R118_T48NUG_20191227T060736.zip\n",
            "Deleting S2A_MSIL1C_20191227T032131_N0208_R118_T48NUG_20191227T060736.SAFE\n",
            "Deleting S2B_MSIL1C_20190705T031549_N0207_R118_T48NUG_20190705T065323.zip\n",
            "Deleting S2B_MSIL1C_20190705T031549_N0207_R118_T48NUG_20190705T065323.SAFE\n"
          ],
          "name": "stdout"
        }
      ]
    },
    {
      "cell_type": "code",
      "metadata": {
        "id": "nLuL31hbDYOC",
        "colab_type": "code",
        "colab": {
          "base_uri": "https://localhost:8080/",
          "height": 219
        },
        "outputId": "de5ba783-42fd-4edb-a04d-72ad82e74c98"
      },
      "source": [
        "os.listdir()"
      ],
      "execution_count": 52,
      "outputs": [
        {
          "output_type": "execute_result",
          "data": {
            "text/plain": [
              "['.config',\n",
              " 'shipsnet.json',\n",
              " 'S2B_MSIL1C_20190705T031549_N0207_R118_T48NUG_20190705T065323.jp2',\n",
              " 'scenes',\n",
              " 'drive',\n",
              " '.kaggle',\n",
              " 'shipsnet',\n",
              " 'model.png',\n",
              " 'S2A_MSIL1C_20191227T032131_N0208_R118_T48NUG_20191227T060736.jp2',\n",
              " 'ships-in-satellite-imagery.zip',\n",
              " 'sample_data']"
            ]
          },
          "metadata": {
            "tags": []
          },
          "execution_count": 52
        }
      ]
    },
    {
      "cell_type": "code",
      "metadata": {
        "id": "KEsWBrXNDaEI",
        "colab_type": "code",
        "colab": {}
      },
      "source": [
        "# load ship points and scene\n",
        "scene_name = sceneMeta.title[0] # \n",
        "ship_points = gpd.read_file(DRIVE_PATH+scene_name+'_SHIPS.geojson')\n",
        "sat_img = rio.open(scene_name+'.jp2')"
      ],
      "execution_count": 0,
      "outputs": []
    },
    {
      "cell_type": "code",
      "metadata": {
        "id": "3rMu4hWTDdgG",
        "colab_type": "code",
        "colab": {
          "base_uri": "https://localhost:8080/",
          "height": 287
        },
        "outputId": "51367b2e-5cac-41b7-f8e4-67fd4a969782"
      },
      "source": [
        "print(sat_img.count)\n",
        "show(sat_img);"
      ],
      "execution_count": 54,
      "outputs": [
        {
          "output_type": "stream",
          "text": [
            "3\n"
          ],
          "name": "stdout"
        },
        {
          "output_type": "display_data",
          "data": {
            "image/png": "[encoded data removed]",
            "text/plain": [
              "<Figure size 432x288 with 1 Axes>"
            ]
          },
          "metadata": {
            "tags": [],
            "needs_background": "light"
          }
        }
      ]
    },
    {
      "cell_type": "code",
      "metadata": {
        "id": "xbfg7bUJDpLC",
        "colab_type": "code",
        "colab": {}
      },
      "source": [
        "csv_path = DRIVE_PATH + 'sentinel_patch_classes.csv'\n",
        "\n",
        "# sentinel_patch_classes = patch_intersects_ship_buffers(ships = ship_points, \n",
        "#                                                        img=sat_img, \n",
        "#                                                        patch_size=PATCH_SIZE, \n",
        "#                                                        step_size=STEP_SIZE)\n",
        "# sentinel_patch_classes.to_csv(csv_path, index = False)\n",
        "\n",
        "sentinel_patch_classes = pd.read_csv(csv_path)"
      ],
      "execution_count": 0,
      "outputs": []
    },
    {
      "cell_type": "code",
      "metadata": {
        "id": "Kc7sfSUFD1Ix",
        "colab_type": "code",
        "colab": {
          "base_uri": "https://localhost:8080/",
          "height": 90
        },
        "outputId": "e732ce7c-a138-4520-d8e5-b4b5fb6d440a"
      },
      "source": [
        "sentinel_patch_classes.groupby('isShip')['isShip'].count()"
      ],
      "execution_count": 56,
      "outputs": [
        {
          "output_type": "execute_result",
          "data": {
            "text/plain": [
              "isShip\n",
              "False    832972\n",
              "True        597\n",
              "Name: isShip, dtype: int64"
            ]
          },
          "metadata": {
            "tags": []
          },
          "execution_count": 56
        }
      ]
    },
    {
      "cell_type": "code",
      "metadata": {
        "id": "C7GpoRSND4Su",
        "colab_type": "code",
        "colab": {}
      },
      "source": [
        "frac = 0.1\n",
        "\n",
        "sentinel_sample = (sentinel_patch_classes\n",
        "                   .groupby('isShip', # stratify by isShip\n",
        "                            group_keys = False)\n",
        "                   .apply(lambda x: x.sample(frac = frac, # sample by group\n",
        "                                             random_state = 123))\n",
        "                   .sort_index()) # the index needs to be sorted for the sample patches to \"line up\" with `sentinel_sample`"
      ],
      "execution_count": 0,
      "outputs": []
    },
    {
      "cell_type": "code",
      "metadata": {
        "id": "6zZwN_kED7PS",
        "colab_type": "code",
        "colab": {
          "base_uri": "https://localhost:8080/",
          "height": 90
        },
        "outputId": "9ddba85a-0035-4992-93e2-eb34e2e12f26"
      },
      "source": [
        "sentinel_sample.groupby('isShip')['isShip'].count()"
      ],
      "execution_count": 58,
      "outputs": [
        {
          "output_type": "execute_result",
          "data": {
            "text/plain": [
              "isShip\n",
              "False    83297\n",
              "True        60\n",
              "Name: isShip, dtype: int64"
            ]
          },
          "metadata": {
            "tags": []
          },
          "execution_count": 58
        }
      ]
    },
    {
      "cell_type": "code",
      "metadata": {
        "id": "rGD_0etVD9lk",
        "colab_type": "code",
        "colab": {
          "base_uri": "https://localhost:8080/",
          "height": 206
        },
        "outputId": "54beacd1-9b5c-41b9-e48d-5ab09f1fa410"
      },
      "source": [
        "sentinel_sample.head()"
      ],
      "execution_count": 85,
      "outputs": [
        {
          "output_type": "execute_result",
          "data": {
            "text/html": [
              "<div>\n",
              "<style scoped>\n",
              "    .dataframe tbody tr th:only-of-type {\n",
              "        vertical-align: middle;\n",
              "    }\n",
              "\n",
              "    .dataframe tbody tr th {\n",
              "        vertical-align: top;\n",
              "    }\n",
              "\n",
              "    .dataframe thead th {\n",
              "        text-align: right;\n",
              "    }\n",
              "</style>\n",
              "<table border=\"1\" class=\"dataframe\">\n",
              "  <thead>\n",
              "    <tr style=\"text-align: right;\">\n",
              "      <th></th>\n",
              "      <th>isShip</th>\n",
              "      <th>x</th>\n",
              "      <th>y</th>\n",
              "      <th>patch_size</th>\n",
              "    </tr>\n",
              "  </thead>\n",
              "  <tbody>\n",
              "    <tr>\n",
              "      <th>17</th>\n",
              "      <td>False</td>\n",
              "      <td>204</td>\n",
              "      <td>0</td>\n",
              "      <td>30</td>\n",
              "    </tr>\n",
              "    <tr>\n",
              "      <th>19</th>\n",
              "      <td>False</td>\n",
              "      <td>228</td>\n",
              "      <td>0</td>\n",
              "      <td>30</td>\n",
              "    </tr>\n",
              "    <tr>\n",
              "      <th>24</th>\n",
              "      <td>False</td>\n",
              "      <td>288</td>\n",
              "      <td>0</td>\n",
              "      <td>30</td>\n",
              "    </tr>\n",
              "    <tr>\n",
              "      <th>28</th>\n",
              "      <td>False</td>\n",
              "      <td>336</td>\n",
              "      <td>0</td>\n",
              "      <td>30</td>\n",
              "    </tr>\n",
              "    <tr>\n",
              "      <th>51</th>\n",
              "      <td>False</td>\n",
              "      <td>612</td>\n",
              "      <td>0</td>\n",
              "      <td>30</td>\n",
              "    </tr>\n",
              "  </tbody>\n",
              "</table>\n",
              "</div>"
            ],
            "text/plain": [
              "    isShip    x  y  patch_size\n",
              "17   False  204  0          30\n",
              "19   False  228  0          30\n",
              "24   False  288  0          30\n",
              "28   False  336  0          30\n",
              "51   False  612  0          30"
            ]
          },
          "metadata": {
            "tags": []
          },
          "execution_count": 85
        }
      ]
    },
    {
      "cell_type": "code",
      "metadata": {
        "id": "rj1KqX8EEmS-",
        "colab_type": "code",
        "colab": {}
      },
      "source": [
        "pred_classes = []\n",
        "for index, row in sentinel_sample.iterrows():\n",
        "  pred = predict_patch(M, sat_img, row.x, row.y, row.patch_size)\n",
        "  pred_classes.append(pred)"
      ],
      "execution_count": 0,
      "outputs": []
    },
    {
      "cell_type": "code",
      "metadata": {
        "id": "AWjeH6-fE6gk",
        "colab_type": "code",
        "colab": {}
      },
      "source": [
        "eval_df = sentinel_sample\n",
        "eval_df['predicton'] = pred_classes\n",
        "eval_df['accurate'] = eval_df.isShip == eval_df.predicton"
      ],
      "execution_count": 0,
      "outputs": []
    },
    {
      "cell_type": "code",
      "metadata": {
        "id": "ydr_zuETGLi1",
        "colab_type": "code",
        "colab": {
          "base_uri": "https://localhost:8080/",
          "height": 206
        },
        "outputId": "b716e44f-6372-4685-a39b-a32f46b1a78b"
      },
      "source": [
        "eval_df.head()"
      ],
      "execution_count": 97,
      "outputs": [
        {
          "output_type": "execute_result",
          "data": {
            "text/html": [
              "<div>\n",
              "<style scoped>\n",
              "    .dataframe tbody tr th:only-of-type {\n",
              "        vertical-align: middle;\n",
              "    }\n",
              "\n",
              "    .dataframe tbody tr th {\n",
              "        vertical-align: top;\n",
              "    }\n",
              "\n",
              "    .dataframe thead th {\n",
              "        text-align: right;\n",
              "    }\n",
              "</style>\n",
              "<table border=\"1\" class=\"dataframe\">\n",
              "  <thead>\n",
              "    <tr style=\"text-align: right;\">\n",
              "      <th></th>\n",
              "      <th>isShip</th>\n",
              "      <th>x</th>\n",
              "      <th>y</th>\n",
              "      <th>patch_size</th>\n",
              "      <th>predicton</th>\n",
              "      <th>accurate</th>\n",
              "    </tr>\n",
              "  </thead>\n",
              "  <tbody>\n",
              "    <tr>\n",
              "      <th>17</th>\n",
              "      <td>False</td>\n",
              "      <td>204</td>\n",
              "      <td>0</td>\n",
              "      <td>30</td>\n",
              "      <td>[0]</td>\n",
              "      <td>True</td>\n",
              "    </tr>\n",
              "    <tr>\n",
              "      <th>19</th>\n",
              "      <td>False</td>\n",
              "      <td>228</td>\n",
              "      <td>0</td>\n",
              "      <td>30</td>\n",
              "      <td>[0]</td>\n",
              "      <td>True</td>\n",
              "    </tr>\n",
              "    <tr>\n",
              "      <th>24</th>\n",
              "      <td>False</td>\n",
              "      <td>288</td>\n",
              "      <td>0</td>\n",
              "      <td>30</td>\n",
              "      <td>[0]</td>\n",
              "      <td>True</td>\n",
              "    </tr>\n",
              "    <tr>\n",
              "      <th>28</th>\n",
              "      <td>False</td>\n",
              "      <td>336</td>\n",
              "      <td>0</td>\n",
              "      <td>30</td>\n",
              "      <td>[0]</td>\n",
              "      <td>True</td>\n",
              "    </tr>\n",
              "    <tr>\n",
              "      <th>51</th>\n",
              "      <td>False</td>\n",
              "      <td>612</td>\n",
              "      <td>0</td>\n",
              "      <td>30</td>\n",
              "      <td>[0]</td>\n",
              "      <td>True</td>\n",
              "    </tr>\n",
              "  </tbody>\n",
              "</table>\n",
              "</div>"
            ],
            "text/plain": [
              "    isShip    x  y  patch_size predicton  accurate\n",
              "17   False  204  0          30       [0]      True\n",
              "19   False  228  0          30       [0]      True\n",
              "24   False  288  0          30       [0]      True\n",
              "28   False  336  0          30       [0]      True\n",
              "51   False  612  0          30       [0]      True"
            ]
          },
          "metadata": {
            "tags": []
          },
          "execution_count": 97
        }
      ]
    },
    {
      "cell_type": "code",
      "metadata": {
        "id": "31wmvv2fGXhY",
        "colab_type": "code",
        "colab": {
          "base_uri": "https://localhost:8080/",
          "height": 35
        },
        "outputId": "a81dcd37-673e-4473-dc94-ed48cb2fba79"
      },
      "source": [
        "# accuracy\n",
        "eval_df['accurate'].sum()/len(eval_df['accurate'])"
      ],
      "execution_count": 99,
      "outputs": [
        {
          "output_type": "execute_result",
          "data": {
            "text/plain": [
              "0.9857240543685594"
            ]
          },
          "metadata": {
            "tags": []
          },
          "execution_count": 99
        }
      ]
    },
    {
      "cell_type": "code",
      "metadata": {
        "id": "Kt8ESgbNHIvq",
        "colab_type": "code",
        "colab": {
          "base_uri": "https://localhost:8080/",
          "height": 35
        },
        "outputId": "89061cdb-a4b6-48ba-9024-6df652997721"
      },
      "source": [
        "# pct of patches that are not ships\n",
        "1-(eval_df['isShip'].sum()/len(eval_df['isShip']))"
      ],
      "execution_count": 103,
      "outputs": [
        {
          "output_type": "execute_result",
          "data": {
            "text/plain": [
              "0.9992802044219442"
            ]
          },
          "metadata": {
            "tags": []
          },
          "execution_count": 103
        }
      ]
    },
    {
      "cell_type": "code",
      "metadata": {
        "id": "zAr3bvDMIZYx",
        "colab_type": "code",
        "colab": {
          "base_uri": "https://localhost:8080/",
          "height": 35
        },
        "outputId": "9944ded4-b23f-44d2-b85b-e18723941771"
      },
      "source": [
        "# predictions\n",
        "np.unique(eval_df['predicton'], return_counts=True)"
      ],
      "execution_count": 106,
      "outputs": [
        {
          "output_type": "execute_result",
          "data": {
            "text/plain": [
              "(array([array([0]), array([1])], dtype=object), array([82169,  1188]))"
            ]
          },
          "metadata": {
            "tags": []
          },
          "execution_count": 106
        }
      ]
    },
    {
      "cell_type": "code",
      "metadata": {
        "id": "IHJDZkZ2Hub-",
        "colab_type": "code",
        "colab": {
          "base_uri": "https://localhost:8080/",
          "height": 344
        },
        "outputId": "a05564b9-27ee-4bc8-a379-a3bce9e52fb9"
      },
      "source": [
        "# NEED TO MAKE BOTH [1,0] OR [TRUE, FALSE]\n",
        "from sklearn.metrics import confusion_matrix\n",
        "tn, fp, fn, tp = confusion_matrix(eval_df['isShip'], eval_df['predicton']).ravel()"
      ],
      "execution_count": 104,
      "outputs": [
        {
          "output_type": "error",
          "ename": "ValueError",
          "evalue": "ignored",
          "traceback": [
            "\u001b[0;31m---------------------------------------------------------------------------\u001b[0m",
            "\u001b[0;31mValueError\u001b[0m                                Traceback (most recent call last)",
            "\u001b[0;32m<ipython-input-104-1c6dcfa05b71>\u001b[0m in \u001b[0;36m<module>\u001b[0;34m()\u001b[0m\n\u001b[1;32m      1\u001b[0m \u001b[0;32mfrom\u001b[0m \u001b[0msklearn\u001b[0m\u001b[0;34m.\u001b[0m\u001b[0mmetrics\u001b[0m \u001b[0;32mimport\u001b[0m \u001b[0mconfusion_matrix\u001b[0m\u001b[0;34m\u001b[0m\u001b[0;34m\u001b[0m\u001b[0m\n\u001b[0;32m----> 2\u001b[0;31m \u001b[0mtn\u001b[0m\u001b[0;34m,\u001b[0m \u001b[0mfp\u001b[0m\u001b[0;34m,\u001b[0m \u001b[0mfn\u001b[0m\u001b[0;34m,\u001b[0m \u001b[0mtp\u001b[0m \u001b[0;34m=\u001b[0m \u001b[0mconfusion_matrix\u001b[0m\u001b[0;34m(\u001b[0m\u001b[0meval_df\u001b[0m\u001b[0;34m[\u001b[0m\u001b[0;34m'isShip'\u001b[0m\u001b[0;34m]\u001b[0m\u001b[0;34m,\u001b[0m \u001b[0meval_df\u001b[0m\u001b[0;34m[\u001b[0m\u001b[0;34m'predicton'\u001b[0m\u001b[0;34m]\u001b[0m\u001b[0;34m)\u001b[0m\u001b[0;34m.\u001b[0m\u001b[0mravel\u001b[0m\u001b[0;34m(\u001b[0m\u001b[0;34m)\u001b[0m\u001b[0;34m\u001b[0m\u001b[0;34m\u001b[0m\u001b[0m\n\u001b[0m",
            "\u001b[0;32m/usr/local/lib/python3.6/dist-packages/sklearn/metrics/_classification.py\u001b[0m in \u001b[0;36mconfusion_matrix\u001b[0;34m(y_true, y_pred, labels, sample_weight, normalize)\u001b[0m\n\u001b[1;32m    266\u001b[0m \u001b[0;34m\u001b[0m\u001b[0m\n\u001b[1;32m    267\u001b[0m     \"\"\"\n\u001b[0;32m--> 268\u001b[0;31m     \u001b[0my_type\u001b[0m\u001b[0;34m,\u001b[0m \u001b[0my_true\u001b[0m\u001b[0;34m,\u001b[0m \u001b[0my_pred\u001b[0m \u001b[0;34m=\u001b[0m \u001b[0m_check_targets\u001b[0m\u001b[0;34m(\u001b[0m\u001b[0my_true\u001b[0m\u001b[0;34m,\u001b[0m \u001b[0my_pred\u001b[0m\u001b[0;34m)\u001b[0m\u001b[0;34m\u001b[0m\u001b[0;34m\u001b[0m\u001b[0m\n\u001b[0m\u001b[1;32m    269\u001b[0m     \u001b[0;32mif\u001b[0m \u001b[0my_type\u001b[0m \u001b[0;32mnot\u001b[0m \u001b[0;32min\u001b[0m \u001b[0;34m(\u001b[0m\u001b[0;34m\"binary\"\u001b[0m\u001b[0;34m,\u001b[0m \u001b[0;34m\"multiclass\"\u001b[0m\u001b[0;34m)\u001b[0m\u001b[0;34m:\u001b[0m\u001b[0;34m\u001b[0m\u001b[0;34m\u001b[0m\u001b[0m\n\u001b[1;32m    270\u001b[0m         \u001b[0;32mraise\u001b[0m \u001b[0mValueError\u001b[0m\u001b[0;34m(\u001b[0m\u001b[0;34m\"%s is not supported\"\u001b[0m \u001b[0;34m%\u001b[0m \u001b[0my_type\u001b[0m\u001b[0;34m)\u001b[0m\u001b[0;34m\u001b[0m\u001b[0;34m\u001b[0m\u001b[0m\n",
            "\u001b[0;32m/usr/local/lib/python3.6/dist-packages/sklearn/metrics/_classification.py\u001b[0m in \u001b[0;36m_check_targets\u001b[0;34m(y_true, y_pred)\u001b[0m\n\u001b[1;32m     88\u001b[0m     \u001b[0;32mif\u001b[0m \u001b[0mlen\u001b[0m\u001b[0;34m(\u001b[0m\u001b[0my_type\u001b[0m\u001b[0;34m)\u001b[0m \u001b[0;34m>\u001b[0m \u001b[0;36m1\u001b[0m\u001b[0;34m:\u001b[0m\u001b[0;34m\u001b[0m\u001b[0;34m\u001b[0m\u001b[0m\n\u001b[1;32m     89\u001b[0m         raise ValueError(\"Classification metrics can't handle a mix of {0} \"\n\u001b[0;32m---> 90\u001b[0;31m                          \"and {1} targets\".format(type_true, type_pred))\n\u001b[0m\u001b[1;32m     91\u001b[0m \u001b[0;34m\u001b[0m\u001b[0m\n\u001b[1;32m     92\u001b[0m     \u001b[0;31m# We can't have more than one value on y_type => The set is no more needed\u001b[0m\u001b[0;34m\u001b[0m\u001b[0;34m\u001b[0m\u001b[0;34m\u001b[0m\u001b[0m\n",
            "\u001b[0;31mValueError\u001b[0m: Classification metrics can't handle a mix of binary and unknown targets"
          ]
        }
      ]
    },
    {
      "cell_type": "code",
      "metadata": {
        "id": "H1cFKiGoIRMB",
        "colab_type": "code",
        "colab": {
          "base_uri": "https://localhost:8080/",
          "height": 326
        },
        "outputId": "5e3aa3e0-dcce-44de-8fb3-02c118189f40"
      },
      "source": [
        "confusion_matrix(eval_df['isShip'], eval_df['predicton'])"
      ],
      "execution_count": 105,
      "outputs": [
        {
          "output_type": "error",
          "ename": "ValueError",
          "evalue": "ignored",
          "traceback": [
            "\u001b[0;31m---------------------------------------------------------------------------\u001b[0m",
            "\u001b[0;31mValueError\u001b[0m                                Traceback (most recent call last)",
            "\u001b[0;32m<ipython-input-105-c5e6aaf2c6bb>\u001b[0m in \u001b[0;36m<module>\u001b[0;34m()\u001b[0m\n\u001b[0;32m----> 1\u001b[0;31m \u001b[0mconfusion_matrix\u001b[0m\u001b[0;34m(\u001b[0m\u001b[0meval_df\u001b[0m\u001b[0;34m[\u001b[0m\u001b[0;34m'isShip'\u001b[0m\u001b[0;34m]\u001b[0m\u001b[0;34m,\u001b[0m \u001b[0meval_df\u001b[0m\u001b[0;34m[\u001b[0m\u001b[0;34m'predicton'\u001b[0m\u001b[0;34m]\u001b[0m\u001b[0;34m)\u001b[0m\u001b[0;34m\u001b[0m\u001b[0;34m\u001b[0m\u001b[0m\n\u001b[0m",
            "\u001b[0;32m/usr/local/lib/python3.6/dist-packages/sklearn/metrics/_classification.py\u001b[0m in \u001b[0;36mconfusion_matrix\u001b[0;34m(y_true, y_pred, labels, sample_weight, normalize)\u001b[0m\n\u001b[1;32m    266\u001b[0m \u001b[0;34m\u001b[0m\u001b[0m\n\u001b[1;32m    267\u001b[0m     \"\"\"\n\u001b[0;32m--> 268\u001b[0;31m     \u001b[0my_type\u001b[0m\u001b[0;34m,\u001b[0m \u001b[0my_true\u001b[0m\u001b[0;34m,\u001b[0m \u001b[0my_pred\u001b[0m \u001b[0;34m=\u001b[0m \u001b[0m_check_targets\u001b[0m\u001b[0;34m(\u001b[0m\u001b[0my_true\u001b[0m\u001b[0;34m,\u001b[0m \u001b[0my_pred\u001b[0m\u001b[0;34m)\u001b[0m\u001b[0;34m\u001b[0m\u001b[0;34m\u001b[0m\u001b[0m\n\u001b[0m\u001b[1;32m    269\u001b[0m     \u001b[0;32mif\u001b[0m \u001b[0my_type\u001b[0m \u001b[0;32mnot\u001b[0m \u001b[0;32min\u001b[0m \u001b[0;34m(\u001b[0m\u001b[0;34m\"binary\"\u001b[0m\u001b[0;34m,\u001b[0m \u001b[0;34m\"multiclass\"\u001b[0m\u001b[0;34m)\u001b[0m\u001b[0;34m:\u001b[0m\u001b[0;34m\u001b[0m\u001b[0;34m\u001b[0m\u001b[0m\n\u001b[1;32m    270\u001b[0m         \u001b[0;32mraise\u001b[0m \u001b[0mValueError\u001b[0m\u001b[0;34m(\u001b[0m\u001b[0;34m\"%s is not supported\"\u001b[0m \u001b[0;34m%\u001b[0m \u001b[0my_type\u001b[0m\u001b[0;34m)\u001b[0m\u001b[0;34m\u001b[0m\u001b[0;34m\u001b[0m\u001b[0m\n",
            "\u001b[0;32m/usr/local/lib/python3.6/dist-packages/sklearn/metrics/_classification.py\u001b[0m in \u001b[0;36m_check_targets\u001b[0;34m(y_true, y_pred)\u001b[0m\n\u001b[1;32m     88\u001b[0m     \u001b[0;32mif\u001b[0m \u001b[0mlen\u001b[0m\u001b[0;34m(\u001b[0m\u001b[0my_type\u001b[0m\u001b[0;34m)\u001b[0m \u001b[0;34m>\u001b[0m \u001b[0;36m1\u001b[0m\u001b[0;34m:\u001b[0m\u001b[0;34m\u001b[0m\u001b[0;34m\u001b[0m\u001b[0m\n\u001b[1;32m     89\u001b[0m         raise ValueError(\"Classification metrics can't handle a mix of {0} \"\n\u001b[0;32m---> 90\u001b[0;31m                          \"and {1} targets\".format(type_true, type_pred))\n\u001b[0m\u001b[1;32m     91\u001b[0m \u001b[0;34m\u001b[0m\u001b[0m\n\u001b[1;32m     92\u001b[0m     \u001b[0;31m# We can't have more than one value on y_type => The set is no more needed\u001b[0m\u001b[0;34m\u001b[0m\u001b[0;34m\u001b[0m\u001b[0;34m\u001b[0m\u001b[0m\n",
            "\u001b[0;31mValueError\u001b[0m: Classification metrics can't handle a mix of binary and unknown targets"
          ]
        }
      ]
    },
    {
      "cell_type": "code",
      "metadata": {
        "id": "0QZnlzK5IRed",
        "colab_type": "code",
        "colab": {}
      },
      "source": [
        ""
      ],
      "execution_count": 0,
      "outputs": []
    }
  ]
}