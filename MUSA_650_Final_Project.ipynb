{
  "nbformat": 4,
  "nbformat_minor": 0,
  "metadata": {
    "colab": {
      "name": "MUSA 650 Final Project.ipynb",
      "provenance": [],
      "collapsed_sections": [],
      "machine_shape": "hm",
      "include_colab_link": true
    },
    "kernelspec": {
      "name": "python3",
      "display_name": "Python 3"
    },
    "accelerator": "GPU"
  },
  "cells": [
    {
      "cell_type": "markdown",
      "metadata": {
        "id": "view-in-github",
        "colab_type": "text"
      },
      "source": [
        "<a href=\"https://colab.research.google.com/github/e-chong/Singapore-Ship-Detection/blob/master/MUSA_650_Final_Project.ipynb\" target=\"_parent\"><img src=\"https://colab.research.google.com/assets/colab-badge.svg\" alt=\"Open In Colab\"/></a>"
      ]
    },
    {
      "cell_type": "markdown",
      "metadata": {
        "id": "Tdt0JNIxsTgA",
        "colab_type": "text"
      },
      "source": [
        "# Final Project\n",
        "MUSA 650\n",
        "12 May 2020\n",
        "Eugene Chong, Madhura Gurav, and John Michael LaSalle"
      ]
    },
    {
      "cell_type": "markdown",
      "metadata": {
        "id": "OOeCH4X3tuVW",
        "colab_type": "text"
      },
      "source": [
        "# 1. Setup Environment"
      ]
    },
    {
      "cell_type": "code",
      "metadata": {
        "id": "EBi-FWrxs7cT",
        "colab_type": "code",
        "outputId": "e641febf-e0c4-4f53-d538-82874a0bede7",
        "colab": {
          "base_uri": "https://localhost:8080/",
          "height": 749
        }
      },
      "source": [
        "# install libraries\n",
        "!pip install rasterio\n",
        "!pip install geopandas\n",
        "!pip install sentinelsat"
      ],
      "execution_count": 0,
      "outputs": [
        {
          "output_type": "stream",
          "text": [
            "Requirement already satisfied: rasterio in /usr/local/lib/python3.6/dist-packages (1.1.3)\n",
            "Requirement already satisfied: affine in /usr/local/lib/python3.6/dist-packages (from rasterio) (2.3.0)\n",
            "Requirement already satisfied: click-plugins in /usr/local/lib/python3.6/dist-packages (from rasterio) (1.1.1)\n",
            "Requirement already satisfied: click<8,>=4.0 in /usr/local/lib/python3.6/dist-packages (from rasterio) (7.1.1)\n",
            "Requirement already satisfied: snuggs>=1.4.1 in /usr/local/lib/python3.6/dist-packages (from rasterio) (1.4.7)\n",
            "Requirement already satisfied: cligj>=0.5 in /usr/local/lib/python3.6/dist-packages (from rasterio) (0.5.0)\n",
            "Requirement already satisfied: attrs in /usr/local/lib/python3.6/dist-packages (from rasterio) (19.3.0)\n",
            "Requirement already satisfied: numpy in /usr/local/lib/python3.6/dist-packages (from rasterio) (1.18.2)\n",
            "Requirement already satisfied: pyparsing>=2.1.6 in /usr/local/lib/python3.6/dist-packages (from snuggs>=1.4.1->rasterio) (2.4.7)\n",
            "Requirement already satisfied: geopandas in /usr/local/lib/python3.6/dist-packages (0.7.0)\n",
            "Requirement already satisfied: fiona in /usr/local/lib/python3.6/dist-packages (from geopandas) (1.8.13.post1)\n",
            "Requirement already satisfied: shapely in /usr/local/lib/python3.6/dist-packages (from geopandas) (1.7.0)\n",
            "Requirement already satisfied: pandas>=0.23.0 in /usr/local/lib/python3.6/dist-packages (from geopandas) (1.0.3)\n",
            "Requirement already satisfied: pyproj>=2.2.0 in /usr/local/lib/python3.6/dist-packages (from geopandas) (2.6.0)\n",
            "Requirement already satisfied: attrs>=17 in /usr/local/lib/python3.6/dist-packages (from fiona->geopandas) (19.3.0)\n",
            "Requirement already satisfied: click-plugins>=1.0 in /usr/local/lib/python3.6/dist-packages (from fiona->geopandas) (1.1.1)\n",
            "Requirement already satisfied: cligj>=0.5 in /usr/local/lib/python3.6/dist-packages (from fiona->geopandas) (0.5.0)\n",
            "Requirement already satisfied: six>=1.7 in /usr/local/lib/python3.6/dist-packages (from fiona->geopandas) (1.12.0)\n",
            "Requirement already satisfied: munch in /usr/local/lib/python3.6/dist-packages (from fiona->geopandas) (2.5.0)\n",
            "Requirement already satisfied: click<8,>=4.0 in /usr/local/lib/python3.6/dist-packages (from fiona->geopandas) (7.1.1)\n",
            "Requirement already satisfied: pytz>=2017.2 in /usr/local/lib/python3.6/dist-packages (from pandas>=0.23.0->geopandas) (2018.9)\n",
            "Requirement already satisfied: numpy>=1.13.3 in /usr/local/lib/python3.6/dist-packages (from pandas>=0.23.0->geopandas) (1.18.2)\n",
            "Requirement already satisfied: python-dateutil>=2.6.1 in /usr/local/lib/python3.6/dist-packages (from pandas>=0.23.0->geopandas) (2.8.1)\n",
            "Collecting sentinelsat\n",
            "  Downloading https://files.pythonhosted.org/packages/5c/79/c2ac7b71dd13db95a9b83865bbbc7f1e4359c2b141bedad21b0e181fa06e/sentinelsat-0.13-py2.py3-none-any.whl\n",
            "Requirement already satisfied: tqdm in /usr/local/lib/python3.6/dist-packages (from sentinelsat) (4.38.0)\n",
            "Requirement already satisfied: six in /usr/local/lib/python3.6/dist-packages (from sentinelsat) (1.12.0)\n",
            "Requirement already satisfied: click in /usr/local/lib/python3.6/dist-packages (from sentinelsat) (7.1.1)\n",
            "Collecting html2text\n",
            "  Downloading https://files.pythonhosted.org/packages/ae/88/14655f727f66b3e3199f4467bafcc88283e6c31b562686bf606264e09181/html2text-2020.1.16-py3-none-any.whl\n",
            "Collecting geojson>=2\n",
            "  Downloading https://files.pythonhosted.org/packages/e4/8d/9e28e9af95739e6d2d2f8d4bef0b3432da40b7c3588fbad4298c1be09e48/geojson-2.5.0-py2.py3-none-any.whl\n",
            "Collecting geomet\n",
            "  Downloading https://files.pythonhosted.org/packages/c9/81/156ca48f950f833ddc392f8e3677ca50a18cb9d5db38ccb4ecea55a9303f/geomet-0.2.1.post1-py3-none-any.whl\n",
            "Requirement already satisfied: requests in /usr/local/lib/python3.6/dist-packages (from sentinelsat) (2.21.0)\n",
            "Requirement already satisfied: urllib3<1.25,>=1.21.1 in /usr/local/lib/python3.6/dist-packages (from requests->sentinelsat) (1.24.3)\n",
            "Requirement already satisfied: idna<2.9,>=2.5 in /usr/local/lib/python3.6/dist-packages (from requests->sentinelsat) (2.8)\n",
            "Requirement already satisfied: certifi>=2017.4.17 in /usr/local/lib/python3.6/dist-packages (from requests->sentinelsat) (2020.4.5.1)\n",
            "Requirement already satisfied: chardet<3.1.0,>=3.0.2 in /usr/local/lib/python3.6/dist-packages (from requests->sentinelsat) (3.0.4)\n",
            "Installing collected packages: html2text, geojson, geomet, sentinelsat\n",
            "Successfully installed geojson-2.5.0 geomet-0.2.1.post1 html2text-2020.1.16 sentinelsat-0.13\n"
          ],
          "name": "stdout"
        }
      ]
    },
    {
      "cell_type": "code",
      "metadata": {
        "id": "Lx9T7zursQ7t",
        "colab_type": "code",
        "colab": {}
      },
      "source": [
        "# Load Dependencies\n",
        "import numpy as np\n",
        "import pandas as pd\n",
        "import geopandas as gpd # vector spatial operations\n",
        "import shapely # vector geometries\n",
        "import rasterio as rio # raster spatial operations\n",
        "from sentinelsat import SentinelAPI\n",
        "\n",
        "import requests, zipfile, io, os # downloading and extracting zipfolders\n",
        "\n",
        "import matplotlib.pyplot as plt # plotting\n",
        "\n",
        "%tensorflow_version 1.x"
      ],
      "execution_count": 0,
      "outputs": []
    },
    {
      "cell_type": "code",
      "metadata": {
        "id": "gk1skrD7tYFn",
        "colab_type": "code",
        "colab": {}
      },
      "source": [
        "# Connect to Google Drive\n",
        "from google.colab import drive\n",
        "drive.mount('/content/drive')"
      ],
      "execution_count": 0,
      "outputs": []
    },
    {
      "cell_type": "code",
      "metadata": {
        "id": "h9Mb5dsSv6fS",
        "colab_type": "code",
        "colab": {}
      },
      "source": [
        "# Create Folders\n",
        "os.mkdir('./data')"
      ],
      "execution_count": 0,
      "outputs": []
    },
    {
      "cell_type": "markdown",
      "metadata": {
        "id": "p8CwfKxOt5xd",
        "colab_type": "text"
      },
      "source": [
        "# 2. Load Data"
      ]
    },
    {
      "cell_type": "markdown",
      "metadata": {
        "id": "Jt4Vt7CFzcZQ",
        "colab_type": "text"
      },
      "source": [
        "## Sentinel-2\n",
        "Methodology via [towards data science](https://towardsdatascience.com/satellite-imagery-access-and-analysis-in-python-jupyter-notebooks-387971ece84b). Alternate methodology using search by tile from the `sentinelsat` docs [here](https://sentinelsat.readthedocs.io/en/stable/api.html#search-sentinel-2-by-tile)."
      ]
    },
    {
      "cell_type": "code",
      "metadata": {
        "id": "uT_WANhqt_c2",
        "colab_type": "code",
        "colab": {}
      },
      "source": [
        "# Sentinel API Authentication\n",
        "user = 'PASTE HERE YOUR USERNAME' \n",
        "password = 'PASTE HERE YOUR PASSWORD' \n",
        "api = SentinelAPI(user, password, 'https://scihub.copernicus.eu/dhus')\n",
        "\n",
        "tile_id = \"48NUG\" # unique Sentinel-2 tile id for images covering Singapore"
      ],
      "execution_count": 0,
      "outputs": []
    },
    {
      "cell_type": "code",
      "metadata": {
        "id": "TONA0qALztZ6",
        "colab_type": "code",
        "colab": {}
      },
      "source": [
        ""
      ],
      "execution_count": 0,
      "outputs": []
    },
    {
      "cell_type": "markdown",
      "metadata": {
        "id": "_Ok6m9cewbPU",
        "colab_type": "text"
      },
      "source": [
        "Downloaded Sentinel-2 imagery manually from Google drive to mark ship locations as points in QGIS "
      ]
    },
    {
      "cell_type": "markdown",
      "metadata": {
        "id": "v27n9LqTzivg",
        "colab_type": "text"
      },
      "source": [
        "## Ships in Satellite Imagery"
      ]
    },
    {
      "cell_type": "code",
      "metadata": {
        "id": "7umSz2qCuAAh",
        "colab_type": "code",
        "colab": {}
      },
      "source": [
        "# PlanetScope Ship Patches from Kaggle\n",
        "ps_url = \"https://www.kaggle.com/rhammell/ships-in-satellite-imagery/download/pjAeXNV7JQao1mGZP0ox%2Fversions%2FTVABy12ERcBLc0Rxx5xw%2Ffiles%2Fshipsnet.json?datasetVersionNumber=9\"\n",
        "\n",
        "r = requests.get(ps_url) # download zipped directory\n",
        "z = zipfile.ZipFile(io.BytesIO(r.content)) # create zipfile object\n",
        "z.extractall(path='data') # unzip into data subdirectory"
      ],
      "execution_count": 0,
      "outputs": []
    },
    {
      "cell_type": "markdown",
      "metadata": {
        "id": "dmXZeEbbznoW",
        "colab_type": "text"
      },
      "source": [
        "## Ship Points"
      ]
    },
    {
      "cell_type": "code",
      "metadata": {
        "id": "DCqBNROTuRMW",
        "colab_type": "code",
        "colab": {}
      },
      "source": [
        "# Ship Points\n"
      ],
      "execution_count": 0,
      "outputs": []
    },
    {
      "cell_type": "markdown",
      "metadata": {
        "id": "PuHB-926uAMv",
        "colab_type": "text"
      },
      "source": [
        "# 3. Wrangle Data"
      ]
    },
    {
      "cell_type": "code",
      "metadata": {
        "id": "GaRGGYvPuDv4",
        "colab_type": "code",
        "colab": {}
      },
      "source": [
        "# Resample PlanetScope Patches\n",
        "s_gsd = 10 #placeholder\n",
        "ps_gsd = 3.7 # page 13, https://assets.planet.com/docs/Planet_Combined_Imagery_Product_Specs_letter_screen.pdf"
      ],
      "execution_count": 0,
      "outputs": []
    },
    {
      "cell_type": "markdown",
      "metadata": {
        "id": "6TdbgcHouE-Z",
        "colab_type": "text"
      },
      "source": [
        "# 4. Train SVM Model on PlanetScope Patches"
      ]
    },
    {
      "cell_type": "code",
      "metadata": {
        "id": "Gm-qwba0w0XJ",
        "colab_type": "code",
        "colab": {}
      },
      "source": [
        ""
      ],
      "execution_count": 0,
      "outputs": []
    },
    {
      "cell_type": "markdown",
      "metadata": {
        "id": "VO9vLXDKw1r4",
        "colab_type": "text"
      },
      "source": [
        "# 5. Train CNN on PlanetScope Patches"
      ]
    },
    {
      "cell_type": "code",
      "metadata": {
        "id": "jRZfPBPexEtx",
        "colab_type": "code",
        "colab": {}
      },
      "source": [
        ""
      ],
      "execution_count": 0,
      "outputs": []
    },
    {
      "cell_type": "markdown",
      "metadata": {
        "id": "UJm1R1OW8_pP",
        "colab_type": "text"
      },
      "source": [
        "## 6. Test Accuracy and Compare Models"
      ]
    },
    {
      "cell_type": "code",
      "metadata": {
        "id": "c6-aBaUc9Hbi",
        "colab_type": "code",
        "colab": {}
      },
      "source": [
        ""
      ],
      "execution_count": 0,
      "outputs": []
    }
  ]
}